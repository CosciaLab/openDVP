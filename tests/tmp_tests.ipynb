{
 "cells": [
  {
   "cell_type": "code",
   "execution_count": 1,
   "id": "0fe652da",
   "metadata": {},
   "outputs": [],
   "source": [
    "from perseuspy import pd"
   ]
  },
  {
   "cell_type": "code",
   "execution_count": 2,
   "id": "5bda8f42",
   "metadata": {},
   "outputs": [],
   "source": [
    "import opendvp"
   ]
  },
  {
   "cell_type": "code",
   "execution_count": 3,
   "id": "7ffffe73",
   "metadata": {},
   "outputs": [
    {
     "name": "stdout",
     "output_type": "stream",
     "text": [
      "\u001b[32m10:58:40.67\u001b[0m | \u001b[1mINFO\u001b[0m | Reading Perseus file from: test_data/io/Perseus_v1.6.15.0.txt\n",
      "\u001b[32m10:58:40.69\u001b[0m | \u001b[1mINFO\u001b[0m | Perseus DataFrame shape: (3526, 16)\n",
      "\u001b[32m10:58:40.70\u001b[0m | \u001b[1mINFO\u001b[0m | Data matrix shape: (11, 3526)\n",
      "\u001b[32m10:58:40.71\u001b[0m | \u001b[32m\u001b[1mSUCCESS\u001b[0m | AnnData object created from Perseus file.\n"
     ]
    },
    {
     "name": "stderr",
     "output_type": "stream",
     "text": [
      "/opt/homebrew/Caskroom/mambaforge/base/envs/opendvp-sdata/lib/python3.11/site-packages/anndata/_core/aligned_df.py:68: ImplicitModificationWarning: Transforming to str index.\n",
      "  warnings.warn(\"Transforming to str index.\", ImplicitModificationWarning)\n",
      "/opt/homebrew/Caskroom/mambaforge/base/envs/opendvp-sdata/lib/python3.11/site-packages/anndata/_core/aligned_df.py:68: ImplicitModificationWarning: Transforming to str index.\n",
      "  warnings.warn(\"Transforming to str index.\", ImplicitModificationWarning)\n"
     ]
    }
   ],
   "source": [
    "adata = opendvp.io.import_perseus(\n",
    "    path_to_perseus_txt=\"test_data/io/Perseus_v1.6.15.0.txt\",\n",
    "    n_var_metadata_rows=5\n",
    ")"
   ]
  },
  {
   "cell_type": "code",
   "execution_count": 4,
   "id": "7cf544e2",
   "metadata": {},
   "outputs": [
    {
     "data": {
      "text/plain": [
       "(11, 3526)"
      ]
     },
     "execution_count": 4,
     "metadata": {},
     "output_type": "execute_result"
    }
   ],
   "source": [
    "adata.shape"
   ]
  },
  {
   "cell_type": "code",
   "execution_count": 5,
   "id": "ca60c9bf",
   "metadata": {},
   "outputs": [
    {
     "data": {
      "text/plain": [
       "['Column Name',\n",
       " 'Heart_Condition',\n",
       " 'Ischemia_region',\n",
       " 'Sample_type',\n",
       " 'Replicate']"
      ]
     },
     "execution_count": 5,
     "metadata": {},
     "output_type": "execute_result"
    }
   ],
   "source": [
    "adata.obs.columns.tolist()"
   ]
  }
 ],
 "metadata": {
  "kernelspec": {
   "display_name": "opendvp-sdata",
   "language": "python",
   "name": "python3"
  },
  "language_info": {
   "codemirror_mode": {
    "name": "ipython",
    "version": 3
   },
   "file_extension": ".py",
   "mimetype": "text/x-python",
   "name": "python",
   "nbconvert_exporter": "python",
   "pygments_lexer": "ipython3",
   "version": "3.11.0"
  }
 },
 "nbformat": 4,
 "nbformat_minor": 5
}
