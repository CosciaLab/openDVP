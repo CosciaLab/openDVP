{
 "cells": [
  {
   "cell_type": "code",
   "execution_count": 1,
   "id": "0fe652da",
   "metadata": {},
   "outputs": [],
   "source": [
    "from perseuspy import pd"
   ]
  },
  {
   "cell_type": "code",
   "execution_count": 2,
   "id": "5bda8f42",
   "metadata": {},
   "outputs": [],
   "source": [
    "import opendvp"
   ]
  },
  {
   "cell_type": "code",
   "execution_count": 3,
   "id": "7ffffe73",
   "metadata": {},
   "outputs": [
    {
     "name": "stdout",
     "output_type": "stream",
     "text": [
      "\u001b[32m10:58:40.67\u001b[0m | \u001b[1mINFO\u001b[0m | Reading Perseus file from: test_data/io/Perseus_v1.6.15.0.txt\n",
      "\u001b[32m10:58:40.69\u001b[0m | \u001b[1mINFO\u001b[0m | Perseus DataFrame shape: (3526, 16)\n",
      "\u001b[32m10:58:40.70\u001b[0m | \u001b[1mINFO\u001b[0m | Data matrix shape: (11, 3526)\n",
      "\u001b[32m10:58:40.71\u001b[0m | \u001b[32m\u001b[1mSUCCESS\u001b[0m | AnnData object created from Perseus file.\n"
     ]
    },
    {
     "name": "stderr",
     "output_type": "stream",
     "text": [
      "/opt/homebrew/Caskroom/mambaforge/base/envs/opendvp-sdata/lib/python3.11/site-packages/anndata/_core/aligned_df.py:68: ImplicitModificationWarning: Transforming to str index.\n",
      "  warnings.warn(\"Transforming to str index.\", ImplicitModificationWarning)\n",
      "/opt/homebrew/Caskroom/mambaforge/base/envs/opendvp-sdata/lib/python3.11/site-packages/anndata/_core/aligned_df.py:68: ImplicitModificationWarning: Transforming to str index.\n",
      "  warnings.warn(\"Transforming to str index.\", ImplicitModificationWarning)\n"
     ]
    }
   ],
   "source": [
    "adata = opendvp.io.import_perseus(\n",
    "    path_to_perseus_txt=\"test_data/io/Perseus_v1.6.15.0.txt\",\n",
    "    n_var_metadata_rows=5\n",
    ")"
   ]
  },
  {
   "cell_type": "code",
   "execution_count": 4,
   "id": "7cf544e2",
   "metadata": {},
   "outputs": [
    {
     "data": {
      "text/plain": [
       "(11, 3526)"
      ]
     },
     "execution_count": 4,
     "metadata": {},
     "output_type": "execute_result"
    }
   ],
   "source": [
    "adata.shape"
   ]
  },
  {
   "cell_type": "code",
   "execution_count": 5,
   "id": "ca60c9bf",
   "metadata": {},
   "outputs": [
    {
     "data": {
      "text/plain": [
       "['Column Name',\n",
       " 'Heart_Condition',\n",
       " 'Ischemia_region',\n",
       " 'Sample_type',\n",
       " 'Replicate']"
      ]
     },
     "execution_count": 5,
     "metadata": {},
     "output_type": "execute_result"
    }
   ],
   "source": [
    "adata.obs.columns.tolist()"
   ]
  },
  {
   "cell_type": "code",
   "execution_count": 7,
   "id": "668228fb",
   "metadata": {},
   "outputs": [],
   "source": [
    "df = pd.read_csv(\"test_data/io/thresholds.csv\")"
   ]
  },
  {
   "cell_type": "code",
   "execution_count": 8,
   "id": "1ce56e0a",
   "metadata": {},
   "outputs": [
    {
     "data": {
      "text/html": [
       "<div>\n",
       "<style scoped>\n",
       "    .dataframe tbody tr th:only-of-type {\n",
       "        vertical-align: middle;\n",
       "    }\n",
       "\n",
       "    .dataframe tbody tr th {\n",
       "        vertical-align: top;\n",
       "    }\n",
       "\n",
       "    .dataframe thead th {\n",
       "        text-align: right;\n",
       "    }\n",
       "</style>\n",
       "<table border=\"1\" class=\"dataframe\">\n",
       "  <thead>\n",
       "    <tr style=\"text-align: right;\">\n",
       "      <th></th>\n",
       "      <th>sample_id</th>\n",
       "      <th>marker_id</th>\n",
       "      <th>gate_value</th>\n",
       "    </tr>\n",
       "  </thead>\n",
       "  <tbody>\n",
       "    <tr>\n",
       "      <th>0</th>\n",
       "      <td>991</td>\n",
       "      <td>mean_Vimentin</td>\n",
       "      <td>574.380913</td>\n",
       "    </tr>\n",
       "    <tr>\n",
       "      <th>1</th>\n",
       "      <td>991</td>\n",
       "      <td>mean_CD3e</td>\n",
       "      <td>350.000000</td>\n",
       "    </tr>\n",
       "    <tr>\n",
       "      <th>2</th>\n",
       "      <td>991</td>\n",
       "      <td>mean_panCK</td>\n",
       "      <td>50.000000</td>\n",
       "    </tr>\n",
       "    <tr>\n",
       "      <th>3</th>\n",
       "      <td>991</td>\n",
       "      <td>mean_CD8</td>\n",
       "      <td>1200.000000</td>\n",
       "    </tr>\n",
       "    <tr>\n",
       "      <th>4</th>\n",
       "      <td>991</td>\n",
       "      <td>mean_COL1A1</td>\n",
       "      <td>1320.000000</td>\n",
       "    </tr>\n",
       "    <tr>\n",
       "      <th>5</th>\n",
       "      <td>991</td>\n",
       "      <td>mean_CD20</td>\n",
       "      <td>800.000000</td>\n",
       "    </tr>\n",
       "    <tr>\n",
       "      <th>6</th>\n",
       "      <td>991</td>\n",
       "      <td>mean_CD68</td>\n",
       "      <td>271.581386</td>\n",
       "    </tr>\n",
       "    <tr>\n",
       "      <th>7</th>\n",
       "      <td>991</td>\n",
       "      <td>mean_Ki67</td>\n",
       "      <td>18.105061</td>\n",
       "    </tr>\n",
       "  </tbody>\n",
       "</table>\n",
       "</div>"
      ],
      "text/plain": [
       "   sample_id      marker_id   gate_value\n",
       "0        991  mean_Vimentin   574.380913\n",
       "1        991      mean_CD3e   350.000000\n",
       "2        991     mean_panCK    50.000000\n",
       "3        991       mean_CD8  1200.000000\n",
       "4        991    mean_COL1A1  1320.000000\n",
       "5        991      mean_CD20   800.000000\n",
       "6        991      mean_CD68   271.581386\n",
       "7        991      mean_Ki67    18.105061"
      ]
     },
     "execution_count": 8,
     "metadata": {},
     "output_type": "execute_result"
    }
   ],
   "source": [
    "df"
   ]
  },
  {
   "cell_type": "code",
   "execution_count": 9,
   "id": "fcdaf73b",
   "metadata": {},
   "outputs": [
    {
     "data": {
      "text/plain": [
       "sample_id       int64\n",
       "marker_id      object\n",
       "gate_value    float64\n",
       "dtype: object"
      ]
     },
     "execution_count": 9,
     "metadata": {},
     "output_type": "execute_result"
    }
   ],
   "source": [
    "df.dtypes"
   ]
  }
 ],
 "metadata": {
  "kernelspec": {
   "display_name": "opendvp-sdata",
   "language": "python",
   "name": "python3"
  },
  "language_info": {
   "codemirror_mode": {
    "name": "ipython",
    "version": 3
   },
   "file_extension": ".py",
   "mimetype": "text/x-python",
   "name": "python",
   "nbconvert_exporter": "python",
   "pygments_lexer": "ipython3",
   "version": "3.11.0"
  }
 },
 "nbformat": 4,
 "nbformat_minor": 5
}
