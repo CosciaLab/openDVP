{
 "cells": [
  {
   "cell_type": "code",
   "execution_count": 1,
   "metadata": {},
   "outputs": [
    {
     "name": "stderr",
     "output_type": "stream",
     "text": [
      "/opt/homebrew/Caskroom/mambaforge/base/envs/spatialdata/lib/python3.10/site-packages/dask/dataframe/__init__.py:31: FutureWarning: The legacy Dask DataFrame implementation is deprecated and will be removed in a future version. Set the configuration option `dataframe.query-planning` to `True` or None to enable the new Dask Dataframe implementation and silence this warning.\n",
      "  warnings.warn(\n",
      "/opt/homebrew/Caskroom/mambaforge/base/envs/spatialdata/lib/python3.10/site-packages/numba/core/decorators.py:246: RuntimeWarning: nopython is set for njit and is ignored\n",
      "  warnings.warn('nopython is set for njit and is ignored', RuntimeWarning)\n"
     ]
    }
   ],
   "source": [
    "#imports\n",
    "import spatialdata\n",
    "import dask_image.imread\n",
    "import geopandas as gpd\n",
    "import anndata as ad"
   ]
  },
  {
   "cell_type": "markdown",
   "metadata": {},
   "source": [
    "# Create a sdata object for testing"
   ]
  },
  {
   "cell_type": "code",
   "execution_count": 21,
   "metadata": {},
   "outputs": [],
   "source": [
    "#paths\n",
    "path_to_mIF = \"/Volumes/Extreme SSD/P26_BCCN/P26E07_E08_E09_SOPA_Gates/processed_images/991.ome.tif\"\n",
    "path_to_mask = \"/Volumes/Extreme SSD/P26_BCCN/P26E07_E08_E09_SOPA_Gates/expanded-masks/991.tif\"\n",
    "path_to_shapes = \"../data/geojsons/Primary/processed/20241129_1442_Primary991_harmonized.geojson\"\n",
    "# path_to_imaging_table = \"/Volumes/Extreme SSD/P26_BCCN/P26E07_E08_E09_SOPA_Gates/adatas/20241002_1218_991_phenotyped.h5ad\"\n",
    "path_to_proteomics = \"../data/proteomic/20241201_170620_filtered_imputed_outerjoin_mergefirst.h5ad\""
   ]
  },
  {
   "cell_type": "code",
   "execution_count": 3,
   "metadata": {},
   "outputs": [
    {
     "name": "stdout",
     "output_type": "stream",
     "text": [
      "\u001b[34mINFO    \u001b[0m no axes information specified in the object, setting `dims` to: \u001b[1m(\u001b[0m\u001b[32m'c'\u001b[0m, \u001b[32m'y'\u001b[0m, \u001b[32m'x'\u001b[0m\u001b[1m)\u001b[0m                           \n",
      "\u001b[34mINFO    \u001b[0m no axes information specified in the object, setting `dims` to: \u001b[1m(\u001b[0m\u001b[32m'y'\u001b[0m, \u001b[32m'x'\u001b[0m\u001b[1m)\u001b[0m                                \n"
     ]
    }
   ],
   "source": [
    "# initiate spatialdata object\n",
    "sdata = spatialdata.SpatialData()\n",
    "\n",
    "# load image and mask as dask arrays\n",
    "image = dask_image.imread.imread(path_to_mIF)\n",
    "mask_stack = dask_image.imread.imread(path_to_mask)\n",
    "\n",
    "# mask has dimensions (c,y,x), by slicing the dask array we convert from (c,y,x) to (y,x) which is needed for Labels2DModel.parse\n",
    "mask = mask_stack[0]\n",
    "\n",
    "# parse and validate with spatialdata.models\n",
    "sdata[\"image\"] = spatialdata.models.Image2DModel.parse(image)\n",
    "sdata[\"mask\"] = spatialdata.models.Labels2DModel.parse(mask)"
   ]
  },
  {
   "cell_type": "code",
   "execution_count": 8,
   "metadata": {},
   "outputs": [],
   "source": [
    "# load polygon geojson\n",
    "gdf = gpd.read_file(path_to_shapes)\n",
    "# make column matching proteomic table the index\n",
    "gdf = gdf.set_index(\"harmonized_class\")\n",
    "# load to sdata\n",
    "sdata[\"Primary_contours\"] = spatialdata.models.ShapesModel.parse(gdf)"
   ]
  },
  {
   "cell_type": "code",
   "execution_count": 25,
   "metadata": {},
   "outputs": [],
   "source": [
    "#load proteomic table\n",
    "adata = ad.read_h5ad(path_to_proteomics)\n",
    "\n",
    "adata.obs[\"region\"] = \"Primary_contours\"\n",
    "adata.obs[\"region\"] = adata.obs[\"region\"].astype(\"category\")"
   ]
  },
  {
   "cell_type": "code",
   "execution_count": 26,
   "metadata": {},
   "outputs": [
    {
     "name": "stderr",
     "output_type": "stream",
     "text": [
      "/opt/homebrew/Caskroom/mambaforge/base/envs/spatialdata/lib/python3.10/site-packages/spatialdata/_core/_elements.py:116: UserWarning: Key `proteomics` already exists. Overwriting it in-memory.\n",
      "  self._check_key(key, self.keys(), self._shared_keys)\n"
     ]
    }
   ],
   "source": [
    "table = spatialdata.models.TableModel.parse(adata, region = \"Primary_contours\", region_key = \"region\", instance_key = \"shape_key\")\n",
    "sdata[\"proteomics\"] = table"
   ]
  },
  {
   "cell_type": "code",
   "execution_count": 32,
   "metadata": {},
   "outputs": [
    {
     "name": "stderr",
     "output_type": "stream",
     "text": [
      "/opt/homebrew/Caskroom/mambaforge/base/envs/spatialdata/lib/python3.10/site-packages/spatialdata/_core/_elements.py:116: UserWarning: Key `proteomics` already exists. Overwriting it in-memory.\n",
      "  self._check_key(key, self.keys(), self._shared_keys)\n"
     ]
    }
   ],
   "source": [
    "sdata['proteomics'] = switch_adat_var_index(sdata['proteomics'], \"Genes\")"
   ]
  },
  {
   "cell_type": "code",
   "execution_count": 30,
   "metadata": {},
   "outputs": [],
   "source": [
    "def switch_adat_var_index(adata, new_index):\n",
    "    \"\"\"\n",
    "    Created by Jose Nimo on 2023-07-01\n",
    "    Lastest modified by Jose Nimo on 2024-11-16\n",
    "\n",
    "    Description:\n",
    "    Switch the index of adata.var to a new index. Useful for switching between gene names and protein names.\n",
    "\n",
    "    Arg:\n",
    "        adata: anndata object\n",
    "        new_index: pandas series, new index to switch to\n",
    "    Returns:\n",
    "        adata: anndata object, with the new index\n",
    "    \"\"\"\n",
    "    adata_copy = adata.copy()\n",
    "\n",
    "    adata_copy.var[adata_copy.var.index.name] = adata_copy.var.index\n",
    "    adata_copy.var.set_index(new_index, inplace=True)\n",
    "    adata_copy.var.index.name = new_index\n",
    "    \n",
    "    return adata_copy"
   ]
  },
  {
   "cell_type": "code",
   "execution_count": null,
   "metadata": {},
   "outputs": [],
   "source": [
    "sdata['proteomics'].var.sort_index(inplace=True) #much easier to find a gene like this"
   ]
  },
  {
   "cell_type": "code",
   "execution_count": null,
   "metadata": {},
   "outputs": [
    {
     "name": "stderr",
     "output_type": "stream",
     "text": [
      "/opt/homebrew/Caskroom/mambaforge/base/envs/spatialdata/lib/python3.10/site-packages/anndata/_core/anndata.py:1758: UserWarning: Variable names are not unique. To make them unique, call `.var_names_make_unique`.\n",
      "  utils.warn_names_duplicates(\"var\")\n",
      "/opt/homebrew/Caskroom/mambaforge/base/envs/spatialdata/lib/python3.10/site-packages/anndata/_core/anndata.py:1756: UserWarning: Observation names are not unique. To make them unique, call `.obs_names_make_unique`.\n",
      "  utils.warn_names_duplicates(\"obs\")\n",
      "/opt/homebrew/Caskroom/mambaforge/base/envs/spatialdata/lib/python3.10/site-packages/anndata/_core/anndata.py:1758: UserWarning: Variable names are not unique. To make them unique, call `.var_names_make_unique`.\n",
      "  utils.warn_names_duplicates(\"var\")\n",
      "\u001b[32m2024-12-01 17:17:07.257\u001b[0m | \u001b[1mINFO    \u001b[0m | \u001b[36mnapari_spatialdata._view\u001b[0m:\u001b[36m_on_layer_update\u001b[0m:\u001b[36m355\u001b[0m - \u001b[1mUpdating layer.\u001b[0m\n",
      "/opt/homebrew/Caskroom/mambaforge/base/envs/spatialdata/lib/python3.10/site-packages/anndata/_core/anndata.py:1758: UserWarning: Variable names are not unique. To make them unique, call `.var_names_make_unique`.\n",
      "  utils.warn_names_duplicates(\"var\")\n",
      "\u001b[32m2024-12-01 17:17:07.276\u001b[0m | \u001b[1mINFO    \u001b[0m | \u001b[36mnapari_spatialdata._view\u001b[0m:\u001b[36m_on_layer_update\u001b[0m:\u001b[36m355\u001b[0m - \u001b[1mUpdating layer.\u001b[0m\n",
      "/opt/homebrew/Caskroom/mambaforge/base/envs/spatialdata/lib/python3.10/site-packages/anndata/_core/anndata.py:1758: UserWarning: Variable names are not unique. To make them unique, call `.var_names_make_unique`.\n",
      "  utils.warn_names_duplicates(\"var\")\n"
     ]
    }
   ],
   "source": [
    "import napari_spatialdata\n",
    "\n",
    "interactive = napari_spatialdata.Interactive(sdata)\n",
    "interactive.run()"
   ]
  }
 ],
 "metadata": {
  "kernelspec": {
   "display_name": "spatialdata",
   "language": "python",
   "name": "python3"
  },
  "language_info": {
   "codemirror_mode": {
    "name": "ipython",
    "version": 3
   },
   "file_extension": ".py",
   "mimetype": "text/x-python",
   "name": "python",
   "nbconvert_exporter": "python",
   "pygments_lexer": "ipython3",
   "version": "3.10.0"
  }
 },
 "nbformat": 4,
 "nbformat_minor": 2
}
