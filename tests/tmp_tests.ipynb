{
 "cells": [
  {
   "cell_type": "code",
   "execution_count": 1,
   "id": "67b94e89",
   "metadata": {},
   "outputs": [
    {
     "name": "stderr",
     "output_type": "stream",
     "text": [
      "/opt/homebrew/Caskroom/mambaforge/base/envs/opendvp-sdata/lib/python3.11/site-packages/dask/dataframe/__init__.py:31: FutureWarning: The legacy Dask DataFrame implementation is deprecated and will be removed in a future version. Set the configuration option `dataframe.query-planning` to `True` or None to enable the new Dask Dataframe implementation and silence this warning.\n",
      "  warnings.warn(\n",
      "/opt/homebrew/Caskroom/mambaforge/base/envs/opendvp-sdata/lib/python3.11/site-packages/xarray_schema/__init__.py:1: UserWarning: pkg_resources is deprecated as an API. See https://setuptools.pypa.io/en/latest/pkg_resources.html. The pkg_resources package is slated for removal as early as 2025-11-30. Refrain from using this package or pin to Setuptools<81.\n",
      "  from pkg_resources import DistributionNotFound, get_distribution\n"
     ]
    }
   ],
   "source": [
    "import spatialdata\n",
    "import skimage.io as io\n",
    "import numpy as np\n",
    "import opendvp"
   ]
  },
  {
   "cell_type": "code",
   "execution_count": null,
   "id": "8f87b01c",
   "metadata": {},
   "outputs": [],
   "source": [
    "sdata = spatialdata.datasets.blobs()"
   ]
  },
  {
   "cell_type": "code",
   "execution_count": 25,
   "id": "23e721e0",
   "metadata": {},
   "outputs": [],
   "source": [
    "path_to_test_mask = \"test_data/blobs_labels.tif\""
   ]
  },
  {
   "cell_type": "code",
   "execution_count": null,
   "id": "c77c8d17",
   "metadata": {},
   "outputs": [],
   "source": [
    "import time\n",
    "\n",
    "import geopandas as gpd\n",
    "import numpy as np\n",
    "import tifffile\n",
    "from shapely.geometry import MultiPolygon\n",
    "from shapely.geometry import Polygon\n",
    "from skimage import measure\n",
    "\n",
    "from opendvp.utils import logger\n",
    "\n",
    "\n",
    "def mask_to_polygons(\n",
    "    mask_path: str,\n",
    "    simplify: float | None = None,\n",
    "    max_memory_mb: int = 16000,\n",
    ") -> gpd.GeoDataFrame:\n",
    "    \"\"\"Convert a labeled segmentation mask (TIFF file) into a GeoDataFrame of polygons and/or multipolygons.\n",
    "\n",
    "    Parameters:\n",
    "    ----------\n",
    "    mask_path : str\n",
    "        Path to a 2D labeled segmentation mask TIFF. Pixel values represent cell IDs; background is 0.\n",
    "    simplify : float, optional\n",
    "        Tolerance for geometry simplification. If None, no simplification is performed.\n",
    "    max_memory_mb : int, optional\n",
    "        Maximum memory (in MB) allowed to safely process the image (default: 16000).\n",
    "\n",
    "    Returns:\n",
    "    -------\n",
    "    gpd.GeoDataFrame\n",
    "        A GeoDataFrame containing polygons/multipolygons and their cell IDs.\n",
    "\n",
    "    Raises:\n",
    "    ------\n",
    "    ValueError\n",
    "        If the estimated memory usage exceeds max_memory_mb or cell IDs exceed int32 range.\n",
    "    \"\"\"\n",
    "    with tifffile.TiffFile(mask_path) as tif:  # type: ignore\n",
    "        shape = tif.series[0].shape\n",
    "        dtype = tif.series[0].dtype\n",
    "        estimated_bytes = np.prod(shape) * np.dtype(dtype).itemsize\n",
    "        estimated_mb = estimated_bytes / (1024 ** 2)\n",
    "        logger.info(f\"  Mask shape: {shape}, dtype: {dtype}, estimated_mb: {estimated_mb:.1f}\")\n",
    "\n",
    "    if estimated_mb > max_memory_mb:\n",
    "        raise ValueError(f\"Estimated mask size is {estimated_mb:.2f} MB, exceeding {max_memory_mb:.1f} MB.\")\n",
    "\n",
    "    # Load the image data and ensure it's a 2D array\n",
    "    array = tifffile.imread(mask_path)  # type: ignore\n",
    "    array = np.squeeze(array)  # type: ignore\n",
    "\n",
    "    # Find contours using skimage.measure.find_contours\n",
    "    contours_gdf = []\n",
    "    start_time_contours = time.time()\n",
    "    for label_value in np.unique(array[array > 0]):\n",
    "        binary_mask = (array == label_value).astype(np.uint8)\n",
    "        contours = measure.find_contours(binary_mask, 0.5)\n",
    "        for contour in contours:\n",
    "            # Convert contour points to a Shapely polygon\n",
    "            polygon = Polygon(contour[:, ::-1])\n",
    "            if not polygon.is_valid:\n",
    "                polygon = polygon.buffer(0)\n",
    "            contours_gdf.append({'cellId': int(label_value), 'geometry': polygon})\n",
    "\n",
    "    logger.info(f\"Extracted contours in {time.time() - start_time_contours:.2f} seconds\")\n",
    "\n",
    "    # Create GeoDataFrame from contours\n",
    "    gdf = gpd.GeoDataFrame(contours_gdf, crs=\"EPSG:4326\")\n",
    "\n",
    "    # Group by 'cellId' and combine geometries into MultiPolygons if necessary\n",
    "    start_time_grouping = time.time()\n",
    "    gdf = gdf.dissolve(by='cellId', aggfunc='first')\n",
    "    gdf['geometry'] = gdf['geometry'].apply(lambda x: x if x.geom_type != 'MultiPolygon' else MultiPolygon(list(x.geoms)))\n",
    "    gdf = gdf.reset_index()\n",
    "    logger.info(f\"Combined geometries in {time.time() - start_time_grouping:.2f} seconds\")\n",
    "\n",
    "    if simplify is not None:\n",
    "        logger.info(f\"Simplifying the geometry with tolerance {simplify}\")\n",
    "        gdf['geometry'] = gdf['geometry'].simplify(simplify, preserve_topology=True)\n",
    "\n",
    "    # Ensure 'cellId' is integer type\n",
    "    gdf['cellId'] = gdf['cellId'].astype(int)\n",
    "\n",
    "    logger.success(\" -- Created geodataframe from segmentation mask -- \")\n",
    "\n",
    "    return gdf"
   ]
  },
  {
   "cell_type": "code",
   "execution_count": 28,
   "id": "1bebe683",
   "metadata": {},
   "outputs": [
    {
     "name": "stdout",
     "output_type": "stream",
     "text": [
      "\u001b[32m15:07:28.16\u001b[0m | \u001b[1mINFO\u001b[0m |   Mask shape: (512, 512), dtype: int16, estimated_mb: 0.5\n",
      "\u001b[32m15:07:28.21\u001b[0m | \u001b[1mINFO\u001b[0m | Extracted contours in 0.05 seconds\n",
      "\u001b[32m15:07:28.24\u001b[0m | \u001b[1mINFO\u001b[0m | Combined geometries in 0.02 seconds\n",
      "\u001b[32m15:07:28.24\u001b[0m | \u001b[32m\u001b[1mSUCCESS\u001b[0m |  -- Created geodataframe from segmentation mask -- \n"
     ]
    }
   ],
   "source": [
    "gdf = mask_to_polygons(path_to_test_mask)"
   ]
  },
  {
   "cell_type": "code",
   "execution_count": 38,
   "id": "7c99b424",
   "metadata": {},
   "outputs": [
    {
     "name": "stdout",
     "output_type": "stream",
     "text": [
      "\u001b[32m15:16:57.84\u001b[0m | \u001b[1mINFO\u001b[0m |   Mask shape: (512, 512), dtype: int16, estimated_mb: 0.5\n",
      "\u001b[32m15:16:57.89\u001b[0m | \u001b[1mINFO\u001b[0m | Extracted contours in 0.05 seconds\n",
      "\u001b[32m15:16:57.91\u001b[0m | \u001b[1mINFO\u001b[0m | Combined geometries in 0.01 seconds\n",
      "\u001b[32m15:16:57.91\u001b[0m | \u001b[32m\u001b[1mSUCCESS\u001b[0m |  -- Created geodataframe from segmentation mask -- \n"
     ]
    }
   ],
   "source": [
    "gdf2 = mask_to_polygons(path_to_test_mask)"
   ]
  },
  {
   "cell_type": "code",
   "execution_count": 41,
   "id": "39edd4ac",
   "metadata": {},
   "outputs": [
    {
     "name": "stdout",
     "output_type": "stream",
     "text": [
      "\u001b[32m15:20:11.95\u001b[0m | \u001b[1mINFO\u001b[0m |   Mask shape: (512, 512), dtype: int16, estimated_mb: 0.5\n",
      "\u001b[32m15:20:12.00\u001b[0m | \u001b[1mINFO\u001b[0m | Extracted contours in 0.05 seconds\n",
      "\u001b[32m15:20:12.01\u001b[0m | \u001b[1mINFO\u001b[0m | Combined geometries in 0.01 seconds\n",
      "\u001b[32m15:20:12.01\u001b[0m | \u001b[1mINFO\u001b[0m | Simplifying the geometry with tolerance 1\n",
      "\u001b[32m15:20:12.02\u001b[0m | \u001b[32m\u001b[1mSUCCESS\u001b[0m |  -- Created geodataframe from segmentation mask -- \n"
     ]
    }
   ],
   "source": [
    "gdf3 = mask_to_polygons(path_to_test_mask, simplify=1)"
   ]
  },
  {
   "cell_type": "code",
   "execution_count": 39,
   "id": "1685e2ac",
   "metadata": {},
   "outputs": [
    {
     "data": {
      "text/html": [
       "<div>\n",
       "<style scoped>\n",
       "    .dataframe tbody tr th:only-of-type {\n",
       "        vertical-align: middle;\n",
       "    }\n",
       "\n",
       "    .dataframe tbody tr th {\n",
       "        vertical-align: top;\n",
       "    }\n",
       "\n",
       "    .dataframe thead th {\n",
       "        text-align: right;\n",
       "    }\n",
       "</style>\n",
       "<table border=\"1\" class=\"dataframe\">\n",
       "  <thead>\n",
       "    <tr style=\"text-align: right;\">\n",
       "      <th></th>\n",
       "      <th>cellId</th>\n",
       "      <th>geometry</th>\n",
       "    </tr>\n",
       "  </thead>\n",
       "  <tbody>\n",
       "    <tr>\n",
       "      <th>0</th>\n",
       "      <td>1</td>\n",
       "      <td>MULTIPOLYGON (((379.5 0, 380 0.5, 380.5 0, 379...</td>\n",
       "    </tr>\n",
       "    <tr>\n",
       "      <th>1</th>\n",
       "      <td>2</td>\n",
       "      <td>MULTIPOLYGON (((350.5 300, 350 299.5, 349.5 30...</td>\n",
       "    </tr>\n",
       "    <tr>\n",
       "      <th>2</th>\n",
       "      <td>3</td>\n",
       "      <td>POLYGON ((118 304.5, 117 304.5, 116 304.5, 115...</td>\n",
       "    </tr>\n",
       "    <tr>\n",
       "      <th>3</th>\n",
       "      <td>4</td>\n",
       "      <td>POLYGON ((74 416.5, 73 416.5, 72 416.5, 71 416...</td>\n",
       "    </tr>\n",
       "    <tr>\n",
       "      <th>4</th>\n",
       "      <td>5</td>\n",
       "      <td>POLYGON ((250 257.5, 249 257.5, 248 257.5, 247...</td>\n",
       "    </tr>\n",
       "    <tr>\n",
       "      <th>5</th>\n",
       "      <td>6</td>\n",
       "      <td>POLYGON ((466 259.5, 465 259.5, 464.5 259, 464...</td>\n",
       "    </tr>\n",
       "    <tr>\n",
       "      <th>6</th>\n",
       "      <td>8</td>\n",
       "      <td>MULTIPOLYGON (((0 319.5, 0 320.5, 0.5 320, 0 3...</td>\n",
       "    </tr>\n",
       "    <tr>\n",
       "      <th>7</th>\n",
       "      <td>9</td>\n",
       "      <td>POLYGON ((138 458.5, 137 458.5, 136 458.5, 135...</td>\n",
       "    </tr>\n",
       "    <tr>\n",
       "      <th>8</th>\n",
       "      <td>10</td>\n",
       "      <td>POLYGON ((460 300.5, 459.5 300, 459 299.5, 458...</td>\n",
       "    </tr>\n",
       "    <tr>\n",
       "      <th>9</th>\n",
       "      <td>11</td>\n",
       "      <td>POLYGON ((102 74.5, 101 74.5, 100 74.5, 99 74....</td>\n",
       "    </tr>\n",
       "    <tr>\n",
       "      <th>10</th>\n",
       "      <td>12</td>\n",
       "      <td>POLYGON ((55 252.5, 54 252.5, 53 252.5, 52 252...</td>\n",
       "    </tr>\n",
       "    <tr>\n",
       "      <th>11</th>\n",
       "      <td>13</td>\n",
       "      <td>POLYGON ((439.5 0, 437.5 0, 437.5 1, 437.5 2, ...</td>\n",
       "    </tr>\n",
       "    <tr>\n",
       "      <th>12</th>\n",
       "      <td>15</td>\n",
       "      <td>POLYGON ((0 380.5, 0 389.5, 0 390.5, 0 399.5, ...</td>\n",
       "    </tr>\n",
       "    <tr>\n",
       "      <th>13</th>\n",
       "      <td>16</td>\n",
       "      <td>POLYGON ((151 123.5, 150 123.5, 149 123.5, 148...</td>\n",
       "    </tr>\n",
       "    <tr>\n",
       "      <th>14</th>\n",
       "      <td>17</td>\n",
       "      <td>MULTIPOLYGON (((469.5 0, 470 0.5, 470.5 0, 469...</td>\n",
       "    </tr>\n",
       "    <tr>\n",
       "      <th>15</th>\n",
       "      <td>18</td>\n",
       "      <td>MULTIPOLYGON (((159.5 0, 160 0.5, 160.5 0, 159...</td>\n",
       "    </tr>\n",
       "    <tr>\n",
       "      <th>16</th>\n",
       "      <td>19</td>\n",
       "      <td>MULTIPOLYGON (((39.5 0, 40 0.5, 40.5 0, 39.5 0...</td>\n",
       "    </tr>\n",
       "    <tr>\n",
       "      <th>17</th>\n",
       "      <td>20</td>\n",
       "      <td>POLYGON ((149.5 0, 148.5 0, 148.5 1, 148.5 2, ...</td>\n",
       "    </tr>\n",
       "    <tr>\n",
       "      <th>18</th>\n",
       "      <td>22</td>\n",
       "      <td>MULTIPOLYGON (((360 0.5, 360.5 0, 359.5 0, 360...</td>\n",
       "    </tr>\n",
       "    <tr>\n",
       "      <th>19</th>\n",
       "      <td>23</td>\n",
       "      <td>POLYGON ((159 343.5, 158 343.5, 157 343.5, 156...</td>\n",
       "    </tr>\n",
       "    <tr>\n",
       "      <th>20</th>\n",
       "      <td>24</td>\n",
       "      <td>POLYGON ((24 158.5, 23 158.5, 22 158.5, 21 158...</td>\n",
       "    </tr>\n",
       "    <tr>\n",
       "      <th>21</th>\n",
       "      <td>25</td>\n",
       "      <td>POLYGON ((105 488.5, 104 488.5, 103 488.5, 102...</td>\n",
       "    </tr>\n",
       "    <tr>\n",
       "      <th>22</th>\n",
       "      <td>26</td>\n",
       "      <td>POLYGON ((304 254.5, 303 254.5, 302 254.5, 301...</td>\n",
       "    </tr>\n",
       "    <tr>\n",
       "      <th>23</th>\n",
       "      <td>27</td>\n",
       "      <td>POLYGON ((360 238.5, 359 238.5, 358 238.5, 357...</td>\n",
       "    </tr>\n",
       "    <tr>\n",
       "      <th>24</th>\n",
       "      <td>29</td>\n",
       "      <td>POLYGON ((256 113.5, 255 113.5, 254 113.5, 253...</td>\n",
       "    </tr>\n",
       "    <tr>\n",
       "      <th>25</th>\n",
       "      <td>30</td>\n",
       "      <td>POLYGON ((80 168.5, 79 168.5, 78 168.5, 77 168...</td>\n",
       "    </tr>\n",
       "  </tbody>\n",
       "</table>\n",
       "</div>"
      ],
      "text/plain": [
       "    cellId                                           geometry\n",
       "0        1  MULTIPOLYGON (((379.5 0, 380 0.5, 380.5 0, 379...\n",
       "1        2  MULTIPOLYGON (((350.5 300, 350 299.5, 349.5 30...\n",
       "2        3  POLYGON ((118 304.5, 117 304.5, 116 304.5, 115...\n",
       "3        4  POLYGON ((74 416.5, 73 416.5, 72 416.5, 71 416...\n",
       "4        5  POLYGON ((250 257.5, 249 257.5, 248 257.5, 247...\n",
       "5        6  POLYGON ((466 259.5, 465 259.5, 464.5 259, 464...\n",
       "6        8  MULTIPOLYGON (((0 319.5, 0 320.5, 0.5 320, 0 3...\n",
       "7        9  POLYGON ((138 458.5, 137 458.5, 136 458.5, 135...\n",
       "8       10  POLYGON ((460 300.5, 459.5 300, 459 299.5, 458...\n",
       "9       11  POLYGON ((102 74.5, 101 74.5, 100 74.5, 99 74....\n",
       "10      12  POLYGON ((55 252.5, 54 252.5, 53 252.5, 52 252...\n",
       "11      13  POLYGON ((439.5 0, 437.5 0, 437.5 1, 437.5 2, ...\n",
       "12      15  POLYGON ((0 380.5, 0 389.5, 0 390.5, 0 399.5, ...\n",
       "13      16  POLYGON ((151 123.5, 150 123.5, 149 123.5, 148...\n",
       "14      17  MULTIPOLYGON (((469.5 0, 470 0.5, 470.5 0, 469...\n",
       "15      18  MULTIPOLYGON (((159.5 0, 160 0.5, 160.5 0, 159...\n",
       "16      19  MULTIPOLYGON (((39.5 0, 40 0.5, 40.5 0, 39.5 0...\n",
       "17      20  POLYGON ((149.5 0, 148.5 0, 148.5 1, 148.5 2, ...\n",
       "18      22  MULTIPOLYGON (((360 0.5, 360.5 0, 359.5 0, 360...\n",
       "19      23  POLYGON ((159 343.5, 158 343.5, 157 343.5, 156...\n",
       "20      24  POLYGON ((24 158.5, 23 158.5, 22 158.5, 21 158...\n",
       "21      25  POLYGON ((105 488.5, 104 488.5, 103 488.5, 102...\n",
       "22      26  POLYGON ((304 254.5, 303 254.5, 302 254.5, 301...\n",
       "23      27  POLYGON ((360 238.5, 359 238.5, 358 238.5, 357...\n",
       "24      29  POLYGON ((256 113.5, 255 113.5, 254 113.5, 253...\n",
       "25      30  POLYGON ((80 168.5, 79 168.5, 78 168.5, 77 168..."
      ]
     },
     "execution_count": 39,
     "metadata": {},
     "output_type": "execute_result"
    }
   ],
   "source": [
    "gdf2"
   ]
  },
  {
   "cell_type": "code",
   "execution_count": 42,
   "id": "5ab00b58",
   "metadata": {},
   "outputs": [],
   "source": [
    "gdf3.to_file(\"blobs_labels_shapes_3.geojson\")"
   ]
  },
  {
   "cell_type": "code",
   "execution_count": 35,
   "id": "f62954a7",
   "metadata": {},
   "outputs": [
    {
     "data": {
      "text/plain": [
       "SpatialData object\n",
       "├── Images\n",
       "│     ├── 'blobs_image': DataArray[cyx] (3, 512, 512)\n",
       "│     └── 'blobs_multiscale_image': DataTree[cyx] (3, 512, 512), (3, 256, 256), (3, 128, 128)\n",
       "├── Labels\n",
       "│     ├── 'blobs_labels': DataArray[yx] (512, 512)\n",
       "│     └── 'blobs_multiscale_labels': DataTree[yx] (512, 512), (256, 256), (128, 128)\n",
       "├── Points\n",
       "│     └── 'blobs_points': DataFrame with shape: (<Delayed>, 4) (2D points)\n",
       "├── Shapes\n",
       "│     ├── 'blobs_circles': GeoDataFrame shape: (5, 2) (2D shapes)\n",
       "│     ├── 'blobs_multipolygons': GeoDataFrame shape: (2, 1) (2D shapes)\n",
       "│     └── 'blobs_polygons': GeoDataFrame shape: (5, 1) (2D shapes)\n",
       "└── Tables\n",
       "      └── 'table': AnnData (26, 3)\n",
       "with coordinate systems:\n",
       "    ▸ 'global', with elements:\n",
       "        blobs_image (Images), blobs_multiscale_image (Images), blobs_labels (Labels), blobs_multiscale_labels (Labels), blobs_points (Points), blobs_circles (Shapes), blobs_multipolygons (Shapes), blobs_polygons (Shapes)"
      ]
     },
     "execution_count": 35,
     "metadata": {},
     "output_type": "execute_result"
    }
   ],
   "source": [
    "sdata"
   ]
  },
  {
   "cell_type": "code",
   "execution_count": null,
   "id": "b0abd274",
   "metadata": {},
   "outputs": [],
   "source": []
  },
  {
   "cell_type": "code",
   "execution_count": 32,
   "id": "891625fc",
   "metadata": {},
   "outputs": [],
   "source": [
    "im = sdata['blobs_image'].values"
   ]
  },
  {
   "cell_type": "code",
   "execution_count": 33,
   "id": "5c779f1d",
   "metadata": {},
   "outputs": [
    {
     "data": {
      "text/plain": [
       "(3, 512, 512)"
      ]
     },
     "execution_count": 33,
     "metadata": {},
     "output_type": "execute_result"
    }
   ],
   "source": [
    "im.shape"
   ]
  },
  {
   "cell_type": "code",
   "execution_count": 34,
   "id": "9e3e8612",
   "metadata": {},
   "outputs": [],
   "source": [
    "io.imsave(\"test_data/multichannel_blobs.tif\",im)"
   ]
  }
 ],
 "metadata": {
  "kernelspec": {
   "display_name": "opendvp-sdata",
   "language": "python",
   "name": "python3"
  },
  "language_info": {
   "codemirror_mode": {
    "name": "ipython",
    "version": 3
   },
   "file_extension": ".py",
   "mimetype": "text/x-python",
   "name": "python",
   "nbconvert_exporter": "python",
   "pygments_lexer": "ipython3",
   "version": "3.11.0"
  }
 },
 "nbformat": 4,
 "nbformat_minor": 5
}
