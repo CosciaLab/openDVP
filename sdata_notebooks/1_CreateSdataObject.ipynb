{
 "cells": [
  {
   "cell_type": "code",
   "execution_count": 3,
   "metadata": {},
   "outputs": [
    {
     "name": "stdout",
     "output_type": "stream",
     "text": [
      "spatialdata: 0.2.3\n",
      "geopandas: 1.0.1\n",
      "anndata: 0.11.3\n",
      "napari_spatialdata: 0.5.3\n"
     ]
    }
   ],
   "source": [
    "#imports\n",
    "import spatialdata\n",
    "import dask_image.imread\n",
    "import dask.array as da\n",
    "import geopandas as gpd\n",
    "import anndata as ad\n",
    "import napari_spatialdata\n",
    "import time\n",
    "\n",
    "import sys, os\n",
    "sys.path.append(os.path.abspath(\"../functions/\"))\n",
    "import anndata_utils\n",
    "\n",
    "for package in [spatialdata, gpd, ad, napari_spatialdata]:\n",
    "    print(f\"{package.__name__}: {package.__version__}\")"
   ]
  },
  {
   "cell_type": "code",
   "execution_count": 4,
   "metadata": {},
   "outputs": [],
   "source": [
    "#paths\n",
    "path_to_image = \"../data/exemplar001/registration/Exemplar001.ome.tif\"\n",
    "path_to_mask = \"../data/exemplar001/segmentation/mesmer-Exemplar001/cell.tif\"\n",
    "path_to_quant = \"../data/exemplar001/quantification/Exemplar001--mesmer_cell.csv\" "
   ]
  },
  {
   "cell_type": "code",
   "execution_count": 5,
   "metadata": {},
   "outputs": [],
   "source": [
    "#create sdata\n",
    "sdata = spatialdata.SpatialData()"
   ]
  },
  {
   "cell_type": "code",
   "execution_count": 6,
   "metadata": {},
   "outputs": [
    {
     "name": "stdout",
     "output_type": "stream",
     "text": [
      "\u001b[34mINFO    \u001b[0m no axes information specified in the object, setting `dims` to: \u001b[1m(\u001b[0m\u001b[32m'c'\u001b[0m, \u001b[32m'y'\u001b[0m, \u001b[32m'x'\u001b[0m\u001b[1m)\u001b[0m                           \n"
     ]
    }
   ],
   "source": [
    "#parse mIF image\n",
    "image = dask_image.imread.imread(path_to_image)\n",
    "sdata['image'] = spatialdata.models.Image2DModel.parse(image)"
   ]
  },
  {
   "cell_type": "code",
   "execution_count": 9,
   "metadata": {},
   "outputs": [
    {
     "name": "stdout",
     "output_type": "stream",
     "text": [
      "\u001b[34mINFO    \u001b[0m no axes information specified in the object, setting `dims` to: \u001b[1m(\u001b[0m\u001b[32m'y'\u001b[0m, \u001b[32m'x'\u001b[0m\u001b[1m)\u001b[0m                                \n"
     ]
    }
   ],
   "source": [
    "#parse mask\n",
    "mask = dask_image.imread.imread(path_to_mask)\n",
    "mask = da.squeeze(mask) #remove singleton dimension\n",
    "sdata['mask'] = spatialdata.models.Labels2DModel.parse(mask)"
   ]
  },
  {
   "cell_type": "code",
   "execution_count": 10,
   "metadata": {},
   "outputs": [
    {
     "name": "stderr",
     "output_type": "stream",
     "text": [
      "\u001b[32m2025-01-14 13:35:10.359\u001b[0m | \u001b[1mINFO    \u001b[0m | \u001b[36manndata_utils\u001b[0m:\u001b[36mread_quant\u001b[0m:\u001b[36m13\u001b[0m - \u001b[1m ---- read_quant : version number 1.1.0 ----\u001b[0m\n",
      "\u001b[32m2025-01-14 13:35:10.422\u001b[0m | \u001b[1mINFO    \u001b[0m | \u001b[36manndata_utils\u001b[0m:\u001b[36mread_quant\u001b[0m:\u001b[36m33\u001b[0m - \u001b[1m 9711 cells and 12 variables\u001b[0m\n",
      "\u001b[32m2025-01-14 13:35:10.423\u001b[0m | \u001b[1mINFO    \u001b[0m | \u001b[36manndata_utils\u001b[0m:\u001b[36mread_quant\u001b[0m:\u001b[36m34\u001b[0m - \u001b[1m ---- read_quant is done, took 0s  ----\u001b[0m\n"
     ]
    }
   ],
   "source": [
    "#parse quantification table\n",
    "adata = anndata_utils.read_quant(path_to_quant) #create adata from csv\n",
    "sdata[\"imaging\"] = spatialdata.models.TableModel.parse(adata)"
   ]
  },
  {
   "cell_type": "code",
   "execution_count": 11,
   "metadata": {},
   "outputs": [
    {
     "data": {
      "text/plain": [
       "SpatialData object\n",
       "├── Images\n",
       "│     └── 'image': DataArray[cyx] (12, 3139, 2511)\n",
       "├── Labels\n",
       "│     └── 'mask': DataArray[yx] (3139, 2511)\n",
       "└── Tables\n",
       "      └── 'imaging': AnnData (9711, 12)\n",
       "with coordinate systems:\n",
       "    ▸ 'global', with elements:\n",
       "        image (Images), mask (Labels)"
      ]
     },
     "execution_count": 11,
     "metadata": {},
     "output_type": "execute_result"
    }
   ],
   "source": [
    "sdata"
   ]
  },
  {
   "cell_type": "code",
   "execution_count": 13,
   "metadata": {},
   "outputs": [
    {
     "name": "stdout",
     "output_type": "stream",
     "text": [
      "\u001b[34mINFO    \u001b[0m The Zarr backing store has been changed from \u001b[3;35mNone\u001b[0m the new file path: ..\u001b[35m/data/exemplar001/\u001b[0m\u001b[95mexemplar001.zarr\u001b[0m \n"
     ]
    }
   ],
   "source": [
    "#write as zarr object\n",
    "sdata.write(\"../data/exemplar001/exemplar001.zarr\")"
   ]
  },
  {
   "cell_type": "code",
   "execution_count": 14,
   "metadata": {},
   "outputs": [],
   "source": [
    "# QC1 Visual check of stitching and segmentation\n",
    "interactive = napari_spatialdata.Interactive(sdata)\n",
    "interactive.run()"
   ]
  }
 ],
 "metadata": {
  "kernelspec": {
   "display_name": "default",
   "language": "python",
   "name": "python3"
  },
  "language_info": {
   "codemirror_mode": {
    "name": "ipython",
    "version": 3
   },
   "file_extension": ".py",
   "mimetype": "text/x-python",
   "name": "python",
   "nbconvert_exporter": "python",
   "pygments_lexer": "ipython3",
   "version": "3.12.8"
  }
 },
 "nbformat": 4,
 "nbformat_minor": 2
}
