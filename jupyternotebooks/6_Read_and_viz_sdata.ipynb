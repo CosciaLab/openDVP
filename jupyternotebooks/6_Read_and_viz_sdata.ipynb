{
 "cells": [
  {
   "cell_type": "code",
   "execution_count": 1,
   "metadata": {},
   "outputs": [
    {
     "name": "stderr",
     "output_type": "stream",
     "text": [
      "/opt/homebrew/Caskroom/mambaforge/base/envs/spatialdata/lib/python3.10/site-packages/dask/dataframe/__init__.py:31: FutureWarning: The legacy Dask DataFrame implementation is deprecated and will be removed in a future version. Set the configuration option `dataframe.query-planning` to `True` or None to enable the new Dask Dataframe implementation and silence this warning.\n",
      "  warnings.warn(\n",
      "/opt/homebrew/Caskroom/mambaforge/base/envs/spatialdata/lib/python3.10/site-packages/numba/core/decorators.py:246: RuntimeWarning: nopython is set for njit and is ignored\n",
      "  warnings.warn('nopython is set for njit and is ignored', RuntimeWarning)\n",
      "/opt/homebrew/Caskroom/mambaforge/base/envs/spatialdata/lib/python3.10/site-packages/anndata/utils.py:429: FutureWarning: Importing read_csv from `anndata` is deprecated. Import anndata.io.read_csv instead.\n",
      "  warnings.warn(msg, FutureWarning)\n",
      "/opt/homebrew/Caskroom/mambaforge/base/envs/spatialdata/lib/python3.10/site-packages/anndata/utils.py:429: FutureWarning: Importing read_excel from `anndata` is deprecated. Import anndata.io.read_excel instead.\n",
      "  warnings.warn(msg, FutureWarning)\n",
      "/opt/homebrew/Caskroom/mambaforge/base/envs/spatialdata/lib/python3.10/site-packages/anndata/utils.py:429: FutureWarning: Importing read_hdf from `anndata` is deprecated. Import anndata.io.read_hdf instead.\n",
      "  warnings.warn(msg, FutureWarning)\n",
      "/opt/homebrew/Caskroom/mambaforge/base/envs/spatialdata/lib/python3.10/site-packages/anndata/utils.py:429: FutureWarning: Importing read_loom from `anndata` is deprecated. Import anndata.io.read_loom instead.\n",
      "  warnings.warn(msg, FutureWarning)\n",
      "/opt/homebrew/Caskroom/mambaforge/base/envs/spatialdata/lib/python3.10/site-packages/anndata/utils.py:429: FutureWarning: Importing read_mtx from `anndata` is deprecated. Import anndata.io.read_mtx instead.\n",
      "  warnings.warn(msg, FutureWarning)\n",
      "/opt/homebrew/Caskroom/mambaforge/base/envs/spatialdata/lib/python3.10/site-packages/anndata/utils.py:429: FutureWarning: Importing read_text from `anndata` is deprecated. Import anndata.io.read_text instead.\n",
      "  warnings.warn(msg, FutureWarning)\n",
      "/opt/homebrew/Caskroom/mambaforge/base/envs/spatialdata/lib/python3.10/site-packages/anndata/utils.py:429: FutureWarning: Importing read_umi_tools from `anndata` is deprecated. Import anndata.io.read_umi_tools instead.\n",
      "  warnings.warn(msg, FutureWarning)\n"
     ]
    }
   ],
   "source": [
    "#imports\n",
    "import spatialdata\n",
    "import dask_image\n",
    "import dask.array as da\n",
    "import geopandas as gpd\n",
    "import anndata as ad\n",
    "import napari_spatialdata\n",
    "import time"
   ]
  },
  {
   "cell_type": "code",
   "execution_count": 2,
   "metadata": {},
   "outputs": [
    {
     "name": "stdout",
     "output_type": "stream",
     "text": [
      "spatialdata: 0.2.5.post0\n",
      "geopandas: 1.0.1\n",
      "anndata: 0.11.1\n",
      "napari_spatialdata: 0.5.3\n"
     ]
    }
   ],
   "source": [
    "for package in [spatialdata, gpd, ad, napari_spatialdata]:\n",
    "    print(f\"{package.__name__}: {package.__version__}\")"
   ]
  },
  {
   "cell_type": "markdown",
   "metadata": {},
   "source": [
    "# Create a sdata object for testing"
   ]
  },
  {
   "cell_type": "code",
   "execution_count": 3,
   "metadata": {},
   "outputs": [],
   "source": [
    "#paths\n",
    "path_to_mIF = \"/Volumes/Extreme SSD/P26_BCCN/P26E07_E08_E09_SOPA_Gates/processed_images/991.ome.tif\"\n",
    "path_to_mask = \"/Volumes/Extreme SSD/P26_BCCN/P26E07_E08_E09_SOPA_Gates/expanded-masks/991.tif\"\n",
    "path_to_shapes = \"../data/geojsons/Primary/processed/20241129_1442_Primary991_harmonized.geojson\"\n",
    "# path_to_imaging_table = \"/Volumes/Extreme SSD/P26_BCCN/P26E07_E08_E09_SOPA_Gates/adatas/20241002_1218_991_phenotyped.h5ad\"\n",
    "path_to_proteomics = \"../data/proteomic/20241201_170620_filtered_imputed_outerjoin_mergefirst.h5ad\"\n",
    "\n",
    "#paths to sdatas\n",
    "sdata_big = \"../data/sdata/20241201_1730_sdata_fullres.zarr\""
   ]
  },
  {
   "cell_type": "code",
   "execution_count": 4,
   "metadata": {},
   "outputs": [
    {
     "name": "stderr",
     "output_type": "stream",
     "text": [
      "/opt/homebrew/Caskroom/mambaforge/base/envs/spatialdata/lib/python3.10/site-packages/zarr/creation.py:614: UserWarning: ignoring keyword argument 'read_only'\n",
      "  compressor, fill_value = _kwargs_compat(compressor, fill_value, kwargs)\n",
      "/opt/homebrew/Caskroom/mambaforge/base/envs/spatialdata/lib/python3.10/site-packages/anndata/_core/anndata.py:1758: UserWarning: Variable names are not unique. To make them unique, call `.var_names_make_unique`.\n",
      "  utils.warn_names_duplicates(\"var\")\n"
     ]
    }
   ],
   "source": [
    "# initiate spatialdata object\n",
    "sdata = spatialdata.read_zarr(sdata_big)"
   ]
  },
  {
   "cell_type": "code",
   "execution_count": 5,
   "metadata": {},
   "outputs": [
    {
     "data": {
      "text/plain": [
       "SpatialData object, with associated Zarr store: /Users/jnimoca/Jose_BI/1_Pipelines/openDVP/data/sdata/20241201_1730_sdata_fullres.zarr\n",
       "├── Images\n",
       "│     └── 'image': DataArray[cyx] (15, 44470, 73167)\n",
       "├── Labels\n",
       "│     └── 'mask': DataArray[yx] (44470, 73167)\n",
       "├── Shapes\n",
       "│     └── 'Primary_contours': GeoDataFrame shape: (347, 6) (2D shapes)\n",
       "└── Tables\n",
       "      └── 'proteomics': AnnData (18, 4531)\n",
       "with coordinate systems:\n",
       "    ▸ 'global', with elements:\n",
       "        image (Images), mask (Labels), Primary_contours (Shapes)"
      ]
     },
     "execution_count": 5,
     "metadata": {},
     "output_type": "execute_result"
    }
   ],
   "source": [
    "sdata"
   ]
  },
  {
   "cell_type": "code",
   "execution_count": null,
   "metadata": {},
   "outputs": [
    {
     "name": "stderr",
     "output_type": "stream",
     "text": [
      "/opt/homebrew/Caskroom/mambaforge/base/envs/spatialdata/lib/python3.10/site-packages/anndata/_core/anndata.py:1758: UserWarning: Variable names are not unique. To make them unique, call `.var_names_make_unique`.\n",
      "  utils.warn_names_duplicates(\"var\")\n",
      "/opt/homebrew/Caskroom/mambaforge/base/envs/spatialdata/lib/python3.10/site-packages/anndata/_core/aligned_df.py:68: ImplicitModificationWarning: Transforming to str index.\n",
      "  warnings.warn(\"Transforming to str index.\", ImplicitModificationWarning)\n",
      "/opt/homebrew/Caskroom/mambaforge/base/envs/spatialdata/lib/python3.10/site-packages/napari/_vispy/layers/scalar_field.py:199: UserWarning: data shape (44470, 73167) exceeds GL_MAX_TEXTURE_SIZE 16384 in at least one axis and will be downsampled. Rendering is currently in 2D mode.\n",
      "  warnings.warn(\n",
      "\u001b[32m2024-12-02 13:36:55.676\u001b[0m | \u001b[1mINFO    \u001b[0m | \u001b[36mnapari_spatialdata._view\u001b[0m:\u001b[36m_on_layer_update\u001b[0m:\u001b[36m355\u001b[0m - \u001b[1mUpdating layer.\u001b[0m\n",
      "\u001b[32m2024-12-02 13:36:55.676\u001b[0m | \u001b[1mINFO    \u001b[0m | \u001b[36mnapari_spatialdata._view\u001b[0m:\u001b[36m_on_layer_update\u001b[0m:\u001b[36m355\u001b[0m - \u001b[1mUpdating layer.\u001b[0m\n",
      "\u001b[32m2024-12-02 13:41:15.709\u001b[0m | \u001b[1mINFO    \u001b[0m | \u001b[36mnapari_spatialdata._view\u001b[0m:\u001b[36m_on_layer_update\u001b[0m:\u001b[36m355\u001b[0m - \u001b[1mUpdating layer.\u001b[0m\n",
      "/opt/homebrew/Caskroom/mambaforge/base/envs/spatialdata/lib/python3.10/site-packages/napari/_vispy/layers/scalar_field.py:199: UserWarning: data shape (44470, 73167) exceeds GL_MAX_TEXTURE_SIZE 16384 in at least one axis and will be downsampled. Rendering is currently in 2D mode.\n",
      "  warnings.warn(\n",
      "\u001b[32m2024-12-02 13:41:19.061\u001b[0m | \u001b[1mINFO    \u001b[0m | \u001b[36mnapari_spatialdata._view\u001b[0m:\u001b[36m_on_layer_update\u001b[0m:\u001b[36m355\u001b[0m - \u001b[1mUpdating layer.\u001b[0m\n",
      "\u001b[32m2024-12-02 13:41:19.067\u001b[0m | \u001b[1mINFO    \u001b[0m | \u001b[36mnapari_spatialdata._view\u001b[0m:\u001b[36m_on_layer_update\u001b[0m:\u001b[36m355\u001b[0m - \u001b[1mUpdating layer.\u001b[0m\n",
      "/opt/homebrew/Caskroom/mambaforge/base/envs/spatialdata/lib/python3.10/site-packages/napari/_vispy/layers/scalar_field.py:199: UserWarning: data shape (44470, 73167) exceeds GL_MAX_TEXTURE_SIZE 16384 in at least one axis and will be downsampled. Rendering is currently in 2D mode.\n",
      "  warnings.warn(\n",
      "\u001b[32m2024-12-02 13:41:22.092\u001b[0m | \u001b[1mINFO    \u001b[0m | \u001b[36mnapari_spatialdata._view\u001b[0m:\u001b[36m_on_layer_update\u001b[0m:\u001b[36m355\u001b[0m - \u001b[1mUpdating layer.\u001b[0m\n",
      "\u001b[32m2024-12-02 13:41:22.097\u001b[0m | \u001b[1mINFO    \u001b[0m | \u001b[36mnapari_spatialdata._view\u001b[0m:\u001b[36m_on_layer_update\u001b[0m:\u001b[36m355\u001b[0m - \u001b[1mUpdating layer.\u001b[0m\n",
      "\u001b[32m2024-12-02 13:41:22.098\u001b[0m | \u001b[1mINFO    \u001b[0m | \u001b[36mnapari_spatialdata._view\u001b[0m:\u001b[36m_on_layer_update\u001b[0m:\u001b[36m355\u001b[0m - \u001b[1mUpdating layer.\u001b[0m\n",
      "/opt/homebrew/Caskroom/mambaforge/base/envs/spatialdata/lib/python3.10/site-packages/napari/_vispy/layers/scalar_field.py:199: UserWarning: data shape (44470, 73167) exceeds GL_MAX_TEXTURE_SIZE 16384 in at least one axis and will be downsampled. Rendering is currently in 2D mode.\n",
      "  warnings.warn(\n",
      "\u001b[32m2024-12-02 13:41:25.094\u001b[0m | \u001b[1mINFO    \u001b[0m | \u001b[36mnapari_spatialdata._view\u001b[0m:\u001b[36m_on_layer_update\u001b[0m:\u001b[36m355\u001b[0m - \u001b[1mUpdating layer.\u001b[0m\n",
      "\u001b[32m2024-12-02 13:41:25.097\u001b[0m | \u001b[1mINFO    \u001b[0m | \u001b[36mnapari_spatialdata._view\u001b[0m:\u001b[36m_on_layer_update\u001b[0m:\u001b[36m355\u001b[0m - \u001b[1mUpdating layer.\u001b[0m\n",
      "\u001b[32m2024-12-02 13:41:25.097\u001b[0m | \u001b[1mINFO    \u001b[0m | \u001b[36mnapari_spatialdata._view\u001b[0m:\u001b[36m_on_layer_update\u001b[0m:\u001b[36m355\u001b[0m - \u001b[1mUpdating layer.\u001b[0m\n",
      "/opt/homebrew/Caskroom/mambaforge/base/envs/spatialdata/lib/python3.10/site-packages/napari/_vispy/layers/scalar_field.py:199: UserWarning: data shape (44470, 73167) exceeds GL_MAX_TEXTURE_SIZE 16384 in at least one axis and will be downsampled. Rendering is currently in 2D mode.\n",
      "  warnings.warn(\n",
      "\u001b[32m2024-12-02 13:41:28.429\u001b[0m | \u001b[1mINFO    \u001b[0m | \u001b[36mnapari_spatialdata._view\u001b[0m:\u001b[36m_on_layer_update\u001b[0m:\u001b[36m355\u001b[0m - \u001b[1mUpdating layer.\u001b[0m\n",
      "\u001b[32m2024-12-02 13:41:28.434\u001b[0m | \u001b[1mINFO    \u001b[0m | \u001b[36mnapari_spatialdata._view\u001b[0m:\u001b[36m_on_layer_update\u001b[0m:\u001b[36m355\u001b[0m - \u001b[1mUpdating layer.\u001b[0m\n",
      "\u001b[32m2024-12-02 13:41:28.435\u001b[0m | \u001b[1mINFO    \u001b[0m | \u001b[36mnapari_spatialdata._view\u001b[0m:\u001b[36m_on_layer_update\u001b[0m:\u001b[36m355\u001b[0m - \u001b[1mUpdating layer.\u001b[0m\n",
      "/opt/homebrew/Caskroom/mambaforge/base/envs/spatialdata/lib/python3.10/site-packages/napari/_vispy/layers/scalar_field.py:199: UserWarning: data shape (44470, 73167) exceeds GL_MAX_TEXTURE_SIZE 16384 in at least one axis and will be downsampled. Rendering is currently in 2D mode.\n",
      "  warnings.warn(\n",
      "\u001b[32m2024-12-02 13:41:32.176\u001b[0m | \u001b[1mINFO    \u001b[0m | \u001b[36mnapari_spatialdata._view\u001b[0m:\u001b[36m_on_layer_update\u001b[0m:\u001b[36m355\u001b[0m - \u001b[1mUpdating layer.\u001b[0m\n",
      "\u001b[32m2024-12-02 13:41:32.178\u001b[0m | \u001b[1mINFO    \u001b[0m | \u001b[36mnapari_spatialdata._view\u001b[0m:\u001b[36m_on_layer_update\u001b[0m:\u001b[36m355\u001b[0m - \u001b[1mUpdating layer.\u001b[0m\n",
      "\u001b[32m2024-12-02 13:41:32.178\u001b[0m | \u001b[1mINFO    \u001b[0m | \u001b[36mnapari_spatialdata._view\u001b[0m:\u001b[36m_on_layer_update\u001b[0m:\u001b[36m355\u001b[0m - \u001b[1mUpdating layer.\u001b[0m\n",
      "/opt/homebrew/Caskroom/mambaforge/base/envs/spatialdata/lib/python3.10/site-packages/napari/_vispy/layers/scalar_field.py:199: UserWarning: data shape (44470, 73167) exceeds GL_MAX_TEXTURE_SIZE 16384 in at least one axis and will be downsampled. Rendering is currently in 2D mode.\n",
      "  warnings.warn(\n",
      "\u001b[32m2024-12-02 13:41:34.500\u001b[0m | \u001b[1mINFO    \u001b[0m | \u001b[36mnapari_spatialdata._view\u001b[0m:\u001b[36m_on_layer_update\u001b[0m:\u001b[36m355\u001b[0m - \u001b[1mUpdating layer.\u001b[0m\n",
      "\u001b[32m2024-12-02 13:41:34.502\u001b[0m | \u001b[1mINFO    \u001b[0m | \u001b[36mnapari_spatialdata._view\u001b[0m:\u001b[36m_on_layer_update\u001b[0m:\u001b[36m355\u001b[0m - \u001b[1mUpdating layer.\u001b[0m\n",
      "\u001b[32m2024-12-02 13:41:34.503\u001b[0m | \u001b[1mINFO    \u001b[0m | \u001b[36mnapari_spatialdata._view\u001b[0m:\u001b[36m_on_layer_update\u001b[0m:\u001b[36m355\u001b[0m - \u001b[1mUpdating layer.\u001b[0m\n",
      "/opt/homebrew/Caskroom/mambaforge/base/envs/spatialdata/lib/python3.10/site-packages/napari/_vispy/layers/scalar_field.py:199: UserWarning: data shape (44470, 73167) exceeds GL_MAX_TEXTURE_SIZE 16384 in at least one axis and will be downsampled. Rendering is currently in 2D mode.\n",
      "  warnings.warn(\n",
      "\u001b[32m2024-12-02 13:41:37.108\u001b[0m | \u001b[1mINFO    \u001b[0m | \u001b[36mnapari_spatialdata._view\u001b[0m:\u001b[36m_on_layer_update\u001b[0m:\u001b[36m355\u001b[0m - \u001b[1mUpdating layer.\u001b[0m\n",
      "\u001b[32m2024-12-02 13:41:37.112\u001b[0m | \u001b[1mINFO    \u001b[0m | \u001b[36mnapari_spatialdata._view\u001b[0m:\u001b[36m_on_layer_update\u001b[0m:\u001b[36m355\u001b[0m - \u001b[1mUpdating layer.\u001b[0m\n",
      "\u001b[32m2024-12-02 13:41:37.113\u001b[0m | \u001b[1mINFO    \u001b[0m | \u001b[36mnapari_spatialdata._view\u001b[0m:\u001b[36m_on_layer_update\u001b[0m:\u001b[36m355\u001b[0m - \u001b[1mUpdating layer.\u001b[0m\n",
      "/opt/homebrew/Caskroom/mambaforge/base/envs/spatialdata/lib/python3.10/site-packages/napari/_vispy/layers/scalar_field.py:199: UserWarning: data shape (44470, 73167) exceeds GL_MAX_TEXTURE_SIZE 16384 in at least one axis and will be downsampled. Rendering is currently in 2D mode.\n",
      "  warnings.warn(\n",
      "\u001b[32m2024-12-02 13:41:39.297\u001b[0m | \u001b[1mINFO    \u001b[0m | \u001b[36mnapari_spatialdata._view\u001b[0m:\u001b[36m_on_layer_update\u001b[0m:\u001b[36m355\u001b[0m - \u001b[1mUpdating layer.\u001b[0m\n",
      "\u001b[32m2024-12-02 13:41:39.300\u001b[0m | \u001b[1mINFO    \u001b[0m | \u001b[36mnapari_spatialdata._view\u001b[0m:\u001b[36m_on_layer_update\u001b[0m:\u001b[36m355\u001b[0m - \u001b[1mUpdating layer.\u001b[0m\n",
      "\u001b[32m2024-12-02 13:41:39.300\u001b[0m | \u001b[1mINFO    \u001b[0m | \u001b[36mnapari_spatialdata._view\u001b[0m:\u001b[36m_on_layer_update\u001b[0m:\u001b[36m355\u001b[0m - \u001b[1mUpdating layer.\u001b[0m\n",
      "/opt/homebrew/Caskroom/mambaforge/base/envs/spatialdata/lib/python3.10/site-packages/napari/_vispy/layers/scalar_field.py:199: UserWarning: data shape (44470, 73167) exceeds GL_MAX_TEXTURE_SIZE 16384 in at least one axis and will be downsampled. Rendering is currently in 2D mode.\n",
      "  warnings.warn(\n",
      "\u001b[32m2024-12-02 13:41:42.132\u001b[0m | \u001b[1mINFO    \u001b[0m | \u001b[36mnapari_spatialdata._view\u001b[0m:\u001b[36m_on_layer_update\u001b[0m:\u001b[36m355\u001b[0m - \u001b[1mUpdating layer.\u001b[0m\n",
      "\u001b[32m2024-12-02 13:41:42.134\u001b[0m | \u001b[1mINFO    \u001b[0m | \u001b[36mnapari_spatialdata._view\u001b[0m:\u001b[36m_on_layer_update\u001b[0m:\u001b[36m355\u001b[0m - \u001b[1mUpdating layer.\u001b[0m\n",
      "\u001b[32m2024-12-02 13:41:42.135\u001b[0m | \u001b[1mINFO    \u001b[0m | \u001b[36mnapari_spatialdata._view\u001b[0m:\u001b[36m_on_layer_update\u001b[0m:\u001b[36m355\u001b[0m - \u001b[1mUpdating layer.\u001b[0m\n",
      "/opt/homebrew/Caskroom/mambaforge/base/envs/spatialdata/lib/python3.10/site-packages/napari/_vispy/layers/scalar_field.py:199: UserWarning: data shape (44470, 73167) exceeds GL_MAX_TEXTURE_SIZE 16384 in at least one axis and will be downsampled. Rendering is currently in 2D mode.\n",
      "  warnings.warn(\n",
      "\u001b[32m2024-12-02 13:41:44.961\u001b[0m | \u001b[1mINFO    \u001b[0m | \u001b[36mnapari_spatialdata._view\u001b[0m:\u001b[36m_on_layer_update\u001b[0m:\u001b[36m355\u001b[0m - \u001b[1mUpdating layer.\u001b[0m\n",
      "\u001b[32m2024-12-02 13:41:44.963\u001b[0m | \u001b[1mINFO    \u001b[0m | \u001b[36mnapari_spatialdata._view\u001b[0m:\u001b[36m_on_layer_update\u001b[0m:\u001b[36m355\u001b[0m - \u001b[1mUpdating layer.\u001b[0m\n",
      "\u001b[32m2024-12-02 13:41:44.964\u001b[0m | \u001b[1mINFO    \u001b[0m | \u001b[36mnapari_spatialdata._view\u001b[0m:\u001b[36m_on_layer_update\u001b[0m:\u001b[36m355\u001b[0m - \u001b[1mUpdating layer.\u001b[0m\n",
      "/opt/homebrew/Caskroom/mambaforge/base/envs/spatialdata/lib/python3.10/site-packages/napari/_vispy/layers/scalar_field.py:199: UserWarning: data shape (44470, 73167) exceeds GL_MAX_TEXTURE_SIZE 16384 in at least one axis and will be downsampled. Rendering is currently in 2D mode.\n",
      "  warnings.warn(\n",
      "\u001b[32m2024-12-02 13:41:47.738\u001b[0m | \u001b[1mINFO    \u001b[0m | \u001b[36mnapari_spatialdata._view\u001b[0m:\u001b[36m_on_layer_update\u001b[0m:\u001b[36m355\u001b[0m - \u001b[1mUpdating layer.\u001b[0m\n",
      "\u001b[32m2024-12-02 13:41:47.741\u001b[0m | \u001b[1mINFO    \u001b[0m | \u001b[36mnapari_spatialdata._view\u001b[0m:\u001b[36m_on_layer_update\u001b[0m:\u001b[36m355\u001b[0m - \u001b[1mUpdating layer.\u001b[0m\n",
      "\u001b[32m2024-12-02 13:41:47.742\u001b[0m | \u001b[1mINFO    \u001b[0m | \u001b[36mnapari_spatialdata._view\u001b[0m:\u001b[36m_on_layer_update\u001b[0m:\u001b[36m355\u001b[0m - \u001b[1mUpdating layer.\u001b[0m\n",
      "/opt/homebrew/Caskroom/mambaforge/base/envs/spatialdata/lib/python3.10/site-packages/napari/_vispy/layers/scalar_field.py:199: UserWarning: data shape (44470, 73167) exceeds GL_MAX_TEXTURE_SIZE 16384 in at least one axis and will be downsampled. Rendering is currently in 2D mode.\n",
      "  warnings.warn(\n",
      "\u001b[32m2024-12-02 13:41:50.140\u001b[0m | \u001b[1mINFO    \u001b[0m | \u001b[36mnapari_spatialdata._view\u001b[0m:\u001b[36m_on_layer_update\u001b[0m:\u001b[36m355\u001b[0m - \u001b[1mUpdating layer.\u001b[0m\n",
      "\u001b[32m2024-12-02 13:41:50.142\u001b[0m | \u001b[1mINFO    \u001b[0m | \u001b[36mnapari_spatialdata._view\u001b[0m:\u001b[36m_on_layer_update\u001b[0m:\u001b[36m355\u001b[0m - \u001b[1mUpdating layer.\u001b[0m\n",
      "\u001b[32m2024-12-02 13:41:50.143\u001b[0m | \u001b[1mINFO    \u001b[0m | \u001b[36mnapari_spatialdata._view\u001b[0m:\u001b[36m_on_layer_update\u001b[0m:\u001b[36m355\u001b[0m - \u001b[1mUpdating layer.\u001b[0m\n",
      "/opt/homebrew/Caskroom/mambaforge/base/envs/spatialdata/lib/python3.10/site-packages/napari/_vispy/layers/scalar_field.py:199: UserWarning: data shape (44470, 73167) exceeds GL_MAX_TEXTURE_SIZE 16384 in at least one axis and will be downsampled. Rendering is currently in 2D mode.\n",
      "  warnings.warn(\n",
      "\u001b[32m2024-12-02 13:41:52.620\u001b[0m | \u001b[1mINFO    \u001b[0m | \u001b[36mnapari_spatialdata._view\u001b[0m:\u001b[36m_on_layer_update\u001b[0m:\u001b[36m355\u001b[0m - \u001b[1mUpdating layer.\u001b[0m\n",
      "\u001b[32m2024-12-02 13:41:52.623\u001b[0m | \u001b[1mINFO    \u001b[0m | \u001b[36mnapari_spatialdata._view\u001b[0m:\u001b[36m_on_layer_update\u001b[0m:\u001b[36m355\u001b[0m - \u001b[1mUpdating layer.\u001b[0m\n",
      "\u001b[32m2024-12-02 13:41:52.623\u001b[0m | \u001b[1mINFO    \u001b[0m | \u001b[36mnapari_spatialdata._view\u001b[0m:\u001b[36m_on_layer_update\u001b[0m:\u001b[36m355\u001b[0m - \u001b[1mUpdating layer.\u001b[0m\n",
      "/opt/homebrew/Caskroom/mambaforge/base/envs/spatialdata/lib/python3.10/site-packages/napari/_vispy/layers/scalar_field.py:199: UserWarning: data shape (44470, 73167) exceeds GL_MAX_TEXTURE_SIZE 16384 in at least one axis and will be downsampled. Rendering is currently in 2D mode.\n",
      "  warnings.warn(\n",
      "\u001b[32m2024-12-02 13:41:54.587\u001b[0m | \u001b[1mINFO    \u001b[0m | \u001b[36mnapari_spatialdata._view\u001b[0m:\u001b[36m_on_layer_update\u001b[0m:\u001b[36m355\u001b[0m - \u001b[1mUpdating layer.\u001b[0m\n",
      "\u001b[32m2024-12-02 13:41:54.589\u001b[0m | \u001b[1mINFO    \u001b[0m | \u001b[36mnapari_spatialdata._view\u001b[0m:\u001b[36m_on_layer_update\u001b[0m:\u001b[36m355\u001b[0m - \u001b[1mUpdating layer.\u001b[0m\n",
      "\u001b[32m2024-12-02 13:41:54.590\u001b[0m | \u001b[1mINFO    \u001b[0m | \u001b[36mnapari_spatialdata._view\u001b[0m:\u001b[36m_on_layer_update\u001b[0m:\u001b[36m355\u001b[0m - \u001b[1mUpdating layer.\u001b[0m\n",
      "/opt/homebrew/Caskroom/mambaforge/base/envs/spatialdata/lib/python3.10/site-packages/napari/_vispy/layers/scalar_field.py:199: UserWarning: data shape (44470, 73167) exceeds GL_MAX_TEXTURE_SIZE 16384 in at least one axis and will be downsampled. Rendering is currently in 2D mode.\n",
      "  warnings.warn(\n",
      "\u001b[32m2024-12-02 13:41:57.569\u001b[0m | \u001b[1mINFO    \u001b[0m | \u001b[36mnapari_spatialdata._view\u001b[0m:\u001b[36m_on_layer_update\u001b[0m:\u001b[36m355\u001b[0m - \u001b[1mUpdating layer.\u001b[0m\n",
      "\u001b[32m2024-12-02 13:41:57.574\u001b[0m | \u001b[1mINFO    \u001b[0m | \u001b[36mnapari_spatialdata._view\u001b[0m:\u001b[36m_on_layer_update\u001b[0m:\u001b[36m355\u001b[0m - \u001b[1mUpdating layer.\u001b[0m\n",
      "\u001b[32m2024-12-02 13:41:57.574\u001b[0m | \u001b[1mINFO    \u001b[0m | \u001b[36mnapari_spatialdata._view\u001b[0m:\u001b[36m_on_layer_update\u001b[0m:\u001b[36m355\u001b[0m - \u001b[1mUpdating layer.\u001b[0m\n",
      "\u001b[32m2024-12-02 13:41:57.580\u001b[0m | \u001b[1mINFO    \u001b[0m | \u001b[36mnapari_spatialdata._view\u001b[0m:\u001b[36m_on_layer_update\u001b[0m:\u001b[36m355\u001b[0m - \u001b[1mUpdating layer.\u001b[0m\n",
      "\u001b[32m2024-12-02 13:41:57.615\u001b[0m | \u001b[1mINFO    \u001b[0m | \u001b[36mnapari_spatialdata._view\u001b[0m:\u001b[36m_on_layer_update\u001b[0m:\u001b[36m355\u001b[0m - \u001b[1mUpdating layer.\u001b[0m\n",
      "\u001b[32m2024-12-02 13:44:24.588\u001b[0m | \u001b[1mINFO    \u001b[0m | \u001b[36mnapari_spatialdata._view\u001b[0m:\u001b[36m_on_layer_update\u001b[0m:\u001b[36m355\u001b[0m - \u001b[1mUpdating layer.\u001b[0m\n",
      "\u001b[32m2024-12-02 13:44:24.614\u001b[0m | \u001b[1mINFO    \u001b[0m | \u001b[36mnapari_spatialdata._view\u001b[0m:\u001b[36m_on_layer_update\u001b[0m:\u001b[36m355\u001b[0m - \u001b[1mUpdating layer.\u001b[0m\n",
      "\u001b[32m2024-12-02 13:44:26.114\u001b[0m | \u001b[1mINFO    \u001b[0m | \u001b[36mnapari_spatialdata._view\u001b[0m:\u001b[36m_on_layer_update\u001b[0m:\u001b[36m355\u001b[0m - \u001b[1mUpdating layer.\u001b[0m\n",
      "\u001b[32m2024-12-02 13:44:27.180\u001b[0m | \u001b[1mINFO    \u001b[0m | \u001b[36mnapari_spatialdata._view\u001b[0m:\u001b[36m_on_layer_update\u001b[0m:\u001b[36m355\u001b[0m - \u001b[1mUpdating layer.\u001b[0m\n",
      "\u001b[32m2024-12-02 13:44:27.181\u001b[0m | \u001b[1mINFO    \u001b[0m | \u001b[36mnapari_spatialdata._view\u001b[0m:\u001b[36m_on_layer_update\u001b[0m:\u001b[36m355\u001b[0m - \u001b[1mUpdating layer.\u001b[0m\n",
      "\u001b[32m2024-12-02 13:44:28.294\u001b[0m | \u001b[1mINFO    \u001b[0m | \u001b[36mnapari_spatialdata._view\u001b[0m:\u001b[36m_on_layer_update\u001b[0m:\u001b[36m355\u001b[0m - \u001b[1mUpdating layer.\u001b[0m\n",
      "\u001b[32m2024-12-02 13:44:28.297\u001b[0m | \u001b[1mINFO    \u001b[0m | \u001b[36mnapari_spatialdata._view\u001b[0m:\u001b[36m_on_layer_update\u001b[0m:\u001b[36m355\u001b[0m - \u001b[1mUpdating layer.\u001b[0m\n",
      "\u001b[32m2024-12-02 13:44:28.298\u001b[0m | \u001b[1mINFO    \u001b[0m | \u001b[36mnapari_spatialdata._view\u001b[0m:\u001b[36m_on_layer_update\u001b[0m:\u001b[36m355\u001b[0m - \u001b[1mUpdating layer.\u001b[0m\n",
      "\u001b[32m2024-12-02 13:44:29.119\u001b[0m | \u001b[1mINFO    \u001b[0m | \u001b[36mnapari_spatialdata._view\u001b[0m:\u001b[36m_on_layer_update\u001b[0m:\u001b[36m355\u001b[0m - \u001b[1mUpdating layer.\u001b[0m\n",
      "\u001b[32m2024-12-02 13:44:32.754\u001b[0m | \u001b[1mINFO    \u001b[0m | \u001b[36mnapari_spatialdata._view\u001b[0m:\u001b[36m_on_layer_update\u001b[0m:\u001b[36m355\u001b[0m - \u001b[1mUpdating layer.\u001b[0m\n",
      "\u001b[32m2024-12-02 13:44:32.760\u001b[0m | \u001b[1mINFO    \u001b[0m | \u001b[36mnapari_spatialdata._view\u001b[0m:\u001b[36m_on_layer_update\u001b[0m:\u001b[36m355\u001b[0m - \u001b[1mUpdating layer.\u001b[0m\n",
      "\u001b[32m2024-12-02 13:44:32.762\u001b[0m | \u001b[1mINFO    \u001b[0m | \u001b[36mnapari_spatialdata._view\u001b[0m:\u001b[36m_on_layer_update\u001b[0m:\u001b[36m355\u001b[0m - \u001b[1mUpdating layer.\u001b[0m\n",
      "\u001b[32m2024-12-02 13:44:33.416\u001b[0m | \u001b[1mINFO    \u001b[0m | \u001b[36mnapari_spatialdata._view\u001b[0m:\u001b[36m_on_layer_update\u001b[0m:\u001b[36m355\u001b[0m - \u001b[1mUpdating layer.\u001b[0m\n",
      "/opt/homebrew/Caskroom/mambaforge/base/envs/spatialdata/lib/python3.10/site-packages/napari/_vispy/layers/scalar_field.py:199: UserWarning: data shape (44470, 73167) exceeds GL_MAX_TEXTURE_SIZE 16384 in at least one axis and will be downsampled. Rendering is currently in 2D mode.\n",
      "  warnings.warn(\n",
      "\u001b[32m2024-12-02 13:44:41.912\u001b[0m | \u001b[1mINFO    \u001b[0m | \u001b[36mnapari_spatialdata._view\u001b[0m:\u001b[36m_on_layer_update\u001b[0m:\u001b[36m355\u001b[0m - \u001b[1mUpdating layer.\u001b[0m\n",
      "\u001b[32m2024-12-02 13:44:41.925\u001b[0m | \u001b[1mINFO    \u001b[0m | \u001b[36mnapari_spatialdata._view\u001b[0m:\u001b[36m_on_layer_update\u001b[0m:\u001b[36m355\u001b[0m - \u001b[1mUpdating layer.\u001b[0m\n",
      "\u001b[32m2024-12-02 13:44:41.927\u001b[0m | \u001b[1mINFO    \u001b[0m | \u001b[36mnapari_spatialdata._view\u001b[0m:\u001b[36m_on_layer_update\u001b[0m:\u001b[36m355\u001b[0m - \u001b[1mUpdating layer.\u001b[0m\n",
      "\u001b[32m2024-12-02 13:44:47.981\u001b[0m | \u001b[1mINFO    \u001b[0m | \u001b[36mnapari_spatialdata._view\u001b[0m:\u001b[36m_on_layer_update\u001b[0m:\u001b[36m355\u001b[0m - \u001b[1mUpdating layer.\u001b[0m\n",
      "\u001b[32m2024-12-02 13:44:47.986\u001b[0m | \u001b[1mINFO    \u001b[0m | \u001b[36mnapari_spatialdata._view\u001b[0m:\u001b[36m_on_layer_update\u001b[0m:\u001b[36m355\u001b[0m - \u001b[1mUpdating layer.\u001b[0m\n",
      "\u001b[32m2024-12-02 13:44:47.988\u001b[0m | \u001b[1mINFO    \u001b[0m | \u001b[36mnapari_spatialdata._view\u001b[0m:\u001b[36m_on_layer_update\u001b[0m:\u001b[36m355\u001b[0m - \u001b[1mUpdating layer.\u001b[0m\n",
      "\u001b[32m2024-12-02 13:44:51.911\u001b[0m | \u001b[1mINFO    \u001b[0m | \u001b[36mnapari_spatialdata._view\u001b[0m:\u001b[36m_on_layer_update\u001b[0m:\u001b[36m355\u001b[0m - \u001b[1mUpdating layer.\u001b[0m\n",
      "\u001b[32m2024-12-02 13:44:51.917\u001b[0m | \u001b[1mINFO    \u001b[0m | \u001b[36mnapari_spatialdata._view\u001b[0m:\u001b[36m_on_layer_update\u001b[0m:\u001b[36m355\u001b[0m - \u001b[1mUpdating layer.\u001b[0m\n",
      "\u001b[32m2024-12-02 13:44:51.918\u001b[0m | \u001b[1mINFO    \u001b[0m | \u001b[36mnapari_spatialdata._view\u001b[0m:\u001b[36m_on_layer_update\u001b[0m:\u001b[36m355\u001b[0m - \u001b[1mUpdating layer.\u001b[0m\n",
      "\u001b[32m2024-12-02 13:44:59.275\u001b[0m | \u001b[1mINFO    \u001b[0m | \u001b[36mnapari_spatialdata._view\u001b[0m:\u001b[36m_on_layer_update\u001b[0m:\u001b[36m355\u001b[0m - \u001b[1mUpdating layer.\u001b[0m\n",
      "\u001b[32m2024-12-02 13:44:59.279\u001b[0m | \u001b[1mINFO    \u001b[0m | \u001b[36mnapari_spatialdata._view\u001b[0m:\u001b[36m_on_layer_update\u001b[0m:\u001b[36m355\u001b[0m - \u001b[1mUpdating layer.\u001b[0m\n",
      "\u001b[32m2024-12-02 13:44:59.280\u001b[0m | \u001b[1mINFO    \u001b[0m | \u001b[36mnapari_spatialdata._view\u001b[0m:\u001b[36m_on_layer_update\u001b[0m:\u001b[36m355\u001b[0m - \u001b[1mUpdating layer.\u001b[0m\n",
      "\u001b[32m2024-12-02 13:45:04.256\u001b[0m | \u001b[1mINFO    \u001b[0m | \u001b[36mnapari_spatialdata._view\u001b[0m:\u001b[36m_on_layer_update\u001b[0m:\u001b[36m355\u001b[0m - \u001b[1mUpdating layer.\u001b[0m\n",
      "\u001b[32m2024-12-02 13:45:04.261\u001b[0m | \u001b[1mINFO    \u001b[0m | \u001b[36mnapari_spatialdata._view\u001b[0m:\u001b[36m_on_layer_update\u001b[0m:\u001b[36m355\u001b[0m - \u001b[1mUpdating layer.\u001b[0m\n",
      "\u001b[32m2024-12-02 13:45:04.262\u001b[0m | \u001b[1mINFO    \u001b[0m | \u001b[36mnapari_spatialdata._view\u001b[0m:\u001b[36m_on_layer_update\u001b[0m:\u001b[36m355\u001b[0m - \u001b[1mUpdating layer.\u001b[0m\n",
      "/opt/homebrew/Caskroom/mambaforge/base/envs/spatialdata/lib/python3.10/site-packages/napari/_vispy/layers/scalar_field.py:199: UserWarning: data shape (44470, 73167) exceeds GL_MAX_TEXTURE_SIZE 16384 in at least one axis and will be downsampled. Rendering is currently in 2D mode.\n",
      "  warnings.warn(\n",
      "\u001b[32m2024-12-02 13:45:20.302\u001b[0m | \u001b[1mINFO    \u001b[0m | \u001b[36mnapari_spatialdata._view\u001b[0m:\u001b[36m_on_layer_update\u001b[0m:\u001b[36m355\u001b[0m - \u001b[1mUpdating layer.\u001b[0m\n",
      "\u001b[32m2024-12-02 13:45:20.306\u001b[0m | \u001b[1mINFO    \u001b[0m | \u001b[36mnapari_spatialdata._view\u001b[0m:\u001b[36m_on_layer_update\u001b[0m:\u001b[36m355\u001b[0m - \u001b[1mUpdating layer.\u001b[0m\n",
      "\u001b[32m2024-12-02 13:45:20.307\u001b[0m | \u001b[1mINFO    \u001b[0m | \u001b[36mnapari_spatialdata._view\u001b[0m:\u001b[36m_on_layer_update\u001b[0m:\u001b[36m355\u001b[0m - \u001b[1mUpdating layer.\u001b[0m\n",
      "\u001b[32m2024-12-02 13:45:27.614\u001b[0m | \u001b[1mINFO    \u001b[0m | \u001b[36mnapari_spatialdata._view\u001b[0m:\u001b[36m_on_layer_update\u001b[0m:\u001b[36m355\u001b[0m - \u001b[1mUpdating layer.\u001b[0m\n",
      "\u001b[32m2024-12-02 13:45:27.618\u001b[0m | \u001b[1mINFO    \u001b[0m | \u001b[36mnapari_spatialdata._view\u001b[0m:\u001b[36m_on_layer_update\u001b[0m:\u001b[36m355\u001b[0m - \u001b[1mUpdating layer.\u001b[0m\n",
      "\u001b[32m2024-12-02 13:45:27.620\u001b[0m | \u001b[1mINFO    \u001b[0m | \u001b[36mnapari_spatialdata._view\u001b[0m:\u001b[36m_on_layer_update\u001b[0m:\u001b[36m355\u001b[0m - \u001b[1mUpdating layer.\u001b[0m\n",
      "/opt/homebrew/Caskroom/mambaforge/base/envs/spatialdata/lib/python3.10/site-packages/anndata/_core/anndata.py:1756: UserWarning: Observation names are not unique. To make them unique, call `.obs_names_make_unique`.\n",
      "  utils.warn_names_duplicates(\"obs\")\n",
      "/opt/homebrew/Caskroom/mambaforge/base/envs/spatialdata/lib/python3.10/site-packages/anndata/_core/anndata.py:1758: UserWarning: Variable names are not unique. To make them unique, call `.var_names_make_unique`.\n",
      "  utils.warn_names_duplicates(\"var\")\n",
      "\u001b[32m2024-12-02 13:45:36.278\u001b[0m | \u001b[1mINFO    \u001b[0m | \u001b[36mnapari_spatialdata._view\u001b[0m:\u001b[36m_on_layer_update\u001b[0m:\u001b[36m355\u001b[0m - \u001b[1mUpdating layer.\u001b[0m\n",
      "\u001b[32m2024-12-02 13:45:36.281\u001b[0m | \u001b[1mINFO    \u001b[0m | \u001b[36mnapari_spatialdata._view\u001b[0m:\u001b[36m_on_layer_update\u001b[0m:\u001b[36m355\u001b[0m - \u001b[1mUpdating layer.\u001b[0m\n",
      "/opt/homebrew/Caskroom/mambaforge/base/envs/spatialdata/lib/python3.10/site-packages/anndata/_core/anndata.py:1758: UserWarning: Variable names are not unique. To make them unique, call `.var_names_make_unique`.\n",
      "  utils.warn_names_duplicates(\"var\")\n",
      "\u001b[32m2024-12-02 13:45:36.310\u001b[0m | \u001b[1mINFO    \u001b[0m | \u001b[36mnapari_spatialdata._view\u001b[0m:\u001b[36m_on_layer_update\u001b[0m:\u001b[36m355\u001b[0m - \u001b[1mUpdating layer.\u001b[0m\n",
      "/opt/homebrew/Caskroom/mambaforge/base/envs/spatialdata/lib/python3.10/site-packages/anndata/_core/anndata.py:1758: UserWarning: Variable names are not unique. To make them unique, call `.var_names_make_unique`.\n",
      "  utils.warn_names_duplicates(\"var\")\n"
     ]
    }
   ],
   "source": [
    "interactive = napari_spatialdata.Interactive(sdata)\n",
    "interactive.run()"
   ]
  }
 ],
 "metadata": {
  "kernelspec": {
   "display_name": "spatialdata",
   "language": "python",
   "name": "python3"
  },
  "language_info": {
   "codemirror_mode": {
    "name": "ipython",
    "version": 3
   },
   "file_extension": ".py",
   "mimetype": "text/x-python",
   "name": "python",
   "nbconvert_exporter": "python",
   "pygments_lexer": "ipython3",
   "version": "3.10.0"
  }
 },
 "nbformat": 4,
 "nbformat_minor": 2
}
