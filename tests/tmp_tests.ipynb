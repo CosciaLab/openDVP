{
 "cells": [
  {
   "cell_type": "code",
   "execution_count": 1,
   "id": "67b94e89",
   "metadata": {},
   "outputs": [
    {
     "name": "stderr",
     "output_type": "stream",
     "text": [
      "/Users/jnimoca/Jose_BI/1_Pipelines/openDVP/.pixi/envs/dev-sdata/lib/python3.13/site-packages/dask/dataframe/__init__.py:31: FutureWarning: The legacy Dask DataFrame implementation is deprecated and will be removed in a future version. Set the configuration option `dataframe.query-planning` to `True` or None to enable the new Dask Dataframe implementation and silence this warning.\n",
      "  warnings.warn(\n",
      "/Users/jnimoca/Jose_BI/1_Pipelines/openDVP/.pixi/envs/dev-sdata/lib/python3.13/site-packages/xarray_schema/__init__.py:1: UserWarning: pkg_resources is deprecated as an API. See https://setuptools.pypa.io/en/latest/pkg_resources.html. The pkg_resources package is slated for removal as early as 2025-11-30. Refrain from using this package or pin to Setuptools<81.\n",
      "  from pkg_resources import DistributionNotFound, get_distribution\n",
      "/Users/jnimoca/Jose_BI/1_Pipelines/openDVP/.pixi/envs/dev-sdata/lib/python3.13/site-packages/spatialdata/_core/query/relational_query.py:532: FutureWarning: functools.partial will be a method descriptor in future Python versions; wrap it in enum.member() if you want to preserve the old behavior\n",
      "  left = partial(_left_join_spatialelement_table)\n",
      "/Users/jnimoca/Jose_BI/1_Pipelines/openDVP/.pixi/envs/dev-sdata/lib/python3.13/site-packages/spatialdata/_core/query/relational_query.py:533: FutureWarning: functools.partial will be a method descriptor in future Python versions; wrap it in enum.member() if you want to preserve the old behavior\n",
      "  left_exclusive = partial(_left_exclusive_join_spatialelement_table)\n",
      "/Users/jnimoca/Jose_BI/1_Pipelines/openDVP/.pixi/envs/dev-sdata/lib/python3.13/site-packages/spatialdata/_core/query/relational_query.py:534: FutureWarning: functools.partial will be a method descriptor in future Python versions; wrap it in enum.member() if you want to preserve the old behavior\n",
      "  inner = partial(_inner_join_spatialelement_table)\n",
      "/Users/jnimoca/Jose_BI/1_Pipelines/openDVP/.pixi/envs/dev-sdata/lib/python3.13/site-packages/spatialdata/_core/query/relational_query.py:535: FutureWarning: functools.partial will be a method descriptor in future Python versions; wrap it in enum.member() if you want to preserve the old behavior\n",
      "  right = partial(_right_join_spatialelement_table)\n",
      "/Users/jnimoca/Jose_BI/1_Pipelines/openDVP/.pixi/envs/dev-sdata/lib/python3.13/site-packages/spatialdata/_core/query/relational_query.py:536: FutureWarning: functools.partial will be a method descriptor in future Python versions; wrap it in enum.member() if you want to preserve the old behavior\n",
      "  right_exclusive = partial(_right_exclusive_join_spatialelement_table)\n"
     ]
    }
   ],
   "source": [
    "import spatialdata\n",
    "import skimage.io as io\n",
    "import numpy as np\n",
    "import opendvp\n",
    "import pandas as pd\n",
    "import anndata as ad\n",
    "import geopandas as gpd\n",
    "from shapely import Polygon\n",
    "import ast\n",
    "from typing import Sequence\n",
    "\n",
    "import anndata as ad\n",
    "import geopandas as gpd\n",
    "import numpy as np\n",
    "import pandas as pd\n",
    "\n",
    "from opendvp.utils import logger"
   ]
  },
  {
   "cell_type": "code",
   "execution_count": 2,
   "id": "0b776466",
   "metadata": {},
   "outputs": [],
   "source": [
    "from typing import Literal\n",
    "\n",
    "import anndata as ad\n",
    "import numpy as np\n",
    "import pandas as pd\n",
    "import pytest\n",
    "\n",
    "from opendvp.tl.filter_features_byNaNs import filter_features_byNaNs"
   ]
  },
  {
   "cell_type": "code",
   "execution_count": 3,
   "id": "225cdd8d",
   "metadata": {},
   "outputs": [],
   "source": [
    "def create_test_adata(\n",
    "    n_obs=10,\n",
    "    n_vars=5,\n",
    "    nan_pattern : Literal['random', 'structured', 'all_valid', 'all_nan'] | None = None,  \n",
    "    grouping_col=None,\n",
    "    var_cols=None\n",
    "):\n",
    "    \"\"\"Creates a dummy AnnData object with specified dimensions and NaN patterns.\"\"\"\n",
    "    X = np.random.rand(n_obs, n_vars) * 10\n",
    "\n",
    "    if nan_pattern == 'random':\n",
    "        nan_indices = np.random.choice(n_obs * n_vars, int(n_obs * n_vars * 0.2), replace=False)\n",
    "        X.flat[nan_indices] = np.nan\n",
    "    elif nan_pattern == 'structured':\n",
    "        # Introduce structured NaNs for predictable testing\n",
    "        X[:n_obs//2, 0] = np.nan # Protein 0 has NaNs in first half of samples\n",
    "        X[n_obs//2:, 1] = np.nan # Protein 1 has NaNs in second half of samples\n",
    "        X[:, 2] = np.nan # Protein 2 is all NaNs\n",
    "        X[:, 3] = 1.0 # Protein 3 is all valid\n",
    "        X[:, 4] = 1.0 # Protein 4 is all valid\n",
    "    elif nan_pattern == 'all_valid':\n",
    "        X = np.ones((n_obs, n_vars))\n",
    "    elif nan_pattern == 'all_nan':\n",
    "        X = np.full((n_obs, n_vars), np.nan)\n",
    "\n",
    "    obs = pd.DataFrame(index=[f'cell_{i}' for i in range(n_obs)])\n",
    "    if grouping_col:\n",
    "        obs[grouping_col] = ['groupA'] * (n_obs // 2) + ['groupB'] * (n_obs - n_obs // 2)\n",
    "    \n",
    "    var_data = {'original_col_1': [f'gene_{i}' for i in range(n_vars)],\n",
    "                'original_col_2': np.arange(n_vars)}\n",
    "    if var_cols:\n",
    "        var_data.update(var_cols)\n",
    "    var = pd.DataFrame(var_data, index=[f'protein_{i}' for i in range(n_vars)])\n",
    "\n",
    "    adata = ad.AnnData(X=X, obs=obs, var=var)\n",
    "    return adata"
   ]
  },
  {
   "cell_type": "code",
   "execution_count": 9,
   "id": "4138a423",
   "metadata": {},
   "outputs": [
    {
     "data": {
      "text/plain": [
       "array([[3.70901514, 1.06302868, 4.67816553, 1.51995282,        nan],\n",
       "       [9.61504541, 6.79896676, 9.16804934, 8.47162031, 0.06167912],\n",
       "       [       nan, 0.88580514,        nan, 4.54793265, 3.40813459],\n",
       "       [3.47695189,        nan, 7.57355187, 7.62349755, 5.94144452],\n",
       "       [7.58631469, 5.05908974, 1.60172298, 8.08754087,        nan]])"
      ]
     },
     "execution_count": 9,
     "metadata": {},
     "output_type": "execute_result"
    }
   ],
   "source": [
    "adata = create_test_adata(n_obs=5, n_vars=5, nan_pattern=\"random\")\n",
    "adata.X"
   ]
  },
  {
   "cell_type": "code",
   "execution_count": 14,
   "id": "172daefa",
   "metadata": {},
   "outputs": [
    {
     "data": {
      "text/plain": [
       "array([[       nan, 2.17249272,        nan, 1.        , 1.        ],\n",
       "       [       nan, 1.80508105,        nan, 1.        , 1.        ],\n",
       "       [       nan, 4.12400906,        nan, 1.        , 1.        ],\n",
       "       [       nan, 1.19916888,        nan, 1.        , 1.        ],\n",
       "       [       nan, 7.72565344,        nan, 1.        , 1.        ],\n",
       "       [8.78656139,        nan,        nan, 1.        , 1.        ],\n",
       "       [3.10320042,        nan,        nan, 1.        , 1.        ],\n",
       "       [3.75802253,        nan,        nan, 1.        , 1.        ],\n",
       "       [9.83712897,        nan,        nan, 1.        , 1.        ],\n",
       "       [7.30276396,        nan,        nan, 1.        , 1.        ]])"
      ]
     },
     "execution_count": 14,
     "metadata": {},
     "output_type": "execute_result"
    }
   ],
   "source": [
    "adata = create_test_adata(n_obs=10, n_vars=5, nan_pattern=\"structured\")\n",
    "adata.X"
   ]
  },
  {
   "cell_type": "code",
   "execution_count": null,
   "id": "be190242",
   "metadata": {},
   "outputs": [
    {
     "data": {
      "text/plain": [
       "array([[3.75427689,        nan, 7.05459632, 9.79896367,        nan],\n",
       "       [2.19775071, 8.30591211,        nan, 7.3626556 , 1.97758067],\n",
       "       [       nan, 0.46552613, 7.12953151, 7.96498521, 9.66215719],\n",
       "       [7.57196055, 9.47889411, 1.54342085, 1.17498436, 8.41366918],\n",
       "       [0.70874143,        nan, 9.5174399 , 4.89150773, 9.97833865]])"
      ]
     },
     "execution_count": 8,
     "metadata": {},
     "output_type": "execute_result"
    }
   ],
   "source": []
  },
  {
   "cell_type": "code",
   "execution_count": null,
   "id": "fb7d892f",
   "metadata": {},
   "outputs": [],
   "source": []
  }
 ],
 "metadata": {
  "kernelspec": {
   "display_name": "dev-sdata",
   "language": "python",
   "name": "python3"
  },
  "language_info": {
   "codemirror_mode": {
    "name": "ipython",
    "version": 3
   },
   "file_extension": ".py",
   "mimetype": "text/x-python",
   "name": "python",
   "nbconvert_exporter": "python",
   "pygments_lexer": "ipython3",
   "version": "3.13.5"
  }
 },
 "nbformat": 4,
 "nbformat_minor": 5
}
