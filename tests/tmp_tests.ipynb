{
 "cells": [
  {
   "cell_type": "code",
   "execution_count": 1,
   "id": "67b94e89",
   "metadata": {},
   "outputs": [
    {
     "name": "stderr",
     "output_type": "stream",
     "text": [
      "/Users/jnimoca/Jose_BI/1_Pipelines/openDVP/.pixi/envs/dev-sdata/lib/python3.13/site-packages/dask/dataframe/__init__.py:31: FutureWarning: The legacy Dask DataFrame implementation is deprecated and will be removed in a future version. Set the configuration option `dataframe.query-planning` to `True` or None to enable the new Dask Dataframe implementation and silence this warning.\n",
      "  warnings.warn(\n",
      "/Users/jnimoca/Jose_BI/1_Pipelines/openDVP/.pixi/envs/dev-sdata/lib/python3.13/site-packages/xarray_schema/__init__.py:1: UserWarning: pkg_resources is deprecated as an API. See https://setuptools.pypa.io/en/latest/pkg_resources.html. The pkg_resources package is slated for removal as early as 2025-11-30. Refrain from using this package or pin to Setuptools<81.\n",
      "  from pkg_resources import DistributionNotFound, get_distribution\n",
      "/Users/jnimoca/Jose_BI/1_Pipelines/openDVP/.pixi/envs/dev-sdata/lib/python3.13/site-packages/spatialdata/_core/query/relational_query.py:532: FutureWarning: functools.partial will be a method descriptor in future Python versions; wrap it in enum.member() if you want to preserve the old behavior\n",
      "  left = partial(_left_join_spatialelement_table)\n",
      "/Users/jnimoca/Jose_BI/1_Pipelines/openDVP/.pixi/envs/dev-sdata/lib/python3.13/site-packages/spatialdata/_core/query/relational_query.py:533: FutureWarning: functools.partial will be a method descriptor in future Python versions; wrap it in enum.member() if you want to preserve the old behavior\n",
      "  left_exclusive = partial(_left_exclusive_join_spatialelement_table)\n",
      "/Users/jnimoca/Jose_BI/1_Pipelines/openDVP/.pixi/envs/dev-sdata/lib/python3.13/site-packages/spatialdata/_core/query/relational_query.py:534: FutureWarning: functools.partial will be a method descriptor in future Python versions; wrap it in enum.member() if you want to preserve the old behavior\n",
      "  inner = partial(_inner_join_spatialelement_table)\n",
      "/Users/jnimoca/Jose_BI/1_Pipelines/openDVP/.pixi/envs/dev-sdata/lib/python3.13/site-packages/spatialdata/_core/query/relational_query.py:535: FutureWarning: functools.partial will be a method descriptor in future Python versions; wrap it in enum.member() if you want to preserve the old behavior\n",
      "  right = partial(_right_join_spatialelement_table)\n",
      "/Users/jnimoca/Jose_BI/1_Pipelines/openDVP/.pixi/envs/dev-sdata/lib/python3.13/site-packages/spatialdata/_core/query/relational_query.py:536: FutureWarning: functools.partial will be a method descriptor in future Python versions; wrap it in enum.member() if you want to preserve the old behavior\n",
      "  right_exclusive = partial(_right_exclusive_join_spatialelement_table)\n"
     ]
    }
   ],
   "source": [
    "import spatialdata\n",
    "import skimage.io as io\n",
    "import numpy as np\n",
    "import opendvp\n",
    "import pandas as pd\n",
    "import anndata as ad\n",
    "import geopandas as gpd\n",
    "from shapely import Polygon\n",
    "import ast\n",
    "from typing import Sequence\n",
    "\n",
    "import anndata as ad\n",
    "import geopandas as gpd\n",
    "import numpy as np\n",
    "import pandas as pd\n",
    "\n",
    "from opendvp.utils import logger"
   ]
  },
  {
   "cell_type": "code",
   "execution_count": 2,
   "id": "0b776466",
   "metadata": {},
   "outputs": [],
   "source": [
    "from typing import Literal\n",
    "\n",
    "import anndata as ad\n",
    "import numpy as np\n",
    "import pandas as pd\n",
    "import pytest\n",
    "\n",
    "from opendvp.tl.filter_features_byNaNs import filter_features_byNaNs"
   ]
  },
  {
   "cell_type": "code",
   "execution_count": 3,
   "id": "225cdd8d",
   "metadata": {},
   "outputs": [],
   "source": [
    "def create_test_adata(\n",
    "    n_obs=10,\n",
    "    n_vars=5,\n",
    "    nan_pattern : Literal['random', 'structured', 'all_valid', 'all_nan'] | None = None,  \n",
    "    grouping_col=None,\n",
    "    var_cols=None\n",
    "):\n",
    "    \"\"\"Creates a dummy AnnData object with specified dimensions and NaN patterns.\"\"\"\n",
    "    X = np.random.rand(n_obs, n_vars) * 10\n",
    "\n",
    "    if nan_pattern == 'random':\n",
    "        nan_indices = np.random.choice(n_obs * n_vars, int(n_obs * n_vars * 0.2), replace=False)\n",
    "        X.flat[nan_indices] = np.nan\n",
    "    elif nan_pattern == 'structured':\n",
    "        # Introduce structured NaNs for predictable testing\n",
    "        X[:n_obs//2, 0] = np.nan # Protein 0 has NaNs in first half of samples\n",
    "        X[n_obs//2:, 1] = np.nan # Protein 1 has NaNs in second half of samples\n",
    "        X[:, 2] = np.nan # Protein 2 is all NaNs\n",
    "        X[:, 3] = 1.0 # Protein 3 is all valid\n",
    "        X[:, 4] = 1.0 # Protein 4 is all valid\n",
    "    elif nan_pattern == 'all_valid':\n",
    "        X = np.ones((n_obs, n_vars))\n",
    "    elif nan_pattern == 'all_nan':\n",
    "        X = np.full((n_obs, n_vars), np.nan)\n",
    "\n",
    "    obs = pd.DataFrame(index=[f'cell_{i}' for i in range(n_obs)])\n",
    "    if grouping_col:\n",
    "        obs[grouping_col] = ['groupA'] * (n_obs // 2) + ['groupB'] * (n_obs - n_obs // 2)\n",
    "    \n",
    "    var_data = {'original_col_1': [f'gene_{i}' for i in range(n_vars)],\n",
    "                'original_col_2': np.arange(n_vars)}\n",
    "    if var_cols:\n",
    "        var_data.update(var_cols)\n",
    "    var = pd.DataFrame(var_data, index=[f'protein_{i}' for i in range(n_vars)])\n",
    "\n",
    "    adata = ad.AnnData(X=X, obs=obs, var=var)\n",
    "    return adata"
   ]
  },
  {
   "cell_type": "code",
   "execution_count": 9,
   "id": "4138a423",
   "metadata": {},
   "outputs": [
    {
     "data": {
      "text/plain": [
       "array([[3.70901514, 1.06302868, 4.67816553, 1.51995282,        nan],\n",
       "       [9.61504541, 6.79896676, 9.16804934, 8.47162031, 0.06167912],\n",
       "       [       nan, 0.88580514,        nan, 4.54793265, 3.40813459],\n",
       "       [3.47695189,        nan, 7.57355187, 7.62349755, 5.94144452],\n",
       "       [7.58631469, 5.05908974, 1.60172298, 8.08754087,        nan]])"
      ]
     },
     "execution_count": 9,
     "metadata": {},
     "output_type": "execute_result"
    }
   ],
   "source": [
    "adata = create_test_adata(n_obs=5, n_vars=5, nan_pattern=\"random\")\n",
    "adata.X"
   ]
  },
  {
   "cell_type": "code",
   "execution_count": 14,
   "id": "172daefa",
   "metadata": {},
   "outputs": [
    {
     "data": {
      "text/plain": [
       "array([[       nan, 2.17249272,        nan, 1.        , 1.        ],\n",
       "       [       nan, 1.80508105,        nan, 1.        , 1.        ],\n",
       "       [       nan, 4.12400906,        nan, 1.        , 1.        ],\n",
       "       [       nan, 1.19916888,        nan, 1.        , 1.        ],\n",
       "       [       nan, 7.72565344,        nan, 1.        , 1.        ],\n",
       "       [8.78656139,        nan,        nan, 1.        , 1.        ],\n",
       "       [3.10320042,        nan,        nan, 1.        , 1.        ],\n",
       "       [3.75802253,        nan,        nan, 1.        , 1.        ],\n",
       "       [9.83712897,        nan,        nan, 1.        , 1.        ],\n",
       "       [7.30276396,        nan,        nan, 1.        , 1.        ]])"
      ]
     },
     "execution_count": 14,
     "metadata": {},
     "output_type": "execute_result"
    }
   ],
   "source": [
    "adata = create_test_adata(n_obs=10, n_vars=5, nan_pattern=\"structured\")\n",
    "adata.X"
   ]
  },
  {
   "cell_type": "code",
   "execution_count": 8,
   "id": "be190242",
   "metadata": {},
   "outputs": [
    {
     "data": {
      "text/plain": [
       "array([[3.75427689,        nan, 7.05459632, 9.79896367,        nan],\n",
       "       [2.19775071, 8.30591211,        nan, 7.3626556 , 1.97758067],\n",
       "       [       nan, 0.46552613, 7.12953151, 7.96498521, 9.66215719],\n",
       "       [7.57196055, 9.47889411, 1.54342085, 1.17498436, 8.41366918],\n",
       "       [0.70874143,        nan, 9.5174399 , 4.89150773, 9.97833865]])"
      ]
     },
     "execution_count": 8,
     "metadata": {},
     "output_type": "execute_result"
    }
   ],
   "source": []
  },
  {
   "cell_type": "code",
   "execution_count": 16,
   "id": "fb7d892f",
   "metadata": {},
   "outputs": [],
   "source": [
    "x= 5"
   ]
  },
  {
   "cell_type": "code",
   "execution_count": 17,
   "id": "030a44a1",
   "metadata": {},
   "outputs": [
    {
     "data": {
      "text/plain": [
       "np.False_"
      ]
     },
     "execution_count": 17,
     "metadata": {},
     "output_type": "execute_result"
    }
   ],
   "source": [
    "np.isnan(x)"
   ]
  },
  {
   "cell_type": "code",
   "execution_count": 18,
   "id": "ba8f1e1b",
   "metadata": {},
   "outputs": [
    {
     "data": {
      "text/plain": [
       "AnnData object with n_obs × n_vars = 10 × 5\n",
       "    var: 'original_col_1', 'original_col_2'"
      ]
     },
     "execution_count": 18,
     "metadata": {},
     "output_type": "execute_result"
    }
   ],
   "source": [
    "adata"
   ]
  },
  {
   "cell_type": "code",
   "execution_count": 19,
   "id": "c584a28b",
   "metadata": {},
   "outputs": [],
   "source": [
    "qc_metrics = pd.DataFrame(index=adata.var_names)\n",
    "qc_metrics['imputed_values'] = pd.Series(index=qc_metrics.index, dtype='object')"
   ]
  },
  {
   "cell_type": "code",
   "execution_count": 20,
   "id": "e1689416",
   "metadata": {},
   "outputs": [
    {
     "data": {
      "text/html": [
       "<div>\n",
       "<style scoped>\n",
       "    .dataframe tbody tr th:only-of-type {\n",
       "        vertical-align: middle;\n",
       "    }\n",
       "\n",
       "    .dataframe tbody tr th {\n",
       "        vertical-align: top;\n",
       "    }\n",
       "\n",
       "    .dataframe thead th {\n",
       "        text-align: right;\n",
       "    }\n",
       "</style>\n",
       "<table border=\"1\" class=\"dataframe\">\n",
       "  <thead>\n",
       "    <tr style=\"text-align: right;\">\n",
       "      <th></th>\n",
       "      <th>imputed_values</th>\n",
       "    </tr>\n",
       "  </thead>\n",
       "  <tbody>\n",
       "    <tr>\n",
       "      <th>protein_0</th>\n",
       "      <td>NaN</td>\n",
       "    </tr>\n",
       "    <tr>\n",
       "      <th>protein_1</th>\n",
       "      <td>NaN</td>\n",
       "    </tr>\n",
       "    <tr>\n",
       "      <th>protein_2</th>\n",
       "      <td>NaN</td>\n",
       "    </tr>\n",
       "    <tr>\n",
       "      <th>protein_3</th>\n",
       "      <td>NaN</td>\n",
       "    </tr>\n",
       "    <tr>\n",
       "      <th>protein_4</th>\n",
       "      <td>NaN</td>\n",
       "    </tr>\n",
       "  </tbody>\n",
       "</table>\n",
       "</div>"
      ],
      "text/plain": [
       "          imputed_values\n",
       "protein_0            NaN\n",
       "protein_1            NaN\n",
       "protein_2            NaN\n",
       "protein_3            NaN\n",
       "protein_4            NaN"
      ]
     },
     "execution_count": 20,
     "metadata": {},
     "output_type": "execute_result"
    }
   ],
   "source": [
    "qc_metrics"
   ]
  },
  {
   "cell_type": "code",
   "execution_count": 21,
   "id": "1d627273",
   "metadata": {},
   "outputs": [
    {
     "data": {
      "text/plain": [
       "imputed_values    object\n",
       "dtype: object"
      ]
     },
     "execution_count": 21,
     "metadata": {},
     "output_type": "execute_result"
    }
   ],
   "source": [
    "qc_metrics.dtypes"
   ]
  },
  {
   "cell_type": "code",
   "execution_count": null,
   "id": "2bf4f42a",
   "metadata": {},
   "outputs": [],
   "source": [
    "x = np.array([1,2,3])"
   ]
  },
  {
   "cell_type": "code",
   "execution_count": 23,
   "id": "1951818c",
   "metadata": {},
   "outputs": [],
   "source": [
    "qc_metrics.loc[\"protein_0\",\"imputed_values\"] = x"
   ]
  },
  {
   "cell_type": "code",
   "execution_count": 24,
   "id": "749c09af",
   "metadata": {},
   "outputs": [
    {
     "data": {
      "text/html": [
       "<div>\n",
       "<style scoped>\n",
       "    .dataframe tbody tr th:only-of-type {\n",
       "        vertical-align: middle;\n",
       "    }\n",
       "\n",
       "    .dataframe tbody tr th {\n",
       "        vertical-align: top;\n",
       "    }\n",
       "\n",
       "    .dataframe thead th {\n",
       "        text-align: right;\n",
       "    }\n",
       "</style>\n",
       "<table border=\"1\" class=\"dataframe\">\n",
       "  <thead>\n",
       "    <tr style=\"text-align: right;\">\n",
       "      <th></th>\n",
       "      <th>imputed_values</th>\n",
       "    </tr>\n",
       "  </thead>\n",
       "  <tbody>\n",
       "    <tr>\n",
       "      <th>protein_0</th>\n",
       "      <td>[1, 2, 3]</td>\n",
       "    </tr>\n",
       "    <tr>\n",
       "      <th>protein_1</th>\n",
       "      <td>NaN</td>\n",
       "    </tr>\n",
       "    <tr>\n",
       "      <th>protein_2</th>\n",
       "      <td>NaN</td>\n",
       "    </tr>\n",
       "    <tr>\n",
       "      <th>protein_3</th>\n",
       "      <td>NaN</td>\n",
       "    </tr>\n",
       "    <tr>\n",
       "      <th>protein_4</th>\n",
       "      <td>NaN</td>\n",
       "    </tr>\n",
       "  </tbody>\n",
       "</table>\n",
       "</div>"
      ],
      "text/plain": [
       "          imputed_values\n",
       "protein_0      [1, 2, 3]\n",
       "protein_1            NaN\n",
       "protein_2            NaN\n",
       "protein_3            NaN\n",
       "protein_4            NaN"
      ]
     },
     "execution_count": 24,
     "metadata": {},
     "output_type": "execute_result"
    }
   ],
   "source": [
    "qc_metrics"
   ]
  },
  {
   "cell_type": "code",
   "execution_count": null,
   "id": "9fee53f3",
   "metadata": {},
   "outputs": [],
   "source": []
  },
  {
   "cell_type": "code",
   "execution_count": null,
   "id": "b660f145",
   "metadata": {},
   "outputs": [],
   "source": [
    "import anndata as ad\n",
    "import numpy as np\n",
    "import pandas as pd\n",
    "\n",
    "from opendvp.utils import logger\n",
    "\n",
    "\n",
    "def impute_gaussian(\n",
    "    adata: ad.AnnData,\n",
    "    mean_shift: float = -1.8,\n",
    "    std_dev_shift: float = 0.3,\n",
    "    perSample: bool = False,\n",
    "    layer_key: str = 'unimputed',\n",
    "    uns_key: str = 'impute_gaussian_qc_metrics'\n",
    ") -> ad.AnnData:\n",
    "    \"\"\"Impute missing values in an AnnData object using a Gaussian distribution.\n",
    "\n",
    "    This function imputes missing values in the data matrix using a Gaussian distribution, with the mean shifted and\n",
    "    the standard deviation scaled. Imputation can be performed per protein (column) or per sample (row).\n",
    "\n",
    "    The original, un-imputed data matrix is stored in `adata.layers`.\n",
    "    A DataFrame with quality control metrics for the imputation is stored in `adata.uns`. The QC metrics include\n",
    "    the number of imputed values, the mean and standard deviation used for imputation, and a numpy array of the\n",
    "    imputed values themselves for each feature.\n",
    "\n",
    "    Parameters\n",
    "    ----------\n",
    "    adata : ad.AnnData\n",
    "        AnnData object with missing values to impute.\n",
    "    mean_shift : float, default -1.8\n",
    "        Number of standard deviations to shift the mean of the Gaussian distribution.\n",
    "    std_dev_shift : float, default 0.3\n",
    "        Factor to scale the standard deviation of the Gaussian distribution.\n",
    "    perSample : bool, default False\n",
    "        If True, impute per sample (row); if False, impute per protein (column).\n",
    "    layer_key : str, default 'unimputed'\n",
    "        Key under which to store the original, un-imputed data matrix in `adata.layers`.\n",
    "    uns_key : str, default 'impute_gaussian_qc_metrics'\n",
    "        Key under which to store the imputation QC metrics DataFrame in `adata.uns`.\n",
    "\n",
    "    Returns:\n",
    "    -------\n",
    "    ad.AnnData\n",
    "        AnnData object with imputed values in `.X`, the original matrix in `.layers[layer_key]`,\n",
    "        and QC metrics in `.uns[uns_key]`.\n",
    "    \"\"\"\n",
    "    adata_copy = adata.copy()\n",
    "\n",
    "    # Store the original data in a new layer\n",
    "    logger.info(f\"Storing original data in `adata.layers['{layer_key}']`.\")\n",
    "    adata_copy.layers[layer_key] = adata_copy.X.copy()\n",
    "\n",
    "    # Ensure dense array for DataFrame construction\n",
    "    data = np.asarray(adata_copy.X)\n",
    "    impute_df = pd.DataFrame(data=data, columns=adata_copy.var.index, index=adata_copy.obs_names)\n",
    "\n",
    "    if perSample:\n",
    "        logger.info(\"Imputation with Gaussian distribution PER SAMPLE\")\n",
    "        impute_df = impute_df.T\n",
    "    else:\n",
    "        logger.info(\"Imputation with Gaussian distribution PER PROTEIN\")\n",
    "\n",
    "    # Initialize QC metrics DataFrame\n",
    "    qc_metrics = pd.DataFrame(\n",
    "        index=impute_df.columns,\n",
    "        columns=['n_imputed', 'imputation_mean', 'imputation_stddev'],\n",
    "    )\n",
    "    # Add a column to store the imputed values, initialized to hold empty arrays\n",
    "    qc_metrics['imputed_values'] = pd.Series(index=qc_metrics.index, dtype='object')\n",
    "    # qc_metrics['imputed_values'] = [np.array([]) for _ in range(len(qc_metrics))]\n",
    "\n",
    "    #seems to not work\n",
    "    # qc_metrics['imputed_values'] = pd.Series(\n",
    "    #     [np.array([]) for _ in range(len(qc_metrics))], \n",
    "    #     index=qc_metrics.index, dtype='object')\n",
    "\n",
    "\n",
    "    logger.info(f'Mean number of missing values per sample: '\n",
    "                f'{round(impute_df.isna().sum(axis=1).mean(),2)} out of {impute_df.shape[1]} proteins')\n",
    "    logger.info(f'Mean number of missing values per protein: '\n",
    "                f'{round(impute_df.isna().sum(axis=0).mean(),2)} out of {impute_df.shape[0]} samples')\n",
    "\n",
    "    for col in impute_df.columns:\n",
    "        col_mean = np.nanmean(impute_df[col])\n",
    "        col_stddev = np.nanstd(impute_df[col], ddof=1)\n",
    "        nan_mask = impute_df[col].isna()\n",
    "        num_nans = nan_mask.sum()\n",
    "\n",
    "        # Store QC metrics\n",
    "        qc_metrics.loc[col, 'n_imputed'] = num_nans\n",
    "        qc_metrics.loc[col, 'imputation_mean'] = col_mean\n",
    "        qc_metrics.loc[col, 'imputation_stddev'] = col_stddev\n",
    "\n",
    "        if num_nans > 0:\n",
    "            shifted_random_values = np.random.normal(\n",
    "                loc=(col_mean + (mean_shift * col_stddev)),\n",
    "                scale=(col_stddev * std_dev_shift),size=num_nans)\n",
    "            \n",
    "            qc_metrics.loc[col, 'imputed_values'] = shifted_random_values\n",
    "            \n",
    "            impute_df.loc[nan_mask, col] = shifted_random_values\n",
    "            logger.debug(f\"Imputed {num_nans} NaNs in column '{col}' with mean={col_mean:.2f}, std={col_stddev:.2f}\")\n",
    "\n",
    "    if perSample:\n",
    "        impute_df = impute_df.T\n",
    "\n",
    "    if (impute_df < 0).any().any():\n",
    "        logger.warning(\"Negative values found after imputation. Impute log-transformed data instead.\")\n",
    "\n",
    "    adata_copy.X = impute_df.to_numpy()\n",
    "    adata_copy.uns[uns_key] = qc_metrics\n",
    "    logger.info(f\"Imputation complete. QC metrics stored in `adata.uns['{uns_key}']`.\")\n",
    "\n",
    "    return adata_copy"
   ]
  },
  {
   "cell_type": "code",
   "execution_count": 49,
   "id": "8a8ef38b",
   "metadata": {},
   "outputs": [],
   "source": [
    "# Helper function to create a dummy AnnData object for testing\n",
    "def create_test_adata(\n",
    "    n_obs=10,\n",
    "    n_vars=5,\n",
    "    nan_pattern : Literal['random', 'structured', 'all_valid', 'all_nan'] | None = None,  \n",
    "    grouping_col=None,\n",
    "    var_cols=None\n",
    "):\n",
    "    \"\"\"Creates a dummy AnnData object with specified dimensions and NaN patterns.\"\"\"\n",
    "    X = np.random.rand(n_obs, n_vars) * 10\n",
    "\n",
    "    if nan_pattern == 'random':\n",
    "        nan_indices = np.random.choice(n_obs * n_vars, int(n_obs * n_vars * 0.2), replace=False)\n",
    "        X.flat[nan_indices] = np.nan\n",
    "    elif nan_pattern == 'structured':\n",
    "        # Introduce structured NaNs for predictable testing\n",
    "        X[:n_obs//2, 0] = np.nan # Protein 0 has NaNs in first half of samples\n",
    "        X[n_obs//2:, 1] = np.nan # Protein 1 has NaNs in second half of samples\n",
    "        X[:, 2] = np.nan # Protein 2 is all NaNs\n",
    "        X[:, 3] = 1.0 # Protein 3 is all valid\n",
    "        X[:, 4] = 1.0 # Protein 4 is all valid\n",
    "    elif nan_pattern == 'all_valid':\n",
    "        X = np.ones((n_obs, n_vars))\n",
    "    elif nan_pattern == 'all_nan':\n",
    "        X = np.full((n_obs, n_vars), np.nan)\n",
    "\n",
    "    obs = pd.DataFrame(index=[f'cell_{i}' for i in range(n_obs)])\n",
    "    if grouping_col:\n",
    "        obs[grouping_col] = ['groupA'] * (n_obs // 2) + ['groupB'] * (n_obs - n_obs // 2)\n",
    "    \n",
    "    var_data = {'original_col_1': [f'gene_{i}' for i in range(n_vars)],\n",
    "                'original_col_2': np.arange(n_vars)}\n",
    "    if var_cols:\n",
    "        var_data.update(var_cols)\n",
    "    var = pd.DataFrame(var_data, index=[f'protein_{i}' for i in range(n_vars)])\n",
    "\n",
    "    adata = ad.AnnData(X=X, obs=obs, var=var)\n",
    "    return adata"
   ]
  },
  {
   "cell_type": "code",
   "execution_count": 50,
   "id": "a3e95750",
   "metadata": {},
   "outputs": [],
   "source": [
    "def test_impute_per_protein_default():\n",
    "    \"\"\"Test default imputation (per protein) and QC storage.\"\"\"\n",
    "    adata = create_test_adata(n_obs=10, n_vars=5, nan_pattern='structured')\n",
    "    original_X = adata.X.copy()\n",
    "\n",
    "    # protein_0 has 5 NaNs, protein_1 has 5 NaNs, protein_2 has 10 NaNs, p3 and p4 no NaNs\n",
    "\n",
    "    imputed_adata = impute_gaussian(adata)\n",
    "    \n",
    "    # 1. Check that no NaNs remain in .X (except for all-NaN columns)\n",
    "    # protein_2 was all NaNs, so it will be imputed with NaNs.\n",
    "    assert not np.isnan(imputed_adata.X[:, :2]).any()\n",
    "    assert np.isnan(imputed_adata.X[:, 2]).all()\n",
    "\n",
    "    # 2. Check that the original data is stored in layers\n",
    "    assert 'unimputed' in imputed_adata.layers\n",
    "    assert np.allclose(imputed_adata.layers['unimputed'], original_X, equal_nan=True)\n",
    "\n",
    "    # 3. Check that QC metrics are stored in uns\n",
    "    assert 'impute_gaussian_qc_metrics' in imputed_adata.uns\n",
    "    qc_df = imputed_adata.uns['impute_gaussian_qc_metrics']\n",
    "    assert isinstance(qc_df, pd.DataFrame)\n",
    "    assert qc_df.index.equals(adata.var_names)\n",
    "    expected_cols = ['n_imputed', 'imputation_mean', 'imputation_stddev', 'imputed_values']\n",
    "    assert all(col in qc_df.columns for col in expected_cols)\n",
    "\n",
    "    # 4. Verify QC content for a specific protein (protein_0)\n",
    "    assert qc_df.loc['protein_0', 'n_imputed'] == 5\n",
    "    assert len(qc_df.loc['protein_0', 'imputed_values']) == 5\n",
    "    assert isinstance(qc_df.loc['protein_0', 'imputed_values'], np.ndarray)\n",
    "\n",
    "    # 5. Verify QC for all-NaN protein (protein_2)\n",
    "    assert qc_df.loc['protein_2', 'n_imputed'] == 10\n",
    "    assert np.isnan(qc_df.loc['protein_2', 'imputation_mean'])\n",
    "    assert np.isnan(qc_df.loc['protein_2', 'imputation_stddev'])\n",
    "    assert np.isnan(qc_df.loc['protein_2', 'imputed_values']).all()"
   ]
  },
  {
   "cell_type": "code",
   "execution_count": 51,
   "id": "cfb73568",
   "metadata": {},
   "outputs": [],
   "source": [
    "adata = create_test_adata(n_obs=10, n_vars=5, nan_pattern='structured')"
   ]
  },
  {
   "cell_type": "code",
   "execution_count": 52,
   "id": "182230ff",
   "metadata": {},
   "outputs": [
    {
     "data": {
      "text/plain": [
       "array([[       nan, 7.75379581,        nan, 1.        , 1.        ],\n",
       "       [       nan, 9.03488776,        nan, 1.        , 1.        ],\n",
       "       [       nan, 8.42742683,        nan, 1.        , 1.        ],\n",
       "       [       nan, 1.59728843,        nan, 1.        , 1.        ],\n",
       "       [       nan, 3.92711211,        nan, 1.        , 1.        ],\n",
       "       [3.16188169,        nan,        nan, 1.        , 1.        ],\n",
       "       [0.48347712,        nan,        nan, 1.        , 1.        ],\n",
       "       [8.94342665,        nan,        nan, 1.        , 1.        ],\n",
       "       [9.71564164,        nan,        nan, 1.        , 1.        ],\n",
       "       [8.44210062,        nan,        nan, 1.        , 1.        ]])"
      ]
     },
     "execution_count": 52,
     "metadata": {},
     "output_type": "execute_result"
    }
   ],
   "source": [
    "adata.X"
   ]
  },
  {
   "cell_type": "code",
   "execution_count": 53,
   "id": "4228bfaa",
   "metadata": {},
   "outputs": [
    {
     "name": "stdout",
     "output_type": "stream",
     "text": [
      "\u001b[32m18:19:01.29\u001b[0m | \u001b[1mINFO\u001b[0m | Storing original data in `adata.layers['unimputed']`.\n",
      "\u001b[32m18:19:01.29\u001b[0m | \u001b[1mINFO\u001b[0m | Imputation with Gaussian distribution PER PROTEIN\n",
      "\u001b[32m18:19:01.29\u001b[0m | \u001b[1mINFO\u001b[0m | Mean number of missing values per sample: 2.0 out of 5 proteins\n",
      "\u001b[32m18:19:01.29\u001b[0m | \u001b[1mINFO\u001b[0m | Mean number of missing values per protein: 4.0 out of 10 samples\n"
     ]
    },
    {
     "ename": "ValueError",
     "evalue": "Must have equal len keys and value when setting with an iterable",
     "output_type": "error",
     "traceback": [
      "\u001b[31m---------------------------------------------------------------------------\u001b[39m",
      "\u001b[31mValueError\u001b[39m                                Traceback (most recent call last)",
      "\u001b[36mCell\u001b[39m\u001b[36m \u001b[39m\u001b[32mIn[53]\u001b[39m\u001b[32m, line 1\u001b[39m\n\u001b[32m----> \u001b[39m\u001b[32m1\u001b[39m imputed_adata = \u001b[43mimpute_gaussian\u001b[49m\u001b[43m(\u001b[49m\u001b[43madata\u001b[49m\u001b[43m)\u001b[49m\n",
      "\u001b[36mCell\u001b[39m\u001b[36m \u001b[39m\u001b[32mIn[27]\u001b[39m\u001b[32m, line 99\u001b[39m, in \u001b[36mimpute_gaussian\u001b[39m\u001b[34m(adata, mean_shift, std_dev_shift, perSample, layer_key, uns_key)\u001b[39m\n\u001b[32m     94\u001b[39m \u001b[38;5;28;01mif\u001b[39;00m num_nans > \u001b[32m0\u001b[39m:\n\u001b[32m     95\u001b[39m     shifted_random_values = np.random.normal(\n\u001b[32m     96\u001b[39m         loc=(col_mean + (mean_shift * col_stddev)),\n\u001b[32m     97\u001b[39m         scale=(col_stddev * std_dev_shift),size=num_nans)\n\u001b[32m---> \u001b[39m\u001b[32m99\u001b[39m     \u001b[43mqc_metrics\u001b[49m\u001b[43m.\u001b[49m\u001b[43mloc\u001b[49m\u001b[43m[\u001b[49m\u001b[43mcol\u001b[49m\u001b[43m,\u001b[49m\u001b[43m \u001b[49m\u001b[33;43m'\u001b[39;49m\u001b[33;43mimputed_values\u001b[39;49m\u001b[33;43m'\u001b[39;49m\u001b[43m]\u001b[49m = shifted_random_values\n\u001b[32m    100\u001b[39m     impute_df.loc[nan_mask, col] = shifted_random_values\n\u001b[32m    101\u001b[39m     logger.debug(\u001b[33mf\u001b[39m\u001b[33m\"\u001b[39m\u001b[33mImputed \u001b[39m\u001b[38;5;132;01m{\u001b[39;00mnum_nans\u001b[38;5;132;01m}\u001b[39;00m\u001b[33m NaNs in column \u001b[39m\u001b[33m'\u001b[39m\u001b[38;5;132;01m{\u001b[39;00mcol\u001b[38;5;132;01m}\u001b[39;00m\u001b[33m'\u001b[39m\u001b[33m with mean=\u001b[39m\u001b[38;5;132;01m{\u001b[39;00mcol_mean\u001b[38;5;132;01m:\u001b[39;00m\u001b[33m.2f\u001b[39m\u001b[38;5;132;01m}\u001b[39;00m\u001b[33m, std=\u001b[39m\u001b[38;5;132;01m{\u001b[39;00mcol_stddev\u001b[38;5;132;01m:\u001b[39;00m\u001b[33m.2f\u001b[39m\u001b[38;5;132;01m}\u001b[39;00m\u001b[33m\"\u001b[39m)\n",
      "\u001b[36mFile \u001b[39m\u001b[32m~/Jose_BI/1_Pipelines/openDVP/.pixi/envs/dev-sdata/lib/python3.13/site-packages/pandas/core/indexing.py:911\u001b[39m, in \u001b[36m_LocationIndexer.__setitem__\u001b[39m\u001b[34m(self, key, value)\u001b[39m\n\u001b[32m    908\u001b[39m \u001b[38;5;28mself\u001b[39m._has_valid_setitem_indexer(key)\n\u001b[32m    910\u001b[39m iloc = \u001b[38;5;28mself\u001b[39m \u001b[38;5;28;01mif\u001b[39;00m \u001b[38;5;28mself\u001b[39m.name == \u001b[33m\"\u001b[39m\u001b[33miloc\u001b[39m\u001b[33m\"\u001b[39m \u001b[38;5;28;01melse\u001b[39;00m \u001b[38;5;28mself\u001b[39m.obj.iloc\n\u001b[32m--> \u001b[39m\u001b[32m911\u001b[39m \u001b[43miloc\u001b[49m\u001b[43m.\u001b[49m\u001b[43m_setitem_with_indexer\u001b[49m\u001b[43m(\u001b[49m\u001b[43mindexer\u001b[49m\u001b[43m,\u001b[49m\u001b[43m \u001b[49m\u001b[43mvalue\u001b[49m\u001b[43m,\u001b[49m\u001b[43m \u001b[49m\u001b[38;5;28;43mself\u001b[39;49m\u001b[43m.\u001b[49m\u001b[43mname\u001b[49m\u001b[43m)\u001b[49m\n",
      "\u001b[36mFile \u001b[39m\u001b[32m~/Jose_BI/1_Pipelines/openDVP/.pixi/envs/dev-sdata/lib/python3.13/site-packages/pandas/core/indexing.py:1942\u001b[39m, in \u001b[36m_iLocIndexer._setitem_with_indexer\u001b[39m\u001b[34m(self, indexer, value, name)\u001b[39m\n\u001b[32m   1939\u001b[39m \u001b[38;5;66;03m# align and set the values\u001b[39;00m\n\u001b[32m   1940\u001b[39m \u001b[38;5;28;01mif\u001b[39;00m take_split_path:\n\u001b[32m   1941\u001b[39m     \u001b[38;5;66;03m# We have to operate column-wise\u001b[39;00m\n\u001b[32m-> \u001b[39m\u001b[32m1942\u001b[39m     \u001b[38;5;28;43mself\u001b[39;49m\u001b[43m.\u001b[49m\u001b[43m_setitem_with_indexer_split_path\u001b[49m\u001b[43m(\u001b[49m\u001b[43mindexer\u001b[49m\u001b[43m,\u001b[49m\u001b[43m \u001b[49m\u001b[43mvalue\u001b[49m\u001b[43m,\u001b[49m\u001b[43m \u001b[49m\u001b[43mname\u001b[49m\u001b[43m)\u001b[49m\n\u001b[32m   1943\u001b[39m \u001b[38;5;28;01melse\u001b[39;00m:\n\u001b[32m   1944\u001b[39m     \u001b[38;5;28mself\u001b[39m._setitem_single_block(indexer, value, name)\n",
      "\u001b[36mFile \u001b[39m\u001b[32m~/Jose_BI/1_Pipelines/openDVP/.pixi/envs/dev-sdata/lib/python3.13/site-packages/pandas/core/indexing.py:1998\u001b[39m, in \u001b[36m_iLocIndexer._setitem_with_indexer_split_path\u001b[39m\u001b[34m(self, indexer, value, name)\u001b[39m\n\u001b[32m   1993\u001b[39m     \u001b[38;5;28;01mif\u001b[39;00m \u001b[38;5;28mlen\u001b[39m(value) == \u001b[32m1\u001b[39m \u001b[38;5;129;01mand\u001b[39;00m \u001b[38;5;129;01mnot\u001b[39;00m is_integer(info_axis):\n\u001b[32m   1994\u001b[39m         \u001b[38;5;66;03m# This is a case like df.iloc[:3, [1]] = [0]\u001b[39;00m\n\u001b[32m   1995\u001b[39m         \u001b[38;5;66;03m#  where we treat as df.iloc[:3, 1] = 0\u001b[39;00m\n\u001b[32m   1996\u001b[39m         \u001b[38;5;28;01mreturn\u001b[39;00m \u001b[38;5;28mself\u001b[39m._setitem_with_indexer((pi, info_axis[\u001b[32m0\u001b[39m]), value[\u001b[32m0\u001b[39m])\n\u001b[32m-> \u001b[39m\u001b[32m1998\u001b[39m     \u001b[38;5;28;01mraise\u001b[39;00m \u001b[38;5;167;01mValueError\u001b[39;00m(\n\u001b[32m   1999\u001b[39m         \u001b[33m\"\u001b[39m\u001b[33mMust have equal len keys and value \u001b[39m\u001b[33m\"\u001b[39m\n\u001b[32m   2000\u001b[39m         \u001b[33m\"\u001b[39m\u001b[33mwhen setting with an iterable\u001b[39m\u001b[33m\"\u001b[39m\n\u001b[32m   2001\u001b[39m     )\n\u001b[32m   2003\u001b[39m \u001b[38;5;28;01melif\u001b[39;00m lplane_indexer == \u001b[32m0\u001b[39m \u001b[38;5;129;01mand\u001b[39;00m \u001b[38;5;28mlen\u001b[39m(value) == \u001b[38;5;28mlen\u001b[39m(\u001b[38;5;28mself\u001b[39m.obj.index):\n\u001b[32m   2004\u001b[39m     \u001b[38;5;66;03m# We get here in one case via .loc with a all-False mask\u001b[39;00m\n\u001b[32m   2005\u001b[39m     \u001b[38;5;28;01mpass\u001b[39;00m\n",
      "\u001b[31mValueError\u001b[39m: Must have equal len keys and value when setting with an iterable"
     ]
    }
   ],
   "source": [
    "imputed_adata = impute_gaussian(adata)"
   ]
  },
  {
   "cell_type": "code",
   "execution_count": 40,
   "id": "d23fde82",
   "metadata": {},
   "outputs": [
    {
     "data": {
      "text/plain": [
       "array([[8.49705618, 7.3581895 , 4.20559146, 9.91206742, 6.58345134],\n",
       "       [0.76113295, 5.12764459, 3.0216116 , 4.11967499, 5.68527244],\n",
       "       [0.05210005, 1.04339021, 2.68151478, 6.96881004, 2.10890592],\n",
       "       [7.17543248, 2.15492011, 4.46189994, 1.73034951, 4.41563864],\n",
       "       [3.82016288, 0.29764584, 0.4347652 , 3.46780576, 6.99858562],\n",
       "       [3.05175812, 2.69534419, 2.29500328, 7.63155378, 1.81213786],\n",
       "       [6.08325215, 5.99032625, 4.2419341 , 8.66353157, 9.2658506 ],\n",
       "       [5.45969867, 1.89974184, 0.27863853, 7.09041511, 4.46405983],\n",
       "       [9.90320926, 5.31066379, 9.72723725, 3.02770136, 7.68156629],\n",
       "       [2.85363228, 4.09439381, 2.03896314, 4.72104249, 8.00886561]])"
      ]
     },
     "execution_count": 40,
     "metadata": {},
     "output_type": "execute_result"
    }
   ],
   "source": [
    "imputed_adata.X"
   ]
  },
  {
   "cell_type": "code",
   "execution_count": 36,
   "id": "d565da4a",
   "metadata": {},
   "outputs": [
    {
     "name": "stdout",
     "output_type": "stream",
     "text": [
      "\u001b[32m18:16:47.25\u001b[0m | \u001b[1mINFO\u001b[0m | Storing original data in `adata.layers['unimputed']`.\n",
      "\u001b[32m18:16:47.25\u001b[0m | \u001b[1mINFO\u001b[0m | Imputation with Gaussian distribution PER PROTEIN\n",
      "\u001b[32m18:16:47.25\u001b[0m | \u001b[1mINFO\u001b[0m | Mean number of missing values per sample: 0.0 out of 5 proteins\n",
      "\u001b[32m18:16:47.25\u001b[0m | \u001b[1mINFO\u001b[0m | Mean number of missing values per protein: 0.0 out of 10 samples\n",
      "\u001b[32m18:16:47.25\u001b[0m | \u001b[1mINFO\u001b[0m | Imputation complete. QC metrics stored in `adata.uns['impute_gaussian_qc_metrics']`.\n"
     ]
    },
    {
     "ename": "AssertionError",
     "evalue": "",
     "output_type": "error",
     "traceback": [
      "\u001b[31m---------------------------------------------------------------------------\u001b[39m",
      "\u001b[31mAssertionError\u001b[39m                            Traceback (most recent call last)",
      "\u001b[36mCell\u001b[39m\u001b[36m \u001b[39m\u001b[32mIn[36]\u001b[39m\u001b[32m, line 1\u001b[39m\n\u001b[32m----> \u001b[39m\u001b[32m1\u001b[39m \u001b[43mtest_impute_per_protein_default\u001b[49m\u001b[43m(\u001b[49m\u001b[43m)\u001b[49m\n",
      "\u001b[36mCell\u001b[39m\u001b[36m \u001b[39m\u001b[32mIn[35]\u001b[39m\u001b[32m, line 13\u001b[39m, in \u001b[36mtest_impute_per_protein_default\u001b[39m\u001b[34m()\u001b[39m\n\u001b[32m     10\u001b[39m \u001b[38;5;66;03m# 1. Check that no NaNs remain in .X (except for all-NaN columns)\u001b[39;00m\n\u001b[32m     11\u001b[39m \u001b[38;5;66;03m# protein_2 was all NaNs, so it will be imputed with NaNs.\u001b[39;00m\n\u001b[32m     12\u001b[39m \u001b[38;5;28;01massert\u001b[39;00m \u001b[38;5;129;01mnot\u001b[39;00m np.isnan(imputed_adata.X[:, :\u001b[32m2\u001b[39m]).any()\n\u001b[32m---> \u001b[39m\u001b[32m13\u001b[39m \u001b[38;5;28;01massert\u001b[39;00m np.isnan(imputed_adata.X[:, \u001b[32m2\u001b[39m]).all()\n\u001b[32m     15\u001b[39m \u001b[38;5;66;03m# 2. Check that the original data is stored in layers\u001b[39;00m\n\u001b[32m     16\u001b[39m \u001b[38;5;28;01massert\u001b[39;00m \u001b[33m'\u001b[39m\u001b[33munimputed\u001b[39m\u001b[33m'\u001b[39m \u001b[38;5;129;01min\u001b[39;00m imputed_adata.layers\n",
      "\u001b[31mAssertionError\u001b[39m: "
     ]
    }
   ],
   "source": [
    "test_impute_per_protein_default()"
   ]
  },
  {
   "cell_type": "code",
   "execution_count": null,
   "id": "3c1ec1a8",
   "metadata": {},
   "outputs": [],
   "source": []
  },
  {
   "cell_type": "code",
   "execution_count": 54,
   "id": "32c15337",
   "metadata": {},
   "outputs": [],
   "source": [
    "adata_copy = adata.copy()\n",
    "\n",
    "data = np.asarray(adata_copy.X)\n",
    "impute_df = pd.DataFrame(data=data, columns=adata_copy.var.index, index=adata_copy.obs_names)\n",
    "\n",
    "qc_metrics = pd.DataFrame(\n",
    "        index=impute_df.columns,\n",
    "        columns=['n_imputed', 'imputation_mean', 'imputation_stddev'],\n",
    "    )"
   ]
  },
  {
   "cell_type": "code",
   "execution_count": 55,
   "id": "eb1fa0f0",
   "metadata": {},
   "outputs": [
    {
     "data": {
      "text/html": [
       "<div>\n",
       "<style scoped>\n",
       "    .dataframe tbody tr th:only-of-type {\n",
       "        vertical-align: middle;\n",
       "    }\n",
       "\n",
       "    .dataframe tbody tr th {\n",
       "        vertical-align: top;\n",
       "    }\n",
       "\n",
       "    .dataframe thead th {\n",
       "        text-align: right;\n",
       "    }\n",
       "</style>\n",
       "<table border=\"1\" class=\"dataframe\">\n",
       "  <thead>\n",
       "    <tr style=\"text-align: right;\">\n",
       "      <th></th>\n",
       "      <th>n_imputed</th>\n",
       "      <th>imputation_mean</th>\n",
       "      <th>imputation_stddev</th>\n",
       "    </tr>\n",
       "  </thead>\n",
       "  <tbody>\n",
       "    <tr>\n",
       "      <th>protein_0</th>\n",
       "      <td>NaN</td>\n",
       "      <td>NaN</td>\n",
       "      <td>NaN</td>\n",
       "    </tr>\n",
       "    <tr>\n",
       "      <th>protein_1</th>\n",
       "      <td>NaN</td>\n",
       "      <td>NaN</td>\n",
       "      <td>NaN</td>\n",
       "    </tr>\n",
       "    <tr>\n",
       "      <th>protein_2</th>\n",
       "      <td>NaN</td>\n",
       "      <td>NaN</td>\n",
       "      <td>NaN</td>\n",
       "    </tr>\n",
       "    <tr>\n",
       "      <th>protein_3</th>\n",
       "      <td>NaN</td>\n",
       "      <td>NaN</td>\n",
       "      <td>NaN</td>\n",
       "    </tr>\n",
       "    <tr>\n",
       "      <th>protein_4</th>\n",
       "      <td>NaN</td>\n",
       "      <td>NaN</td>\n",
       "      <td>NaN</td>\n",
       "    </tr>\n",
       "  </tbody>\n",
       "</table>\n",
       "</div>"
      ],
      "text/plain": [
       "          n_imputed imputation_mean imputation_stddev\n",
       "protein_0       NaN             NaN               NaN\n",
       "protein_1       NaN             NaN               NaN\n",
       "protein_2       NaN             NaN               NaN\n",
       "protein_3       NaN             NaN               NaN\n",
       "protein_4       NaN             NaN               NaN"
      ]
     },
     "execution_count": 55,
     "metadata": {},
     "output_type": "execute_result"
    }
   ],
   "source": [
    "qc_metrics"
   ]
  },
  {
   "cell_type": "code",
   "execution_count": 56,
   "id": "4c6de8f9",
   "metadata": {},
   "outputs": [],
   "source": [
    "qc_metrics['imputed_values'] = pd.Series(index=qc_metrics.index, dtype='object')"
   ]
  },
  {
   "cell_type": "code",
   "execution_count": 57,
   "id": "5129c0a5",
   "metadata": {},
   "outputs": [
    {
     "data": {
      "text/html": [
       "<div>\n",
       "<style scoped>\n",
       "    .dataframe tbody tr th:only-of-type {\n",
       "        vertical-align: middle;\n",
       "    }\n",
       "\n",
       "    .dataframe tbody tr th {\n",
       "        vertical-align: top;\n",
       "    }\n",
       "\n",
       "    .dataframe thead th {\n",
       "        text-align: right;\n",
       "    }\n",
       "</style>\n",
       "<table border=\"1\" class=\"dataframe\">\n",
       "  <thead>\n",
       "    <tr style=\"text-align: right;\">\n",
       "      <th></th>\n",
       "      <th>n_imputed</th>\n",
       "      <th>imputation_mean</th>\n",
       "      <th>imputation_stddev</th>\n",
       "      <th>imputed_values</th>\n",
       "    </tr>\n",
       "  </thead>\n",
       "  <tbody>\n",
       "    <tr>\n",
       "      <th>protein_0</th>\n",
       "      <td>NaN</td>\n",
       "      <td>NaN</td>\n",
       "      <td>NaN</td>\n",
       "      <td>NaN</td>\n",
       "    </tr>\n",
       "    <tr>\n",
       "      <th>protein_1</th>\n",
       "      <td>NaN</td>\n",
       "      <td>NaN</td>\n",
       "      <td>NaN</td>\n",
       "      <td>NaN</td>\n",
       "    </tr>\n",
       "    <tr>\n",
       "      <th>protein_2</th>\n",
       "      <td>NaN</td>\n",
       "      <td>NaN</td>\n",
       "      <td>NaN</td>\n",
       "      <td>NaN</td>\n",
       "    </tr>\n",
       "    <tr>\n",
       "      <th>protein_3</th>\n",
       "      <td>NaN</td>\n",
       "      <td>NaN</td>\n",
       "      <td>NaN</td>\n",
       "      <td>NaN</td>\n",
       "    </tr>\n",
       "    <tr>\n",
       "      <th>protein_4</th>\n",
       "      <td>NaN</td>\n",
       "      <td>NaN</td>\n",
       "      <td>NaN</td>\n",
       "      <td>NaN</td>\n",
       "    </tr>\n",
       "  </tbody>\n",
       "</table>\n",
       "</div>"
      ],
      "text/plain": [
       "          n_imputed imputation_mean imputation_stddev imputed_values\n",
       "protein_0       NaN             NaN               NaN            NaN\n",
       "protein_1       NaN             NaN               NaN            NaN\n",
       "protein_2       NaN             NaN               NaN            NaN\n",
       "protein_3       NaN             NaN               NaN            NaN\n",
       "protein_4       NaN             NaN               NaN            NaN"
      ]
     },
     "execution_count": 57,
     "metadata": {},
     "output_type": "execute_result"
    }
   ],
   "source": [
    "qc_metrics"
   ]
  },
  {
   "cell_type": "code",
   "execution_count": 58,
   "id": "b65153a9",
   "metadata": {},
   "outputs": [
    {
     "data": {
      "text/plain": [
       "n_imputed            object\n",
       "imputation_mean      object\n",
       "imputation_stddev    object\n",
       "imputed_values       object\n",
       "dtype: object"
      ]
     },
     "execution_count": 58,
     "metadata": {},
     "output_type": "execute_result"
    }
   ],
   "source": [
    "qc_metrics.dtypes"
   ]
  },
  {
   "cell_type": "code",
   "execution_count": null,
   "id": "f63de548",
   "metadata": {},
   "outputs": [],
   "source": []
  },
  {
   "cell_type": "code",
   "execution_count": 65,
   "id": "31901982",
   "metadata": {},
   "outputs": [
    {
     "data": {
      "text/html": [
       "<div>\n",
       "<style scoped>\n",
       "    .dataframe tbody tr th:only-of-type {\n",
       "        vertical-align: middle;\n",
       "    }\n",
       "\n",
       "    .dataframe tbody tr th {\n",
       "        vertical-align: top;\n",
       "    }\n",
       "\n",
       "    .dataframe thead th {\n",
       "        text-align: right;\n",
       "    }\n",
       "</style>\n",
       "<table border=\"1\" class=\"dataframe\">\n",
       "  <thead>\n",
       "    <tr style=\"text-align: right;\">\n",
       "      <th></th>\n",
       "      <th>1</th>\n",
       "    </tr>\n",
       "  </thead>\n",
       "  <tbody>\n",
       "    <tr>\n",
       "      <th>1</th>\n",
       "      <td>[5, 6, 7, 8]</td>\n",
       "    </tr>\n",
       "  </tbody>\n",
       "</table>\n",
       "</div>"
      ],
      "text/plain": [
       "              1\n",
       "1  [5, 6, 7, 8]"
      ]
     },
     "execution_count": 65,
     "metadata": {},
     "output_type": "execute_result"
    }
   ],
   "source": [
    "df = pd.DataFrame(columns=[1])\n",
    "df[1] = df[1].astype(object)\n",
    "df.loc[1, 1] = np.array([5, 6, 7, 8])\n",
    "df"
   ]
  },
  {
   "cell_type": "code",
   "execution_count": 69,
   "id": "391bf52e",
   "metadata": {},
   "outputs": [
    {
     "name": "stdout",
     "output_type": "stream",
     "text": [
      "protein_0\n",
      "Index(['protein_0', 'protein_1', 'protein_2', 'protein_3', 'protein_4'], dtype='object')\n",
      "5\n",
      "[ 0.42944793 -0.69866389 -0.33605261 -1.65708508 -2.13870934]\n",
      "<class 'numpy.ndarray'>\n",
      "protein_1\n",
      "Index(['protein_0', 'protein_1', 'protein_2', 'protein_3', 'protein_4'], dtype='object')\n",
      "5\n",
      "[ 0.15489287 -0.25266274 -0.09080634  0.47524837  0.83365573]\n",
      "<class 'numpy.ndarray'>\n",
      "protein_2\n",
      "Index(['protein_0', 'protein_1', 'protein_2', 'protein_3', 'protein_4'], dtype='object')\n",
      "10\n",
      "[nan nan nan nan nan nan nan nan nan nan]\n",
      "<class 'numpy.ndarray'>\n",
      "protein_3\n",
      "Index(['protein_0', 'protein_1', 'protein_2', 'protein_3', 'protein_4'], dtype='object')\n",
      "protein_4\n",
      "Index(['protein_0', 'protein_1', 'protein_2', 'protein_3', 'protein_4'], dtype='object')\n"
     ]
    },
    {
     "name": "stderr",
     "output_type": "stream",
     "text": [
      "/var/folders/x7/grkjlk8s223dy6234rnz1885mxz2_6/T/ipykernel_36553/503741152.py:10: RuntimeWarning: Mean of empty slice\n",
      "  col_mean = np.nanmean(impute_df[col])\n",
      "/Users/jnimoca/Jose_BI/1_Pipelines/openDVP/.pixi/envs/dev-sdata/lib/python3.13/site-packages/numpy/lib/_nanfunctions_impl.py:2019: RuntimeWarning: Degrees of freedom <= 0 for slice.\n",
      "  var = nanvar(a, axis=axis, dtype=dtype, out=out, ddof=ddof,\n"
     ]
    }
   ],
   "source": [
    "mean_shift = -1.8\n",
    "std_dev_shift = 0.3\n",
    "\n",
    "for col in impute_df.columns:\n",
    "        \n",
    "        print(col)\n",
    "        print(qc_metrics.index)\n",
    "        assert col in qc_metrics.index\n",
    "\n",
    "        col_mean = np.nanmean(impute_df[col])\n",
    "        col_stddev = np.nanstd(impute_df[col], ddof=1)\n",
    "        nan_mask = impute_df[col].isna()\n",
    "        num_nans = nan_mask.sum()\n",
    "\n",
    "        # Store QC metrics\n",
    "        qc_metrics.loc[col, 'n_imputed'] = num_nans\n",
    "        qc_metrics.loc[col, 'imputation_mean'] = col_mean\n",
    "        qc_metrics.loc[col, 'imputation_stddev'] = col_stddev\n",
    "\n",
    "        if num_nans > 0:\n",
    "            shifted_random_values = np.random.normal(\n",
    "                loc=(col_mean + (mean_shift * col_stddev)),\n",
    "                scale=(col_stddev * std_dev_shift),size=num_nans)\n",
    "            \n",
    "            print(len(shifted_random_values))\n",
    "            print(shifted_random_values)\n",
    "            print(type(shifted_random_values))\n",
    "\n",
    "            qc_metrics.at[col, 'imputed_values'] = shifted_random_values\n",
    "            \n",
    "            impute_df.loc[nan_mask, col] = shifted_random_values\n",
    "            logger.debug(f\"Imputed {num_nans} NaNs in column '{col}' with mean={col_mean:.2f}, std={col_stddev:.2f}\")"
   ]
  },
  {
   "cell_type": "code",
   "execution_count": null,
   "id": "1ba8e07f",
   "metadata": {},
   "outputs": [],
   "source": []
  },
  {
   "cell_type": "code",
   "execution_count": null,
   "id": "875d78db",
   "metadata": {},
   "outputs": [],
   "source": []
  },
  {
   "cell_type": "code",
   "execution_count": 71,
   "id": "91d54379",
   "metadata": {},
   "outputs": [],
   "source": [
    "import anndata as ad\n",
    "import numpy as np\n",
    "import pandas as pd\n",
    "\n",
    "from opendvp.utils import logger\n",
    "\n",
    "\n",
    "def impute_gaussian(\n",
    "    adata: ad.AnnData,\n",
    "    mean_shift: float = -1.8,\n",
    "    std_dev_shift: float = 0.3,\n",
    "    perSample: bool = False,\n",
    "    layer_key: str = 'unimputed',\n",
    "    uns_key: str = 'impute_gaussian_qc_metrics'\n",
    ") -> ad.AnnData:\n",
    "    \"\"\"Impute missing values in an AnnData object using a Gaussian distribution.\n",
    "\n",
    "    This function imputes missing values in the data matrix using a Gaussian distribution, with the mean shifted and\n",
    "    the standard deviation scaled. Imputation can be performed per protein (column) or per sample (row).\n",
    "\n",
    "    The original, un-imputed data matrix is stored in `adata.layers`.\n",
    "    A DataFrame with quality control metrics for the imputation is stored in `adata.uns`. The QC metrics include\n",
    "    the number of imputed values, the mean and standard deviation used for imputation, and a numpy array of the\n",
    "    imputed values themselves for each feature.\n",
    "\n",
    "    Parameters\n",
    "    ----------\n",
    "    adata : ad.AnnData\n",
    "        AnnData object with missing values to impute.\n",
    "    mean_shift : float, default -1.8\n",
    "        Number of standard deviations to shift the mean of the Gaussian distribution.\n",
    "    std_dev_shift : float, default 0.3\n",
    "        Factor to scale the standard deviation of the Gaussian distribution.\n",
    "    perSample : bool, default False\n",
    "        If True, impute per sample (row); if False, impute per protein (column).\n",
    "    layer_key : str, default 'unimputed'\n",
    "        Key under which to store the original, un-imputed data matrix in `adata.layers`.\n",
    "    uns_key : str, default 'impute_gaussian_qc_metrics'\n",
    "        Key under which to store the imputation QC metrics DataFrame in `adata.uns`.\n",
    "\n",
    "    Returns:\n",
    "    -------\n",
    "    ad.AnnData\n",
    "        AnnData object with imputed values in `.X`, the original matrix in `.layers[layer_key]`,\n",
    "        and QC metrics in `.uns[uns_key]`.\n",
    "    \"\"\"\n",
    "    adata_copy = adata.copy()\n",
    "\n",
    "    # Store the original data in a new layer\n",
    "    logger.info(f\"Storing original data in `adata.layers['{layer_key}']`.\")\n",
    "    adata_copy.layers[layer_key] = adata_copy.X.copy()\n",
    "\n",
    "    # Ensure dense array for DataFrame construction\n",
    "    data = np.asarray(adata_copy.X)\n",
    "    impute_df = pd.DataFrame(data=data, columns=adata_copy.var.index, index=adata_copy.obs_names)\n",
    "\n",
    "    if perSample:\n",
    "        logger.info(\"Imputation with Gaussian distribution PER SAMPLE\")\n",
    "        impute_df = impute_df.T\n",
    "    else:\n",
    "        logger.info(\"Imputation with Gaussian distribution PER PROTEIN\")\n",
    "\n",
    "    # Initialize QC metrics DataFrame\n",
    "    qc_metrics = pd.DataFrame(\n",
    "        index=impute_df.columns, columns=['n_imputed', 'imputation_mean', 'imputation_stddev'])\n",
    "    qc_metrics['imputed_values'] = pd.Series(index=qc_metrics.index, dtype='object')\n",
    "\n",
    "    logger.info(f'Mean number of missing values per sample: '\n",
    "                f'{round(impute_df.isna().sum(axis=1).mean(),2)} out of {impute_df.shape[1]} proteins')\n",
    "    logger.info(f'Mean number of missing values per protein: '\n",
    "                f'{round(impute_df.isna().sum(axis=0).mean(),2)} out of {impute_df.shape[0]} samples')\n",
    "\n",
    "    for col in impute_df.columns:\n",
    "        col_mean = np.nanmean(impute_df[col])\n",
    "        col_stddev = np.nanstd(impute_df[col], ddof=1)\n",
    "        nan_mask = impute_df[col].isna()\n",
    "        num_nans = nan_mask.sum()\n",
    "\n",
    "        # Store QC metrics\n",
    "        qc_metrics.loc[col, 'n_imputed'] = num_nans\n",
    "        qc_metrics.loc[col, 'imputation_mean'] = col_mean\n",
    "        qc_metrics.loc[col, 'imputation_stddev'] = col_stddev\n",
    "\n",
    "        if num_nans > 0:\n",
    "            shifted_random_values = np.random.normal(\n",
    "                loc=(col_mean + (mean_shift * col_stddev)),\n",
    "                scale=(col_stddev * std_dev_shift),size=num_nans)\n",
    "            \n",
    "            qc_metrics.at[col, 'imputed_values'] = shifted_random_values  # noqa: PD008\n",
    "            impute_df.loc[nan_mask, col] = shifted_random_values\n",
    "            logger.debug(f\"Imputed {num_nans} NaNs in column '{col}' with mean={col_mean:.2f}, std={col_stddev:.2f}\")\n",
    "\n",
    "    if perSample:\n",
    "        impute_df = impute_df.T\n",
    "\n",
    "    if (impute_df < 0).any().any():\n",
    "        logger.warning(\"Negative values found after imputation. Impute log-transformed data instead.\")\n",
    "\n",
    "    adata_copy.X = impute_df.to_numpy()\n",
    "    adata_copy.uns[uns_key] = qc_metrics\n",
    "    logger.info(f\"Imputation complete. QC metrics stored in `adata.uns['{uns_key}']`.\")\n",
    "\n",
    "    return adata_copy"
   ]
  },
  {
   "cell_type": "code",
   "execution_count": 76,
   "id": "a7d3b905",
   "metadata": {},
   "outputs": [],
   "source": [
    "def test_no_nans_no_change():\n",
    "    \"\"\"Test that data with no NaNs is not changed.\"\"\"\n",
    "    adata = create_test_adata(n_obs=10, n_vars=5, nan_pattern='all_valid')\n",
    "    original_X = adata.X.copy()\n",
    "\n",
    "    imputed_adata = impute_gaussian(adata)\n",
    "\n",
    "    # .X should be unchanged\n",
    "    assert np.array_equal(imputed_adata.X, original_X)\n",
    "\n",
    "    # QC metrics should reflect no imputation\n",
    "    qc_df = imputed_adata.uns['impute_gaussian_qc_metrics']\n",
    "    return qc_df\n",
    "    # assert qc_df['n_imputed'].sum() == 0\n",
    "    # assert all(len(arr) == 0 for arr in qc_df['imputed_values'])"
   ]
  },
  {
   "cell_type": "code",
   "execution_count": null,
   "id": "632a442a",
   "metadata": {},
   "outputs": [],
   "source": []
  },
  {
   "cell_type": "code",
   "execution_count": 77,
   "id": "81f37ce1",
   "metadata": {},
   "outputs": [
    {
     "name": "stdout",
     "output_type": "stream",
     "text": [
      "\u001b[32m18:31:38.15\u001b[0m | \u001b[1mINFO\u001b[0m | Storing original data in `adata.layers['unimputed']`.\n",
      "\u001b[32m18:31:38.15\u001b[0m | \u001b[1mINFO\u001b[0m | Imputation with Gaussian distribution PER PROTEIN\n",
      "\u001b[32m18:31:38.15\u001b[0m | \u001b[1mINFO\u001b[0m | Mean number of missing values per sample: 0.0 out of 5 proteins\n",
      "\u001b[32m18:31:38.15\u001b[0m | \u001b[1mINFO\u001b[0m | Mean number of missing values per protein: 0.0 out of 10 samples\n",
      "\u001b[32m18:31:38.16\u001b[0m | \u001b[1mINFO\u001b[0m | Imputation complete. QC metrics stored in `adata.uns['impute_gaussian_qc_metrics']`.\n"
     ]
    }
   ],
   "source": [
    "df = test_no_nans_no_change()"
   ]
  },
  {
   "cell_type": "code",
   "execution_count": 78,
   "id": "1513affd",
   "metadata": {},
   "outputs": [
    {
     "data": {
      "text/html": [
       "<div>\n",
       "<style scoped>\n",
       "    .dataframe tbody tr th:only-of-type {\n",
       "        vertical-align: middle;\n",
       "    }\n",
       "\n",
       "    .dataframe tbody tr th {\n",
       "        vertical-align: top;\n",
       "    }\n",
       "\n",
       "    .dataframe thead th {\n",
       "        text-align: right;\n",
       "    }\n",
       "</style>\n",
       "<table border=\"1\" class=\"dataframe\">\n",
       "  <thead>\n",
       "    <tr style=\"text-align: right;\">\n",
       "      <th></th>\n",
       "      <th>n_imputed</th>\n",
       "      <th>imputation_mean</th>\n",
       "      <th>imputation_stddev</th>\n",
       "      <th>imputed_values</th>\n",
       "    </tr>\n",
       "  </thead>\n",
       "  <tbody>\n",
       "    <tr>\n",
       "      <th>protein_0</th>\n",
       "      <td>0</td>\n",
       "      <td>1.0</td>\n",
       "      <td>0.0</td>\n",
       "      <td>NaN</td>\n",
       "    </tr>\n",
       "    <tr>\n",
       "      <th>protein_1</th>\n",
       "      <td>0</td>\n",
       "      <td>1.0</td>\n",
       "      <td>0.0</td>\n",
       "      <td>NaN</td>\n",
       "    </tr>\n",
       "    <tr>\n",
       "      <th>protein_2</th>\n",
       "      <td>0</td>\n",
       "      <td>1.0</td>\n",
       "      <td>0.0</td>\n",
       "      <td>NaN</td>\n",
       "    </tr>\n",
       "    <tr>\n",
       "      <th>protein_3</th>\n",
       "      <td>0</td>\n",
       "      <td>1.0</td>\n",
       "      <td>0.0</td>\n",
       "      <td>NaN</td>\n",
       "    </tr>\n",
       "    <tr>\n",
       "      <th>protein_4</th>\n",
       "      <td>0</td>\n",
       "      <td>1.0</td>\n",
       "      <td>0.0</td>\n",
       "      <td>NaN</td>\n",
       "    </tr>\n",
       "  </tbody>\n",
       "</table>\n",
       "</div>"
      ],
      "text/plain": [
       "          n_imputed imputation_mean imputation_stddev imputed_values\n",
       "protein_0         0             1.0               0.0            NaN\n",
       "protein_1         0             1.0               0.0            NaN\n",
       "protein_2         0             1.0               0.0            NaN\n",
       "protein_3         0             1.0               0.0            NaN\n",
       "protein_4         0             1.0               0.0            NaN"
      ]
     },
     "execution_count": 78,
     "metadata": {},
     "output_type": "execute_result"
    }
   ],
   "source": [
    "df"
   ]
  },
  {
   "cell_type": "code",
   "execution_count": null,
   "id": "fcd0fb22",
   "metadata": {},
   "outputs": [],
   "source": []
  }
 ],
 "metadata": {
  "kernelspec": {
   "display_name": "dev-sdata",
   "language": "python",
   "name": "python3"
  },
  "language_info": {
   "codemirror_mode": {
    "name": "ipython",
    "version": 3
   },
   "file_extension": ".py",
   "mimetype": "text/x-python",
   "name": "python",
   "nbconvert_exporter": "python",
   "pygments_lexer": "ipython3",
   "version": "3.13.5"
  }
 },
 "nbformat": 4,
 "nbformat_minor": 5
}
