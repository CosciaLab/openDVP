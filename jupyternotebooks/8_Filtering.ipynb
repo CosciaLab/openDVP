{
 "cells": [
  {
   "cell_type": "code",
   "execution_count": 23,
   "metadata": {},
   "outputs": [
    {
     "data": {
      "text/plain": [
       "AnnData object with n_obs × n_vars = 18 × 4531\n",
       "    obs: 'filename', 'sample_name', '384wp_row', '384wp_col', '384_wp_well', 'slide_number', 'RCN', 'replicate', 'Biopsy_type', 'CellularNeighborhood', 'shape_key', 'region'\n",
       "    var: 'Protein.Ids', 'Protein.Names', 'First.Protein.Description', 'Protein.Group'\n",
       "    uns: 'spatialdata_attrs'"
      ]
     },
     "execution_count": 23,
     "metadata": {},
     "output_type": "execute_result"
    }
   ],
   "source": [
    "sdata.tables[\"proteomics\"]"
   ]
  },
  {
   "cell_type": "code",
   "execution_count": null,
   "metadata": {},
   "outputs": [],
   "source": []
  },
  {
   "cell_type": "code",
   "execution_count": 2,
   "metadata": {},
   "outputs": [],
   "source": [
    "#imports\n",
    "import spatialdata as sd\n",
    "import pandas as pd\n",
    "import anndata as ad\n",
    "from loguru import logger\n",
    "import time\n",
    "import napari_spatialdata"
   ]
  },
  {
   "cell_type": "markdown",
   "metadata": {},
   "source": [
    "# Load dataset"
   ]
  },
  {
   "cell_type": "code",
   "execution_count": 3,
   "metadata": {},
   "outputs": [],
   "source": [
    "#paths\n",
    "sdata_big = \"../data/sdata/20241201_1730_sdata_fullres.zarr\"\n",
    "path_to_imaging_table = \"/Users/jnimoca/Jose_BI/4_Projects/P26_BCCN/P26E10_ImageAnalysis/data/processed/20241002_991.h5ad\"\n",
    "path_to_raw_imaging_data = \"/Volumes/Extreme SSD/P26_BCCN/P26E07_E08_E09_SOPA_Gates/quantification/991.csv\""
   ]
  },
  {
   "cell_type": "code",
   "execution_count": 4,
   "metadata": {},
   "outputs": [
    {
     "name": "stderr",
     "output_type": "stream",
     "text": [
      "/opt/homebrew/Caskroom/mambaforge/base/envs/spatialdata/lib/python3.10/site-packages/zarr/creation.py:614: UserWarning: ignoring keyword argument 'read_only'\n",
      "  compressor, fill_value = _kwargs_compat(compressor, fill_value, kwargs)\n",
      "/opt/homebrew/Caskroom/mambaforge/base/envs/spatialdata/lib/python3.10/site-packages/anndata/_core/anndata.py:1758: UserWarning: Variable names are not unique. To make them unique, call `.var_names_make_unique`.\n",
      "  utils.warn_names_duplicates(\"var\")\n"
     ]
    }
   ],
   "source": [
    "# sdata = sd.read_zarr(sdata_big)\n",
    "sdata = sd.SpatialData.read(sdata_big)\n",
    "\n",
    "# imaging = pd.read_csv(path_to_raw_imaging_data)"
   ]
  },
  {
   "cell_type": "code",
   "execution_count": 6,
   "metadata": {},
   "outputs": [],
   "source": [
    "imaging.head()"
   ]
  },
  {
   "cell_type": "code",
   "execution_count": 5,
   "metadata": {},
   "outputs": [],
   "source": [
    "def read_quant(csv_data_path) -> ad.AnnData:\n",
    "    \"\"\"\n",
    "    Read the quantification data from a csv file and return an anndata object\n",
    "    :param csv_data_path: path to the csv file\n",
    "    :return: an anndata object\n",
    "    \"\"\"\n",
    "    logger.info(\" ---- read_quant : version number 1.1.0 ----\")\n",
    "    time_start = time.time()\n",
    "\n",
    "    assert csv_data_path.endswith('.csv'), \"The file should be a csv file\"\n",
    "    df = pd.read_csv(csv_data_path)\n",
    "    df.index = df.index.astype(str)\n",
    "\n",
    "    meta_columns = ['CellID', 'Y_centroid', 'X_centroid',\n",
    "        'Area', 'MajorAxisLength', 'MinorAxisLength', 'Eccentricity',\n",
    "        'Orientation', 'Extent', 'Solidity']\n",
    "    assert all([column in df.columns for column in meta_columns]), \"The metadata columns are not present in the csv file\"\n",
    "\n",
    "    metadata = df[meta_columns]\n",
    "    data = df.drop(columns=meta_columns)\n",
    "    variables = pd.DataFrame(\n",
    "        index=data.columns,\n",
    "        data={\"math\": [column_name.split(\"_\")[0] for column_name in data.columns],\n",
    "            \"marker\": [\"_\".join(column_name.split(\"_\")[1:]) for column_name in data.columns]})\n",
    "\n",
    "    adata = ad.AnnData(X=data.values, obs=metadata, var=variables)\n",
    "    logger.info(f\" {adata.shape[0]} cells and {adata.shape[1]} variables\")\n",
    "    logger.info(f\" ---- read_quant is done, took {int(time.time() - time_start)}s  ----\")\n",
    "    return adata"
   ]
  },
  {
   "cell_type": "code",
   "execution_count": 6,
   "metadata": {},
   "outputs": [
    {
     "name": "stderr",
     "output_type": "stream",
     "text": [
      "\u001b[32m2024-12-02 16:00:01.060\u001b[0m | \u001b[1mINFO    \u001b[0m | \u001b[36m__main__\u001b[0m:\u001b[36mread_quant\u001b[0m:\u001b[36m7\u001b[0m - \u001b[1m ---- read_quant : version number 1.1.0 ----\u001b[0m\n",
      "\u001b[32m2024-12-02 16:00:05.675\u001b[0m | \u001b[1mINFO    \u001b[0m | \u001b[36m__main__\u001b[0m:\u001b[36mread_quant\u001b[0m:\u001b[36m27\u001b[0m - \u001b[1m 685805 cells and 75 variables\u001b[0m\n",
      "\u001b[32m2024-12-02 16:00:05.675\u001b[0m | \u001b[1mINFO    \u001b[0m | \u001b[36m__main__\u001b[0m:\u001b[36mread_quant\u001b[0m:\u001b[36m28\u001b[0m - \u001b[1m ---- read_quant is done, took 4s  ----\u001b[0m\n"
     ]
    }
   ],
   "source": [
    "adata = read_quant(path_to_raw_imaging_data)"
   ]
  },
  {
   "cell_type": "code",
   "execution_count": null,
   "metadata": {},
   "outputs": [],
   "source": [
    "def filter_by_adataobs ( adata, key=\"Area\", label=\"Area_boolean_250\") -> ad.AnnData : "
   ]
  },
  {
   "cell_type": "code",
   "execution_count": null,
   "metadata": {},
   "outputs": [],
   "source": [
    "def check_filter (sdata, column_in_adata_to_check):\n",
    "    # plot points from column in napari interactive\n",
    "    # use shapes (from segmentation)\n",
    "    # use points (sdata.points.element)"
   ]
  },
  {
   "cell_type": "code",
   "execution_count": 7,
   "metadata": {},
   "outputs": [
    {
     "data": {
      "text/plain": [
       "SpatialData object, with associated Zarr store: /Users/jnimoca/Jose_BI/1_Pipelines/openDVP/data/sdata/20241201_1730_sdata_fullres.zarr\n",
       "├── Images\n",
       "│     └── 'image': DataArray[cyx] (15, 44470, 73167)\n",
       "├── Labels\n",
       "│     └── 'mask': DataArray[yx] (44470, 73167)\n",
       "├── Shapes\n",
       "│     └── 'Primary_contours': GeoDataFrame shape: (347, 6) (2D shapes)\n",
       "└── Tables\n",
       "      └── 'proteomics': AnnData (18, 4531)\n",
       "with coordinate systems:\n",
       "    ▸ 'global', with elements:\n",
       "        image (Images), mask (Labels), Primary_contours (Shapes)"
      ]
     },
     "execution_count": 7,
     "metadata": {},
     "output_type": "execute_result"
    }
   ],
   "source": [
    "sdata"
   ]
  },
  {
   "cell_type": "markdown",
   "metadata": {},
   "source": [
    "sdata['segmentation_mask'] = sd.to_polygons(sdata['mask'])"
   ]
  },
  {
   "cell_type": "code",
   "execution_count": 9,
   "metadata": {},
   "outputs": [],
   "source": [
    "adata.obs[\"labels\"] = \"mask\"\n",
    "adata.obs[\"labels\"] = adata.obs[\"labels\"].astype(\"category\")\n",
    "table = sd.models.TableModel.parse(adata, region = \"mask\", region_key = \"labels\", instance_key = \"CellID\")\n",
    "sdata[\"imaging\"] = table"
   ]
  },
  {
   "cell_type": "code",
   "execution_count": 10,
   "metadata": {},
   "outputs": [
    {
     "data": {
      "text/plain": [
       "SpatialData object, with associated Zarr store: /Users/jnimoca/Jose_BI/1_Pipelines/openDVP/data/sdata/20241201_1730_sdata_fullres.zarr\n",
       "├── Images\n",
       "│     └── 'image': DataArray[cyx] (15, 44470, 73167)\n",
       "├── Labels\n",
       "│     └── 'mask': DataArray[yx] (44470, 73167)\n",
       "├── Shapes\n",
       "│     └── 'Primary_contours': GeoDataFrame shape: (347, 6) (2D shapes)\n",
       "└── Tables\n",
       "      ├── 'imaging': AnnData (685805, 75)\n",
       "      └── 'proteomics': AnnData (18, 4531)\n",
       "with coordinate systems:\n",
       "    ▸ 'global', with elements:\n",
       "        image (Images), mask (Labels), Primary_contours (Shapes)\n",
       "with the following elements not in the Zarr store:\n",
       "    ▸ imaging (Tables)"
      ]
     },
     "execution_count": 10,
     "metadata": {},
     "output_type": "execute_result"
    }
   ],
   "source": [
    "sdata"
   ]
  },
  {
   "cell_type": "code",
   "execution_count": null,
   "metadata": {},
   "outputs": [
    {
     "name": "stderr",
     "output_type": "stream",
     "text": [
      "/opt/homebrew/Caskroom/mambaforge/base/envs/spatialdata/lib/python3.10/site-packages/anndata/_core/anndata.py:1758: UserWarning: Variable names are not unique. To make them unique, call `.var_names_make_unique`.\n",
      "  utils.warn_names_duplicates(\"var\")\n",
      "/opt/homebrew/Caskroom/mambaforge/base/envs/spatialdata/lib/python3.10/site-packages/anndata/_core/aligned_df.py:68: ImplicitModificationWarning: Transforming to str index.\n",
      "  warnings.warn(\"Transforming to str index.\", ImplicitModificationWarning)\n",
      "/opt/homebrew/Caskroom/mambaforge/base/envs/spatialdata/lib/python3.10/site-packages/napari/_vispy/layers/scalar_field.py:199: UserWarning: data shape (44470, 73167) exceeds GL_MAX_TEXTURE_SIZE 16384 in at least one axis and will be downsampled. Rendering is currently in 2D mode.\n",
      "  warnings.warn(\n",
      "\u001b[32m2024-12-02 16:02:22.683\u001b[0m | \u001b[1mINFO    \u001b[0m | \u001b[36mnapari_spatialdata._view\u001b[0m:\u001b[36m_on_layer_update\u001b[0m:\u001b[36m355\u001b[0m - \u001b[1mUpdating layer.\u001b[0m\n",
      "\u001b[32m2024-12-02 16:02:22.683\u001b[0m | \u001b[1mINFO    \u001b[0m | \u001b[36mnapari_spatialdata._view\u001b[0m:\u001b[36m_on_layer_update\u001b[0m:\u001b[36m355\u001b[0m - \u001b[1mUpdating layer.\u001b[0m\n",
      "\u001b[32m2024-12-02 16:02:23.982\u001b[0m | \u001b[1mINFO    \u001b[0m | \u001b[36mnapari_spatialdata._view\u001b[0m:\u001b[36m_on_layer_update\u001b[0m:\u001b[36m355\u001b[0m - \u001b[1mUpdating layer.\u001b[0m\n",
      "\u001b[32m2024-12-02 16:02:26.534\u001b[0m | \u001b[1mINFO    \u001b[0m | \u001b[36mnapari_spatialdata._view\u001b[0m:\u001b[36m_on_layer_update\u001b[0m:\u001b[36m355\u001b[0m - \u001b[1mUpdating layer.\u001b[0m\n",
      "\u001b[32m2024-12-02 16:02:26.536\u001b[0m | \u001b[1mINFO    \u001b[0m | \u001b[36mnapari_spatialdata._view\u001b[0m:\u001b[36m_on_layer_update\u001b[0m:\u001b[36m355\u001b[0m - \u001b[1mUpdating layer.\u001b[0m\n",
      "/opt/homebrew/Caskroom/mambaforge/base/envs/spatialdata/lib/python3.10/site-packages/napari/_vispy/layers/scalar_field.py:199: UserWarning: data shape (44470, 73167) exceeds GL_MAX_TEXTURE_SIZE 16384 in at least one axis and will be downsampled. Rendering is currently in 2D mode.\n",
      "  warnings.warn(\n",
      "\u001b[32m2024-12-02 16:03:10.754\u001b[0m | \u001b[1mINFO    \u001b[0m | \u001b[36mnapari_spatialdata._view\u001b[0m:\u001b[36m_on_layer_update\u001b[0m:\u001b[36m355\u001b[0m - \u001b[1mUpdating layer.\u001b[0m\n",
      "\u001b[32m2024-12-02 16:03:10.758\u001b[0m | \u001b[1mINFO    \u001b[0m | \u001b[36mnapari_spatialdata._view\u001b[0m:\u001b[36m_on_layer_update\u001b[0m:\u001b[36m355\u001b[0m - \u001b[1mUpdating layer.\u001b[0m\n",
      "\u001b[32m2024-12-02 16:03:18.720\u001b[0m | \u001b[1mINFO    \u001b[0m | \u001b[36mnapari_spatialdata._view\u001b[0m:\u001b[36m_on_layer_update\u001b[0m:\u001b[36m355\u001b[0m - \u001b[1mUpdating layer.\u001b[0m\n",
      "/opt/homebrew/Caskroom/mambaforge/base/envs/spatialdata/lib/python3.10/site-packages/napari/_vispy/layers/scalar_field.py:199: UserWarning: data shape (44470, 73167) exceeds GL_MAX_TEXTURE_SIZE 16384 in at least one axis and will be downsampled. Rendering is currently in 2D mode.\n",
      "  warnings.warn(\n",
      "/opt/homebrew/Caskroom/mambaforge/base/envs/spatialdata/lib/python3.10/site-packages/napari/_vispy/layers/scalar_field.py:199: UserWarning: data shape (44470, 73167) exceeds GL_MAX_TEXTURE_SIZE 16384 in at least one axis and will be downsampled. Rendering is currently in 2D mode.\n",
      "  warnings.warn(\n",
      "/opt/homebrew/Caskroom/mambaforge/base/envs/spatialdata/lib/python3.10/site-packages/napari/_vispy/layers/scalar_field.py:199: UserWarning: data shape (44470, 73167) exceeds GL_MAX_TEXTURE_SIZE 16384 in at least one axis and will be downsampled. Rendering is currently in 2D mode.\n",
      "  warnings.warn(\n",
      "\u001b[32m2024-12-02 16:17:02.080\u001b[0m | \u001b[1mINFO    \u001b[0m | \u001b[36mnapari_spatialdata._view\u001b[0m:\u001b[36m_on_layer_update\u001b[0m:\u001b[36m355\u001b[0m - \u001b[1mUpdating layer.\u001b[0m\n",
      "\u001b[32m2024-12-02 16:17:22.590\u001b[0m | \u001b[1mINFO    \u001b[0m | \u001b[36mnapari_spatialdata._view\u001b[0m:\u001b[36m_on_layer_update\u001b[0m:\u001b[36m355\u001b[0m - \u001b[1mUpdating layer.\u001b[0m\n",
      "\u001b[32m2024-12-02 16:17:33.419\u001b[0m | \u001b[1mINFO    \u001b[0m | \u001b[36mnapari_spatialdata._view\u001b[0m:\u001b[36m_on_layer_update\u001b[0m:\u001b[36m355\u001b[0m - \u001b[1mUpdating layer.\u001b[0m\n",
      "/opt/homebrew/Caskroom/mambaforge/base/envs/spatialdata/lib/python3.10/site-packages/napari/_vispy/layers/scalar_field.py:199: UserWarning: data shape (44470, 73167) exceeds GL_MAX_TEXTURE_SIZE 16384 in at least one axis and will be downsampled. Rendering is currently in 2D mode.\n",
      "  warnings.warn(\n"
     ]
    }
   ],
   "source": [
    "import napari_spatialdata\n",
    "interactive = napari_spatialdata.Interactive(sdata)\n",
    "interactive.run()"
   ]
  },
  {
   "cell_type": "code",
   "execution_count": null,
   "metadata": {},
   "outputs": [
    {
     "name": "stdout",
     "output_type": "stream",
     "text": [
      "0.2.5.post0\n"
     ]
    },
    {
     "name": "stderr",
     "output_type": "stream",
     "text": [
      "/opt/homebrew/Caskroom/mambaforge/base/envs/spatialdata/lib/python3.10/site-packages/anndata/_core/aligned_df.py:68: ImplicitModificationWarning: Transforming to str index.\n",
      "  warnings.warn(\"Transforming to str index.\", ImplicitModificationWarning)\n",
      "/opt/homebrew/Caskroom/mambaforge/base/envs/spatialdata/lib/python3.10/site-packages/napari/_vispy/layers/scalar_field.py:199: UserWarning: data shape (44470, 73167) exceeds GL_MAX_TEXTURE_SIZE 16384 in at least one axis and will be downsampled. Rendering is currently in 2D mode.\n",
      "  warnings.warn(\n",
      "\u001b[32m2024-12-02 15:48:58.190\u001b[0m | \u001b[1mINFO    \u001b[0m | \u001b[36mnapari_spatialdata._view\u001b[0m:\u001b[36m_on_layer_update\u001b[0m:\u001b[36m355\u001b[0m - \u001b[1mUpdating layer.\u001b[0m\n",
      "\u001b[32m2024-12-02 15:48:58.192\u001b[0m | \u001b[1mINFO    \u001b[0m | \u001b[36mnapari_spatialdata._view\u001b[0m:\u001b[36m_on_layer_update\u001b[0m:\u001b[36m355\u001b[0m - \u001b[1mUpdating layer.\u001b[0m\n",
      "/opt/homebrew/Caskroom/mambaforge/base/envs/spatialdata/lib/python3.10/site-packages/anndata/_core/anndata.py:1756: UserWarning: Observation names are not unique. To make them unique, call `.obs_names_make_unique`.\n",
      "  utils.warn_names_duplicates(\"obs\")\n",
      "/opt/homebrew/Caskroom/mambaforge/base/envs/spatialdata/lib/python3.10/site-packages/anndata/_core/anndata.py:1758: UserWarning: Variable names are not unique. To make them unique, call `.var_names_make_unique`.\n",
      "  utils.warn_names_duplicates(\"var\")\n",
      "\u001b[32m2024-12-02 15:49:12.983\u001b[0m | \u001b[1mINFO    \u001b[0m | \u001b[36mnapari_spatialdata._view\u001b[0m:\u001b[36m_on_layer_update\u001b[0m:\u001b[36m355\u001b[0m - \u001b[1mUpdating layer.\u001b[0m\n",
      "\u001b[32m2024-12-02 15:49:12.986\u001b[0m | \u001b[1mINFO    \u001b[0m | \u001b[36mnapari_spatialdata._view\u001b[0m:\u001b[36m_on_layer_update\u001b[0m:\u001b[36m355\u001b[0m - \u001b[1mUpdating layer.\u001b[0m\n",
      "/opt/homebrew/Caskroom/mambaforge/base/envs/spatialdata/lib/python3.10/site-packages/anndata/_core/anndata.py:1758: UserWarning: Variable names are not unique. To make them unique, call `.var_names_make_unique`.\n",
      "  utils.warn_names_duplicates(\"var\")\n",
      "\u001b[32m2024-12-02 15:49:13.024\u001b[0m | \u001b[1mINFO    \u001b[0m | \u001b[36mnapari_spatialdata._view\u001b[0m:\u001b[36m_on_layer_update\u001b[0m:\u001b[36m355\u001b[0m - \u001b[1mUpdating layer.\u001b[0m\n",
      "/opt/homebrew/Caskroom/mambaforge/base/envs/spatialdata/lib/python3.10/site-packages/anndata/_core/anndata.py:1758: UserWarning: Variable names are not unique. To make them unique, call `.var_names_make_unique`.\n",
      "  utils.warn_names_duplicates(\"var\")\n",
      "\u001b[32m2024-12-02 15:49:52.313\u001b[0m | \u001b[1mINFO    \u001b[0m | \u001b[36mnapari_spatialdata._viewer\u001b[0m:\u001b[36madd_sdata_shapes\u001b[0m:\u001b[36m570\u001b[0m - \u001b[1mMultipolygons are present in the data. Only the largest polygon per cell is retained.\u001b[0m\n"
     ]
    },
    {
     "ename": "",
     "evalue": "",
     "output_type": "error",
     "traceback": [
      "\u001b[1;31mThe Kernel crashed while executing code in the current cell or a previous cell. \n",
      "\u001b[1;31mPlease review the code in the cell(s) to identify a possible cause of the failure. \n",
      "\u001b[1;31mClick <a href='https://aka.ms/vscodeJupyterKernelCrash'>here</a> for more info. \n",
      "\u001b[1;31mView Jupyter <a href='command:jupyter.viewOutput'>log</a> for further details."
     ]
    }
   ],
   "source": [
    "print(sd.__version__)"
   ]
  }
 ],
 "metadata": {
  "kernelspec": {
   "display_name": "spatialdata",
   "language": "python",
   "name": "python3"
  },
  "language_info": {
   "codemirror_mode": {
    "name": "ipython",
    "version": 3
   },
   "file_extension": ".py",
   "mimetype": "text/x-python",
   "name": "python",
   "nbconvert_exporter": "python",
   "pygments_lexer": "ipython3",
   "version": "3.10.0"
  }
 },
 "nbformat": 4,
 "nbformat_minor": 2
}
