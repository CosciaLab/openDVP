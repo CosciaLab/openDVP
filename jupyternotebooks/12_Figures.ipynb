{
 "cells": [
  {
   "cell_type": "code",
   "execution_count": 4,
   "metadata": {},
   "outputs": [
    {
     "name": "stderr",
     "output_type": "stream",
     "text": [
      "/opt/homebrew/Caskroom/mambaforge/base/envs/spatialdata/lib/python3.12/site-packages/dask/dataframe/__init__.py:31: FutureWarning: The legacy Dask DataFrame implementation is deprecated and will be removed in a future version. Set the configuration option `dataframe.query-planning` to `True` or None to enable the new Dask Dataframe implementation and silence this warning.\n",
      "  warnings.warn(\n"
     ]
    },
    {
     "name": "stdout",
     "output_type": "stream",
     "text": [
      "spatialdata: 0.3.0\n",
      "napari_spatialdata: 0.5.5\n"
     ]
    }
   ],
   "source": [
    "import spatialdata\n",
    "import spatialdata_plot\n",
    "import dask_image.imread\n",
    "import dask.array as da\n",
    "import napari_spatialdata\n",
    "import matplotlib.pyplot as plt\n",
    "from matplotlib import patches\n",
    "import matplotlib.colors as mcolors\n",
    "\n",
    "import geopandas as gpd\n",
    "import anndata as ad\n",
    "import numpy as np\n",
    "import anndata as ad\n",
    "from loguru import logger\n",
    "\n",
    "import sys, os\n",
    "sys.path.append(os.path.abspath(\"../src/opendvp/\"))\n",
    "\n",
    "for package in [spatialdata, napari_spatialdata]:\n",
    "    print(f\"{package.__name__}: {package.__version__}\")"
   ]
  },
  {
   "cell_type": "code",
   "execution_count": 2,
   "metadata": {},
   "outputs": [
    {
     "name": "stdout",
     "output_type": "stream",
     "text": [
      "# packages in environment at /opt/homebrew/Caskroom/mambaforge/base/envs/spatialdata:\n",
      "#\n",
      "# Name                    Version                   Build  Channel\n",
      "aiobotocore               2.5.4                    pypi_0    pypi\n",
      "aiohappyeyeballs          2.4.6              pyhd8ed1ab_0    conda-forge\n",
      "aiohttp                   3.11.13         py312h998013c_0    conda-forge\n",
      "aioitertools              0.12.0                   pypi_0    pypi\n",
      "aiosignal                 1.3.2              pyhd8ed1ab_0    conda-forge\n",
      "alabaster                 1.0.0              pyhd8ed1ab_1    conda-forge\n",
      "anndata                   0.11.3             pyhd8ed1ab_0    conda-forge\n",
      "annotated-types           0.7.0              pyhd8ed1ab_1    conda-forge\n",
      "aom                       3.9.1                h7bae524_0    conda-forge\n",
      "app-model                 0.3.0              pyhd8ed1ab_0    conda-forge\n",
      "appdirs                   1.4.4              pyhd8ed1ab_1    conda-forge\n",
      "appnope                   0.1.4              pyhd8ed1ab_1    conda-forge\n",
      "array-api-compat          1.10.0             pyhd8ed1ab_0    conda-forge\n",
      "asciitree                 0.3.3                      py_2    conda-forge\n",
      "asttokens                 3.0.0              pyhd8ed1ab_1    conda-forge\n",
      "attrs                     25.1.0             pyh71513ae_0    conda-forge\n",
      "aws-c-auth                0.8.1                hfc2798a_0    conda-forge\n",
      "aws-c-cal                 0.8.1                hc8a0bd2_3    conda-forge\n",
      "aws-c-common              0.10.6               h5505292_0    conda-forge\n",
      "aws-c-compression         0.3.0                hc8a0bd2_5    conda-forge\n",
      "aws-c-event-stream        0.5.0               h54f970a_11    conda-forge\n",
      "aws-c-http                0.9.2                h96aa502_4    conda-forge\n",
      "aws-c-io                  0.15.3               haba67d1_6    conda-forge\n",
      "aws-c-mqtt                0.11.0              h24f418c_12    conda-forge\n",
      "aws-c-s3                  0.7.9                hf37e03c_1    conda-forge\n",
      "aws-c-sdkutils            0.2.2                hc8a0bd2_0    conda-forge\n",
      "aws-checksums             0.2.2                hc8a0bd2_4    conda-forge\n",
      "aws-crt-cpp               0.29.9               ha81f72f_2    conda-forge\n",
      "aws-sdk-cpp               1.11.489             h0e5014b_0    conda-forge\n",
      "azure-core-cpp            1.14.0               hd50102c_0    conda-forge\n",
      "azure-identity-cpp        1.10.0               hc602bab_0    conda-forge\n",
      "azure-storage-blobs-cpp   12.13.0              h7585a09_1    conda-forge\n",
      "azure-storage-common-cpp  12.8.0               h9ca1f76_1    conda-forge\n",
      "azure-storage-files-datalake-cpp 12.12.0              hcdd55da_1    conda-forge\n",
      "babel                     2.17.0             pyhd8ed1ab_0    conda-forge\n",
      "backports                 1.0                pyhd8ed1ab_5    conda-forge\n",
      "backports.tarfile         1.2.0              pyhd8ed1ab_1    conda-forge\n",
      "blosc                     1.21.6               h7dd00d9_1    conda-forge\n",
      "bokeh                     3.6.3              pyhd8ed1ab_0    conda-forge\n",
      "botocore                  1.31.17                  pypi_0    pypi\n",
      "branca                    0.8.1              pyhd8ed1ab_0    conda-forge\n",
      "brotli                    1.1.0                hd74edd7_2    conda-forge\n",
      "brotli-bin                1.1.0                hd74edd7_2    conda-forge\n",
      "brotli-python             1.1.0           py312hde4cb15_2    conda-forge\n",
      "brunsli                   0.1                  h9f76cd9_0    conda-forge\n",
      "bzip2                     1.0.8                h99b78c6_7    conda-forge\n",
      "c-ares                    1.34.4               h5505292_0    conda-forge\n",
      "c-blosc2                  2.15.2               h9cbb436_1    conda-forge\n",
      "ca-certificates           2025.1.31            hf0a4a13_0    conda-forge\n",
      "cachecontrol              0.14.2             pyha770c72_0    conda-forge\n",
      "cachecontrol-with-filecache 0.14.2             pyhd8ed1ab_0    conda-forge\n",
      "cached-property           1.5.2                hd8ed1ab_1    conda-forge\n",
      "cached_property           1.5.2              pyha770c72_1    conda-forge\n",
      "cachey                    0.2.1              pyh9f0ad1d_0    conda-forge\n",
      "cachy                     0.3.0              pyhd8ed1ab_2    conda-forge\n",
      "certifi                   2025.1.31          pyhd8ed1ab_0    conda-forge\n",
      "cffi                      1.17.1          py312h0fad829_0    conda-forge\n",
      "charls                    2.4.2                h13dd4ca_0    conda-forge\n",
      "charset-normalizer        3.4.1              pyhd8ed1ab_0    conda-forge\n",
      "click                     8.1.8              pyh707e725_0    conda-forge\n",
      "click-default-group       1.2.4              pyhd8ed1ab_1    conda-forge\n",
      "clikit                    0.6.2              pyhd8ed1ab_3    conda-forge\n",
      "cloudpickle               3.1.1              pyhd8ed1ab_0    conda-forge\n",
      "colorama                  0.4.6              pyhd8ed1ab_1    conda-forge\n",
      "colorcet                  3.1.0              pyhd8ed1ab_1    conda-forge\n",
      "comm                      0.2.2              pyhd8ed1ab_1    conda-forge\n",
      "conda-lock                2.5.7              pyhd8ed1ab_1    conda-forge\n",
      "contourpy                 1.3.1           py312hb23fbb9_0    conda-forge\n",
      "cpython                   3.12.9          py312hd8ed1ab_0    conda-forge\n",
      "crashtest                 0.4.1              pyhd8ed1ab_1    conda-forge\n",
      "cycler                    0.12.1             pyhd8ed1ab_1    conda-forge\n",
      "cytoolz                   1.0.1           py312hea69d52_0    conda-forge\n",
      "dask                      2024.11.2                pypi_0    pypi\n",
      "dask-expr                 1.1.19                   pypi_0    pypi\n",
      "dask-image                2024.5.3           pyhd8ed1ab_0    conda-forge\n",
      "datashader                0.17.0             pyhd8ed1ab_0    conda-forge\n",
      "dav1d                     1.2.1                hb547adb_0    conda-forge\n",
      "debugpy                   1.8.12          py312hd8f9ff3_0    conda-forge\n",
      "decorator                 5.2.1              pyhd8ed1ab_0    conda-forge\n",
      "deprecated                1.2.18             pyhd8ed1ab_0    conda-forge\n",
      "distlib                   0.3.9              pyhd8ed1ab_1    conda-forge\n",
      "distributed               2024.11.2                pypi_0    pypi\n",
      "docstring_parser          0.16               pyhd8ed1ab_0    conda-forge\n",
      "docutils                  0.21.2             pyhd8ed1ab_1    conda-forge\n",
      "ensureconda               1.4.4              pyhd8ed1ab_1    conda-forge\n",
      "exceptiongroup            1.2.2              pyhd8ed1ab_1    conda-forge\n",
      "executing                 2.1.0              pyhd8ed1ab_1    conda-forge\n",
      "fasteners                 0.19               pyhd8ed1ab_1    conda-forge\n",
      "fcsparser                 0.2.8              pyhd8ed1ab_0    conda-forge\n",
      "filelock                  3.17.0             pyhd8ed1ab_0    conda-forge\n",
      "flexcache                 0.3                pyhd8ed1ab_1    conda-forge\n",
      "flexparser                0.4                pyhd8ed1ab_1    conda-forge\n",
      "folium                    0.19.4             pyhd8ed1ab_0    conda-forge\n",
      "font-ttf-dejavu-sans-mono 2.37                 hab24e00_0    conda-forge\n",
      "font-ttf-inconsolata      3.000                h77eed37_0    conda-forge\n",
      "font-ttf-source-code-pro  2.038                h77eed37_0    conda-forge\n",
      "font-ttf-ubuntu           0.83                 h77eed37_3    conda-forge\n",
      "fontconfig                2.15.0               h1383a14_1    conda-forge\n",
      "fonts-conda-ecosystem     1                             0    conda-forge\n",
      "fonts-conda-forge         1                             0    conda-forge\n",
      "fonttools                 4.56.0          py312h998013c_0    conda-forge\n",
      "freetype                  2.12.1               hadb7bae_2    conda-forge\n",
      "freetype-py               2.5.1              pyhd8ed1ab_1    conda-forge\n",
      "freexl                    2.0.0                h3ab3353_2    conda-forge\n",
      "frozenlist                1.5.0           py312h998013c_1    conda-forge\n",
      "fsspec                    2023.6.0           pyh1a96a4e_0    conda-forge\n",
      "geopandas                 1.0.1              pyhd8ed1ab_3    conda-forge\n",
      "geopandas-base            1.0.1              pyha770c72_3    conda-forge\n",
      "geos                      3.13.0               hf9b8971_0    conda-forge\n",
      "geotiff                   1.7.4                hbef4fa4_0    conda-forge\n",
      "gflags                    2.2.2             hf9b8971_1005    conda-forge\n",
      "giflib                    5.2.2                h93a5062_0    conda-forge\n",
      "gitdb                     4.0.12             pyhd8ed1ab_0    conda-forge\n",
      "gitpython                 3.1.44             pyhff2d567_0    conda-forge\n",
      "glog                      0.7.1                heb240a5_0    conda-forge\n",
      "gmp                       6.3.0                h7bae524_2    conda-forge\n",
      "gmpy2                     2.1.5           py312h524cf62_3    conda-forge\n",
      "h2                        4.2.0              pyhd8ed1ab_0    conda-forge\n",
      "h5py                      3.13.0          nompi_py312hd7c5113_100    conda-forge\n",
      "hdf5                      1.14.3          nompi_ha698983_109    conda-forge\n",
      "heapdict                  1.0.1              pyhd8ed1ab_2    conda-forge\n",
      "hpack                     4.1.0              pyhd8ed1ab_0    conda-forge\n",
      "hsluv                     5.0.4              pyhd8ed1ab_1    conda-forge\n",
      "html5lib                  1.1                pyhd8ed1ab_2    conda-forge\n",
      "hyperframe                6.1.0              pyhd8ed1ab_0    conda-forge\n",
      "icu                       75.1                 hfee45f7_0    conda-forge\n",
      "idna                      3.10               pyhd8ed1ab_1    conda-forge\n",
      "imagecodecs               2024.12.30      py312h8857d0e_0    conda-forge\n",
      "imageio                   2.37.0             pyhfb79c49_0    conda-forge\n",
      "imagesize                 1.4.1              pyhd8ed1ab_0    conda-forge\n",
      "importlib-metadata        8.6.1              pyha770c72_0    conda-forge\n",
      "importlib_resources       6.5.2              pyhd8ed1ab_0    conda-forge\n",
      "in-n-out                  0.2.1              pyhd8ed1ab_1    conda-forge\n",
      "ipykernel                 6.29.5             pyh57ce528_0    conda-forge\n",
      "ipython                   8.32.0             pyh907856f_0    conda-forge\n",
      "jaraco.classes            3.4.0              pyhd8ed1ab_2    conda-forge\n",
      "jaraco.context            6.0.1              pyhd8ed1ab_0    conda-forge\n",
      "jaraco.functools          4.1.0              pyhd8ed1ab_0    conda-forge\n",
      "jedi                      0.19.2             pyhd8ed1ab_1    conda-forge\n",
      "jinja2                    3.1.5              pyhd8ed1ab_0    conda-forge\n",
      "jmespath                  1.0.1                    pypi_0    pypi\n",
      "joblib                    1.4.2              pyhd8ed1ab_1    conda-forge\n",
      "json-c                    0.18                 he4178ee_0    conda-forge\n",
      "jsonschema                4.23.0             pyhd8ed1ab_1    conda-forge\n",
      "jsonschema-specifications 2024.10.1          pyhd8ed1ab_1    conda-forge\n",
      "jupyter_client            8.6.3              pyhd8ed1ab_1    conda-forge\n",
      "jupyter_core              5.7.2              pyh31011fe_1    conda-forge\n",
      "jxrlib                    1.1                  h93a5062_3    conda-forge\n",
      "keyring                   25.6.0             pyh534df25_0    conda-forge\n",
      "kiwisolver                1.4.8           py312h2c4a281_0    conda-forge\n",
      "krb5                      1.21.3               h237132a_0    conda-forge\n",
      "lamin_utils               0.13.10            pyhd8ed1ab_0    conda-forge\n",
      "lazy-loader               0.4                pyhd8ed1ab_2    conda-forge\n",
      "lazy_loader               0.4                pyhd8ed1ab_2    conda-forge\n",
      "lcms2                     2.17                 h7eeda09_0    conda-forge\n",
      "legacy-api-wrap           1.4.1              pyhd8ed1ab_0    conda-forge\n",
      "lerc                      4.0.0                h9a09cb3_0    conda-forge\n",
      "libabseil                 20240722.0      cxx17_h07bc746_4    conda-forge\n",
      "libaec                    1.1.3                hebf3989_0    conda-forge\n",
      "libarchive                3.7.7                h3b16cec_3    conda-forge\n",
      "libarrow                  19.0.1           h0945df6_0_cpu    conda-forge\n",
      "libarrow-acero            19.0.1           hf07054f_0_cpu    conda-forge\n",
      "libarrow-dataset          19.0.1           hf07054f_0_cpu    conda-forge\n",
      "libarrow-substrait        19.0.1           h4239455_0_cpu    conda-forge\n",
      "libavif16                 1.1.1                hf9d1e0e_3    conda-forge\n",
      "libblas                   3.9.0           31_h10e41b3_openblas    conda-forge\n",
      "libbrotlicommon           1.1.0                hd74edd7_2    conda-forge\n",
      "libbrotlidec              1.1.0                hd74edd7_2    conda-forge\n",
      "libbrotlienc              1.1.0                hd74edd7_2    conda-forge\n",
      "libcblas                  3.9.0           31_hb3479ef_openblas    conda-forge\n",
      "libcrc32c                 1.1.2                hbdafb3b_0    conda-forge\n",
      "libcurl                   8.12.1               h73640d1_0    conda-forge\n",
      "libcxx                    19.1.7               ha82da77_0    conda-forge\n",
      "libde265                  1.0.15               h2ffa867_0    conda-forge\n",
      "libdeflate                1.23                 hec38601_0    conda-forge\n",
      "libedit                   3.1.20250104    pl5321hafb1f1b_0    conda-forge\n",
      "libev                     4.33                 h93a5062_2    conda-forge\n",
      "libevent                  2.1.12               h2757513_1    conda-forge\n",
      "libexpat                  2.6.4                h286801f_0    conda-forge\n",
      "libffi                    3.4.2                h3422bc3_5    conda-forge\n",
      "libgdal-core              3.10.2               h9ef0d2d_0    conda-forge\n",
      "libgfortran               5.0.0           13_2_0_hd922786_3    conda-forge\n",
      "libgfortran5              13.2.0               hf226fd6_3    conda-forge\n",
      "libgoogle-cloud           2.35.0               hdbe95d5_0    conda-forge\n",
      "libgoogle-cloud-storage   2.35.0               h7081f7f_0    conda-forge\n",
      "libgrpc                   1.67.1               h0a426d6_1    conda-forge\n",
      "libheif                   1.19.5          gpl_h297b2c4_100    conda-forge\n",
      "libhwloc                  2.11.2          default_hbce5d74_1001    conda-forge\n",
      "libhwy                    1.1.0                h2ffa867_0    conda-forge\n",
      "libiconv                  1.18                 hfe07756_1    conda-forge\n",
      "libjpeg-turbo             3.0.0                hb547adb_1    conda-forge\n",
      "libjxl                    0.11.1               h562e088_0    conda-forge\n",
      "libkml                    1.3.0             he250239_1021    conda-forge\n",
      "liblapack                 3.9.0           31_hc9a63f6_openblas    conda-forge\n",
      "libllvm15                 15.0.7               h4429f82_5    conda-forge\n",
      "liblzma                   5.6.4                h39f12f2_0    conda-forge\n",
      "libnghttp2                1.64.0               h6d7220d_0    conda-forge\n",
      "libopenblas               0.3.29          openmp_hf332438_0    conda-forge\n",
      "libopentelemetry-cpp      1.18.0               h0c05b2d_1    conda-forge\n",
      "libopentelemetry-cpp-headers 1.18.0               hce30654_1    conda-forge\n",
      "libparquet                19.0.1           h636d7b7_0_cpu    conda-forge\n",
      "libpng                    1.6.47               h3783ad8_0    conda-forge\n",
      "libprotobuf               5.28.3               h3bd63a1_1    conda-forge\n",
      "libre2-11                 2024.07.02           h07bc746_2    conda-forge\n",
      "librttopo                 1.1.0               ha2cf0f4_17    conda-forge\n",
      "libsodium                 1.0.20               h99b78c6_0    conda-forge\n",
      "libspatialite             5.1.0               hf92fc0a_12    conda-forge\n",
      "libsqlite                 3.49.1               h3f77e49_1    conda-forge\n",
      "libssh2                   1.11.1               h9cc3647_0    conda-forge\n",
      "libthrift                 0.21.0               h64651cc_0    conda-forge\n",
      "libtiff                   4.7.0                h551f018_3    conda-forge\n",
      "libtorch                  2.6.0           cpu_generic_h42a3e93_0    conda-forge\n",
      "libutf8proc               2.10.0               hda25de7_0    conda-forge\n",
      "libuv                     1.50.0               h5505292_0    conda-forge\n",
      "libwebp-base              1.5.0                h2471fea_0    conda-forge\n",
      "libxcb                    1.17.0               hdb1d25a_0    conda-forge\n",
      "libxml2                   2.13.6               h178c5d8_0    conda-forge\n",
      "libzlib                   1.3.1                h8359307_2    conda-forge\n",
      "libzopfli                 1.0.3                h9f76cd9_0    conda-forge\n",
      "llvm-openmp               19.1.7               hdb05f8b_0    conda-forge\n",
      "llvmlite                  0.44.0          py312h728bc31_0    conda-forge\n",
      "locket                    1.0.0              pyhd8ed1ab_0    conda-forge\n",
      "loguru                    0.7.2           py312h81bd7bf_2    conda-forge\n",
      "lz4                       4.3.3           py312hf263c89_2    conda-forge\n",
      "lz4-c                     1.10.0               h286801f_1    conda-forge\n",
      "lzo                       2.10              h93a5062_1001    conda-forge\n",
      "magicgui                  0.10.0             pyhd8ed1ab_0    conda-forge\n",
      "mapclassify               2.8.1              pyhd8ed1ab_1    conda-forge\n",
      "markdown-it-py            3.0.0              pyhd8ed1ab_1    conda-forge\n",
      "markupsafe                3.0.2           py312h998013c_1    conda-forge\n",
      "matplotlib-base           3.10.0          py312hdbc7e53_0    conda-forge\n",
      "matplotlib-inline         0.1.7              pyhd8ed1ab_1    conda-forge\n",
      "matplotlib-scalebar       0.9.0              pyhd8ed1ab_0    conda-forge\n",
      "mdurl                     0.1.2              pyhd8ed1ab_1    conda-forge\n",
      "minizip                   4.0.7                hff1a8ea_3    conda-forge\n",
      "more-itertools            10.6.0             pyhd8ed1ab_0    conda-forge\n",
      "mpc                       1.3.1                h8f1351a_1    conda-forge\n",
      "mpfr                      4.2.1                hb693164_3    conda-forge\n",
      "mpmath                    1.3.0              pyhd8ed1ab_1    conda-forge\n",
      "msgpack-python            1.1.0           py312h6142ec9_0    conda-forge\n",
      "multidict                 6.1.0           py312hdb8e49c_1    conda-forge\n",
      "multipledispatch          0.6.0              pyhd8ed1ab_1    conda-forge\n",
      "multiscale-spatial-image  2.0.2                    pypi_0    pypi\n",
      "munkres                   1.1.4              pyh9f0ad1d_0    conda-forge\n",
      "napari                    0.5.6              pyhd8ed1ab_0    conda-forge\n",
      "napari-base               0.5.6              pyh9208f05_0    conda-forge\n",
      "napari-console            0.1.3              pyh73487a3_0    conda-forge\n",
      "napari-matplotlib         3.0.0              pyh73487a3_0    conda-forge\n",
      "napari-plugin-engine      0.2.0              pyha07c04f_3    conda-forge\n",
      "napari-plugin-manager     0.1.4              pyha07c04f_0    conda-forge\n",
      "napari-spatialdata        0.5.5                    pypi_0    pypi\n",
      "napari-svg                0.2.1              pyha07c04f_0    conda-forge\n",
      "natsort                   8.4.0              pyh29332c3_1    conda-forge\n",
      "ncurses                   6.5                  h5e97a16_3    conda-forge\n",
      "nest-asyncio              1.6.0              pyhd8ed1ab_1    conda-forge\n",
      "networkx                  3.4.2              pyh267e887_2    conda-forge\n",
      "nlohmann_json             3.11.3               h00cdb27_1    conda-forge\n",
      "nomkl                     1.0                  h5ca1d4c_0    conda-forge\n",
      "npe2                      0.7.8              pyhd8ed1ab_0    conda-forge\n",
      "numba                     0.61.0          py312hdf12f13_1    conda-forge\n",
      "numcodecs                 0.15.1          py312hcb1e3ce_0    conda-forge\n",
      "numpy                     1.26.4          py312h8442bc7_0    conda-forge\n",
      "numpydoc                  1.8.0              pyhd8ed1ab_1    conda-forge\n",
      "ome-zarr                  0.10.3                   pypi_0    pypi\n",
      "openjpeg                  2.5.3                h8a3d83b_0    conda-forge\n",
      "openssl                   3.4.1                h81ee809_0    conda-forge\n",
      "optree                    0.14.0          py312hb23fbb9_1    conda-forge\n",
      "orc                       2.0.3                h0ff2369_2    conda-forge\n",
      "packaging                 24.2               pyhd8ed1ab_2    conda-forge\n",
      "pandas                    2.2.2           py312h8ae5369_1    conda-forge\n",
      "param                     2.2.0              pyhd8ed1ab_0    conda-forge\n",
      "parso                     0.8.4              pyhd8ed1ab_1    conda-forge\n",
      "partd                     1.4.2              pyhd8ed1ab_0    conda-forge\n",
      "pastel                    0.2.1              pyhd8ed1ab_0    conda-forge\n",
      "patsy                     1.0.1              pyhd8ed1ab_1    conda-forge\n",
      "pcre2                     10.44                h297a79d_2    conda-forge\n",
      "pexpect                   4.9.0              pyhd8ed1ab_1    conda-forge\n",
      "pickleshare               0.7.5           pyhd8ed1ab_1004    conda-forge\n",
      "pillow                    11.1.0          py312h50aef2c_0    conda-forge\n",
      "pims                      0.7                pyhd8ed1ab_1    conda-forge\n",
      "pint                      0.24.4             pyhd8ed1ab_1    conda-forge\n",
      "pip                       25.0.1             pyh8b19718_0    conda-forge\n",
      "pkginfo                   1.12.1.2           pyhd8ed1ab_0    conda-forge\n",
      "pkgutil-resolve-name      1.3.10             pyhd8ed1ab_2    conda-forge\n",
      "platformdirs              4.3.6              pyhd8ed1ab_1    conda-forge\n",
      "pooch                     1.8.2              pyhd8ed1ab_1    conda-forge\n",
      "proj                      9.5.1                h1318a7e_0    conda-forge\n",
      "prometheus-cpp            1.3.0                h0967b3e_0    conda-forge\n",
      "prompt-toolkit            3.0.50             pyha770c72_0    conda-forge\n",
      "propcache                 0.2.1           py312h998013c_1    conda-forge\n",
      "psutil                    6.1.1           py312hea69d52_0    conda-forge\n",
      "psygnal                   0.12.0             pyhd8ed1ab_0    conda-forge\n",
      "pthread-stubs             0.4               hd74edd7_1002    conda-forge\n",
      "ptyprocess                0.7.0              pyhd8ed1ab_1    conda-forge\n",
      "pure_eval                 0.2.3              pyhd8ed1ab_1    conda-forge\n",
      "pyarrow                   19.0.1          py312h1f38498_0    conda-forge\n",
      "pyarrow-core              19.0.1          py312hc40f475_0_cpu    conda-forge\n",
      "pybind11                  2.13.6             pyh1ec8472_2    conda-forge\n",
      "pybind11-global           2.13.6             pyh415d2e4_2    conda-forge\n",
      "pyconify                  0.2.1              pyhd8ed1ab_0    conda-forge\n",
      "pycparser                 2.22               pyh29332c3_1    conda-forge\n",
      "pyct                      0.5.0              pyhd8ed1ab_1    conda-forge\n",
      "pydantic                  2.10.6             pyh3cfb1c2_0    conda-forge\n",
      "pydantic-compat           0.1.2              pyhd8ed1ab_0    conda-forge\n",
      "pydantic-core             2.27.2          py312hcd83bfe_0    conda-forge\n",
      "pygments                  2.19.1             pyhd8ed1ab_0    conda-forge\n",
      "pylev                     1.4.0              pyhd8ed1ab_0    conda-forge\n",
      "pynndescent               0.5.13             pyhd8ed1ab_1    conda-forge\n",
      "pyogrio                   0.10.0          py312hfd5e53c_1    conda-forge\n",
      "pyopengl                  3.1.7              pyhd8ed1ab_0    conda-forge\n",
      "pyparsing                 3.2.1              pyhd8ed1ab_0    conda-forge\n",
      "pyproj                    3.7.1           py312h4b98159_0    conda-forge\n",
      "pyproject_hooks           1.2.0              pyhd8ed1ab_1    conda-forge\n",
      "pyqt5                     5.15.11                  pypi_0    pypi\n",
      "pyqt5-qt5                 5.15.16                  pypi_0    pypi\n",
      "pyqt5-sip                 12.17.0                  pypi_0    pypi\n",
      "pyqtgraph                 0.13.7                   pypi_0    pypi\n",
      "pysocks                   1.7.1              pyha55dd90_7    conda-forge\n",
      "python                    3.12.9          hc22306f_0_cpython    conda-forge\n",
      "python-build              1.2.2.post1        pyhff2d567_1    conda-forge\n",
      "python-dateutil           2.9.0.post0        pyhff2d567_1    conda-forge\n",
      "python-dotenv             1.0.1              pyhd8ed1ab_1    conda-forge\n",
      "python-tzdata             2025.1             pyhd8ed1ab_0    conda-forge\n",
      "python_abi                3.12                    5_cp312    conda-forge\n",
      "pytorch                   2.6.0           cpu_generic_py312_hcd6eaa1_0    conda-forge\n",
      "pytz                      2025.1             pyhd8ed1ab_0    conda-forge\n",
      "pywavelets                1.8.0           py312he0011b7_0    conda-forge\n",
      "pyyaml                    6.0.2           py312h998013c_2    conda-forge\n",
      "pyzmq                     26.2.1          py312hf4875e0_0    conda-forge\n",
      "qhull                     2020.2               h420ef59_5    conda-forge\n",
      "qtconsole-base            5.6.1              pyha770c72_1    conda-forge\n",
      "qtpy                      2.4.3              pyhd8ed1ab_0    conda-forge\n",
      "rav1e                     0.6.6                h69fbcac_2    conda-forge\n",
      "re2                       2024.07.02           h6589ca4_2    conda-forge\n",
      "readfcs                   1.1.8              pyhd8ed1ab_0    conda-forge\n",
      "readline                  8.2                  h1d1bf99_2    conda-forge\n",
      "referencing               0.36.2             pyh29332c3_0    conda-forge\n",
      "requests                  2.32.3             pyhd8ed1ab_1    conda-forge\n",
      "rich                      13.9.4             pyhd8ed1ab_1    conda-forge\n",
      "roman-numerals-py         3.1.0              pyhd8ed1ab_0    conda-forge\n",
      "rpds-py                   0.23.1          py312hd60eec9_0    conda-forge\n",
      "ruamel.yaml               0.18.10         py312hea69d52_0    conda-forge\n",
      "ruamel.yaml.clib          0.2.8           py312h0bf5046_1    conda-forge\n",
      "s3fs                      2023.6.0                 pypi_0    pypi\n",
      "scanpy                    1.10.4             pyhd8ed1ab_0    conda-forge\n",
      "scikit-image              0.25.2          py312hcb1e3ce_0    conda-forge\n",
      "scikit-learn              1.6.1           py312h39203ce_0    conda-forge\n",
      "scipy                     1.15.2          py312h99a188d_0    conda-forge\n",
      "seaborn                   0.13.2               hd8ed1ab_3    conda-forge\n",
      "seaborn-base              0.13.2             pyhd8ed1ab_3    conda-forge\n",
      "session-info              1.0.0              pyhd8ed1ab_0    conda-forge\n",
      "setuptools                75.8.0             pyhff2d567_0    conda-forge\n",
      "shapely                   2.0.7           py312ha6455e5_0    conda-forge\n",
      "shellingham               1.5.4              pyhd8ed1ab_1    conda-forge\n",
      "six                       1.17.0             pyhd8ed1ab_0    conda-forge\n",
      "sleef                     3.8                  h8391f65_0    conda-forge\n",
      "slicerator                1.1.0              pyhd8ed1ab_1    conda-forge\n",
      "smmap                     5.0.2              pyhd8ed1ab_0    conda-forge\n",
      "snappy                    1.2.1                h98b9ce2_1    conda-forge\n",
      "snowballstemmer           2.2.0              pyhd8ed1ab_0    conda-forge\n",
      "sortedcontainers          2.4.0              pyhd8ed1ab_1    conda-forge\n",
      "spatial-image             1.1.0              pyhd8ed1ab_1    conda-forge\n",
      "spatialdata               0.3.0                    pypi_0    pypi\n",
      "spatialdata-io            0.1.5              pyhd8ed1ab_0    conda-forge\n",
      "spatialdata-plot          0.2.9                    pypi_0    pypi\n",
      "sphinx                    8.2.1              pyhd8ed1ab_0    conda-forge\n",
      "sphinxcontrib-applehelp   2.0.0              pyhd8ed1ab_1    conda-forge\n",
      "sphinxcontrib-devhelp     2.0.0              pyhd8ed1ab_1    conda-forge\n",
      "sphinxcontrib-htmlhelp    2.1.0              pyhd8ed1ab_1    conda-forge\n",
      "sphinxcontrib-jsmath      1.0.1              pyhd8ed1ab_1    conda-forge\n",
      "sphinxcontrib-qthelp      2.0.0              pyhd8ed1ab_1    conda-forge\n",
      "sphinxcontrib-serializinghtml 1.1.10             pyhd8ed1ab_1    conda-forge\n",
      "sqlite                    3.49.1               hd7222ec_1    conda-forge\n",
      "stack_data                0.6.3              pyhd8ed1ab_1    conda-forge\n",
      "statsmodels               0.14.4          py312h755e627_0    conda-forge\n",
      "stdlib-list               0.11.1             pyhd8ed1ab_0    conda-forge\n",
      "superqt                   0.7.0              pyhb6d5dde_0    conda-forge\n",
      "svt-av1                   3.0.0                h8ab69cd_0    conda-forge\n",
      "sympy                     1.13.3           pyh2585a3b_105    conda-forge\n",
      "tabulate                  0.9.0              pyhd8ed1ab_2    conda-forge\n",
      "tbb                       2022.0.0             h0cbf7ec_0    conda-forge\n",
      "tblib                     3.0.0              pyhd8ed1ab_1    conda-forge\n",
      "threadpoolctl             3.5.0              pyhc1e730c_0    conda-forge\n",
      "tifffile                  2025.2.18          pyhd8ed1ab_0    conda-forge\n",
      "tinycss2                  1.4.0              pyhd8ed1ab_0    conda-forge\n",
      "tk                        8.6.13               h5083fa2_1    conda-forge\n",
      "tomli                     2.2.1              pyhd8ed1ab_1    conda-forge\n",
      "tomli-w                   1.2.0              pyhd8ed1ab_0    conda-forge\n",
      "tomlkit                   0.13.2             pyha770c72_1    conda-forge\n",
      "toolz                     0.12.1             pyhd8ed1ab_0    conda-forge\n",
      "tornado                   6.4.2           py312hea69d52_0    conda-forge\n",
      "tqdm                      4.67.1             pyhd8ed1ab_1    conda-forge\n",
      "traitlets                 5.14.3             pyhd8ed1ab_1    conda-forge\n",
      "typer                     0.15.1             pyhd8ed1ab_0    conda-forge\n",
      "typer-slim                0.15.1             pyhd8ed1ab_0    conda-forge\n",
      "typer-slim-standard       0.15.1               hd8ed1ab_0    conda-forge\n",
      "typing-extensions         4.12.2               hd8ed1ab_1    conda-forge\n",
      "typing_extensions         4.12.2             pyha770c72_1    conda-forge\n",
      "tzdata                    2025a                h78e105d_0    conda-forge\n",
      "umap-learn                0.5.7           py312h81bd7bf_1    conda-forge\n",
      "unicodedata2              16.0.0          py312hea69d52_0    conda-forge\n",
      "uriparser                 0.9.8                h00cdb27_0    conda-forge\n",
      "urllib3                   1.26.20                  pypi_0    pypi\n",
      "virtualenv                20.29.2            pyhd8ed1ab_0    conda-forge\n",
      "vispy                     0.14.3          py312h9179848_1    conda-forge\n",
      "wcwidth                   0.2.13             pyhd8ed1ab_1    conda-forge\n",
      "webencodings              0.5.1              pyhd8ed1ab_3    conda-forge\n",
      "wheel                     0.45.1             pyhd8ed1ab_1    conda-forge\n",
      "wrapt                     1.17.2          py312hea69d52_0    conda-forge\n",
      "x265                      3.5                  hbc6ce65_3    conda-forge\n",
      "xarray                    2024.11.0                pypi_0    pypi\n",
      "xarray-dataclasses        1.9.1                    pypi_0    pypi\n",
      "xarray-datatree           0.0.14             pyhd8ed1ab_0    conda-forge\n",
      "xarray-schema             0.0.3              pyhd8ed1ab_0    conda-forge\n",
      "xarray-spatial            0.4.0              pyhd8ed1ab_1    conda-forge\n",
      "xerces-c                  3.2.5                h92fc2f4_2    conda-forge\n",
      "xorg-libxau               1.0.12               h5505292_0    conda-forge\n",
      "xorg-libxdmcp             1.1.5                hd74edd7_0    conda-forge\n",
      "xyzservices               2025.1.0           pyhd8ed1ab_0    conda-forge\n",
      "yaml                      0.2.5                h3422bc3_2    conda-forge\n",
      "yarl                      1.18.3          py312h998013c_1    conda-forge\n",
      "zarr                      2.18.4             pyhd8ed1ab_0    conda-forge\n",
      "zeromq                    4.3.5                hc1bb282_7    conda-forge\n",
      "zfp                       1.0.1                h1c5d8ea_2    conda-forge\n",
      "zict                      3.0.0              pyhd8ed1ab_1    conda-forge\n",
      "zipp                      3.21.0             pyhd8ed1ab_1    conda-forge\n",
      "zlib                      1.3.1                h8359307_2    conda-forge\n",
      "zlib-ng                   2.2.4                h13dfb9a_0    conda-forge\n",
      "zstandard                 0.23.0          py312h15fbf35_1    conda-forge\n",
      "zstd                      1.5.6                hb46c0d2_0    conda-forge\n"
     ]
    }
   ],
   "source": [
    "!mamba list"
   ]
  },
  {
   "cell_type": "markdown",
   "metadata": {},
   "source": [
    "# Step 0: Load sdata"
   ]
  },
  {
   "cell_type": "code",
   "execution_count": 4,
   "metadata": {},
   "outputs": [
    {
     "name": "stderr",
     "output_type": "stream",
     "text": [
      "/opt/homebrew/Caskroom/mambaforge/base/envs/spatialdata/lib/python3.12/site-packages/zarr/creation.py:614: UserWarning: ignoring keyword argument 'read_only'\n",
      "  compressor, fill_value = _kwargs_compat(compressor, fill_value, kwargs)\n"
     ]
    }
   ],
   "source": [
    "sdata = spatialdata.read_zarr(\"/Users/jnimoca/Jose_BI/1_Pipelines/openDVP/data/sdata/sdata_991.zarr\")"
   ]
  },
  {
   "cell_type": "markdown",
   "metadata": {},
   "source": [
    "# Step 1: Decide on color map for phenotypes and RCNs"
   ]
  },
  {
   "cell_type": "code",
   "execution_count": 5,
   "metadata": {},
   "outputs": [
    {
     "data": {
      "text/plain": [
       "phenotype\n",
       "Unknown           218068\n",
       "Cancer_cells      216397\n",
       "CD4_Tcells        109335\n",
       "COL1A1_cells       45124\n",
       "CD8_Tcells          8826\n",
       "Vimentin_cells      7933\n",
       "B_cells             3578\n",
       "Macrophages          921\n",
       "Name: count, dtype: int64"
      ]
     },
     "execution_count": 5,
     "metadata": {},
     "output_type": "execute_result"
    }
   ],
   "source": [
    "sdata['imaging_991'].obs.phenotype.value_counts()"
   ]
  },
  {
   "cell_type": "code",
   "execution_count": 6,
   "metadata": {},
   "outputs": [],
   "source": [
    "# 8 cell types\n",
    "import seaborn as sns"
   ]
  },
  {
   "cell_type": "code",
   "execution_count": 11,
   "metadata": {},
   "outputs": [
    {
     "data": {
      "text/html": [
       "<svg  width=\"550\" height=\"55\"><rect x=\"0\" y=\"0\" width=\"55\" height=\"55\" style=\"fill:#0173b2;stroke-width:2;stroke:rgb(255,255,255)\"/><rect x=\"55\" y=\"0\" width=\"55\" height=\"55\" style=\"fill:#de8f05;stroke-width:2;stroke:rgb(255,255,255)\"/><rect x=\"110\" y=\"0\" width=\"55\" height=\"55\" style=\"fill:#029e73;stroke-width:2;stroke:rgb(255,255,255)\"/><rect x=\"165\" y=\"0\" width=\"55\" height=\"55\" style=\"fill:#d55e00;stroke-width:2;stroke:rgb(255,255,255)\"/><rect x=\"220\" y=\"0\" width=\"55\" height=\"55\" style=\"fill:#cc78bc;stroke-width:2;stroke:rgb(255,255,255)\"/><rect x=\"275\" y=\"0\" width=\"55\" height=\"55\" style=\"fill:#ca9161;stroke-width:2;stroke:rgb(255,255,255)\"/><rect x=\"330\" y=\"0\" width=\"55\" height=\"55\" style=\"fill:#fbafe4;stroke-width:2;stroke:rgb(255,255,255)\"/><rect x=\"385\" y=\"0\" width=\"55\" height=\"55\" style=\"fill:#949494;stroke-width:2;stroke:rgb(255,255,255)\"/><rect x=\"440\" y=\"0\" width=\"55\" height=\"55\" style=\"fill:#ece133;stroke-width:2;stroke:rgb(255,255,255)\"/><rect x=\"495\" y=\"0\" width=\"55\" height=\"55\" style=\"fill:#56b4e9;stroke-width:2;stroke:rgb(255,255,255)\"/></svg>"
      ],
      "text/plain": [
       "[(0.00392156862745098, 0.45098039215686275, 0.6980392156862745),\n",
       " (0.8705882352941177, 0.5607843137254902, 0.0196078431372549),\n",
       " (0.00784313725490196, 0.6196078431372549, 0.45098039215686275),\n",
       " (0.8352941176470589, 0.3686274509803922, 0.0),\n",
       " (0.8, 0.47058823529411764, 0.7372549019607844),\n",
       " (0.792156862745098, 0.5686274509803921, 0.3803921568627451),\n",
       " (0.984313725490196, 0.6862745098039216, 0.8941176470588236),\n",
       " (0.5803921568627451, 0.5803921568627451, 0.5803921568627451),\n",
       " (0.9254901960784314, 0.8823529411764706, 0.2),\n",
       " (0.33725490196078434, 0.7058823529411765, 0.9137254901960784)]"
      ]
     },
     "execution_count": 11,
     "metadata": {},
     "output_type": "execute_result"
    }
   ],
   "source": [
    "sns.color_palette(\"colorblind\")"
   ]
  },
  {
   "cell_type": "code",
   "execution_count": 12,
   "metadata": {},
   "outputs": [
    {
     "data": {
      "text/html": [
       "<svg  width=\"550\" height=\"55\"><rect x=\"0\" y=\"0\" width=\"55\" height=\"55\" style=\"fill:#1f77b4;stroke-width:2;stroke:rgb(255,255,255)\"/><rect x=\"55\" y=\"0\" width=\"55\" height=\"55\" style=\"fill:#ff7f0e;stroke-width:2;stroke:rgb(255,255,255)\"/><rect x=\"110\" y=\"0\" width=\"55\" height=\"55\" style=\"fill:#2ca02c;stroke-width:2;stroke:rgb(255,255,255)\"/><rect x=\"165\" y=\"0\" width=\"55\" height=\"55\" style=\"fill:#d62728;stroke-width:2;stroke:rgb(255,255,255)\"/><rect x=\"220\" y=\"0\" width=\"55\" height=\"55\" style=\"fill:#9467bd;stroke-width:2;stroke:rgb(255,255,255)\"/><rect x=\"275\" y=\"0\" width=\"55\" height=\"55\" style=\"fill:#8c564b;stroke-width:2;stroke:rgb(255,255,255)\"/><rect x=\"330\" y=\"0\" width=\"55\" height=\"55\" style=\"fill:#e377c2;stroke-width:2;stroke:rgb(255,255,255)\"/><rect x=\"385\" y=\"0\" width=\"55\" height=\"55\" style=\"fill:#7f7f7f;stroke-width:2;stroke:rgb(255,255,255)\"/><rect x=\"440\" y=\"0\" width=\"55\" height=\"55\" style=\"fill:#bcbd22;stroke-width:2;stroke:rgb(255,255,255)\"/><rect x=\"495\" y=\"0\" width=\"55\" height=\"55\" style=\"fill:#17becf;stroke-width:2;stroke:rgb(255,255,255)\"/></svg>"
      ],
      "text/plain": [
       "[(0.12156862745098039, 0.4666666666666667, 0.7058823529411765),\n",
       " (1.0, 0.4980392156862745, 0.054901960784313725),\n",
       " (0.17254901960784313, 0.6274509803921569, 0.17254901960784313),\n",
       " (0.8392156862745098, 0.15294117647058825, 0.1568627450980392),\n",
       " (0.5803921568627451, 0.403921568627451, 0.7411764705882353),\n",
       " (0.5490196078431373, 0.33725490196078434, 0.29411764705882354),\n",
       " (0.8901960784313725, 0.4666666666666667, 0.7607843137254902),\n",
       " (0.4980392156862745, 0.4980392156862745, 0.4980392156862745),\n",
       " (0.7372549019607844, 0.7411764705882353, 0.13333333333333333),\n",
       " (0.09019607843137255, 0.7450980392156863, 0.8117647058823529)]"
      ]
     },
     "execution_count": 12,
     "metadata": {},
     "output_type": "execute_result"
    }
   ],
   "source": [
    "sns.color_palette(\"tab10\")"
   ]
  },
  {
   "cell_type": "code",
   "execution_count": null,
   "metadata": {},
   "outputs": [],
   "source": [
    "# decision\n",
    "# we will use tab10 for phenotype in images, good contrast, will use colorblind variation for plots"
   ]
  },
  {
   "cell_type": "code",
   "execution_count": null,
   "metadata": {},
   "outputs": [],
   "source": [
    "import matplotlib.colors as mcolors\n",
    "\n"
   ]
  },
  {
   "cell_type": "code",
   "execution_count": 58,
   "metadata": {},
   "outputs": [
    {
     "data": {
      "image/png": "[encoded data removed]",
      "text/plain": [
       "<Figure size 800x1000 with 1 Axes>"
      ]
     },
     "metadata": {},
     "output_type": "display_data"
    }
   ],
   "source": [
    "colors = sns.color_palette(\"tab10\")\n",
    "hex_colors = [mcolors.to_hex(c) for c in colors]\n",
    "\n",
    "# Create a horizontal color palette plot\n",
    "fig, ax = plt.subplots(figsize=(8, len(colors) * 1))\n",
    "\n",
    "# Plot each color as a rectangle\n",
    "for i, color in enumerate(hex_colors):\n",
    "    ax.add_patch(plt.Rectangle((0, i), 1, 1, color=color))\n",
    "    ax.text(1.1, i + 0.5, color, ha='left', va='center', fontsize=12)\n",
    "\n",
    "# Adjust plot limits and aesthetics\n",
    "ax.set_xlim(0, 2)\n",
    "ax.set_ylim(0, len(colors))\n",
    "ax.axis('off')\n",
    "\n",
    "plt.show()"
   ]
  },
  {
   "cell_type": "code",
   "execution_count": null,
   "metadata": {},
   "outputs": [],
   "source": []
  },
  {
   "cell_type": "code",
   "execution_count": 17,
   "metadata": {},
   "outputs": [],
   "source": [
    "phenotype_colors = { \n",
    "    \"Unknown\":      \"#7f7f7f\",  #grey\n",
    "    \"Cancer_cells\": \"#d62728\",  #red\n",
    "    \"CD4_Tcells\":   \"#1f77b4\",  #blue\n",
    "    \"COL1A1_cells\": \"#ff7f0e\",  #orange\n",
    "    \"CD8_Tcells\":   \"#9467bd\",  #purple\n",
    "    \"Vimentin_cells\":\"#bcbd22\", #ocre\n",
    "    \"B_cells\":       \"#17becf\", #cyan\n",
    "    \"Macrophages\":  \"#2ca02c\", #green\n",
    "}"
   ]
  },
  {
   "cell_type": "code",
   "execution_count": 20,
   "metadata": {},
   "outputs": [
    {
     "name": "stderr",
     "output_type": "stream",
     "text": [
      "/var/folders/x7/grkjlk8s223dy6234rnz1885mxz2_6/T/ipykernel_5466/1988191619.py:7: FutureWarning: \n",
      "\n",
      "Passing `palette` without assigning `hue` is deprecated and will be removed in v0.14.0. Assign the `y` variable to `hue` and set `legend=False` for the same effect.\n",
      "\n",
      "  sns.barplot(\n"
     ]
    },
    {
     "data": {
      "image/png": "[encoded data removed]",
      "text/plain": [
       "<Figure size 640x480 with 1 Axes>"
      ]
     },
     "metadata": {},
     "output_type": "display_data"
    }
   ],
   "source": [
    "# Example barplot using the palette\n",
    "data = {\n",
    "    \"Phenotype\": list(phenotype_colors.keys()),\n",
    "    \"Count\": [50, 120, 80, 45, 70, 30, 60, 40]\n",
    "}\n",
    "\n",
    "sns.barplot(\n",
    "    x=\"Count\", \n",
    "    y=\"Phenotype\", \n",
    "    data=data, \n",
    "    palette=phenotype_colors\n",
    ")\n",
    "plt.show()"
   ]
  },
  {
   "cell_type": "code",
   "execution_count": 21,
   "metadata": {},
   "outputs": [
    {
     "data": {
      "text/plain": [
       "Index(['CellID', 'Y_centroid', 'X_centroid', 'Area', 'MajorAxisLength',\n",
       "       'MinorAxisLength', 'Eccentricity', 'Orientation', 'Extent', 'Solidity',\n",
       "       'artefact', 'Area_filter_nottoobig', 'Area_filter_nottoolow',\n",
       "       'Area_filter', 'DAPI_ratio', 'DAPI_ratio_pass_nottoolow',\n",
       "       'DAPI_ratio_pass_nottoohigh', 'DAPI_ratio_pass', 'filtering', 'imageid',\n",
       "       'phenotype', 'cell_id', 'spatial_lda_knn7_kmeans_k7',\n",
       "       'spatial_lda_knn14_kmeans_k7', 'spatial_lda_knn21_kmeans_k7',\n",
       "       'spatial_lda_knn30_kmeans_k7', 'spatial_lda_knn40_kmeans_k7',\n",
       "       'spatial_lda_knn50_kmeans_k7', 'shapes'],\n",
       "      dtype='object')"
      ]
     },
     "execution_count": 21,
     "metadata": {},
     "output_type": "execute_result"
    }
   ],
   "source": [
    "# now for RCNs, this is tricky since they vary between parameters\n",
    "# for now just for KNN30\n",
    "\n",
    "sdata['imaging_991'].obs.columns"
   ]
  },
  {
   "cell_type": "code",
   "execution_count": 48,
   "metadata": {},
   "outputs": [],
   "source": [
    "def plot_rcn_stacked_barplot(df, phenotype_col, rcn_col, normalize=True):\n",
    "    \"\"\"\n",
    "    Plots a stacked barplot showing phenotype composition per RCN motif.\n",
    "    \n",
    "    Parameters:\n",
    "    df (DataFrame): Input dataframe containing phenotype and RCN columns\n",
    "    phenotype_col (str): Column name for phenotypes\n",
    "    rcn_col (str): Column name for RCN motifs\n",
    "    normalize (bool): If True, normalize frequencies to proportions per motif\n",
    "    \"\"\"\n",
    "    # Count frequencies of each phenotype within each RCN\n",
    "    count_df = df.groupby([rcn_col, phenotype_col]).size().unstack(fill_value=0)\n",
    "    \n",
    "    # Normalize to proportions if requested\n",
    "    if normalize:\n",
    "        count_df = count_df.div(count_df.sum(axis=1), axis=0)\n",
    "    \n",
    "    # Create the stacked barplot\n",
    "    fig, ax = plt.subplots(figsize=(8, 6))\n",
    "    \n",
    "    bottoms = [0] * len(count_df)\n",
    "    for phenotype, color in phenotype_colors.items():\n",
    "        if phenotype in count_df.columns:\n",
    "            ax.bar(count_df.index, count_df[phenotype],\n",
    "                   bottom=bottoms, color=color, label=phenotype)\n",
    "            bottoms = [i + j for i, j in zip(bottoms, count_df[phenotype])]\n",
    "    \n",
    "    # Customize plot\n",
    "    ax.legend(title=\"Phenotype\", bbox_to_anchor=(1.05, 1), loc='upper left')\n",
    "    ax.set_ylabel(\"Proportion\" if normalize else \"Count\")\n",
    "    ax.set_xlabel(\"RCN Motif\")\n",
    "    ax.set_title(\"Phenotype Composition per RCN Motif\")\n",
    "    plt.tight_layout()\n",
    "    plt.show()"
   ]
  },
  {
   "cell_type": "code",
   "execution_count": 53,
   "metadata": {},
   "outputs": [
    {
     "name": "stderr",
     "output_type": "stream",
     "text": [
      "/var/folders/x7/grkjlk8s223dy6234rnz1885mxz2_6/T/ipykernel_5466/285896834.py:12: FutureWarning: The default of observed=False is deprecated and will be changed to True in a future version of pandas. Pass observed=False to retain current behavior or observed=True to adopt the future default and silence this warning.\n",
      "  count_df = df.groupby([rcn_col, phenotype_col]).size().unstack(fill_value=0)\n"
     ]
    },
    {
     "data": {
      "image/png": "[encoded data removed]",
      "text/plain": [
       "<Figure size 800x600 with 1 Axes>"
      ]
     },
     "metadata": {},
     "output_type": "display_data"
    }
   ],
   "source": [
    "plot_rcn_stacked_barplot(\n",
    "    df= sdata['imaging_991'].obs,\n",
    "    phenotype_col=\"phenotype\",\n",
    "    rcn_col=\"spatial_lda_knn21_kmeans_k7\"\n",
    ")"
   ]
  },
  {
   "cell_type": "code",
   "execution_count": 63,
   "metadata": {},
   "outputs": [
    {
     "data": {
      "text/plain": [
       "CategoricalDtype(categories=['0', '1', '2', '3', '4', '5', '6'], ordered=False, categories_dtype=object)"
      ]
     },
     "execution_count": 63,
     "metadata": {},
     "output_type": "execute_result"
    }
   ],
   "source": [
    "sdata['imaging_991'].obs.spatial_lda_knn21_kmeans_k7.dtype"
   ]
  },
  {
   "cell_type": "code",
   "execution_count": 60,
   "metadata": {},
   "outputs": [
    {
     "data": {
      "image/png": "[encoded data removed]",
      "text/plain": [
       "<Figure size 800x1000 with 1 Axes>"
      ]
     },
     "metadata": {},
     "output_type": "display_data"
    }
   ],
   "source": [
    "colors = sns.color_palette(\"deep\")\n",
    "hex_colors = [mcolors.to_hex(c) for c in colors]\n",
    "\n",
    "# Create a horizontal color palette plot\n",
    "fig, ax = plt.subplots(figsize=(8, len(colors) * 1))\n",
    "\n",
    "# Plot each color as a rectangle\n",
    "for i, color in enumerate(hex_colors):\n",
    "    ax.add_patch(plt.Rectangle((0, i), 1, 1, color=color))\n",
    "    ax.text(1.1, i + 0.5, color, ha='left', va='center', fontsize=12)\n",
    "\n",
    "# Adjust plot limits and aesthetics\n",
    "ax.set_xlim(0, 2)\n",
    "ax.set_ylim(0, len(colors))\n",
    "ax.axis('off')\n",
    "\n",
    "plt.show()"
   ]
  },
  {
   "cell_type": "code",
   "execution_count": 55,
   "metadata": {},
   "outputs": [
    {
     "data": {
      "text/html": [
       "<svg  width=\"550\" height=\"55\"><rect x=\"0\" y=\"0\" width=\"55\" height=\"55\" style=\"fill:#4c72b0;stroke-width:2;stroke:rgb(255,255,255)\"/><rect x=\"55\" y=\"0\" width=\"55\" height=\"55\" style=\"fill:#dd8452;stroke-width:2;stroke:rgb(255,255,255)\"/><rect x=\"110\" y=\"0\" width=\"55\" height=\"55\" style=\"fill:#55a868;stroke-width:2;stroke:rgb(255,255,255)\"/><rect x=\"165\" y=\"0\" width=\"55\" height=\"55\" style=\"fill:#c44e52;stroke-width:2;stroke:rgb(255,255,255)\"/><rect x=\"220\" y=\"0\" width=\"55\" height=\"55\" style=\"fill:#8172b3;stroke-width:2;stroke:rgb(255,255,255)\"/><rect x=\"275\" y=\"0\" width=\"55\" height=\"55\" style=\"fill:#937860;stroke-width:2;stroke:rgb(255,255,255)\"/><rect x=\"330\" y=\"0\" width=\"55\" height=\"55\" style=\"fill:#da8bc3;stroke-width:2;stroke:rgb(255,255,255)\"/><rect x=\"385\" y=\"0\" width=\"55\" height=\"55\" style=\"fill:#8c8c8c;stroke-width:2;stroke:rgb(255,255,255)\"/><rect x=\"440\" y=\"0\" width=\"55\" height=\"55\" style=\"fill:#ccb974;stroke-width:2;stroke:rgb(255,255,255)\"/><rect x=\"495\" y=\"0\" width=\"55\" height=\"55\" style=\"fill:#64b5cd;stroke-width:2;stroke:rgb(255,255,255)\"/></svg>"
      ],
      "text/plain": [
       "[(0.2980392156862745, 0.4470588235294118, 0.6901960784313725),\n",
       " (0.8666666666666667, 0.5176470588235295, 0.3215686274509804),\n",
       " (0.3333333333333333, 0.6588235294117647, 0.40784313725490196),\n",
       " (0.7686274509803922, 0.3058823529411765, 0.3215686274509804),\n",
       " (0.5058823529411764, 0.4470588235294118, 0.7019607843137254),\n",
       " (0.5764705882352941, 0.47058823529411764, 0.3764705882352941),\n",
       " (0.8549019607843137, 0.5450980392156862, 0.7647058823529411),\n",
       " (0.5490196078431373, 0.5490196078431373, 0.5490196078431373),\n",
       " (0.8, 0.7254901960784313, 0.4549019607843137),\n",
       " (0.39215686274509803, 0.7098039215686275, 0.803921568627451)]"
      ]
     },
     "execution_count": 55,
     "metadata": {},
     "output_type": "execute_result"
    }
   ],
   "source": [
    "sns.color_palette(\"deep\")"
   ]
  },
  {
   "cell_type": "code",
   "execution_count": 65,
   "metadata": {},
   "outputs": [],
   "source": [
    "RCN_colors = {\n",
    "    \"0\" : \"#64b5cd\", #cyan\n",
    "    \"1\" : \"#c44e52\", #red\n",
    "    \"2\" : \"#da8bc3\", #pink\n",
    "    \"3\" : \"#ccb974\", #ocre\n",
    "    \"4\" : \"#8c8c8c\", #grey\n",
    "    \"5\" : \"#dd8452\", #orange\n",
    "    \"6\" : \"#4c72b0\", #blue\n",
    "}"
   ]
  },
  {
   "cell_type": "markdown",
   "metadata": {},
   "source": [
    "# Step 2: Export segmentation mask colored by phenotype with colors"
   ]
  },
  {
   "cell_type": "code",
   "execution_count": 1,
   "metadata": {},
   "outputs": [],
   "source": [
    "RCN_colors = {\n",
    "    \"0\" : \"#64b5cd\", #cyan\n",
    "    \"1\" : \"#c44e52\", #red\n",
    "    \"2\" : \"#da8bc3\", #pink\n",
    "    \"3\" : \"#ccb974\", #ocre\n",
    "    \"4\" : \"#8c8c8c\", #grey\n",
    "    \"5\" : \"#dd8452\", #orange\n",
    "    \"6\" : \"#4c72b0\", #blue\n",
    "}"
   ]
  },
  {
   "cell_type": "code",
   "execution_count": 2,
   "metadata": {},
   "outputs": [],
   "source": [
    "phenotype_colors = { \n",
    "    \"Unknown\":      \"#7f7f7f\",  #grey\n",
    "    \"Cancer_cells\": \"#d62728\",  #red\n",
    "    \"CD4_Tcells\":   \"#1f77b4\",  #blue\n",
    "    \"COL1A1_cells\": \"#ff7f0e\",  #orange\n",
    "    \"CD8_Tcells\":   \"#9467bd\",  #purple\n",
    "    \"Vimentin_cells\":\"#bcbd22\", #ocre\n",
    "    \"B_cells\":       \"#17becf\", #cyan\n",
    "    \"Macrophages\":  \"#2ca02c\", #green\n",
    "    \"filtered_out\": \"#000000\", #black\n",
    "}"
   ]
  },
  {
   "cell_type": "code",
   "execution_count": 5,
   "metadata": {},
   "outputs": [
    {
     "name": "stderr",
     "output_type": "stream",
     "text": [
      "/opt/homebrew/Caskroom/mambaforge/base/envs/spatialdata/lib/python3.12/site-packages/zarr/creation.py:614: UserWarning: ignoring keyword argument 'read_only'\n",
      "  compressor, fill_value = _kwargs_compat(compressor, fill_value, kwargs)\n"
     ]
    }
   ],
   "source": [
    "sdata = spatialdata.read_zarr(\"/Users/jnimoca/Jose_BI/1_Pipelines/openDVP/data/sdata/sdata_991.zarr\")"
   ]
  },
  {
   "cell_type": "code",
   "execution_count": 6,
   "metadata": {},
   "outputs": [],
   "source": [
    "sdata['imaging_991'].uns['phenotype_colors'] = phenotype_colors"
   ]
  },
  {
   "cell_type": "code",
   "execution_count": 7,
   "metadata": {},
   "outputs": [],
   "source": [
    "sdata['imaging_991'].uns['RCN_colors'] = RCN_colors"
   ]
  },
  {
   "cell_type": "code",
   "execution_count": 8,
   "metadata": {},
   "outputs": [],
   "source": [
    "import qupath_utils"
   ]
  },
  {
   "cell_type": "code",
   "execution_count": 10,
   "metadata": {},
   "outputs": [
    {
     "data": {
      "text/plain": [
       "<module 'qupath_utils' from '/Users/jnimoca/Jose_BI/1_Pipelines/openDVP/src/opendvp/qupath_utils.py'>"
      ]
     },
     "execution_count": 10,
     "metadata": {},
     "output_type": "execute_result"
    }
   ],
   "source": [
    "import importlib\n",
    "importlib.reload(qupath_utils)"
   ]
  },
  {
   "cell_type": "code",
   "execution_count": 11,
   "metadata": {},
   "outputs": [
    {
     "name": "stderr",
     "output_type": "stream",
     "text": [
      "\u001b[32m2025-03-20 14:41:45.111\u001b[0m | \u001b[1mINFO    \u001b[0m | \u001b[36mqupath_utils\u001b[0m:\u001b[36msdata_to_qupath_detections\u001b[0m:\u001b[36m97\u001b[0m - \u001b[1mConverting mask_polygons geodataframe to detections\u001b[0m\n",
      "\u001b[32m2025-03-20 14:41:45.114\u001b[0m | \u001b[1mINFO    \u001b[0m | \u001b[36mqupath_utils\u001b[0m:\u001b[36msdata_to_qupath_detections\u001b[0m:\u001b[36m127\u001b[0m - \u001b[1mCheck of inputs completed, starting conversion to detections\u001b[0m\n",
      "\u001b[32m2025-03-20 14:41:45.115\u001b[0m | \u001b[1mINFO    \u001b[0m | \u001b[36mqupath_utils\u001b[0m:\u001b[36msdata_to_qupath_detections\u001b[0m:\u001b[36m138\u001b[0m - \u001b[1mNaming detections as cellID\u001b[0m\n",
      "\u001b[32m2025-03-20 14:41:45.281\u001b[0m | \u001b[1mINFO    \u001b[0m | \u001b[36mqupath_utils\u001b[0m:\u001b[36msdata_to_qupath_detections\u001b[0m:\u001b[36m142\u001b[0m - \u001b[1mLabeling geometries as detections, for smooth viewing in QuPath\u001b[0m\n",
      "\u001b[32m2025-03-20 14:41:45.285\u001b[0m | \u001b[1mINFO    \u001b[0m | \u001b[36mqupath_utils\u001b[0m:\u001b[36msdata_to_qupath_detections\u001b[0m:\u001b[36m146\u001b[0m - \u001b[1mClassifying detections by phenotype\u001b[0m\n",
      "\u001b[32m2025-03-20 14:41:45.289\u001b[0m | \u001b[1mINFO    \u001b[0m | \u001b[36mqupath_utils\u001b[0m:\u001b[36msdata_to_qupath_detections\u001b[0m:\u001b[36m147\u001b[0m - \u001b[1mClasses found in table:\n",
      "phenotype\n",
      "Unknown           218068\n",
      "Cancer_cells      216397\n",
      "CD4_Tcells        109335\n",
      "COL1A1_cells       45124\n",
      "CD8_Tcells          8826\n",
      "Vimentin_cells      7933\n",
      "B_cells             3578\n",
      "Macrophages          921\u001b[0m\n",
      "\u001b[32m2025-03-20 14:41:45.381\u001b[0m | \u001b[1mINFO    \u001b[0m | \u001b[36mqupath_utils\u001b[0m:\u001b[36msdata_to_qupath_detections\u001b[0m:\u001b[36m151\u001b[0m - \u001b[1mClasses now in shapes: ['Cancer_cells' 'CD4_Tcells' 'CD8_Tcells' 'COL1A1_cells' 'Unknown'\n",
      " 'filtered_out' 'Vimentin_cells' 'B_cells' 'Macrophages']\u001b[0m\n",
      "\u001b[32m2025-03-20 14:41:45.382\u001b[0m | \u001b[1mINFO    \u001b[0m | \u001b[36mqupath_utils\u001b[0m:\u001b[36msdata_to_qupath_detections\u001b[0m:\u001b[36m154\u001b[0m - \u001b[1mUsing color_dict found in table.uns[phenotype_colors]\u001b[0m\n",
      "\u001b[32m2025-03-20 14:41:45.382\u001b[0m | \u001b[1mINFO    \u001b[0m | \u001b[36mqupath_utils\u001b[0m:\u001b[36msdata_to_qupath_detections\u001b[0m:\u001b[36m155\u001b[0m - \u001b[1mcolor dict looks like this: {'Unknown': '#7f7f7f', 'Cancer_cells': '#d62728', 'CD4_Tcells': '#1f77b4', 'COL1A1_cells': '#ff7f0e', 'CD8_Tcells': '#9467bd', 'Vimentin_cells': '#bcbd22', 'B_cells': '#17becf', 'Macrophages': '#2ca02c', 'filtered_out': '#000000'}\u001b[0m\n",
      "\u001b[32m2025-03-20 14:41:48.045\u001b[0m | \u001b[1mINFO    \u001b[0m | \u001b[36mqupath_utils\u001b[0m:\u001b[36msdata_to_qupath_detections\u001b[0m:\u001b[36m173\u001b[0m - \u001b[1mSimplifying the geometry with tolerance 1.0\u001b[0m\n",
      "/opt/homebrew/Caskroom/mambaforge/base/envs/spatialdata/lib/python3.12/site-packages/pyogrio/geopandas.py:662: UserWarning: 'crs' was not provided.  The output dataset will not have projection information defined and may not be usable in other systems.\n",
      "  write(\n"
     ]
    }
   ],
   "source": [
    "qupath_utils.sdata_to_qupath_detections(\n",
    "    sdata = sdata,\n",
    "    key_to_shapes = \"mask_polygons\",\n",
    "    export_path = \"../data/colored_pheno.geojson\",\n",
    "    table_key = \"imaging_991\",\n",
    "    index_table_by = \"CellID\",\n",
    "    classify_by = \"phenotype\",\n",
    "    color_dict = \"phenotype_colors\"\n",
    ")"
   ]
  }
 ],
 "metadata": {
  "kernelspec": {
   "display_name": "spatialdata",
   "language": "python",
   "name": "python3"
  },
  "language_info": {
   "codemirror_mode": {
    "name": "ipython",
    "version": 3
   },
   "file_extension": ".py",
   "mimetype": "text/x-python",
   "name": "python",
   "nbconvert_exporter": "python",
   "pygments_lexer": "ipython3",
   "version": "3.12.9"
  }
 },
 "nbformat": 4,
 "nbformat_minor": 2
}
