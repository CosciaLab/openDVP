{
 "cells": [
  {
   "cell_type": "code",
   "execution_count": 8,
   "id": "5d27659a",
   "metadata": {},
   "outputs": [],
   "source": [
    "mytuple = (\"x_centroid\", \"y_centroid\")"
   ]
  },
  {
   "cell_type": "code",
   "execution_count": 9,
   "id": "748702af",
   "metadata": {},
   "outputs": [
    {
     "data": {
      "text/plain": [
       "'x_centroid'"
      ]
     },
     "execution_count": 9,
     "metadata": {},
     "output_type": "execute_result"
    }
   ],
   "source": [
    "mytuple[0]"
   ]
  },
  {
   "cell_type": "code",
   "execution_count": 10,
   "id": "a19213e7",
   "metadata": {},
   "outputs": [
    {
     "data": {
      "text/plain": [
       "'y_centroid'"
      ]
     },
     "execution_count": 10,
     "metadata": {},
     "output_type": "execute_result"
    }
   ],
   "source": [
    "mytuple[1]"
   ]
  },
  {
   "cell_type": "code",
   "execution_count": 1,
   "id": "0fe652da",
   "metadata": {},
   "outputs": [],
   "source": [
    "from perseuspy import pd"
   ]
  },
  {
   "cell_type": "code",
   "execution_count": 2,
   "id": "5bda8f42",
   "metadata": {},
   "outputs": [],
   "source": [
    "import opendvp"
   ]
  },
  {
   "cell_type": "code",
   "execution_count": 3,
   "id": "7ffffe73",
   "metadata": {},
   "outputs": [
    {
     "name": "stdout",
     "output_type": "stream",
     "text": [
      "\u001b[32m10:58:40.67\u001b[0m | \u001b[1mINFO\u001b[0m | Reading Perseus file from: test_data/io/Perseus_v1.6.15.0.txt\n",
      "\u001b[32m10:58:40.69\u001b[0m | \u001b[1mINFO\u001b[0m | Perseus DataFrame shape: (3526, 16)\n",
      "\u001b[32m10:58:40.70\u001b[0m | \u001b[1mINFO\u001b[0m | Data matrix shape: (11, 3526)\n",
      "\u001b[32m10:58:40.71\u001b[0m | \u001b[32m\u001b[1mSUCCESS\u001b[0m | AnnData object created from Perseus file.\n"
     ]
    },
    {
     "name": "stderr",
     "output_type": "stream",
     "text": [
      "/opt/homebrew/Caskroom/mambaforge/base/envs/opendvp-sdata/lib/python3.11/site-packages/anndata/_core/aligned_df.py:68: ImplicitModificationWarning: Transforming to str index.\n",
      "  warnings.warn(\"Transforming to str index.\", ImplicitModificationWarning)\n",
      "/opt/homebrew/Caskroom/mambaforge/base/envs/opendvp-sdata/lib/python3.11/site-packages/anndata/_core/aligned_df.py:68: ImplicitModificationWarning: Transforming to str index.\n",
      "  warnings.warn(\"Transforming to str index.\", ImplicitModificationWarning)\n"
     ]
    }
   ],
   "source": [
    "adata = opendvp.io.import_perseus(\n",
    "    path_to_perseus_txt=\"test_data/io/Perseus_v1.6.15.0.txt\",\n",
    "    n_var_metadata_rows=5\n",
    ")"
   ]
  },
  {
   "cell_type": "code",
   "execution_count": 4,
   "id": "7cf544e2",
   "metadata": {},
   "outputs": [
    {
     "data": {
      "text/plain": [
       "(11, 3526)"
      ]
     },
     "execution_count": 4,
     "metadata": {},
     "output_type": "execute_result"
    }
   ],
   "source": [
    "adata.shape"
   ]
  },
  {
   "cell_type": "code",
   "execution_count": 5,
   "id": "ca60c9bf",
   "metadata": {},
   "outputs": [
    {
     "data": {
      "text/plain": [
       "['Column Name',\n",
       " 'Heart_Condition',\n",
       " 'Ischemia_region',\n",
       " 'Sample_type',\n",
       " 'Replicate']"
      ]
     },
     "execution_count": 5,
     "metadata": {},
     "output_type": "execute_result"
    }
   ],
   "source": [
    "adata.obs.columns.tolist()"
   ]
  },
  {
   "cell_type": "code",
   "execution_count": 7,
   "id": "668228fb",
   "metadata": {},
   "outputs": [],
   "source": [
    "df = pd.read_csv(\"test_data/io/thresholds.csv\")"
   ]
  },
  {
   "cell_type": "code",
   "execution_count": 8,
   "id": "1ce56e0a",
   "metadata": {},
   "outputs": [
    {
     "data": {
      "text/html": [
       "<div>\n",
       "<style scoped>\n",
       "    .dataframe tbody tr th:only-of-type {\n",
       "        vertical-align: middle;\n",
       "    }\n",
       "\n",
       "    .dataframe tbody tr th {\n",
       "        vertical-align: top;\n",
       "    }\n",
       "\n",
       "    .dataframe thead th {\n",
       "        text-align: right;\n",
       "    }\n",
       "</style>\n",
       "<table border=\"1\" class=\"dataframe\">\n",
       "  <thead>\n",
       "    <tr style=\"text-align: right;\">\n",
       "      <th></th>\n",
       "      <th>sample_id</th>\n",
       "      <th>marker_id</th>\n",
       "      <th>gate_value</th>\n",
       "    </tr>\n",
       "  </thead>\n",
       "  <tbody>\n",
       "    <tr>\n",
       "      <th>0</th>\n",
       "      <td>991</td>\n",
       "      <td>mean_Vimentin</td>\n",
       "      <td>574.380913</td>\n",
       "    </tr>\n",
       "    <tr>\n",
       "      <th>1</th>\n",
       "      <td>991</td>\n",
       "      <td>mean_CD3e</td>\n",
       "      <td>350.000000</td>\n",
       "    </tr>\n",
       "    <tr>\n",
       "      <th>2</th>\n",
       "      <td>991</td>\n",
       "      <td>mean_panCK</td>\n",
       "      <td>50.000000</td>\n",
       "    </tr>\n",
       "    <tr>\n",
       "      <th>3</th>\n",
       "      <td>991</td>\n",
       "      <td>mean_CD8</td>\n",
       "      <td>1200.000000</td>\n",
       "    </tr>\n",
       "    <tr>\n",
       "      <th>4</th>\n",
       "      <td>991</td>\n",
       "      <td>mean_COL1A1</td>\n",
       "      <td>1320.000000</td>\n",
       "    </tr>\n",
       "    <tr>\n",
       "      <th>5</th>\n",
       "      <td>991</td>\n",
       "      <td>mean_CD20</td>\n",
       "      <td>800.000000</td>\n",
       "    </tr>\n",
       "    <tr>\n",
       "      <th>6</th>\n",
       "      <td>991</td>\n",
       "      <td>mean_CD68</td>\n",
       "      <td>271.581386</td>\n",
       "    </tr>\n",
       "    <tr>\n",
       "      <th>7</th>\n",
       "      <td>991</td>\n",
       "      <td>mean_Ki67</td>\n",
       "      <td>18.105061</td>\n",
       "    </tr>\n",
       "  </tbody>\n",
       "</table>\n",
       "</div>"
      ],
      "text/plain": [
       "   sample_id      marker_id   gate_value\n",
       "0        991  mean_Vimentin   574.380913\n",
       "1        991      mean_CD3e   350.000000\n",
       "2        991     mean_panCK    50.000000\n",
       "3        991       mean_CD8  1200.000000\n",
       "4        991    mean_COL1A1  1320.000000\n",
       "5        991      mean_CD20   800.000000\n",
       "6        991      mean_CD68   271.581386\n",
       "7        991      mean_Ki67    18.105061"
      ]
     },
     "execution_count": 8,
     "metadata": {},
     "output_type": "execute_result"
    }
   ],
   "source": [
    "df"
   ]
  },
  {
   "cell_type": "code",
   "execution_count": 9,
   "id": "fcdaf73b",
   "metadata": {},
   "outputs": [
    {
     "data": {
      "text/plain": [
       "sample_id       int64\n",
       "marker_id      object\n",
       "gate_value    float64\n",
       "dtype: object"
      ]
     },
     "execution_count": 9,
     "metadata": {},
     "output_type": "execute_result"
    }
   ],
   "source": [
    "df.dtypes"
   ]
  },
  {
   "cell_type": "code",
   "execution_count": 45,
   "id": "d305ea2c",
   "metadata": {},
   "outputs": [],
   "source": [
    "data = {\n",
    "        'CellID': [0, 1, 2],\n",
    "        'Y_centroid': [10.0, 20.0, 30.0],\n",
    "        'X_centroid': [15.0, 25.0, 35.0],\n",
    "        'Area': [100, 150, 120],\n",
    "        'MajorAxisLength': [12, 14, 13],\n",
    "        'MinorAxisLength': [8, 9, 10],\n",
    "        'Eccentricity': [0.5, 0.6, 0.7],\n",
    "        'Orientation': [0, 45, 90],\n",
    "        'Extent': [0.8, 0.85, 0.9],\n",
    "        'Solidity': [0.95, 0.96, 0.97],\n",
    "        'mean_CD3': [1.0, 2.0, 3.0],\n",
    "        'mean_CD8': [0.5, 0.8, 1.1]\n",
    "    }\n",
    "df = pd.DataFrame(data)"
   ]
  },
  {
   "cell_type": "code",
   "execution_count": 46,
   "id": "e90e51cc",
   "metadata": {},
   "outputs": [
    {
     "data": {
      "text/html": [
       "<div>\n",
       "<style scoped>\n",
       "    .dataframe tbody tr th:only-of-type {\n",
       "        vertical-align: middle;\n",
       "    }\n",
       "\n",
       "    .dataframe tbody tr th {\n",
       "        vertical-align: top;\n",
       "    }\n",
       "\n",
       "    .dataframe thead th {\n",
       "        text-align: right;\n",
       "    }\n",
       "</style>\n",
       "<table border=\"1\" class=\"dataframe\">\n",
       "  <thead>\n",
       "    <tr style=\"text-align: right;\">\n",
       "      <th></th>\n",
       "      <th>CellID</th>\n",
       "      <th>Y_centroid</th>\n",
       "      <th>X_centroid</th>\n",
       "      <th>Area</th>\n",
       "      <th>MajorAxisLength</th>\n",
       "      <th>MinorAxisLength</th>\n",
       "      <th>Eccentricity</th>\n",
       "      <th>Orientation</th>\n",
       "      <th>Extent</th>\n",
       "      <th>Solidity</th>\n",
       "      <th>mean_CD3</th>\n",
       "      <th>mean_CD8</th>\n",
       "    </tr>\n",
       "  </thead>\n",
       "  <tbody>\n",
       "    <tr>\n",
       "      <th>0</th>\n",
       "      <td>0</td>\n",
       "      <td>10.0</td>\n",
       "      <td>15.0</td>\n",
       "      <td>100</td>\n",
       "      <td>12</td>\n",
       "      <td>8</td>\n",
       "      <td>0.5</td>\n",
       "      <td>0</td>\n",
       "      <td>0.80</td>\n",
       "      <td>0.95</td>\n",
       "      <td>1.0</td>\n",
       "      <td>0.5</td>\n",
       "    </tr>\n",
       "    <tr>\n",
       "      <th>1</th>\n",
       "      <td>1</td>\n",
       "      <td>20.0</td>\n",
       "      <td>25.0</td>\n",
       "      <td>150</td>\n",
       "      <td>14</td>\n",
       "      <td>9</td>\n",
       "      <td>0.6</td>\n",
       "      <td>45</td>\n",
       "      <td>0.85</td>\n",
       "      <td>0.96</td>\n",
       "      <td>2.0</td>\n",
       "      <td>0.8</td>\n",
       "    </tr>\n",
       "    <tr>\n",
       "      <th>2</th>\n",
       "      <td>2</td>\n",
       "      <td>30.0</td>\n",
       "      <td>35.0</td>\n",
       "      <td>120</td>\n",
       "      <td>13</td>\n",
       "      <td>10</td>\n",
       "      <td>0.7</td>\n",
       "      <td>90</td>\n",
       "      <td>0.90</td>\n",
       "      <td>0.97</td>\n",
       "      <td>3.0</td>\n",
       "      <td>1.1</td>\n",
       "    </tr>\n",
       "  </tbody>\n",
       "</table>\n",
       "</div>"
      ],
      "text/plain": [
       "   CellID  Y_centroid  X_centroid  Area  MajorAxisLength  MinorAxisLength  \\\n",
       "0       0        10.0        15.0   100               12                8   \n",
       "1       1        20.0        25.0   150               14                9   \n",
       "2       2        30.0        35.0   120               13               10   \n",
       "\n",
       "   Eccentricity  Orientation  Extent  Solidity  mean_CD3  mean_CD8  \n",
       "0           0.5            0    0.80      0.95       1.0       0.5  \n",
       "1           0.6           45    0.85      0.96       2.0       0.8  \n",
       "2           0.7           90    0.90      0.97       3.0       1.1  "
      ]
     },
     "execution_count": 46,
     "metadata": {},
     "output_type": "execute_result"
    }
   ],
   "source": [
    "df"
   ]
  },
  {
   "cell_type": "code",
   "execution_count": 49,
   "id": "6f0dbfb8",
   "metadata": {},
   "outputs": [],
   "source": [
    "df.to_csv(path_or_buf=\"test_3.csv\", index=False)"
   ]
  },
  {
   "cell_type": "code",
   "execution_count": 50,
   "id": "9d60c475",
   "metadata": {},
   "outputs": [
    {
     "data": {
      "text/plain": [
       "Index(['CellID', 'Y_centroid', 'X_centroid', 'Area', 'MajorAxisLength',\n",
       "       'MinorAxisLength', 'Eccentricity', 'Orientation', 'Extent', 'Solidity',\n",
       "       'mean_CD3', 'mean_CD8'],\n",
       "      dtype='object')"
      ]
     },
     "execution_count": 50,
     "metadata": {},
     "output_type": "execute_result"
    }
   ],
   "source": [
    "df.columns"
   ]
  },
  {
   "cell_type": "code",
   "execution_count": 51,
   "id": "18b90ae1",
   "metadata": {},
   "outputs": [],
   "source": [
    "meta_columns = ['CellID', 'Y_centroid', 'X_centroid', 'Area', 'MajorAxisLength', 'MinorAxisLength', 'Eccentricity', 'Orientation', 'Extent', 'Solidity']"
   ]
  },
  {
   "cell_type": "code",
   "execution_count": 52,
   "id": "0f9a7092",
   "metadata": {},
   "outputs": [
    {
     "data": {
      "text/html": [
       "<div>\n",
       "<style scoped>\n",
       "    .dataframe tbody tr th:only-of-type {\n",
       "        vertical-align: middle;\n",
       "    }\n",
       "\n",
       "    .dataframe tbody tr th {\n",
       "        vertical-align: top;\n",
       "    }\n",
       "\n",
       "    .dataframe thead th {\n",
       "        text-align: right;\n",
       "    }\n",
       "</style>\n",
       "<table border=\"1\" class=\"dataframe\">\n",
       "  <thead>\n",
       "    <tr style=\"text-align: right;\">\n",
       "      <th></th>\n",
       "      <th>CellID</th>\n",
       "      <th>Y_centroid</th>\n",
       "      <th>X_centroid</th>\n",
       "      <th>Area</th>\n",
       "      <th>MajorAxisLength</th>\n",
       "      <th>MinorAxisLength</th>\n",
       "      <th>Eccentricity</th>\n",
       "      <th>Orientation</th>\n",
       "      <th>Extent</th>\n",
       "      <th>Solidity</th>\n",
       "    </tr>\n",
       "  </thead>\n",
       "  <tbody>\n",
       "    <tr>\n",
       "      <th>0</th>\n",
       "      <td>0</td>\n",
       "      <td>10.0</td>\n",
       "      <td>15.0</td>\n",
       "      <td>100</td>\n",
       "      <td>12</td>\n",
       "      <td>8</td>\n",
       "      <td>0.5</td>\n",
       "      <td>0</td>\n",
       "      <td>0.80</td>\n",
       "      <td>0.95</td>\n",
       "    </tr>\n",
       "    <tr>\n",
       "      <th>1</th>\n",
       "      <td>1</td>\n",
       "      <td>20.0</td>\n",
       "      <td>25.0</td>\n",
       "      <td>150</td>\n",
       "      <td>14</td>\n",
       "      <td>9</td>\n",
       "      <td>0.6</td>\n",
       "      <td>45</td>\n",
       "      <td>0.85</td>\n",
       "      <td>0.96</td>\n",
       "    </tr>\n",
       "    <tr>\n",
       "      <th>2</th>\n",
       "      <td>2</td>\n",
       "      <td>30.0</td>\n",
       "      <td>35.0</td>\n",
       "      <td>120</td>\n",
       "      <td>13</td>\n",
       "      <td>10</td>\n",
       "      <td>0.7</td>\n",
       "      <td>90</td>\n",
       "      <td>0.90</td>\n",
       "      <td>0.97</td>\n",
       "    </tr>\n",
       "  </tbody>\n",
       "</table>\n",
       "</div>"
      ],
      "text/plain": [
       "   CellID  Y_centroid  X_centroid  Area  MajorAxisLength  MinorAxisLength  \\\n",
       "0       0        10.0        15.0   100               12                8   \n",
       "1       1        20.0        25.0   150               14                9   \n",
       "2       2        30.0        35.0   120               13               10   \n",
       "\n",
       "   Eccentricity  Orientation  Extent  Solidity  \n",
       "0           0.5            0    0.80      0.95  \n",
       "1           0.6           45    0.85      0.96  \n",
       "2           0.7           90    0.90      0.97  "
      ]
     },
     "execution_count": 52,
     "metadata": {},
     "output_type": "execute_result"
    }
   ],
   "source": [
    "metadata = df[meta_columns].copy()\n",
    "metadata"
   ]
  },
  {
   "cell_type": "code",
   "execution_count": 53,
   "id": "8db74042",
   "metadata": {},
   "outputs": [
    {
     "data": {
      "text/html": [
       "<div>\n",
       "<style scoped>\n",
       "    .dataframe tbody tr th:only-of-type {\n",
       "        vertical-align: middle;\n",
       "    }\n",
       "\n",
       "    .dataframe tbody tr th {\n",
       "        vertical-align: top;\n",
       "    }\n",
       "\n",
       "    .dataframe thead th {\n",
       "        text-align: right;\n",
       "    }\n",
       "</style>\n",
       "<table border=\"1\" class=\"dataframe\">\n",
       "  <thead>\n",
       "    <tr style=\"text-align: right;\">\n",
       "      <th></th>\n",
       "      <th>mean_CD3</th>\n",
       "      <th>mean_CD8</th>\n",
       "    </tr>\n",
       "  </thead>\n",
       "  <tbody>\n",
       "    <tr>\n",
       "      <th>0</th>\n",
       "      <td>1.0</td>\n",
       "      <td>0.5</td>\n",
       "    </tr>\n",
       "    <tr>\n",
       "      <th>1</th>\n",
       "      <td>2.0</td>\n",
       "      <td>0.8</td>\n",
       "    </tr>\n",
       "    <tr>\n",
       "      <th>2</th>\n",
       "      <td>3.0</td>\n",
       "      <td>1.1</td>\n",
       "    </tr>\n",
       "  </tbody>\n",
       "</table>\n",
       "</div>"
      ],
      "text/plain": [
       "   mean_CD3  mean_CD8\n",
       "0       1.0       0.5\n",
       "1       2.0       0.8\n",
       "2       3.0       1.1"
      ]
     },
     "execution_count": 53,
     "metadata": {},
     "output_type": "execute_result"
    }
   ],
   "source": [
    "data = df.drop(columns=meta_columns).copy()\n",
    "data"
   ]
  },
  {
   "cell_type": "code",
   "execution_count": 54,
   "id": "f6bcd55f",
   "metadata": {},
   "outputs": [
    {
     "data": {
      "text/html": [
       "<div>\n",
       "<style scoped>\n",
       "    .dataframe tbody tr th:only-of-type {\n",
       "        vertical-align: middle;\n",
       "    }\n",
       "\n",
       "    .dataframe tbody tr th {\n",
       "        vertical-align: top;\n",
       "    }\n",
       "\n",
       "    .dataframe thead th {\n",
       "        text-align: right;\n",
       "    }\n",
       "</style>\n",
       "<table border=\"1\" class=\"dataframe\">\n",
       "  <thead>\n",
       "    <tr style=\"text-align: right;\">\n",
       "      <th></th>\n",
       "    </tr>\n",
       "  </thead>\n",
       "  <tbody>\n",
       "    <tr>\n",
       "      <th>mean_CD3</th>\n",
       "    </tr>\n",
       "    <tr>\n",
       "      <th>mean_CD8</th>\n",
       "    </tr>\n",
       "  </tbody>\n",
       "</table>\n",
       "</div>"
      ],
      "text/plain": [
       "Empty DataFrame\n",
       "Columns: []\n",
       "Index: [mean_CD3, mean_CD8]"
      ]
     },
     "execution_count": 54,
     "metadata": {},
     "output_type": "execute_result"
    }
   ],
   "source": [
    "variables = pd.DataFrame(index=data.columns)\n",
    "variables"
   ]
  },
  {
   "cell_type": "code",
   "execution_count": 58,
   "id": "cb20f096",
   "metadata": {},
   "outputs": [
    {
     "name": "stdout",
     "output_type": "stream",
     "text": [
      "\u001b[32m11:59:45.87\u001b[0m | \u001b[1mINFO\u001b[0m |  3 cells and 2 variables\n"
     ]
    }
   ],
   "source": [
    "adata = quant_to_adata(\"test_3.csv\")"
   ]
  },
  {
   "cell_type": "code",
   "execution_count": 59,
   "id": "4553ab9c",
   "metadata": {},
   "outputs": [
    {
     "data": {
      "text/html": [
       "<div>\n",
       "<style scoped>\n",
       "    .dataframe tbody tr th:only-of-type {\n",
       "        vertical-align: middle;\n",
       "    }\n",
       "\n",
       "    .dataframe tbody tr th {\n",
       "        vertical-align: top;\n",
       "    }\n",
       "\n",
       "    .dataframe thead th {\n",
       "        text-align: right;\n",
       "    }\n",
       "</style>\n",
       "<table border=\"1\" class=\"dataframe\">\n",
       "  <thead>\n",
       "    <tr style=\"text-align: right;\">\n",
       "      <th></th>\n",
       "      <th>CellID</th>\n",
       "      <th>Y_centroid</th>\n",
       "      <th>X_centroid</th>\n",
       "      <th>Area</th>\n",
       "      <th>MajorAxisLength</th>\n",
       "      <th>MinorAxisLength</th>\n",
       "      <th>Eccentricity</th>\n",
       "      <th>Orientation</th>\n",
       "      <th>Extent</th>\n",
       "      <th>Solidity</th>\n",
       "    </tr>\n",
       "  </thead>\n",
       "  <tbody>\n",
       "    <tr>\n",
       "      <th>0</th>\n",
       "      <td>1</td>\n",
       "      <td>10.0</td>\n",
       "      <td>15.0</td>\n",
       "      <td>100</td>\n",
       "      <td>12</td>\n",
       "      <td>8</td>\n",
       "      <td>0.5</td>\n",
       "      <td>0</td>\n",
       "      <td>0.80</td>\n",
       "      <td>0.95</td>\n",
       "    </tr>\n",
       "    <tr>\n",
       "      <th>1</th>\n",
       "      <td>2</td>\n",
       "      <td>20.0</td>\n",
       "      <td>25.0</td>\n",
       "      <td>150</td>\n",
       "      <td>14</td>\n",
       "      <td>9</td>\n",
       "      <td>0.6</td>\n",
       "      <td>45</td>\n",
       "      <td>0.85</td>\n",
       "      <td>0.96</td>\n",
       "    </tr>\n",
       "    <tr>\n",
       "      <th>2</th>\n",
       "      <td>3</td>\n",
       "      <td>30.0</td>\n",
       "      <td>35.0</td>\n",
       "      <td>120</td>\n",
       "      <td>13</td>\n",
       "      <td>10</td>\n",
       "      <td>0.7</td>\n",
       "      <td>90</td>\n",
       "      <td>0.90</td>\n",
       "      <td>0.97</td>\n",
       "    </tr>\n",
       "  </tbody>\n",
       "</table>\n",
       "</div>"
      ],
      "text/plain": [
       "   CellID  Y_centroid  X_centroid  Area  MajorAxisLength  MinorAxisLength  \\\n",
       "0       1        10.0        15.0   100               12                8   \n",
       "1       2        20.0        25.0   150               14                9   \n",
       "2       3        30.0        35.0   120               13               10   \n",
       "\n",
       "   Eccentricity  Orientation  Extent  Solidity  \n",
       "0           0.5            0    0.80      0.95  \n",
       "1           0.6           45    0.85      0.96  \n",
       "2           0.7           90    0.90      0.97  "
      ]
     },
     "execution_count": 59,
     "metadata": {},
     "output_type": "execute_result"
    }
   ],
   "source": [
    "adata.obs"
   ]
  },
  {
   "cell_type": "code",
   "execution_count": 60,
   "id": "46673f3d",
   "metadata": {},
   "outputs": [
    {
     "data": {
      "text/html": [
       "<div>\n",
       "<style scoped>\n",
       "    .dataframe tbody tr th:only-of-type {\n",
       "        vertical-align: middle;\n",
       "    }\n",
       "\n",
       "    .dataframe tbody tr th {\n",
       "        vertical-align: top;\n",
       "    }\n",
       "\n",
       "    .dataframe thead th {\n",
       "        text-align: right;\n",
       "    }\n",
       "</style>\n",
       "<table border=\"1\" class=\"dataframe\">\n",
       "  <thead>\n",
       "    <tr style=\"text-align: right;\">\n",
       "      <th></th>\n",
       "    </tr>\n",
       "  </thead>\n",
       "  <tbody>\n",
       "    <tr>\n",
       "      <th>mean_CD3</th>\n",
       "    </tr>\n",
       "    <tr>\n",
       "      <th>mean_CD8</th>\n",
       "    </tr>\n",
       "  </tbody>\n",
       "</table>\n",
       "</div>"
      ],
      "text/plain": [
       "Empty DataFrame\n",
       "Columns: []\n",
       "Index: [mean_CD3, mean_CD8]"
      ]
     },
     "execution_count": 60,
     "metadata": {},
     "output_type": "execute_result"
    }
   ],
   "source": [
    "adata.var"
   ]
  },
  {
   "cell_type": "code",
   "execution_count": 37,
   "id": "5c0d5542",
   "metadata": {},
   "outputs": [
    {
     "data": {
      "text/plain": [
       "array([], shape=(3, 0), dtype=float64)"
      ]
     },
     "execution_count": 37,
     "metadata": {},
     "output_type": "execute_result"
    }
   ],
   "source": [
    "adata.var.values"
   ]
  },
  {
   "cell_type": "code",
   "execution_count": 38,
   "id": "aa230a05",
   "metadata": {},
   "outputs": [
    {
     "data": {
      "text/plain": [
       "array([[0. , 1. , 0.5],\n",
       "       [1. , 2. , 0.8],\n",
       "       [2. , 3. , 1.1]])"
      ]
     },
     "execution_count": 38,
     "metadata": {},
     "output_type": "execute_result"
    }
   ],
   "source": [
    "adata.X"
   ]
  },
  {
   "cell_type": "code",
   "execution_count": 61,
   "id": "35a9f492",
   "metadata": {},
   "outputs": [],
   "source": [
    "import anndata as ad\n",
    "import pandas as pd\n",
    "\n",
    "from opendvp.utils import logger\n",
    "\n",
    "#TODO not general enough, exemplar001 fails\n",
    "\n",
    "def quant_to_adata(\n",
    "        path: str,\n",
    "        index_into_1_based : str | None = \"CellID\",\n",
    "        meta_columns : list | None = None,\n",
    "        ) -> ad.AnnData:\n",
    "    \"\"\"Convert cell quantification CSV data to an AnnData object for downstream analysis.\n",
    "\n",
    "    This module provides a function to read a CSV file containing single-cell quantification data, extract metadata and marker intensities, and return an AnnData object suitable for spatial omics workflows. The function expects specific metadata columns and parses marker columns by splitting their names into mathematical operation and marker name.\n",
    "\n",
    "    Parameters\n",
    "    ----------\n",
    "    path : str\n",
    "        Path to the CSV file containing cell quantification data.\n",
    "    index_into_1_based : str | None\n",
    "        Column name to which to check if 0 exists, and if so add 1 to all values\n",
    "        This is done so that cell index matches segmentation mask values\n",
    "        If None, no modifications will be performed\n",
    "\n",
    "    Returns:\n",
    "    -------\n",
    "    ad.AnnData\n",
    "        AnnData object with cell metadata in `.obs` and marker intensities in `.X` and `.var`.\n",
    "\n",
    "    Examples:\n",
    "    --------\n",
    "    >>> from opendvp.io import quant_to_adata\n",
    "    >>> adata = quant_to_adata('my_quantification.csv')\n",
    "    >>> print(adata)\n",
    "    AnnData object with n_obs * n_vars = ...\n",
    "    >>> adata.obs.head()\n",
    "    >>> adata.var.head()\n",
    "\n",
    "    Notes:\n",
    "    ------\n",
    "    - The CSV file must contain the following metadata columns: 'CellID', 'Y_centroid', 'X_centroid', 'Area', 'MajorAxisLength', 'MinorAxisLength', 'Eccentricity', 'Orientation', 'Extent', 'Solidity'.\n",
    "    - All other columns are treated as marker intensities and are split into 'math' and 'marker' components for AnnData.var.\n",
    "    - Raises ValueError if required metadata columns are missing or if the file is not a CSV.\n",
    "    - The function logs the number of cells and variables loaded, and the time taken for the operation.\n",
    "    \"\"\"\n",
    "    if not path.endswith('.csv'):\n",
    "        raise ValueError(\"The file should be a csv file\")\n",
    "    quant_data = pd.read_csv(path)\n",
    "    quant_data.index = quant_data.index.astype(str)\n",
    "\n",
    "    if not meta_columns:\n",
    "        meta_columns = ['CellID', 'Y_centroid', 'X_centroid', 'Area', 'MajorAxisLength', \n",
    "                        'MinorAxisLength', 'Eccentricity', 'Orientation', 'Extent', 'Solidity']\n",
    "    if not all([column in quant_data.columns for column in meta_columns]):\n",
    "        raise ValueError(\"Not all metadata columns are not present in the csv file\")\n",
    "\n",
    "    if index_into_1_based:\n",
    "        quant_data[index_into_1_based] = quant_data[index_into_1_based].astype(int)\n",
    "        if (quant_data[index_into_1_based] == 0).any():\n",
    "            logger.info(f\"Detected 0 in '{index_into_1_based}' — shifting all values by +1 for 1-based indexing.\")\n",
    "            quant_data[index_into_1_based] = quant_data[index_into_1_based] + 1\n",
    "\n",
    "    metadata = quant_data[meta_columns].copy()\n",
    "    data = quant_data.drop(columns=meta_columns).copy()\n",
    "    variables = pd.DataFrame(index=data.columns)\n",
    "\n",
    "    adata = ad.AnnData(X=data.values, obs=metadata, var=variables)\n",
    "    logger.info(f\" {adata.shape[0]} cells and {adata.shape[1]} variables\")\n",
    "    return adata"
   ]
  },
  {
   "cell_type": "code",
   "execution_count": 62,
   "id": "78b2ee06",
   "metadata": {},
   "outputs": [
    {
     "name": "stdout",
     "output_type": "stream",
     "text": [
      "\u001b[32m12:07:43.27\u001b[0m | \u001b[1mINFO\u001b[0m |  9711 cells and 12 variables\n"
     ]
    }
   ],
   "source": [
    "adata = quant_to_adata(\"test_data/io/quant.csv\")"
   ]
  },
  {
   "cell_type": "code",
   "execution_count": 64,
   "id": "3df622b8",
   "metadata": {},
   "outputs": [
    {
     "data": {
      "text/plain": [
       "(9711, 12)"
      ]
     },
     "execution_count": 64,
     "metadata": {},
     "output_type": "execute_result"
    }
   ],
   "source": [
    "adata.shape"
   ]
  },
  {
   "cell_type": "code",
   "execution_count": 67,
   "id": "d133026e",
   "metadata": {},
   "outputs": [
    {
     "data": {
      "text/plain": [
       "(9711, 10)"
      ]
     },
     "execution_count": 67,
     "metadata": {},
     "output_type": "execute_result"
    }
   ],
   "source": [
    "adata.obs.shape"
   ]
  },
  {
   "cell_type": "code",
   "execution_count": 4,
   "id": "7d34ca0e",
   "metadata": {},
   "outputs": [],
   "source": [
    "import geopandas as gpd\n",
    "import pandas as pd"
   ]
  },
  {
   "cell_type": "code",
   "execution_count": 5,
   "id": "fd1e6910",
   "metadata": {},
   "outputs": [],
   "source": [
    "\n",
    "data = {\n",
    "        'CellID': [0, 1, 2],\n",
    "        'Y_centroid': [10.0, 20.0, 30.0],\n",
    "        'X_centroid': [15.0, 25.0, 35.0],\n",
    "        'Area': [100, 150, 120],\n",
    "        'MajorAxisLength': [12, 14, 13],\n",
    "        'MinorAxisLength': [8, 9, 10],\n",
    "        'Eccentricity': [0.5, 0.6, 0.7],\n",
    "        'Orientation': [0, 45, 90],\n",
    "        'Extent': [0.8, 0.85, 0.9],\n",
    "        'Solidity': [0.95, 0.96, 0.97],\n",
    "        'mean_CD3': [1.0, 2.0, 3.0],\n",
    "        'mean_CD8': [0.5, 0.8, 1.1]\n",
    "    }\n",
    "df = pd.DataFrame(data)"
   ]
  },
  {
   "cell_type": "code",
   "execution_count": 7,
   "id": "7aa8218d",
   "metadata": {},
   "outputs": [
    {
     "data": {
      "text/plain": [
       "Index(['CellID', 'Y_centroid', 'X_centroid', 'Area', 'MajorAxisLength',\n",
       "       'MinorAxisLength', 'Eccentricity', 'Orientation', 'Extent', 'Solidity',\n",
       "       'mean_CD3', 'mean_CD8'],\n",
       "      dtype='object')"
      ]
     },
     "execution_count": 7,
     "metadata": {},
     "output_type": "execute_result"
    }
   ],
   "source": [
    "df.columns"
   ]
  }
 ],
 "metadata": {
  "kernelspec": {
   "display_name": "opendvp-sdata",
   "language": "python",
   "name": "python3"
  },
  "language_info": {
   "codemirror_mode": {
    "name": "ipython",
    "version": 3
   },
   "file_extension": ".py",
   "mimetype": "text/x-python",
   "name": "python",
   "nbconvert_exporter": "python",
   "pygments_lexer": "ipython3",
   "version": "3.11.0"
  }
 },
 "nbformat": 4,
 "nbformat_minor": 5
}
