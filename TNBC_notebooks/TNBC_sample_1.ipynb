{
 "cells": [
  {
   "cell_type": "code",
   "execution_count": 4,
   "id": "924d16b6",
   "metadata": {},
   "outputs": [
    {
     "name": "stdout",
     "output_type": "stream",
     "text": [
      "spatialdata: 0.2.3\n",
      "napari_spatialdata: 0.5.3\n"
     ]
    }
   ],
   "source": [
    "#imports\n",
    "import spatialdata\n",
    "import dask_image.imread\n",
    "import dask.array as da\n",
    "import napari_spatialdata\n",
    "\n",
    "import sys, os\n",
    "sys.path.append(os.path.abspath(\"../src/opendvp\"))\n",
    "import anndata_utils\n",
    "\n",
    "for package in [spatialdata, napari_spatialdata]:\n",
    "    print(f\"{package.__name__}: {package.__version__}\")\n"
   ]
  },
  {
   "cell_type": "code",
   "execution_count": null,
   "id": "06489653",
   "metadata": {},
   "outputs": [],
   "source": [
    "#paths\n",
    "path_to_image = \"../data/TNBC_subset/TD_15_TNBC_subset.ome.tif\"\n",
    "path_to_mask = \"../data/TNBC_subset/mask.tif\"\n",
    "path_to_quant = \"../data/TNBC_subset/quantification.csv\" "
   ]
  }
 ],
 "metadata": {
  "kernelspec": {
   "display_name": "default",
   "language": "python",
   "name": "python3"
  },
  "language_info": {
   "codemirror_mode": {
    "name": "ipython",
    "version": 3
   },
   "file_extension": ".py",
   "mimetype": "text/x-python",
   "name": "python",
   "nbconvert_exporter": "python",
   "pygments_lexer": "ipython3",
   "version": "3.12.8"
  }
 },
 "nbformat": 4,
 "nbformat_minor": 5
}
