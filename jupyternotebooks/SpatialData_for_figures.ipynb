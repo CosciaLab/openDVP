{
 "cells": [
  {
   "cell_type": "code",
   "execution_count": 26,
   "metadata": {},
   "outputs": [
    {
     "name": "stdout",
     "output_type": "stream",
     "text": [
      "spatialdata: 0.3.0\n",
      "napari_spatialdata: 0.5.5\n"
     ]
    }
   ],
   "source": [
    "import spatialdata\n",
    "import spatialdata_plot\n",
    "import dask_image.imread\n",
    "import dask.array as da\n",
    "import napari_spatialdata\n",
    "import matplotlib.pyplot as plt\n",
    "from matplotlib import patches\n",
    "import geopandas as gpd\n",
    "import anndata as ad\n",
    "\n",
    "import sys, os\n",
    "sys.path.append(os.path.abspath(\"../src/opendvp/\"))\n",
    "import anndata_utils\n",
    "\n",
    "for package in [spatialdata, napari_spatialdata]:\n",
    "    print(f\"{package.__name__}: {package.__version__}\")\n",
    "\n",
    "#paths\n",
    "path_to_mIF_image = \"/Volumes/Extreme SSD/P26_BCCN/P26E07_E08_E09_SOPA_Gates/processed_images/991.ome.tif\"\n",
    "path_to_HE_image = \"/Volumes/Extreme SSD/P26_BCCN/P26_HE_staining/240624_SF_P26_mDVP_991_HE.ome.tiff\"\n",
    "path_to_mask = \"/Volumes/Extreme SSD/P26_BCCN/P26E07_E08_E09_SOPA_Gates/expanded-masks/991.tif\"\n",
    "path_to_quant = \"/Volumes/Extreme SSD/P26_BCCN/P26E07_E08_E09_SOPA_Gates/quantification/991.csv\""
   ]
  },
  {
   "cell_type": "markdown",
   "metadata": {},
   "source": [
    "# Create sdata"
   ]
  },
  {
   "cell_type": "code",
   "execution_count": 2,
   "metadata": {},
   "outputs": [
    {
     "name": "stdout",
     "output_type": "stream",
     "text": [
      "# packages in environment at /opt/homebrew/Caskroom/mambaforge/base/envs/spatialdata:\n",
      "#\n",
      "# Name                    Version                   Build  Channel\n",
      "aiobotocore               2.5.4                    pypi_0    pypi\n",
      "aiohappyeyeballs          2.4.6              pyhd8ed1ab_0    conda-forge\n",
      "aiohttp                   3.11.13         py312h998013c_0    conda-forge\n",
      "aioitertools              0.12.0                   pypi_0    pypi\n",
      "aiosignal                 1.3.2              pyhd8ed1ab_0    conda-forge\n",
      "alabaster                 1.0.0              pyhd8ed1ab_1    conda-forge\n",
      "anndata                   0.11.3             pyhd8ed1ab_0    conda-forge\n",
      "annotated-types           0.7.0              pyhd8ed1ab_1    conda-forge\n",
      "aom                       3.9.1                h7bae524_0    conda-forge\n",
      "app-model                 0.3.0              pyhd8ed1ab_0    conda-forge\n",
      "appdirs                   1.4.4              pyhd8ed1ab_1    conda-forge\n",
      "appnope                   0.1.4              pyhd8ed1ab_1    conda-forge\n",
      "array-api-compat          1.10.0             pyhd8ed1ab_0    conda-forge\n",
      "asciitree                 0.3.3                      py_2    conda-forge\n",
      "asttokens                 3.0.0              pyhd8ed1ab_1    conda-forge\n",
      "attrs                     25.1.0             pyh71513ae_0    conda-forge\n",
      "aws-c-auth                0.8.1                hfc2798a_0    conda-forge\n",
      "aws-c-cal                 0.8.1                hc8a0bd2_3    conda-forge\n",
      "aws-c-common              0.10.6               h5505292_0    conda-forge\n",
      "aws-c-compression         0.3.0                hc8a0bd2_5    conda-forge\n",
      "aws-c-event-stream        0.5.0               h54f970a_11    conda-forge\n",
      "aws-c-http                0.9.2                h96aa502_4    conda-forge\n",
      "aws-c-io                  0.15.3               haba67d1_6    conda-forge\n",
      "aws-c-mqtt                0.11.0              h24f418c_12    conda-forge\n",
      "aws-c-s3                  0.7.9                hf37e03c_1    conda-forge\n",
      "aws-c-sdkutils            0.2.2                hc8a0bd2_0    conda-forge\n",
      "aws-checksums             0.2.2                hc8a0bd2_4    conda-forge\n",
      "aws-crt-cpp               0.29.9               ha81f72f_2    conda-forge\n",
      "aws-sdk-cpp               1.11.489             h0e5014b_0    conda-forge\n",
      "azure-core-cpp            1.14.0               hd50102c_0    conda-forge\n",
      "azure-identity-cpp        1.10.0               hc602bab_0    conda-forge\n",
      "azure-storage-blobs-cpp   12.13.0              h7585a09_1    conda-forge\n",
      "azure-storage-common-cpp  12.8.0               h9ca1f76_1    conda-forge\n",
      "azure-storage-files-datalake-cpp 12.12.0              hcdd55da_1    conda-forge\n",
      "babel                     2.17.0             pyhd8ed1ab_0    conda-forge\n",
      "backports                 1.0                pyhd8ed1ab_5    conda-forge\n",
      "backports.tarfile         1.2.0              pyhd8ed1ab_1    conda-forge\n",
      "blosc                     1.21.6               h7dd00d9_1    conda-forge\n",
      "bokeh                     3.6.3              pyhd8ed1ab_0    conda-forge\n",
      "botocore                  1.31.17                  pypi_0    pypi\n",
      "branca                    0.8.1              pyhd8ed1ab_0    conda-forge\n",
      "brotli                    1.1.0                hd74edd7_2    conda-forge\n",
      "brotli-bin                1.1.0                hd74edd7_2    conda-forge\n",
      "brotli-python             1.1.0           py312hde4cb15_2    conda-forge\n",
      "brunsli                   0.1                  h9f76cd9_0    conda-forge\n",
      "bzip2                     1.0.8                h99b78c6_7    conda-forge\n",
      "c-ares                    1.34.4               h5505292_0    conda-forge\n",
      "c-blosc2                  2.15.2               h9cbb436_1    conda-forge\n",
      "ca-certificates           2025.1.31            hf0a4a13_0    conda-forge\n",
      "cachecontrol              0.14.2             pyha770c72_0    conda-forge\n",
      "cachecontrol-with-filecache 0.14.2             pyhd8ed1ab_0    conda-forge\n",
      "cached-property           1.5.2                hd8ed1ab_1    conda-forge\n",
      "cached_property           1.5.2              pyha770c72_1    conda-forge\n",
      "cachey                    0.2.1              pyh9f0ad1d_0    conda-forge\n",
      "cachy                     0.3.0              pyhd8ed1ab_2    conda-forge\n",
      "certifi                   2025.1.31          pyhd8ed1ab_0    conda-forge\n",
      "cffi                      1.17.1          py312h0fad829_0    conda-forge\n",
      "charls                    2.4.2                h13dd4ca_0    conda-forge\n",
      "charset-normalizer        3.4.1              pyhd8ed1ab_0    conda-forge\n",
      "click                     8.1.8              pyh707e725_0    conda-forge\n",
      "click-default-group       1.2.4              pyhd8ed1ab_1    conda-forge\n",
      "clikit                    0.6.2              pyhd8ed1ab_3    conda-forge\n",
      "cloudpickle               3.1.1              pyhd8ed1ab_0    conda-forge\n",
      "colorama                  0.4.6              pyhd8ed1ab_1    conda-forge\n",
      "colorcet                  3.1.0              pyhd8ed1ab_1    conda-forge\n",
      "comm                      0.2.2              pyhd8ed1ab_1    conda-forge\n",
      "conda-lock                2.5.7              pyhd8ed1ab_1    conda-forge\n",
      "contourpy                 1.3.1           py312hb23fbb9_0    conda-forge\n",
      "cpython                   3.12.9          py312hd8ed1ab_0    conda-forge\n",
      "crashtest                 0.4.1              pyhd8ed1ab_1    conda-forge\n",
      "cycler                    0.12.1             pyhd8ed1ab_1    conda-forge\n",
      "cytoolz                   1.0.1           py312hea69d52_0    conda-forge\n",
      "dask                      2024.11.2                pypi_0    pypi\n",
      "dask-expr                 1.1.19                   pypi_0    pypi\n",
      "dask-image                2024.5.3           pyhd8ed1ab_0    conda-forge\n",
      "datashader                0.17.0             pyhd8ed1ab_0    conda-forge\n",
      "dav1d                     1.2.1                hb547adb_0    conda-forge\n",
      "debugpy                   1.8.12          py312hd8f9ff3_0    conda-forge\n",
      "decorator                 5.2.1              pyhd8ed1ab_0    conda-forge\n",
      "deprecated                1.2.18             pyhd8ed1ab_0    conda-forge\n",
      "distlib                   0.3.9              pyhd8ed1ab_1    conda-forge\n",
      "distributed               2024.11.2                pypi_0    pypi\n",
      "docstring_parser          0.16               pyhd8ed1ab_0    conda-forge\n",
      "docutils                  0.21.2             pyhd8ed1ab_1    conda-forge\n",
      "ensureconda               1.4.4              pyhd8ed1ab_1    conda-forge\n",
      "exceptiongroup            1.2.2              pyhd8ed1ab_1    conda-forge\n",
      "executing                 2.1.0              pyhd8ed1ab_1    conda-forge\n",
      "fasteners                 0.19               pyhd8ed1ab_1    conda-forge\n",
      "fcsparser                 0.2.8              pyhd8ed1ab_0    conda-forge\n",
      "filelock                  3.17.0             pyhd8ed1ab_0    conda-forge\n",
      "flexcache                 0.3                pyhd8ed1ab_1    conda-forge\n",
      "flexparser                0.4                pyhd8ed1ab_1    conda-forge\n",
      "folium                    0.19.4             pyhd8ed1ab_0    conda-forge\n",
      "font-ttf-dejavu-sans-mono 2.37                 hab24e00_0    conda-forge\n",
      "font-ttf-inconsolata      3.000                h77eed37_0    conda-forge\n",
      "font-ttf-source-code-pro  2.038                h77eed37_0    conda-forge\n",
      "font-ttf-ubuntu           0.83                 h77eed37_3    conda-forge\n",
      "fontconfig                2.15.0               h1383a14_1    conda-forge\n",
      "fonts-conda-ecosystem     1                             0    conda-forge\n",
      "fonts-conda-forge         1                             0    conda-forge\n",
      "fonttools                 4.56.0          py312h998013c_0    conda-forge\n",
      "freetype                  2.12.1               hadb7bae_2    conda-forge\n",
      "freetype-py               2.5.1              pyhd8ed1ab_1    conda-forge\n",
      "freexl                    2.0.0                h3ab3353_2    conda-forge\n",
      "frozenlist                1.5.0           py312h998013c_1    conda-forge\n",
      "fsspec                    2023.6.0           pyh1a96a4e_0    conda-forge\n",
      "geopandas                 1.0.1              pyhd8ed1ab_3    conda-forge\n",
      "geopandas-base            1.0.1              pyha770c72_3    conda-forge\n",
      "geos                      3.13.0               hf9b8971_0    conda-forge\n",
      "geotiff                   1.7.4                hbef4fa4_0    conda-forge\n",
      "gflags                    2.2.2             hf9b8971_1005    conda-forge\n",
      "giflib                    5.2.2                h93a5062_0    conda-forge\n",
      "gitdb                     4.0.12             pyhd8ed1ab_0    conda-forge\n",
      "gitpython                 3.1.44             pyhff2d567_0    conda-forge\n",
      "glog                      0.7.1                heb240a5_0    conda-forge\n",
      "gmp                       6.3.0                h7bae524_2    conda-forge\n",
      "gmpy2                     2.1.5           py312h524cf62_3    conda-forge\n",
      "h2                        4.2.0              pyhd8ed1ab_0    conda-forge\n",
      "h5py                      3.13.0          nompi_py312hd7c5113_100    conda-forge\n",
      "hdf5                      1.14.3          nompi_ha698983_109    conda-forge\n",
      "heapdict                  1.0.1              pyhd8ed1ab_2    conda-forge\n",
      "hpack                     4.1.0              pyhd8ed1ab_0    conda-forge\n",
      "hsluv                     5.0.4              pyhd8ed1ab_1    conda-forge\n",
      "html5lib                  1.1                pyhd8ed1ab_2    conda-forge\n",
      "hyperframe                6.1.0              pyhd8ed1ab_0    conda-forge\n",
      "icu                       75.1                 hfee45f7_0    conda-forge\n",
      "idna                      3.10               pyhd8ed1ab_1    conda-forge\n",
      "imagecodecs               2024.12.30      py312h8857d0e_0    conda-forge\n",
      "imageio                   2.37.0             pyhfb79c49_0    conda-forge\n",
      "imagesize                 1.4.1              pyhd8ed1ab_0    conda-forge\n",
      "importlib-metadata        8.6.1              pyha770c72_0    conda-forge\n",
      "importlib_resources       6.5.2              pyhd8ed1ab_0    conda-forge\n",
      "in-n-out                  0.2.1              pyhd8ed1ab_1    conda-forge\n",
      "ipykernel                 6.29.5             pyh57ce528_0    conda-forge\n",
      "ipython                   8.32.0             pyh907856f_0    conda-forge\n",
      "jaraco.classes            3.4.0              pyhd8ed1ab_2    conda-forge\n",
      "jaraco.context            6.0.1              pyhd8ed1ab_0    conda-forge\n",
      "jaraco.functools          4.1.0              pyhd8ed1ab_0    conda-forge\n",
      "jedi                      0.19.2             pyhd8ed1ab_1    conda-forge\n",
      "jinja2                    3.1.5              pyhd8ed1ab_0    conda-forge\n",
      "jmespath                  1.0.1                    pypi_0    pypi\n",
      "joblib                    1.4.2              pyhd8ed1ab_1    conda-forge\n",
      "json-c                    0.18                 he4178ee_0    conda-forge\n",
      "jsonschema                4.23.0             pyhd8ed1ab_1    conda-forge\n",
      "jsonschema-specifications 2024.10.1          pyhd8ed1ab_1    conda-forge\n",
      "jupyter_client            8.6.3              pyhd8ed1ab_1    conda-forge\n",
      "jupyter_core              5.7.2              pyh31011fe_1    conda-forge\n",
      "jxrlib                    1.1                  h93a5062_3    conda-forge\n",
      "keyring                   25.6.0             pyh534df25_0    conda-forge\n",
      "kiwisolver                1.4.8           py312h2c4a281_0    conda-forge\n",
      "krb5                      1.21.3               h237132a_0    conda-forge\n",
      "lamin_utils               0.13.10            pyhd8ed1ab_0    conda-forge\n",
      "lazy-loader               0.4                pyhd8ed1ab_2    conda-forge\n",
      "lazy_loader               0.4                pyhd8ed1ab_2    conda-forge\n",
      "lcms2                     2.17                 h7eeda09_0    conda-forge\n",
      "legacy-api-wrap           1.4.1              pyhd8ed1ab_0    conda-forge\n",
      "lerc                      4.0.0                h9a09cb3_0    conda-forge\n",
      "libabseil                 20240722.0      cxx17_h07bc746_4    conda-forge\n",
      "libaec                    1.1.3                hebf3989_0    conda-forge\n",
      "libarchive                3.7.7                h3b16cec_3    conda-forge\n",
      "libarrow                  19.0.1           h0945df6_0_cpu    conda-forge\n",
      "libarrow-acero            19.0.1           hf07054f_0_cpu    conda-forge\n",
      "libarrow-dataset          19.0.1           hf07054f_0_cpu    conda-forge\n",
      "libarrow-substrait        19.0.1           h4239455_0_cpu    conda-forge\n",
      "libavif16                 1.1.1                hf9d1e0e_3    conda-forge\n",
      "libblas                   3.9.0           31_h10e41b3_openblas    conda-forge\n",
      "libbrotlicommon           1.1.0                hd74edd7_2    conda-forge\n",
      "libbrotlidec              1.1.0                hd74edd7_2    conda-forge\n",
      "libbrotlienc              1.1.0                hd74edd7_2    conda-forge\n",
      "libcblas                  3.9.0           31_hb3479ef_openblas    conda-forge\n",
      "libcrc32c                 1.1.2                hbdafb3b_0    conda-forge\n",
      "libcurl                   8.12.1               h73640d1_0    conda-forge\n",
      "libcxx                    19.1.7               ha82da77_0    conda-forge\n",
      "libde265                  1.0.15               h2ffa867_0    conda-forge\n",
      "libdeflate                1.23                 hec38601_0    conda-forge\n",
      "libedit                   3.1.20250104    pl5321hafb1f1b_0    conda-forge\n",
      "libev                     4.33                 h93a5062_2    conda-forge\n",
      "libevent                  2.1.12               h2757513_1    conda-forge\n",
      "libexpat                  2.6.4                h286801f_0    conda-forge\n",
      "libffi                    3.4.2                h3422bc3_5    conda-forge\n",
      "libgdal-core              3.10.2               h9ef0d2d_0    conda-forge\n",
      "libgfortran               5.0.0           13_2_0_hd922786_3    conda-forge\n",
      "libgfortran5              13.2.0               hf226fd6_3    conda-forge\n",
      "libgoogle-cloud           2.35.0               hdbe95d5_0    conda-forge\n",
      "libgoogle-cloud-storage   2.35.0               h7081f7f_0    conda-forge\n",
      "libgrpc                   1.67.1               h0a426d6_1    conda-forge\n",
      "libheif                   1.19.5          gpl_h297b2c4_100    conda-forge\n",
      "libhwloc                  2.11.2          default_hbce5d74_1001    conda-forge\n",
      "libhwy                    1.1.0                h2ffa867_0    conda-forge\n",
      "libiconv                  1.18                 hfe07756_1    conda-forge\n",
      "libjpeg-turbo             3.0.0                hb547adb_1    conda-forge\n",
      "libjxl                    0.11.1               h562e088_0    conda-forge\n",
      "libkml                    1.3.0             he250239_1021    conda-forge\n",
      "liblapack                 3.9.0           31_hc9a63f6_openblas    conda-forge\n",
      "libllvm15                 15.0.7               h4429f82_5    conda-forge\n",
      "liblzma                   5.6.4                h39f12f2_0    conda-forge\n",
      "libnghttp2                1.64.0               h6d7220d_0    conda-forge\n",
      "libopenblas               0.3.29          openmp_hf332438_0    conda-forge\n",
      "libopentelemetry-cpp      1.18.0               h0c05b2d_1    conda-forge\n",
      "libopentelemetry-cpp-headers 1.18.0               hce30654_1    conda-forge\n",
      "libparquet                19.0.1           h636d7b7_0_cpu    conda-forge\n",
      "libpng                    1.6.47               h3783ad8_0    conda-forge\n",
      "libprotobuf               5.28.3               h3bd63a1_1    conda-forge\n",
      "libre2-11                 2024.07.02           h07bc746_2    conda-forge\n",
      "librttopo                 1.1.0               ha2cf0f4_17    conda-forge\n",
      "libsodium                 1.0.20               h99b78c6_0    conda-forge\n",
      "libspatialite             5.1.0               hf92fc0a_12    conda-forge\n",
      "libsqlite                 3.49.1               h3f77e49_1    conda-forge\n",
      "libssh2                   1.11.1               h9cc3647_0    conda-forge\n",
      "libthrift                 0.21.0               h64651cc_0    conda-forge\n",
      "libtiff                   4.7.0                h551f018_3    conda-forge\n",
      "libtorch                  2.6.0           cpu_generic_h42a3e93_0    conda-forge\n",
      "libutf8proc               2.10.0               hda25de7_0    conda-forge\n",
      "libuv                     1.50.0               h5505292_0    conda-forge\n",
      "libwebp-base              1.5.0                h2471fea_0    conda-forge\n",
      "libxcb                    1.17.0               hdb1d25a_0    conda-forge\n",
      "libxml2                   2.13.6               h178c5d8_0    conda-forge\n",
      "libzlib                   1.3.1                h8359307_2    conda-forge\n",
      "libzopfli                 1.0.3                h9f76cd9_0    conda-forge\n",
      "llvm-openmp               19.1.7               hdb05f8b_0    conda-forge\n",
      "llvmlite                  0.44.0          py312h728bc31_0    conda-forge\n",
      "locket                    1.0.0              pyhd8ed1ab_0    conda-forge\n",
      "loguru                    0.7.2           py312h81bd7bf_2    conda-forge\n",
      "lz4                       4.3.3           py312hf263c89_2    conda-forge\n",
      "lz4-c                     1.10.0               h286801f_1    conda-forge\n",
      "lzo                       2.10              h93a5062_1001    conda-forge\n",
      "magicgui                  0.10.0             pyhd8ed1ab_0    conda-forge\n",
      "mapclassify               2.8.1              pyhd8ed1ab_1    conda-forge\n",
      "markdown-it-py            3.0.0              pyhd8ed1ab_1    conda-forge\n",
      "markupsafe                3.0.2           py312h998013c_1    conda-forge\n",
      "matplotlib-base           3.10.0          py312hdbc7e53_0    conda-forge\n",
      "matplotlib-inline         0.1.7              pyhd8ed1ab_1    conda-forge\n",
      "matplotlib-scalebar       0.9.0              pyhd8ed1ab_0    conda-forge\n",
      "mdurl                     0.1.2              pyhd8ed1ab_1    conda-forge\n",
      "minizip                   4.0.7                hff1a8ea_3    conda-forge\n",
      "more-itertools            10.6.0             pyhd8ed1ab_0    conda-forge\n",
      "mpc                       1.3.1                h8f1351a_1    conda-forge\n",
      "mpfr                      4.2.1                hb693164_3    conda-forge\n",
      "mpmath                    1.3.0              pyhd8ed1ab_1    conda-forge\n",
      "msgpack-python            1.1.0           py312h6142ec9_0    conda-forge\n",
      "multidict                 6.1.0           py312hdb8e49c_1    conda-forge\n",
      "multipledispatch          0.6.0              pyhd8ed1ab_1    conda-forge\n",
      "multiscale-spatial-image  2.0.2                    pypi_0    pypi\n",
      "munkres                   1.1.4              pyh9f0ad1d_0    conda-forge\n",
      "napari                    0.5.6              pyhd8ed1ab_0    conda-forge\n",
      "napari-base               0.5.6              pyh9208f05_0    conda-forge\n",
      "napari-console            0.1.3              pyh73487a3_0    conda-forge\n",
      "napari-matplotlib         3.0.0              pyh73487a3_0    conda-forge\n",
      "napari-plugin-engine      0.2.0              pyha07c04f_3    conda-forge\n",
      "napari-plugin-manager     0.1.4              pyha07c04f_0    conda-forge\n",
      "napari-spatialdata        0.5.5                    pypi_0    pypi\n",
      "napari-svg                0.2.1              pyha07c04f_0    conda-forge\n",
      "natsort                   8.4.0              pyh29332c3_1    conda-forge\n",
      "ncurses                   6.5                  h5e97a16_3    conda-forge\n",
      "nest-asyncio              1.6.0              pyhd8ed1ab_1    conda-forge\n",
      "networkx                  3.4.2              pyh267e887_2    conda-forge\n",
      "nlohmann_json             3.11.3               h00cdb27_1    conda-forge\n",
      "nomkl                     1.0                  h5ca1d4c_0    conda-forge\n",
      "npe2                      0.7.8              pyhd8ed1ab_0    conda-forge\n",
      "numba                     0.61.0          py312hdf12f13_1    conda-forge\n",
      "numcodecs                 0.15.1          py312hcb1e3ce_0    conda-forge\n",
      "numpy                     1.26.4          py312h8442bc7_0    conda-forge\n",
      "numpydoc                  1.8.0              pyhd8ed1ab_1    conda-forge\n",
      "ome-zarr                  0.10.3                   pypi_0    pypi\n",
      "openjpeg                  2.5.3                h8a3d83b_0    conda-forge\n",
      "openssl                   3.4.1                h81ee809_0    conda-forge\n",
      "optree                    0.14.0          py312hb23fbb9_1    conda-forge\n",
      "orc                       2.0.3                h0ff2369_2    conda-forge\n",
      "packaging                 24.2               pyhd8ed1ab_2    conda-forge\n",
      "pandas                    2.2.2           py312h8ae5369_1    conda-forge\n",
      "param                     2.2.0              pyhd8ed1ab_0    conda-forge\n",
      "parso                     0.8.4              pyhd8ed1ab_1    conda-forge\n",
      "partd                     1.4.2              pyhd8ed1ab_0    conda-forge\n",
      "pastel                    0.2.1              pyhd8ed1ab_0    conda-forge\n",
      "patsy                     1.0.1              pyhd8ed1ab_1    conda-forge\n",
      "pcre2                     10.44                h297a79d_2    conda-forge\n",
      "pexpect                   4.9.0              pyhd8ed1ab_1    conda-forge\n",
      "pickleshare               0.7.5           pyhd8ed1ab_1004    conda-forge\n",
      "pillow                    11.1.0          py312h50aef2c_0    conda-forge\n",
      "pims                      0.7                pyhd8ed1ab_1    conda-forge\n",
      "pint                      0.24.4             pyhd8ed1ab_1    conda-forge\n",
      "pip                       25.0.1             pyh8b19718_0    conda-forge\n",
      "pkginfo                   1.12.1.2           pyhd8ed1ab_0    conda-forge\n",
      "pkgutil-resolve-name      1.3.10             pyhd8ed1ab_2    conda-forge\n",
      "platformdirs              4.3.6              pyhd8ed1ab_1    conda-forge\n",
      "pooch                     1.8.2              pyhd8ed1ab_1    conda-forge\n",
      "proj                      9.5.1                h1318a7e_0    conda-forge\n",
      "prometheus-cpp            1.3.0                h0967b3e_0    conda-forge\n",
      "prompt-toolkit            3.0.50             pyha770c72_0    conda-forge\n",
      "propcache                 0.2.1           py312h998013c_1    conda-forge\n",
      "psutil                    6.1.1           py312hea69d52_0    conda-forge\n",
      "psygnal                   0.12.0             pyhd8ed1ab_0    conda-forge\n",
      "pthread-stubs             0.4               hd74edd7_1002    conda-forge\n",
      "ptyprocess                0.7.0              pyhd8ed1ab_1    conda-forge\n",
      "pure_eval                 0.2.3              pyhd8ed1ab_1    conda-forge\n",
      "pyarrow                   19.0.1          py312h1f38498_0    conda-forge\n",
      "pyarrow-core              19.0.1          py312hc40f475_0_cpu    conda-forge\n",
      "pybind11                  2.13.6             pyh1ec8472_2    conda-forge\n",
      "pybind11-global           2.13.6             pyh415d2e4_2    conda-forge\n",
      "pyconify                  0.2.1              pyhd8ed1ab_0    conda-forge\n",
      "pycparser                 2.22               pyh29332c3_1    conda-forge\n",
      "pyct                      0.5.0              pyhd8ed1ab_1    conda-forge\n",
      "pydantic                  2.10.6             pyh3cfb1c2_0    conda-forge\n",
      "pydantic-compat           0.1.2              pyhd8ed1ab_0    conda-forge\n",
      "pydantic-core             2.27.2          py312hcd83bfe_0    conda-forge\n",
      "pygments                  2.19.1             pyhd8ed1ab_0    conda-forge\n",
      "pylev                     1.4.0              pyhd8ed1ab_0    conda-forge\n",
      "pynndescent               0.5.13             pyhd8ed1ab_1    conda-forge\n",
      "pyogrio                   0.10.0          py312hfd5e53c_1    conda-forge\n",
      "pyopengl                  3.1.7              pyhd8ed1ab_0    conda-forge\n",
      "pyparsing                 3.2.1              pyhd8ed1ab_0    conda-forge\n",
      "pyproj                    3.7.1           py312h4b98159_0    conda-forge\n",
      "pyproject_hooks           1.2.0              pyhd8ed1ab_1    conda-forge\n",
      "pyqt5                     5.15.11                  pypi_0    pypi\n",
      "pyqt5-qt5                 5.15.16                  pypi_0    pypi\n",
      "pyqt5-sip                 12.17.0                  pypi_0    pypi\n",
      "pyqtgraph                 0.13.7                   pypi_0    pypi\n",
      "pysocks                   1.7.1              pyha55dd90_7    conda-forge\n",
      "python                    3.12.9          hc22306f_0_cpython    conda-forge\n",
      "python-build              1.2.2.post1        pyhff2d567_1    conda-forge\n",
      "python-dateutil           2.9.0.post0        pyhff2d567_1    conda-forge\n",
      "python-dotenv             1.0.1              pyhd8ed1ab_1    conda-forge\n",
      "python-tzdata             2025.1             pyhd8ed1ab_0    conda-forge\n",
      "python_abi                3.12                    5_cp312    conda-forge\n",
      "pytorch                   2.6.0           cpu_generic_py312_hcd6eaa1_0    conda-forge\n",
      "pytz                      2025.1             pyhd8ed1ab_0    conda-forge\n",
      "pywavelets                1.8.0           py312he0011b7_0    conda-forge\n",
      "pyyaml                    6.0.2           py312h998013c_2    conda-forge\n",
      "pyzmq                     26.2.1          py312hf4875e0_0    conda-forge\n",
      "qhull                     2020.2               h420ef59_5    conda-forge\n",
      "qtconsole-base            5.6.1              pyha770c72_1    conda-forge\n",
      "qtpy                      2.4.3              pyhd8ed1ab_0    conda-forge\n",
      "rav1e                     0.6.6                h69fbcac_2    conda-forge\n",
      "re2                       2024.07.02           h6589ca4_2    conda-forge\n",
      "readfcs                   1.1.8              pyhd8ed1ab_0    conda-forge\n",
      "readline                  8.2                  h1d1bf99_2    conda-forge\n",
      "referencing               0.36.2             pyh29332c3_0    conda-forge\n",
      "requests                  2.32.3             pyhd8ed1ab_1    conda-forge\n",
      "rich                      13.9.4             pyhd8ed1ab_1    conda-forge\n",
      "roman-numerals-py         3.1.0              pyhd8ed1ab_0    conda-forge\n",
      "rpds-py                   0.23.1          py312hd60eec9_0    conda-forge\n",
      "ruamel.yaml               0.18.10         py312hea69d52_0    conda-forge\n",
      "ruamel.yaml.clib          0.2.8           py312h0bf5046_1    conda-forge\n",
      "s3fs                      2023.6.0                 pypi_0    pypi\n",
      "scanpy                    1.10.4             pyhd8ed1ab_0    conda-forge\n",
      "scikit-image              0.25.2          py312hcb1e3ce_0    conda-forge\n",
      "scikit-learn              1.6.1           py312h39203ce_0    conda-forge\n",
      "scipy                     1.15.2          py312h99a188d_0    conda-forge\n",
      "seaborn                   0.13.2               hd8ed1ab_3    conda-forge\n",
      "seaborn-base              0.13.2             pyhd8ed1ab_3    conda-forge\n",
      "session-info              1.0.0              pyhd8ed1ab_0    conda-forge\n",
      "setuptools                75.8.0             pyhff2d567_0    conda-forge\n",
      "shapely                   2.0.7           py312ha6455e5_0    conda-forge\n",
      "shellingham               1.5.4              pyhd8ed1ab_1    conda-forge\n",
      "six                       1.17.0             pyhd8ed1ab_0    conda-forge\n",
      "sleef                     3.8                  h8391f65_0    conda-forge\n",
      "slicerator                1.1.0              pyhd8ed1ab_1    conda-forge\n",
      "smmap                     5.0.2              pyhd8ed1ab_0    conda-forge\n",
      "snappy                    1.2.1                h98b9ce2_1    conda-forge\n",
      "snowballstemmer           2.2.0              pyhd8ed1ab_0    conda-forge\n",
      "sortedcontainers          2.4.0              pyhd8ed1ab_1    conda-forge\n",
      "spatial-image             1.1.0              pyhd8ed1ab_1    conda-forge\n",
      "spatialdata               0.3.0                    pypi_0    pypi\n",
      "spatialdata-io            0.1.5              pyhd8ed1ab_0    conda-forge\n",
      "spatialdata-plot          0.2.9                    pypi_0    pypi\n",
      "sphinx                    8.2.1              pyhd8ed1ab_0    conda-forge\n",
      "sphinxcontrib-applehelp   2.0.0              pyhd8ed1ab_1    conda-forge\n",
      "sphinxcontrib-devhelp     2.0.0              pyhd8ed1ab_1    conda-forge\n",
      "sphinxcontrib-htmlhelp    2.1.0              pyhd8ed1ab_1    conda-forge\n",
      "sphinxcontrib-jsmath      1.0.1              pyhd8ed1ab_1    conda-forge\n",
      "sphinxcontrib-qthelp      2.0.0              pyhd8ed1ab_1    conda-forge\n",
      "sphinxcontrib-serializinghtml 1.1.10             pyhd8ed1ab_1    conda-forge\n",
      "sqlite                    3.49.1               hd7222ec_1    conda-forge\n",
      "stack_data                0.6.3              pyhd8ed1ab_1    conda-forge\n",
      "statsmodels               0.14.4          py312h755e627_0    conda-forge\n",
      "stdlib-list               0.11.1             pyhd8ed1ab_0    conda-forge\n",
      "superqt                   0.7.0              pyhb6d5dde_0    conda-forge\n",
      "svt-av1                   3.0.0                h8ab69cd_0    conda-forge\n",
      "sympy                     1.13.3           pyh2585a3b_105    conda-forge\n",
      "tabulate                  0.9.0              pyhd8ed1ab_2    conda-forge\n",
      "tbb                       2022.0.0             h0cbf7ec_0    conda-forge\n",
      "tblib                     3.0.0              pyhd8ed1ab_1    conda-forge\n",
      "threadpoolctl             3.5.0              pyhc1e730c_0    conda-forge\n",
      "tifffile                  2025.2.18          pyhd8ed1ab_0    conda-forge\n",
      "tinycss2                  1.4.0              pyhd8ed1ab_0    conda-forge\n",
      "tk                        8.6.13               h5083fa2_1    conda-forge\n",
      "tomli                     2.2.1              pyhd8ed1ab_1    conda-forge\n",
      "tomli-w                   1.2.0              pyhd8ed1ab_0    conda-forge\n",
      "tomlkit                   0.13.2             pyha770c72_1    conda-forge\n",
      "toolz                     0.12.1             pyhd8ed1ab_0    conda-forge\n",
      "tornado                   6.4.2           py312hea69d52_0    conda-forge\n",
      "tqdm                      4.67.1             pyhd8ed1ab_1    conda-forge\n",
      "traitlets                 5.14.3             pyhd8ed1ab_1    conda-forge\n",
      "typer                     0.15.1             pyhd8ed1ab_0    conda-forge\n",
      "typer-slim                0.15.1             pyhd8ed1ab_0    conda-forge\n",
      "typer-slim-standard       0.15.1               hd8ed1ab_0    conda-forge\n",
      "typing-extensions         4.12.2               hd8ed1ab_1    conda-forge\n",
      "typing_extensions         4.12.2             pyha770c72_1    conda-forge\n",
      "tzdata                    2025a                h78e105d_0    conda-forge\n",
      "umap-learn                0.5.7           py312h81bd7bf_1    conda-forge\n",
      "unicodedata2              16.0.0          py312hea69d52_0    conda-forge\n",
      "uriparser                 0.9.8                h00cdb27_0    conda-forge\n",
      "urllib3                   1.26.20                  pypi_0    pypi\n",
      "virtualenv                20.29.2            pyhd8ed1ab_0    conda-forge\n",
      "vispy                     0.14.3          py312h9179848_1    conda-forge\n",
      "wcwidth                   0.2.13             pyhd8ed1ab_1    conda-forge\n",
      "webencodings              0.5.1              pyhd8ed1ab_3    conda-forge\n",
      "wheel                     0.45.1             pyhd8ed1ab_1    conda-forge\n",
      "wrapt                     1.17.2          py312hea69d52_0    conda-forge\n",
      "x265                      3.5                  hbc6ce65_3    conda-forge\n",
      "xarray                    2024.11.0                pypi_0    pypi\n",
      "xarray-dataclasses        1.9.1                    pypi_0    pypi\n",
      "xarray-datatree           0.0.14             pyhd8ed1ab_0    conda-forge\n",
      "xarray-schema             0.0.3              pyhd8ed1ab_0    conda-forge\n",
      "xarray-spatial            0.4.0              pyhd8ed1ab_1    conda-forge\n",
      "xerces-c                  3.2.5                h92fc2f4_2    conda-forge\n",
      "xorg-libxau               1.0.12               h5505292_0    conda-forge\n",
      "xorg-libxdmcp             1.1.5                hd74edd7_0    conda-forge\n",
      "xyzservices               2025.1.0           pyhd8ed1ab_0    conda-forge\n",
      "yaml                      0.2.5                h3422bc3_2    conda-forge\n",
      "yarl                      1.18.3          py312h998013c_1    conda-forge\n",
      "zarr                      2.18.4             pyhd8ed1ab_0    conda-forge\n",
      "zeromq                    4.3.5                hc1bb282_7    conda-forge\n",
      "zfp                       1.0.1                h1c5d8ea_2    conda-forge\n",
      "zict                      3.0.0              pyhd8ed1ab_1    conda-forge\n",
      "zipp                      3.21.0             pyhd8ed1ab_1    conda-forge\n",
      "zlib                      1.3.1                h8359307_2    conda-forge\n",
      "zlib-ng                   2.2.4                h13dfb9a_0    conda-forge\n",
      "zstandard                 0.23.0          py312h15fbf35_1    conda-forge\n",
      "zstd                      1.5.6                hb46c0d2_0    conda-forge\n"
     ]
    }
   ],
   "source": [
    "! mamba list"
   ]
  },
  {
   "cell_type": "code",
   "execution_count": 3,
   "metadata": {},
   "outputs": [],
   "source": [
    "sdata = spatialdata.SpatialData()"
   ]
  },
  {
   "cell_type": "markdown",
   "metadata": {},
   "source": [
    "## images and mask"
   ]
  },
  {
   "cell_type": "code",
   "execution_count": 4,
   "metadata": {},
   "outputs": [],
   "source": [
    "#parse in images\n",
    "\n",
    "sdata['mIF'] = spatialdata.models.Image2DModel.parse(\n",
    "    data=dask_image.imread.imread(path_to_mIF_image),\n",
    "    dims=['c', 'y', 'x'],\n",
    "    transformations=None,\n",
    "    scale_factors=[3,3,3],\n",
    "    )"
   ]
  },
  {
   "cell_type": "code",
   "execution_count": 5,
   "metadata": {},
   "outputs": [],
   "source": [
    "#parse labels\n",
    "sdata['mask'] = spatialdata.models.Labels2DModel.parse(\n",
    "    data=da.squeeze(dask_image.imread.imread(path_to_mask)),\n",
    "    dims=['y','x'],\n",
    "    scale_factors=[3,3,3],\n",
    "    )"
   ]
  },
  {
   "cell_type": "code",
   "execution_count": 6,
   "metadata": {},
   "outputs": [
    {
     "name": "stdout",
     "output_type": "stream",
     "text": [
      "\u001b[34mINFO    \u001b[0m The Zarr backing store has been changed from \u001b[3;35mNone\u001b[0m the new file path: ..\u001b[35m/data/sdata/\u001b[0m\u001b[95msdata_1_mIF_mask.zarr\u001b[0m  \n"
     ]
    }
   ],
   "source": [
    "sdata.write(\"../data/sdata/sdata_1_mIF_mask.zarr\")"
   ]
  },
  {
   "cell_type": "code",
   "execution_count": 8,
   "metadata": {},
   "outputs": [
    {
     "data": {
      "text/plain": [
       "SpatialData object, with associated Zarr store: /Users/jnimoca/Jose_BI/1_Pipelines/openDVP/data/sdata/sdata_1_mIF_mask.zarr\n",
       "├── Images\n",
       "│     └── 'mIF': DataTree[cyx] (15, 44470, 73167), (15, 14823, 24389), (15, 4941, 8129), (15, 1647, 2709)\n",
       "└── Labels\n",
       "      └── 'mask': DataTree[yx] (44470, 73167), (14823, 24389), (4941, 8129), (1647, 2709)\n",
       "with coordinate systems:\n",
       "    ▸ 'global', with elements:\n",
       "        mIF (Images), mask (Labels)"
      ]
     },
     "execution_count": 8,
     "metadata": {},
     "output_type": "execute_result"
    }
   ],
   "source": [
    "sdata"
   ]
  },
  {
   "cell_type": "code",
   "execution_count": 9,
   "metadata": {},
   "outputs": [],
   "source": [
    "sdata['mask_polygons'] = spatialdata.to_polygons(sdata['mask'])"
   ]
  },
  {
   "cell_type": "code",
   "execution_count": 12,
   "metadata": {},
   "outputs": [
    {
     "data": {
      "text/plain": [
       "SpatialData object, with associated Zarr store: /Users/jnimoca/Jose_BI/1_Pipelines/openDVP/data/sdata/sdata_2_mIF_mask_maskpoly.zarr\n",
       "├── Images\n",
       "│     └── 'mIF': DataTree[cyx] (15, 44470, 73167), (15, 14823, 24389), (15, 4941, 8129), (15, 1647, 2709)\n",
       "├── Labels\n",
       "│     └── 'mask': DataTree[yx] (44470, 73167), (14823, 24389), (4941, 8129), (1647, 2709)\n",
       "└── Shapes\n",
       "      └── 'mask_polygons': GeoDataFrame shape: (685805, 2) (2D shapes)\n",
       "with coordinate systems:\n",
       "    ▸ 'global', with elements:\n",
       "        mIF (Images), mask (Labels), mask_polygons (Shapes)"
      ]
     },
     "execution_count": 12,
     "metadata": {},
     "output_type": "execute_result"
    }
   ],
   "source": [
    "sdata"
   ]
  },
  {
   "cell_type": "code",
   "execution_count": 11,
   "metadata": {},
   "outputs": [
    {
     "name": "stdout",
     "output_type": "stream",
     "text": [
      "\u001b[34mINFO    \u001b[0m The Zarr backing store has been changed from ..\u001b[35m/data/sdata/\u001b[0m\u001b[95msdata_1_mIF_mask.zarr\u001b[0m the new file path:       \n",
      "         ..\u001b[35m/data/sdata/\u001b[0m\u001b[95msdata_2_mIF_mask_maskpoly.zarr\u001b[0m                                                              \n"
     ]
    }
   ],
   "source": [
    "sdata.write(\"../data/sdata/sdata_2_mIF_mask_maskpoly.zarr\")"
   ]
  },
  {
   "cell_type": "markdown",
   "metadata": {},
   "source": [
    "## link polygons"
   ]
  },
  {
   "cell_type": "code",
   "execution_count": 26,
   "metadata": {},
   "outputs": [
    {
     "data": {
      "text/plain": [
       "label\n",
       "1              1\n",
       "2              2\n",
       "3              3\n",
       "4              4\n",
       "5              5\n",
       "           ...  \n",
       "685801    685801\n",
       "685802    685802\n",
       "685803    685803\n",
       "685804    685804\n",
       "685805    685805\n",
       "Name: label, Length: 685805, dtype: int64"
      ]
     },
     "execution_count": 26,
     "metadata": {},
     "output_type": "execute_result"
    }
   ],
   "source": [
    "sdata['mask_polygons']['label'] = sdata['mask_polygons']['label'].astype('int')\n",
    "sdata['mask_polygons'].index = sdata['mask_polygons'].index.astype('int')\n",
    "sdata['mask_polygons']['label']"
   ]
  },
  {
   "cell_type": "code",
   "execution_count": 19,
   "metadata": {},
   "outputs": [
    {
     "name": "stderr",
     "output_type": "stream",
     "text": [
      "\u001b[32m2025-02-26 11:48:33.714\u001b[0m | \u001b[1mINFO    \u001b[0m | \u001b[36manndata_utils\u001b[0m:\u001b[36mread_quant\u001b[0m:\u001b[36m16\u001b[0m - \u001b[1m ---- read_quant : version number 1.1.0 ----\u001b[0m\n",
      "\u001b[32m2025-02-26 11:48:37.313\u001b[0m | \u001b[1mINFO    \u001b[0m | \u001b[36manndata_utils\u001b[0m:\u001b[36mread_quant\u001b[0m:\u001b[36m36\u001b[0m - \u001b[1m 685805 cells and 75 variables\u001b[0m\n",
      "\u001b[32m2025-02-26 11:48:37.314\u001b[0m | \u001b[1mINFO    \u001b[0m | \u001b[36manndata_utils\u001b[0m:\u001b[36mread_quant\u001b[0m:\u001b[36m37\u001b[0m - \u001b[1m ---- read_quant is done, took 3s  ----\u001b[0m\n"
     ]
    }
   ],
   "source": [
    "adata_imaging = anndata_utils.read_quant(\"../data/imaging/991.csv\")"
   ]
  },
  {
   "cell_type": "code",
   "execution_count": 33,
   "metadata": {},
   "outputs": [
    {
     "data": {
      "text/plain": [
       "1              2\n",
       "2              3\n",
       "3              4\n",
       "4              5\n",
       "5              6\n",
       "           ...  \n",
       "685801    685802\n",
       "685802    685803\n",
       "685803    685804\n",
       "685804    685805\n",
       "685805    685806\n",
       "Name: CellID, Length: 685805, dtype: int64"
      ]
     },
     "execution_count": 33,
     "metadata": {},
     "output_type": "execute_result"
    }
   ],
   "source": [
    "adata_imaging.obs['CellID'] = adata_imaging.obs['CellID'] + 1\n",
    "adata_imaging.obs.index = adata_imaging.obs.index.astype(\"int\") + 1\n",
    "adata_imaging.obs['CellID'] "
   ]
  },
  {
   "cell_type": "code",
   "execution_count": 35,
   "metadata": {},
   "outputs": [
    {
     "data": {
      "text/plain": [
       "1              1\n",
       "2              2\n",
       "3              3\n",
       "4              4\n",
       "5              5\n",
       "           ...  \n",
       "685801    685801\n",
       "685802    685802\n",
       "685803    685803\n",
       "685804    685804\n",
       "685805    685805\n",
       "Name: CellID, Length: 685805, dtype: int64"
      ]
     },
     "execution_count": 35,
     "metadata": {},
     "output_type": "execute_result"
    }
   ],
   "source": [
    "adata_imaging.obs['CellID'] "
   ]
  },
  {
   "cell_type": "code",
   "execution_count": null,
   "metadata": {},
   "outputs": [],
   "source": [
    "def check_link(sdata, shape_element_key, adata, adata_obs_key):\n",
    "    shape_index = sdata[shape_element_key].index.to_list()\n",
    "    cell_ids = adata.obs[adata_obs_key].to_list()\n",
    "    assert shape_index[:5] == cell_ids[:5], \"First 5 CellIDs do not match.\"\n",
    "    assert shape_index[-5:] == cell_ids[-5:], \"Last 5 CellIDs do not match.\"\n",
    "    assert sdata[shape_element_key].index.dtype == adata.obs[adata_obs_key].dtype, \"Data types do not match.\"\n",
    "    print(\"Success, no problems found\")"
   ]
  },
  {
   "cell_type": "code",
   "execution_count": 37,
   "metadata": {},
   "outputs": [
    {
     "data": {
      "text/plain": [
       "SpatialData object, with associated Zarr store: /Users/jnimoca/Jose_BI/1_Pipelines/openDVP/data/sdata/sdata_2_mIF_mask_maskpoly.zarr\n",
       "├── Images\n",
       "│     └── 'mIF': DataTree[cyx] (15, 44470, 73167), (15, 14823, 24389), (15, 4941, 8129), (15, 1647, 2709)\n",
       "├── Labels\n",
       "│     └── 'mask': DataTree[yx] (44470, 73167), (14823, 24389), (4941, 8129), (1647, 2709)\n",
       "└── Shapes\n",
       "      └── 'mask_polygons': GeoDataFrame shape: (685805, 2) (2D shapes)\n",
       "with coordinate systems:\n",
       "    ▸ 'global', with elements:\n",
       "        mIF (Images), mask (Labels), mask_polygons (Shapes)"
      ]
     },
     "execution_count": 37,
     "metadata": {},
     "output_type": "execute_result"
    }
   ],
   "source": [
    "sdata"
   ]
  },
  {
   "cell_type": "code",
   "execution_count": 41,
   "metadata": {},
   "outputs": [
    {
     "name": "stdout",
     "output_type": "stream",
     "text": [
      "Success\n"
     ]
    }
   ],
   "source": [
    "check_link(\n",
    "    sdata=sdata,\n",
    "    shape_element_key=\"mask_polygons\",\n",
    "    adata=adata_imaging,\n",
    "    adata_obs_key=\"CellID\")"
   ]
  },
  {
   "cell_type": "code",
   "execution_count": 42,
   "metadata": {},
   "outputs": [],
   "source": [
    "adata_imaging.obs[\"shapes\"] = \"mask_polygons\"\n",
    "adata_imaging.obs[\"shapes\"] = adata_imaging.obs[\"shapes\"].astype(\"category\")\n",
    "sdata[\"imaging\"] = spatialdata.models.TableModel.parse(adata_imaging, region = \"mask_polygons\", region_key = \"shapes\", instance_key = \"CellID\")"
   ]
  },
  {
   "cell_type": "code",
   "execution_count": 43,
   "metadata": {},
   "outputs": [
    {
     "data": {
      "text/plain": [
       "SpatialData object, with associated Zarr store: /Users/jnimoca/Jose_BI/1_Pipelines/openDVP/data/sdata/sdata_2_mIF_mask_maskpoly.zarr\n",
       "├── Images\n",
       "│     └── 'mIF': DataTree[cyx] (15, 44470, 73167), (15, 14823, 24389), (15, 4941, 8129), (15, 1647, 2709)\n",
       "├── Labels\n",
       "│     └── 'mask': DataTree[yx] (44470, 73167), (14823, 24389), (4941, 8129), (1647, 2709)\n",
       "├── Shapes\n",
       "│     └── 'mask_polygons': GeoDataFrame shape: (685805, 2) (2D shapes)\n",
       "└── Tables\n",
       "      └── 'imaging': AnnData (685805, 75)\n",
       "with coordinate systems:\n",
       "    ▸ 'global', with elements:\n",
       "        mIF (Images), mask (Labels), mask_polygons (Shapes)\n",
       "with the following elements not in the Zarr store:\n",
       "    ▸ imaging (Tables)"
      ]
     },
     "execution_count": 43,
     "metadata": {},
     "output_type": "execute_result"
    }
   ],
   "source": [
    "sdata"
   ]
  },
  {
   "cell_type": "code",
   "execution_count": 44,
   "metadata": {},
   "outputs": [
    {
     "name": "stdout",
     "output_type": "stream",
     "text": [
      "\u001b[34mINFO    \u001b[0m The Zarr backing store has been changed from ..\u001b[35m/data/sdata/\u001b[0m\u001b[95msdata_2_mIF_mask_maskpoly.zarr\u001b[0m the new file    \n",
      "         path: ..\u001b[35m/data/sdata/\u001b[0m\u001b[95msdata_3_mIF_mask_maskpoly_imaging_table.zarr\u001b[0m                                          \n"
     ]
    }
   ],
   "source": [
    "sdata.write(\"../data/sdata/sdata_3_mIF_mask_maskpoly_imaging_table.zarr\")"
   ]
  },
  {
   "cell_type": "code",
   "execution_count": 3,
   "metadata": {},
   "outputs": [
    {
     "name": "stderr",
     "output_type": "stream",
     "text": [
      "/opt/homebrew/Caskroom/mambaforge/base/envs/spatialdata/lib/python3.12/site-packages/zarr/creation.py:614: UserWarning: ignoring keyword argument 'read_only'\n",
      "  compressor, fill_value = _kwargs_compat(compressor, fill_value, kwargs)\n",
      "/opt/homebrew/Caskroom/mambaforge/base/envs/spatialdata/lib/python3.12/site-packages/anndata/_core/aligned_df.py:68: ImplicitModificationWarning: Transforming to str index.\n",
      "  warnings.warn(\"Transforming to str index.\", ImplicitModificationWarning)\n"
     ]
    }
   ],
   "source": [
    "sdata = spatialdata.read_zarr(\"../data/sdata/sdata_3_mIF_mask_maskpoly_imaging_table.zarr\")"
   ]
  },
  {
   "cell_type": "code",
   "execution_count": 4,
   "metadata": {},
   "outputs": [
    {
     "data": {
      "text/plain": [
       "SpatialData object, with associated Zarr store: /Users/jnimoca/Jose_BI/1_Pipelines/openDVP/data/sdata/sdata_3_mIF_mask_maskpoly_imaging_table.zarr\n",
       "├── Images\n",
       "│     └── 'mIF': DataTree[cyx] (15, 44470, 73167), (15, 14823, 24389), (15, 4941, 8129), (15, 1647, 2709)\n",
       "├── Labels\n",
       "│     └── 'mask': DataTree[yx] (44470, 73167), (14823, 24389), (4941, 8129), (1647, 2709)\n",
       "├── Shapes\n",
       "│     └── 'mask_polygons': GeoDataFrame shape: (685805, 2) (2D shapes)\n",
       "└── Tables\n",
       "      └── 'imaging': AnnData (685805, 75)\n",
       "with coordinate systems:\n",
       "    ▸ 'global', with elements:\n",
       "        mIF (Images), mask (Labels), mask_polygons (Shapes)"
      ]
     },
     "execution_count": 4,
     "metadata": {},
     "output_type": "execute_result"
    }
   ],
   "source": [
    "sdata"
   ]
  },
  {
   "cell_type": "code",
   "execution_count": null,
   "metadata": {},
   "outputs": [
    {
     "ename": "",
     "evalue": "",
     "output_type": "error",
     "traceback": [
      "\u001b[1;31mThe Kernel crashed while executing code in the current cell or a previous cell. \n",
      "\u001b[1;31mPlease review the code in the cell(s) to identify a possible cause of the failure. \n",
      "\u001b[1;31mClick <a href='https://aka.ms/vscodeJupyterKernelCrash'>here</a> for more info. \n",
      "\u001b[1;31mView Jupyter <a href='command:jupyter.viewOutput'>log</a> for further details."
     ]
    }
   ],
   "source": [
    "# napari check\n",
    "interactive = napari_spatialdata.Interactive(sdata)\n",
    "interactive.run()\n",
    "# check that imaging table plots on top of polygons matched by CellID"
   ]
  },
  {
   "cell_type": "code",
   "execution_count": 12,
   "metadata": {},
   "outputs": [
    {
     "name": "stderr",
     "output_type": "stream",
     "text": [
      "/var/folders/x7/grkjlk8s223dy6234rnz1885mxz2_6/T/ipykernel_10470/1256935928.py:12: DeprecationWarning: `elements` is being deprecated as an argument to `PlotAccessor.render_shapes.render_shapes` in spatialdata_plot version 0.3.0, switch to `element` instead.\n",
      "  sdata.pl.render_shapes(elements=\"mask_polygons\").pl.show(ax=ax)\n"
     ]
    },
    {
     "name": "stdout",
     "output_type": "stream",
     "text": [
      "\u001b[34mINFO    \u001b[0m Using \u001b[32m'datashader'\u001b[0m backend with \u001b[32m'None'\u001b[0m as reduction method to speed up plotting. Depending on the         \n",
      "         reduction method, the value range of the plot might change. Set method to \u001b[32m'matplotlib'\u001b[0m do disable this    \n",
      "         behaviour.                                                                                                \n"
     ]
    },
    {
     "data": {
      "text/plain": [
       "<matplotlib.patches.Rectangle at 0x2dce2ff80>"
      ]
     },
     "execution_count": 12,
     "metadata": {},
     "output_type": "execute_result"
    },
    {
     "data": {
      "image/png": "[encoded data removed]",
      "text/plain": [
       "<Figure size 700x700 with 1 Axes>"
      ]
     },
     "metadata": {},
     "output_type": "display_data"
    }
   ],
   "source": [
    "# loading shapes takes very long\n",
    "# lets subset\n",
    "\n",
    "bb_xmin = 25000\n",
    "bb_ymin = 25000\n",
    "bb_w = 5000\n",
    "bb_h = 5000\n",
    "bb_xmax = bb_xmin + bb_w\n",
    "bb_ymax = bb_ymin + bb_h\n",
    "\n",
    "f, ax = plt.subplots(figsize=(7, 7))\n",
    "sdata.pl.render_shapes(elements=\"mask_polygons\").pl.show(ax=ax)\n",
    "rect = patches.Rectangle((bb_xmin, bb_ymin), bb_w, bb_h, linewidth=5, edgecolor=\"red\", facecolor=\"none\")\n",
    "ax.add_patch(rect)"
   ]
  },
  {
   "cell_type": "code",
   "execution_count": 13,
   "metadata": {},
   "outputs": [],
   "source": [
    "cropped_sdata = sdata.query.bounding_box(\n",
    "    axes=[\"x\", \"y\"],\n",
    "    min_coordinate=[bb_xmin, bb_ymin],\n",
    "    max_coordinate=[bb_xmax, bb_ymax],\n",
    "    target_coordinate_system=\"global\",\n",
    "    filter_table=True,\n",
    ")"
   ]
  },
  {
   "cell_type": "code",
   "execution_count": 14,
   "metadata": {},
   "outputs": [
    {
     "data": {
      "text/plain": [
       "SpatialData object\n",
       "├── Images\n",
       "│     └── 'mIF': DataTree[cyx] (15, 5000, 5000), (15, 1667, 1667), (15, 555, 555), (15, 185, 185)\n",
       "├── Labels\n",
       "│     └── 'mask': DataTree[yx] (5000, 5000), (1667, 1667), (555, 555), (185, 185)\n",
       "├── Shapes\n",
       "│     └── 'mask_polygons': GeoDataFrame shape: (9890, 2) (2D shapes)\n",
       "└── Tables\n",
       "      └── 'imaging': AnnData (9890, 75)\n",
       "with coordinate systems:\n",
       "    ▸ 'global', with elements:\n",
       "        mIF (Images), mask (Labels), mask_polygons (Shapes)"
      ]
     },
     "execution_count": 14,
     "metadata": {},
     "output_type": "execute_result"
    }
   ],
   "source": [
    "cropped_sdata"
   ]
  },
  {
   "cell_type": "code",
   "execution_count": 15,
   "metadata": {},
   "outputs": [],
   "source": [
    "# napari check\n",
    "interactive = napari_spatialdata.Interactive(cropped_sdata)\n",
    "interactive.run()"
   ]
  },
  {
   "cell_type": "markdown",
   "metadata": {},
   "source": [
    "## Add qupath annotations, the geojsons"
   ]
  },
  {
   "cell_type": "code",
   "execution_count": 16,
   "metadata": {},
   "outputs": [],
   "source": [
    "path_to_annotations = \"../data/geojsons/Primary/processed/20241129_1442_Primary991_harmonized.geojson\""
   ]
  },
  {
   "cell_type": "code",
   "execution_count": 18,
   "metadata": {},
   "outputs": [],
   "source": [
    "gdf = gpd.read_file(path_to_annotations)"
   ]
  },
  {
   "cell_type": "code",
   "execution_count": 21,
   "metadata": {},
   "outputs": [
    {
     "data": {
      "text/plain": [
       "array(['Primary_Immune_1', 'Primary_Immune_2', 'Primary_Immune_3',\n",
       "       'Primary_TumorBed_1', 'Primary_TumorBed_2', 'Primary_TumorBed_3',\n",
       "       'Primary_Interface_1', 'Primary_Interface_2',\n",
       "       'Primary_Interface_3'], dtype=object)"
      ]
     },
     "execution_count": 21,
     "metadata": {},
     "output_type": "execute_result"
    }
   ],
   "source": [
    "gdf.harmonized_class.unique()"
   ]
  },
  {
   "cell_type": "code",
   "execution_count": 22,
   "metadata": {},
   "outputs": [
    {
     "ename": "AttributeError",
     "evalue": "'NoneType' object has no attribute 'copy'",
     "output_type": "error",
     "traceback": [
      "\u001b[0;31m---------------------------------------------------------------------------\u001b[0m",
      "\u001b[0;31mAttributeError\u001b[0m                            Traceback (most recent call last)",
      "File \u001b[0;32m/opt/homebrew/Caskroom/mambaforge/base/envs/spatialdata/lib/python3.12/site-packages/IPython/core/formatters.py:402\u001b[0m, in \u001b[0;36mBaseFormatter.__call__\u001b[0;34m(self, obj)\u001b[0m\n\u001b[1;32m    400\u001b[0m     \u001b[38;5;28;01mpass\u001b[39;00m\n\u001b[1;32m    401\u001b[0m \u001b[38;5;28;01melse\u001b[39;00m:\n\u001b[0;32m--> 402\u001b[0m     \u001b[38;5;28;01mreturn\u001b[39;00m \u001b[43mprinter\u001b[49m\u001b[43m(\u001b[49m\u001b[43mobj\u001b[49m\u001b[43m)\u001b[49m\n\u001b[1;32m    403\u001b[0m \u001b[38;5;66;03m# Finally look for special method names\u001b[39;00m\n\u001b[1;32m    404\u001b[0m method \u001b[38;5;241m=\u001b[39m get_real_method(obj, \u001b[38;5;28mself\u001b[39m\u001b[38;5;241m.\u001b[39mprint_method)\n",
      "Cell \u001b[0;32mIn[1], line 227\u001b[0m, in \u001b[0;36m__DW_OUTPUT_FORMATTER__.<locals>.DataWrangler.formatter\u001b[0;34m(cls, var, **kwargs)\u001b[0m\n\u001b[1;32m    225\u001b[0m \u001b[38;5;129m@classmethod\u001b[39m\n\u001b[1;32m    226\u001b[0m \u001b[38;5;28;01mdef\u001b[39;00m\u001b[38;5;250m \u001b[39m\u001b[38;5;21mformatter\u001b[39m(\u001b[38;5;28mcls\u001b[39m, var, \u001b[38;5;241m*\u001b[39m\u001b[38;5;241m*\u001b[39mkwargs):\n\u001b[0;32m--> 227\u001b[0m     s \u001b[38;5;241m=\u001b[39m \u001b[38;5;28;43mcls\u001b[39;49m\u001b[43m(\u001b[49m\u001b[43mvar\u001b[49m\u001b[43m,\u001b[49m\u001b[43m \u001b[49m\u001b[38;5;241;43m*\u001b[39;49m\u001b[38;5;241;43m*\u001b[39;49m\u001b[43mkwargs\u001b[49m\u001b[43m)\u001b[49m\n\u001b[1;32m    228\u001b[0m     \u001b[38;5;28;01mreturn\u001b[39;00m s\u001b[38;5;241m.\u001b[39m_repr_dw_()\n",
      "Cell \u001b[0;32mIn[1], line 221\u001b[0m, in \u001b[0;36m__DW_OUTPUT_FORMATTER__.<locals>.DataWrangler.__init__\u001b[0;34m(self, expr_val)\u001b[0m\n\u001b[1;32m    218\u001b[0m \u001b[38;5;28mself\u001b[39m\u001b[38;5;241m.\u001b[39mid \u001b[38;5;241m=\u001b[39m \u001b[38;5;28mstr\u001b[39m(uuid\u001b[38;5;241m.\u001b[39muuid4())\n\u001b[1;32m    219\u001b[0m pandas_df, conversion_method \u001b[38;5;241m=\u001b[39m api[\u001b[38;5;124m\"\u001b[39m\u001b[38;5;124mpandas_transport\u001b[39m\u001b[38;5;124m\"\u001b[39m][\u001b[38;5;124m\"\u001b[39m\u001b[38;5;124mconvert_to_pandas\u001b[39m\u001b[38;5;124m\"\u001b[39m](expr_val)\n\u001b[1;32m    220\u001b[0m tmp_vars[\u001b[38;5;28mself\u001b[39m\u001b[38;5;241m.\u001b[39mid] \u001b[38;5;241m=\u001b[39m {\n\u001b[0;32m--> 221\u001b[0m     \u001b[38;5;124m\"\u001b[39m\u001b[38;5;124mconverted\u001b[39m\u001b[38;5;124m\"\u001b[39m: \u001b[43mpandas_df\u001b[49m\u001b[38;5;241;43m.\u001b[39;49m\u001b[43mcopy\u001b[49m(deep\u001b[38;5;241m=\u001b[39m\u001b[38;5;28;01mFalse\u001b[39;00m), \u001b[38;5;66;03m# create a shallow copy in case a displayed object is mutated in the same cell\u001b[39;00m\n\u001b[1;32m    222\u001b[0m     \u001b[38;5;124m\"\u001b[39m\u001b[38;5;124mconversion_method\u001b[39m\u001b[38;5;124m\"\u001b[39m: conversion_method\n\u001b[1;32m    223\u001b[0m }\n",
      "\u001b[0;31mAttributeError\u001b[0m: 'NoneType' object has no attribute 'copy'"
     ]
    },
    {
     "data": {
      "text/html": [
       "<div>\n",
       "<style scoped>\n",
       "    .dataframe tbody tr th:only-of-type {\n",
       "        vertical-align: middle;\n",
       "    }\n",
       "\n",
       "    .dataframe tbody tr th {\n",
       "        vertical-align: top;\n",
       "    }\n",
       "\n",
       "    .dataframe thead th {\n",
       "        text-align: right;\n",
       "    }\n",
       "</style>\n",
       "<table border=\"1\" class=\"dataframe\">\n",
       "  <thead>\n",
       "    <tr style=\"text-align: right;\">\n",
       "      <th></th>\n",
       "      <th>id</th>\n",
       "      <th>objectType</th>\n",
       "      <th>name</th>\n",
       "      <th>classification</th>\n",
       "      <th>class</th>\n",
       "      <th>harmonized_class</th>\n",
       "      <th>geometry</th>\n",
       "    </tr>\n",
       "  </thead>\n",
       "  <tbody>\n",
       "    <tr>\n",
       "      <th>0</th>\n",
       "      <td>4901bc90-bd70-412d-a441-0ff05dfa35a4</td>\n",
       "      <td>annotation</td>\n",
       "      <td>None</td>\n",
       "      <td>{ \"name\": \"991_DI_1\", \"color\": [ 165, 218, 209...</td>\n",
       "      <td>991_DI_1</td>\n",
       "      <td>Primary_Immune_1</td>\n",
       "      <td>POLYGON ((44720 36407.5, 44719.55 36421.72, 44...</td>\n",
       "    </tr>\n",
       "    <tr>\n",
       "      <th>1</th>\n",
       "      <td>677c08c8-1578-4d40-9004-56770e72c0ed</td>\n",
       "      <td>annotation</td>\n",
       "      <td>None</td>\n",
       "      <td>{ \"name\": \"991_DI_1\", \"color\": [ 165, 218, 209...</td>\n",
       "      <td>991_DI_1</td>\n",
       "      <td>Primary_Immune_1</td>\n",
       "      <td>POLYGON ((44919 36928.5, 44918.55 36942.72, 44...</td>\n",
       "    </tr>\n",
       "    <tr>\n",
       "      <th>2</th>\n",
       "      <td>31712a3a-4a0f-4304-b598-e418e29bcf57</td>\n",
       "      <td>annotation</td>\n",
       "      <td>None</td>\n",
       "      <td>{ \"name\": \"991_DI_1\", \"color\": [ 165, 218, 209...</td>\n",
       "      <td>991_DI_1</td>\n",
       "      <td>Primary_Immune_1</td>\n",
       "      <td>POLYGON ((44226 36725.5, 44225.55 36739.72, 44...</td>\n",
       "    </tr>\n",
       "    <tr>\n",
       "      <th>3</th>\n",
       "      <td>c49bf319-03ad-42e1-8aac-3a9cd916876b</td>\n",
       "      <td>annotation</td>\n",
       "      <td>None</td>\n",
       "      <td>{ \"name\": \"991_DI_1\", \"color\": [ 165, 218, 209...</td>\n",
       "      <td>991_DI_1</td>\n",
       "      <td>Primary_Immune_1</td>\n",
       "      <td>POLYGON ((44843 37430.5, 44842.55 37444.72, 44...</td>\n",
       "    </tr>\n",
       "    <tr>\n",
       "      <th>4</th>\n",
       "      <td>a27e7237-df76-4e5b-8bbf-3fb57ab6c7c4</td>\n",
       "      <td>annotation</td>\n",
       "      <td>None</td>\n",
       "      <td>{ \"name\": \"991_DI_2\", \"color\": [ 165, 12, 79 ] }</td>\n",
       "      <td>991_DI_2</td>\n",
       "      <td>Primary_Immune_2</td>\n",
       "      <td>POLYGON ((47400 38154, 47399.6 38166.81, 47398...</td>\n",
       "    </tr>\n",
       "  </tbody>\n",
       "</table>\n",
       "</div>"
      ],
      "text/plain": [
       "                                     id  objectType  name  \\\n",
       "0  4901bc90-bd70-412d-a441-0ff05dfa35a4  annotation  None   \n",
       "1  677c08c8-1578-4d40-9004-56770e72c0ed  annotation  None   \n",
       "2  31712a3a-4a0f-4304-b598-e418e29bcf57  annotation  None   \n",
       "3  c49bf319-03ad-42e1-8aac-3a9cd916876b  annotation  None   \n",
       "4  a27e7237-df76-4e5b-8bbf-3fb57ab6c7c4  annotation  None   \n",
       "\n",
       "                                      classification     class  \\\n",
       "0  { \"name\": \"991_DI_1\", \"color\": [ 165, 218, 209...  991_DI_1   \n",
       "1  { \"name\": \"991_DI_1\", \"color\": [ 165, 218, 209...  991_DI_1   \n",
       "2  { \"name\": \"991_DI_1\", \"color\": [ 165, 218, 209...  991_DI_1   \n",
       "3  { \"name\": \"991_DI_1\", \"color\": [ 165, 218, 209...  991_DI_1   \n",
       "4   { \"name\": \"991_DI_2\", \"color\": [ 165, 12, 79 ] }  991_DI_2   \n",
       "\n",
       "   harmonized_class                                           geometry  \n",
       "0  Primary_Immune_1  POLYGON ((44720 36407.5, 44719.55 36421.72, 44...  \n",
       "1  Primary_Immune_1  POLYGON ((44919 36928.5, 44918.55 36942.72, 44...  \n",
       "2  Primary_Immune_1  POLYGON ((44226 36725.5, 44225.55 36739.72, 44...  \n",
       "3  Primary_Immune_1  POLYGON ((44843 37430.5, 44842.55 37444.72, 44...  \n",
       "4  Primary_Immune_2  POLYGON ((47400 38154, 47399.6 38166.81, 47398...  "
      ]
     },
     "execution_count": 22,
     "metadata": {},
     "output_type": "execute_result"
    }
   ],
   "source": [
    "gdf.head()"
   ]
  },
  {
   "cell_type": "code",
   "execution_count": 23,
   "metadata": {},
   "outputs": [
    {
     "ename": "AttributeError",
     "evalue": "'NoneType' object has no attribute 'copy'",
     "output_type": "error",
     "traceback": [
      "\u001b[0;31m---------------------------------------------------------------------------\u001b[0m",
      "\u001b[0;31mAttributeError\u001b[0m                            Traceback (most recent call last)",
      "File \u001b[0;32m/opt/homebrew/Caskroom/mambaforge/base/envs/spatialdata/lib/python3.12/site-packages/IPython/core/formatters.py:402\u001b[0m, in \u001b[0;36mBaseFormatter.__call__\u001b[0;34m(self, obj)\u001b[0m\n\u001b[1;32m    400\u001b[0m     \u001b[38;5;28;01mpass\u001b[39;00m\n\u001b[1;32m    401\u001b[0m \u001b[38;5;28;01melse\u001b[39;00m:\n\u001b[0;32m--> 402\u001b[0m     \u001b[38;5;28;01mreturn\u001b[39;00m \u001b[43mprinter\u001b[49m\u001b[43m(\u001b[49m\u001b[43mobj\u001b[49m\u001b[43m)\u001b[49m\n\u001b[1;32m    403\u001b[0m \u001b[38;5;66;03m# Finally look for special method names\u001b[39;00m\n\u001b[1;32m    404\u001b[0m method \u001b[38;5;241m=\u001b[39m get_real_method(obj, \u001b[38;5;28mself\u001b[39m\u001b[38;5;241m.\u001b[39mprint_method)\n",
      "Cell \u001b[0;32mIn[1], line 227\u001b[0m, in \u001b[0;36m__DW_OUTPUT_FORMATTER__.<locals>.DataWrangler.formatter\u001b[0;34m(cls, var, **kwargs)\u001b[0m\n\u001b[1;32m    225\u001b[0m \u001b[38;5;129m@classmethod\u001b[39m\n\u001b[1;32m    226\u001b[0m \u001b[38;5;28;01mdef\u001b[39;00m\u001b[38;5;250m \u001b[39m\u001b[38;5;21mformatter\u001b[39m(\u001b[38;5;28mcls\u001b[39m, var, \u001b[38;5;241m*\u001b[39m\u001b[38;5;241m*\u001b[39mkwargs):\n\u001b[0;32m--> 227\u001b[0m     s \u001b[38;5;241m=\u001b[39m \u001b[38;5;28;43mcls\u001b[39;49m\u001b[43m(\u001b[49m\u001b[43mvar\u001b[49m\u001b[43m,\u001b[49m\u001b[43m \u001b[49m\u001b[38;5;241;43m*\u001b[39;49m\u001b[38;5;241;43m*\u001b[39;49m\u001b[43mkwargs\u001b[49m\u001b[43m)\u001b[49m\n\u001b[1;32m    228\u001b[0m     \u001b[38;5;28;01mreturn\u001b[39;00m s\u001b[38;5;241m.\u001b[39m_repr_dw_()\n",
      "Cell \u001b[0;32mIn[1], line 221\u001b[0m, in \u001b[0;36m__DW_OUTPUT_FORMATTER__.<locals>.DataWrangler.__init__\u001b[0;34m(self, expr_val)\u001b[0m\n\u001b[1;32m    218\u001b[0m \u001b[38;5;28mself\u001b[39m\u001b[38;5;241m.\u001b[39mid \u001b[38;5;241m=\u001b[39m \u001b[38;5;28mstr\u001b[39m(uuid\u001b[38;5;241m.\u001b[39muuid4())\n\u001b[1;32m    219\u001b[0m pandas_df, conversion_method \u001b[38;5;241m=\u001b[39m api[\u001b[38;5;124m\"\u001b[39m\u001b[38;5;124mpandas_transport\u001b[39m\u001b[38;5;124m\"\u001b[39m][\u001b[38;5;124m\"\u001b[39m\u001b[38;5;124mconvert_to_pandas\u001b[39m\u001b[38;5;124m\"\u001b[39m](expr_val)\n\u001b[1;32m    220\u001b[0m tmp_vars[\u001b[38;5;28mself\u001b[39m\u001b[38;5;241m.\u001b[39mid] \u001b[38;5;241m=\u001b[39m {\n\u001b[0;32m--> 221\u001b[0m     \u001b[38;5;124m\"\u001b[39m\u001b[38;5;124mconverted\u001b[39m\u001b[38;5;124m\"\u001b[39m: \u001b[43mpandas_df\u001b[49m\u001b[38;5;241;43m.\u001b[39;49m\u001b[43mcopy\u001b[49m(deep\u001b[38;5;241m=\u001b[39m\u001b[38;5;28;01mFalse\u001b[39;00m), \u001b[38;5;66;03m# create a shallow copy in case a displayed object is mutated in the same cell\u001b[39;00m\n\u001b[1;32m    222\u001b[0m     \u001b[38;5;124m\"\u001b[39m\u001b[38;5;124mconversion_method\u001b[39m\u001b[38;5;124m\"\u001b[39m: conversion_method\n\u001b[1;32m    223\u001b[0m }\n",
      "\u001b[0;31mAttributeError\u001b[0m: 'NoneType' object has no attribute 'copy'"
     ]
    },
    {
     "data": {
      "text/html": [
       "<div>\n",
       "<style scoped>\n",
       "    .dataframe tbody tr th:only-of-type {\n",
       "        vertical-align: middle;\n",
       "    }\n",
       "\n",
       "    .dataframe tbody tr th {\n",
       "        vertical-align: top;\n",
       "    }\n",
       "\n",
       "    .dataframe thead th {\n",
       "        text-align: right;\n",
       "    }\n",
       "</style>\n",
       "<table border=\"1\" class=\"dataframe\">\n",
       "  <thead>\n",
       "    <tr style=\"text-align: right;\">\n",
       "      <th></th>\n",
       "      <th>id</th>\n",
       "      <th>objectType</th>\n",
       "      <th>name</th>\n",
       "      <th>classification</th>\n",
       "      <th>class</th>\n",
       "      <th>harmonized_class</th>\n",
       "      <th>geometry</th>\n",
       "    </tr>\n",
       "  </thead>\n",
       "  <tbody>\n",
       "    <tr>\n",
       "      <th>Primary_Immune_1</th>\n",
       "      <td>4901bc90-bd70-412d-a441-0ff05dfa35a4</td>\n",
       "      <td>annotation</td>\n",
       "      <td>None</td>\n",
       "      <td>{ \"name\": \"991_DI_1\", \"color\": [ 165, 218, 209...</td>\n",
       "      <td>991_DI_1</td>\n",
       "      <td>Primary_Immune_1</td>\n",
       "      <td>POLYGON ((44720 36407.5, 44719.55 36421.72, 44...</td>\n",
       "    </tr>\n",
       "    <tr>\n",
       "      <th>Primary_Immune_1</th>\n",
       "      <td>677c08c8-1578-4d40-9004-56770e72c0ed</td>\n",
       "      <td>annotation</td>\n",
       "      <td>None</td>\n",
       "      <td>{ \"name\": \"991_DI_1\", \"color\": [ 165, 218, 209...</td>\n",
       "      <td>991_DI_1</td>\n",
       "      <td>Primary_Immune_1</td>\n",
       "      <td>POLYGON ((44919 36928.5, 44918.55 36942.72, 44...</td>\n",
       "    </tr>\n",
       "    <tr>\n",
       "      <th>Primary_Immune_1</th>\n",
       "      <td>31712a3a-4a0f-4304-b598-e418e29bcf57</td>\n",
       "      <td>annotation</td>\n",
       "      <td>None</td>\n",
       "      <td>{ \"name\": \"991_DI_1\", \"color\": [ 165, 218, 209...</td>\n",
       "      <td>991_DI_1</td>\n",
       "      <td>Primary_Immune_1</td>\n",
       "      <td>POLYGON ((44226 36725.5, 44225.55 36739.72, 44...</td>\n",
       "    </tr>\n",
       "    <tr>\n",
       "      <th>Primary_Immune_1</th>\n",
       "      <td>c49bf319-03ad-42e1-8aac-3a9cd916876b</td>\n",
       "      <td>annotation</td>\n",
       "      <td>None</td>\n",
       "      <td>{ \"name\": \"991_DI_1\", \"color\": [ 165, 218, 209...</td>\n",
       "      <td>991_DI_1</td>\n",
       "      <td>Primary_Immune_1</td>\n",
       "      <td>POLYGON ((44843 37430.5, 44842.55 37444.72, 44...</td>\n",
       "    </tr>\n",
       "    <tr>\n",
       "      <th>Primary_Immune_2</th>\n",
       "      <td>a27e7237-df76-4e5b-8bbf-3fb57ab6c7c4</td>\n",
       "      <td>annotation</td>\n",
       "      <td>None</td>\n",
       "      <td>{ \"name\": \"991_DI_2\", \"color\": [ 165, 12, 79 ] }</td>\n",
       "      <td>991_DI_2</td>\n",
       "      <td>Primary_Immune_2</td>\n",
       "      <td>POLYGON ((47400 38154, 47399.6 38166.81, 47398...</td>\n",
       "    </tr>\n",
       "  </tbody>\n",
       "</table>\n",
       "</div>"
      ],
      "text/plain": [
       "                                                    id  objectType  name  \\\n",
       "Primary_Immune_1  4901bc90-bd70-412d-a441-0ff05dfa35a4  annotation  None   \n",
       "Primary_Immune_1  677c08c8-1578-4d40-9004-56770e72c0ed  annotation  None   \n",
       "Primary_Immune_1  31712a3a-4a0f-4304-b598-e418e29bcf57  annotation  None   \n",
       "Primary_Immune_1  c49bf319-03ad-42e1-8aac-3a9cd916876b  annotation  None   \n",
       "Primary_Immune_2  a27e7237-df76-4e5b-8bbf-3fb57ab6c7c4  annotation  None   \n",
       "\n",
       "                                                     classification     class  \\\n",
       "Primary_Immune_1  { \"name\": \"991_DI_1\", \"color\": [ 165, 218, 209...  991_DI_1   \n",
       "Primary_Immune_1  { \"name\": \"991_DI_1\", \"color\": [ 165, 218, 209...  991_DI_1   \n",
       "Primary_Immune_1  { \"name\": \"991_DI_1\", \"color\": [ 165, 218, 209...  991_DI_1   \n",
       "Primary_Immune_1  { \"name\": \"991_DI_1\", \"color\": [ 165, 218, 209...  991_DI_1   \n",
       "Primary_Immune_2   { \"name\": \"991_DI_2\", \"color\": [ 165, 12, 79 ] }  991_DI_2   \n",
       "\n",
       "                  harmonized_class  \\\n",
       "Primary_Immune_1  Primary_Immune_1   \n",
       "Primary_Immune_1  Primary_Immune_1   \n",
       "Primary_Immune_1  Primary_Immune_1   \n",
       "Primary_Immune_1  Primary_Immune_1   \n",
       "Primary_Immune_2  Primary_Immune_2   \n",
       "\n",
       "                                                           geometry  \n",
       "Primary_Immune_1  POLYGON ((44720 36407.5, 44719.55 36421.72, 44...  \n",
       "Primary_Immune_1  POLYGON ((44919 36928.5, 44918.55 36942.72, 44...  \n",
       "Primary_Immune_1  POLYGON ((44226 36725.5, 44225.55 36739.72, 44...  \n",
       "Primary_Immune_1  POLYGON ((44843 37430.5, 44842.55 37444.72, 44...  \n",
       "Primary_Immune_2  POLYGON ((47400 38154, 47399.6 38166.81, 47398...  "
      ]
     },
     "execution_count": 23,
     "metadata": {},
     "output_type": "execute_result"
    }
   ],
   "source": [
    "gdf.index = gdf.harmonized_class.values\n",
    "gdf.head()"
   ]
  },
  {
   "cell_type": "code",
   "execution_count": 41,
   "metadata": {},
   "outputs": [
    {
     "name": "stderr",
     "output_type": "stream",
     "text": [
      "/opt/homebrew/Caskroom/mambaforge/base/envs/spatialdata/lib/python3.12/site-packages/spatialdata/_core/_elements.py:105: UserWarning: Key `lmd_contours` already exists. Overwriting it in-memory.\n",
      "  self._check_key(key, self.keys(), self._shared_keys)\n"
     ]
    }
   ],
   "source": [
    "sdata['lmd_contours'] = spatialdata.models.ShapesModel.parse(gdf2)"
   ]
  },
  {
   "cell_type": "code",
   "execution_count": 42,
   "metadata": {},
   "outputs": [
    {
     "ename": "AttributeError",
     "evalue": "'NoneType' object has no attribute 'copy'",
     "output_type": "error",
     "traceback": [
      "\u001b[0;31m---------------------------------------------------------------------------\u001b[0m",
      "\u001b[0;31mAttributeError\u001b[0m                            Traceback (most recent call last)",
      "File \u001b[0;32m/opt/homebrew/Caskroom/mambaforge/base/envs/spatialdata/lib/python3.12/site-packages/IPython/core/formatters.py:402\u001b[0m, in \u001b[0;36mBaseFormatter.__call__\u001b[0;34m(self, obj)\u001b[0m\n\u001b[1;32m    400\u001b[0m     \u001b[38;5;28;01mpass\u001b[39;00m\n\u001b[1;32m    401\u001b[0m \u001b[38;5;28;01melse\u001b[39;00m:\n\u001b[0;32m--> 402\u001b[0m     \u001b[38;5;28;01mreturn\u001b[39;00m \u001b[43mprinter\u001b[49m\u001b[43m(\u001b[49m\u001b[43mobj\u001b[49m\u001b[43m)\u001b[49m\n\u001b[1;32m    403\u001b[0m \u001b[38;5;66;03m# Finally look for special method names\u001b[39;00m\n\u001b[1;32m    404\u001b[0m method \u001b[38;5;241m=\u001b[39m get_real_method(obj, \u001b[38;5;28mself\u001b[39m\u001b[38;5;241m.\u001b[39mprint_method)\n",
      "Cell \u001b[0;32mIn[1], line 227\u001b[0m, in \u001b[0;36m__DW_OUTPUT_FORMATTER__.<locals>.DataWrangler.formatter\u001b[0;34m(cls, var, **kwargs)\u001b[0m\n\u001b[1;32m    225\u001b[0m \u001b[38;5;129m@classmethod\u001b[39m\n\u001b[1;32m    226\u001b[0m \u001b[38;5;28;01mdef\u001b[39;00m\u001b[38;5;250m \u001b[39m\u001b[38;5;21mformatter\u001b[39m(\u001b[38;5;28mcls\u001b[39m, var, \u001b[38;5;241m*\u001b[39m\u001b[38;5;241m*\u001b[39mkwargs):\n\u001b[0;32m--> 227\u001b[0m     s \u001b[38;5;241m=\u001b[39m \u001b[38;5;28;43mcls\u001b[39;49m\u001b[43m(\u001b[49m\u001b[43mvar\u001b[49m\u001b[43m,\u001b[49m\u001b[43m \u001b[49m\u001b[38;5;241;43m*\u001b[39;49m\u001b[38;5;241;43m*\u001b[39;49m\u001b[43mkwargs\u001b[49m\u001b[43m)\u001b[49m\n\u001b[1;32m    228\u001b[0m     \u001b[38;5;28;01mreturn\u001b[39;00m s\u001b[38;5;241m.\u001b[39m_repr_dw_()\n",
      "Cell \u001b[0;32mIn[1], line 221\u001b[0m, in \u001b[0;36m__DW_OUTPUT_FORMATTER__.<locals>.DataWrangler.__init__\u001b[0;34m(self, expr_val)\u001b[0m\n\u001b[1;32m    218\u001b[0m \u001b[38;5;28mself\u001b[39m\u001b[38;5;241m.\u001b[39mid \u001b[38;5;241m=\u001b[39m \u001b[38;5;28mstr\u001b[39m(uuid\u001b[38;5;241m.\u001b[39muuid4())\n\u001b[1;32m    219\u001b[0m pandas_df, conversion_method \u001b[38;5;241m=\u001b[39m api[\u001b[38;5;124m\"\u001b[39m\u001b[38;5;124mpandas_transport\u001b[39m\u001b[38;5;124m\"\u001b[39m][\u001b[38;5;124m\"\u001b[39m\u001b[38;5;124mconvert_to_pandas\u001b[39m\u001b[38;5;124m\"\u001b[39m](expr_val)\n\u001b[1;32m    220\u001b[0m tmp_vars[\u001b[38;5;28mself\u001b[39m\u001b[38;5;241m.\u001b[39mid] \u001b[38;5;241m=\u001b[39m {\n\u001b[0;32m--> 221\u001b[0m     \u001b[38;5;124m\"\u001b[39m\u001b[38;5;124mconverted\u001b[39m\u001b[38;5;124m\"\u001b[39m: \u001b[43mpandas_df\u001b[49m\u001b[38;5;241;43m.\u001b[39;49m\u001b[43mcopy\u001b[49m(deep\u001b[38;5;241m=\u001b[39m\u001b[38;5;28;01mFalse\u001b[39;00m), \u001b[38;5;66;03m# create a shallow copy in case a displayed object is mutated in the same cell\u001b[39;00m\n\u001b[1;32m    222\u001b[0m     \u001b[38;5;124m\"\u001b[39m\u001b[38;5;124mconversion_method\u001b[39m\u001b[38;5;124m\"\u001b[39m: conversion_method\n\u001b[1;32m    223\u001b[0m }\n",
      "\u001b[0;31mAttributeError\u001b[0m: 'NoneType' object has no attribute 'copy'"
     ]
    },
    {
     "data": {
      "text/html": [
       "<div>\n",
       "<style scoped>\n",
       "    .dataframe tbody tr th:only-of-type {\n",
       "        vertical-align: middle;\n",
       "    }\n",
       "\n",
       "    .dataframe tbody tr th {\n",
       "        vertical-align: top;\n",
       "    }\n",
       "\n",
       "    .dataframe thead th {\n",
       "        text-align: right;\n",
       "    }\n",
       "</style>\n",
       "<table border=\"1\" class=\"dataframe\">\n",
       "  <thead>\n",
       "    <tr style=\"text-align: right;\">\n",
       "      <th></th>\n",
       "      <th>id</th>\n",
       "      <th>objectType</th>\n",
       "      <th>classification</th>\n",
       "      <th>class_name</th>\n",
       "      <th>geometry</th>\n",
       "    </tr>\n",
       "  </thead>\n",
       "  <tbody>\n",
       "    <tr>\n",
       "      <th>0</th>\n",
       "      <td>f28bcc19-9831-427b-9b97-10868325b0e8</td>\n",
       "      <td>annotation</td>\n",
       "      <td>{ \"name\": \"P26E17_RCN3_3\", \"color\": [ 232, 118...</td>\n",
       "      <td>P26E17_RCN3_3</td>\n",
       "      <td>POLYGON ((56281 28253, 56280.7 28262.42, 56279...</td>\n",
       "    </tr>\n",
       "    <tr>\n",
       "      <th>1</th>\n",
       "      <td>800e33fd-8073-40aa-8145-526f0a18ba7a</td>\n",
       "      <td>annotation</td>\n",
       "      <td>{ \"name\": \"P26E17_RCN3_4\", \"color\": [ 232, 187...</td>\n",
       "      <td>P26E17_RCN3_4</td>\n",
       "      <td>POLYGON ((54544 28839, 54543.7 28848.42, 54542...</td>\n",
       "    </tr>\n",
       "    <tr>\n",
       "      <th>2</th>\n",
       "      <td>9d800822-b37b-4942-8d8d-5c4c7733bd77</td>\n",
       "      <td>annotation</td>\n",
       "      <td>{ \"name\": \"P26E17_RCN3_6\", \"color\": [ 232, 88,...</td>\n",
       "      <td>P26E17_RCN3_6</td>\n",
       "      <td>POLYGON ((49930 27689, 49929.7 27698.42, 49928...</td>\n",
       "    </tr>\n",
       "    <tr>\n",
       "      <th>3</th>\n",
       "      <td>2aaea3c4-b633-4ce0-b314-2a2bdc603965</td>\n",
       "      <td>annotation</td>\n",
       "      <td>{ \"name\": \"P26E17_RCN3_6\", \"color\": [ 232, 88,...</td>\n",
       "      <td>P26E17_RCN3_6</td>\n",
       "      <td>POLYGON ((50349 28362, 50348.7 28371.42, 50347...</td>\n",
       "    </tr>\n",
       "    <tr>\n",
       "      <th>4</th>\n",
       "      <td>0a74ef15-992d-4e8d-b48f-7aae1d864c6b</td>\n",
       "      <td>annotation</td>\n",
       "      <td>{ \"name\": \"P26E17_RCN3_20\", \"color\": [ 118, 21...</td>\n",
       "      <td>P26E17_RCN3_20</td>\n",
       "      <td>POLYGON ((47178 27872, 47177.7 27881.42, 47176...</td>\n",
       "    </tr>\n",
       "    <tr>\n",
       "      <th>...</th>\n",
       "      <td>...</td>\n",
       "      <td>...</td>\n",
       "      <td>...</td>\n",
       "      <td>...</td>\n",
       "      <td>...</td>\n",
       "    </tr>\n",
       "    <tr>\n",
       "      <th>229</th>\n",
       "      <td>a17d4675-96a9-4f45-90ae-4b65c6580c25</td>\n",
       "      <td>annotation</td>\n",
       "      <td>{ \"name\": \"Primary_refill_88\", \"color\": [ 89, ...</td>\n",
       "      <td>Primary_refill_88</td>\n",
       "      <td>POLYGON ((29895.2 34144.17, 29882.64 34144.56,...</td>\n",
       "    </tr>\n",
       "    <tr>\n",
       "      <th>230</th>\n",
       "      <td>d03c3ea0-a511-4481-968a-b6f3e23f1764</td>\n",
       "      <td>annotation</td>\n",
       "      <td>{ \"name\": \"Primary_refill_9\", \"color\": [ 178, ...</td>\n",
       "      <td>Primary_refill_9</td>\n",
       "      <td>POLYGON ((53718.2 24269.17, 53705.64 24269.56,...</td>\n",
       "    </tr>\n",
       "    <tr>\n",
       "      <th>231</th>\n",
       "      <td>21b7eb33-5607-4689-80b4-aa5f27bf9cb8</td>\n",
       "      <td>annotation</td>\n",
       "      <td>{ \"name\": \"Primary_refill_90\", \"color\": [ 88, ...</td>\n",
       "      <td>Primary_refill_90</td>\n",
       "      <td>POLYGON ((58865.2 36447.17, 58852.64 36447.56,...</td>\n",
       "    </tr>\n",
       "    <tr>\n",
       "      <th>232</th>\n",
       "      <td>ff29bb1a-ad53-474e-b748-df882882dce4</td>\n",
       "      <td>annotation</td>\n",
       "      <td>{ \"name\": \"Primary_refill_91\", \"color\": [ 88, ...</td>\n",
       "      <td>Primary_refill_91</td>\n",
       "      <td>POLYGON ((58754.2 38373.17, 58741.64 38373.56,...</td>\n",
       "    </tr>\n",
       "    <tr>\n",
       "      <th>233</th>\n",
       "      <td>a5467a11-8ace-459b-aa56-0441e9758097</td>\n",
       "      <td>annotation</td>\n",
       "      <td>{ \"name\": \"Primary_refill_92\", \"color\": [ 88, ...</td>\n",
       "      <td>Primary_refill_92</td>\n",
       "      <td>POLYGON ((60793.2 33094.17, 60780.64 33094.56,...</td>\n",
       "    </tr>\n",
       "  </tbody>\n",
       "</table>\n",
       "<p>234 rows × 5 columns</p>\n",
       "</div>"
      ],
      "text/plain": [
       "                                       id  objectType  \\\n",
       "0    f28bcc19-9831-427b-9b97-10868325b0e8  annotation   \n",
       "1    800e33fd-8073-40aa-8145-526f0a18ba7a  annotation   \n",
       "2    9d800822-b37b-4942-8d8d-5c4c7733bd77  annotation   \n",
       "3    2aaea3c4-b633-4ce0-b314-2a2bdc603965  annotation   \n",
       "4    0a74ef15-992d-4e8d-b48f-7aae1d864c6b  annotation   \n",
       "..                                    ...         ...   \n",
       "229  a17d4675-96a9-4f45-90ae-4b65c6580c25  annotation   \n",
       "230  d03c3ea0-a511-4481-968a-b6f3e23f1764  annotation   \n",
       "231  21b7eb33-5607-4689-80b4-aa5f27bf9cb8  annotation   \n",
       "232  ff29bb1a-ad53-474e-b748-df882882dce4  annotation   \n",
       "233  a5467a11-8ace-459b-aa56-0441e9758097  annotation   \n",
       "\n",
       "                                        classification         class_name  \\\n",
       "0    { \"name\": \"P26E17_RCN3_3\", \"color\": [ 232, 118...      P26E17_RCN3_3   \n",
       "1    { \"name\": \"P26E17_RCN3_4\", \"color\": [ 232, 187...      P26E17_RCN3_4   \n",
       "2    { \"name\": \"P26E17_RCN3_6\", \"color\": [ 232, 88,...      P26E17_RCN3_6   \n",
       "3    { \"name\": \"P26E17_RCN3_6\", \"color\": [ 232, 88,...      P26E17_RCN3_6   \n",
       "4    { \"name\": \"P26E17_RCN3_20\", \"color\": [ 118, 21...     P26E17_RCN3_20   \n",
       "..                                                 ...                ...   \n",
       "229  { \"name\": \"Primary_refill_88\", \"color\": [ 89, ...  Primary_refill_88   \n",
       "230  { \"name\": \"Primary_refill_9\", \"color\": [ 178, ...   Primary_refill_9   \n",
       "231  { \"name\": \"Primary_refill_90\", \"color\": [ 88, ...  Primary_refill_90   \n",
       "232  { \"name\": \"Primary_refill_91\", \"color\": [ 88, ...  Primary_refill_91   \n",
       "233  { \"name\": \"Primary_refill_92\", \"color\": [ 88, ...  Primary_refill_92   \n",
       "\n",
       "                                              geometry  \n",
       "0    POLYGON ((56281 28253, 56280.7 28262.42, 56279...  \n",
       "1    POLYGON ((54544 28839, 54543.7 28848.42, 54542...  \n",
       "2    POLYGON ((49930 27689, 49929.7 27698.42, 49928...  \n",
       "3    POLYGON ((50349 28362, 50348.7 28371.42, 50347...  \n",
       "4    POLYGON ((47178 27872, 47177.7 27881.42, 47176...  \n",
       "..                                                 ...  \n",
       "229  POLYGON ((29895.2 34144.17, 29882.64 34144.56,...  \n",
       "230  POLYGON ((53718.2 24269.17, 53705.64 24269.56,...  \n",
       "231  POLYGON ((58865.2 36447.17, 58852.64 36447.56,...  \n",
       "232  POLYGON ((58754.2 38373.17, 58741.64 38373.56,...  \n",
       "233  POLYGON ((60793.2 33094.17, 60780.64 33094.56,...  \n",
       "\n",
       "[234 rows x 5 columns]"
      ]
     },
     "execution_count": 42,
     "metadata": {},
     "output_type": "execute_result"
    }
   ],
   "source": [
    "sdata['lmd_contours']"
   ]
  },
  {
   "cell_type": "code",
   "execution_count": 89,
   "metadata": {},
   "outputs": [
    {
     "data": {
      "text/plain": [
       "Index(['Precursors.Identified', 'Proteins.Identified', 'Total.Quantity',\n",
       "       'MS1.Signal', 'MS2.Signal', 'FWHM.Scans', 'FWHM.RT',\n",
       "       'Median.Mass.Acc.MS1', 'Median.Mass.Acc.MS1.Corrected',\n",
       "       'Median.Mass.Acc.MS2', 'Median.Mass.Acc.MS2.Corrected',\n",
       "       'MS2.Mass.Instability', 'Normalisation.Instability',\n",
       "       'Median.RT.Prediction.Acc', 'Average.Peptide.Length',\n",
       "       'Average.Peptide.Charge', 'Average.Missed.Tryptic.Cleavages',\n",
       "       'filename', 'Machine', 'Date', 'User_id', 'LC', 'Acquisition', 'Exp_id',\n",
       "       'Plate_384wp_id', '384wp_well_real', 'Vial', 'Vol_injected',\n",
       "       'LCMS_run_id', '96wp_well', '96wp_id', 'Biopsy_type', 'RCN', 'RCN_long',\n",
       "       'replicate', 'class_name'],\n",
       "      dtype='object')"
      ]
     },
     "execution_count": 89,
     "metadata": {},
     "output_type": "execute_result"
    }
   ],
   "source": [
    "adata_proteomic = ad.read_h5ad(\"/Users/jnimoca/Jose_BI/4_Projects/P26_BCCN/P26E18_ProteomicAnalysis/data/adatas/20250129_2244_adata.h5ad\")\n",
    "adata_proteomic.obs.columns"
   ]
  },
  {
   "cell_type": "code",
   "execution_count": 88,
   "metadata": {},
   "outputs": [
    {
     "name": "stderr",
     "output_type": "stream",
     "text": [
      "/opt/homebrew/Caskroom/mambaforge/base/envs/spatialdata/lib/python3.12/site-packages/spatialdata/_core/_elements.py:105: UserWarning: Key `lmd_contours` already exists. Overwriting it in-memory.\n",
      "  self._check_key(key, self.keys(), self._shared_keys)\n"
     ]
    },
    {
     "data": {
      "text/plain": [
       "SpatialData object, with associated Zarr store: /Users/jnimoca/Jose_BI/1_Pipelines/openDVP/data/sdata/sdata_3_mIF_mask_maskpoly_imaging_table.zarr\n",
       "├── Images\n",
       "│     └── 'mIF': DataTree[cyx] (15, 44470, 73167), (15, 14823, 24389), (15, 4941, 8129), (15, 1647, 2709)\n",
       "├── Labels\n",
       "│     └── 'mask': DataTree[yx] (44470, 73167), (14823, 24389), (4941, 8129), (1647, 2709)\n",
       "├── Shapes\n",
       "│     ├── 'lmd_contours': GeoDataFrame shape: (448, 18) (2D shapes)\n",
       "│     └── 'mask_polygons': GeoDataFrame shape: (685805, 2) (2D shapes)\n",
       "└── Tables\n",
       "      └── 'imaging': AnnData (685805, 75)\n",
       "with coordinate systems:\n",
       "    ▸ 'global', with elements:\n",
       "        mIF (Images), mask (Labels), lmd_contours (Shapes), mask_polygons (Shapes)\n",
       "with the following elements not in the Zarr store:\n",
       "    ▸ lmd_contours (Shapes)"
      ]
     },
     "execution_count": 88,
     "metadata": {},
     "output_type": "execute_result"
    }
   ],
   "source": [
    "from shapely.wkt import loads\n",
    "df = gpd.read_file(\"/Users/jnimoca/Jose_BI/4_Projects/P26_BCCN/P26E18_ProteomicAnalysis/data/shapes/all_shapes.csv\")\n",
    "df[\"geometry\"] = df[\"geometry\"].apply(lambda x: loads(x) if isinstance(x, str) else x)\n",
    "gdf = gpd.GeoDataFrame(df, geometry=\"geometry\")\n",
    "gdf.index = gdf.new_class_name.values\n",
    "sdata['lmd_contours'] = spatialdata.models.ShapesModel.parse(gdf)\n",
    "sdata"
   ]
  },
  {
   "cell_type": "code",
   "execution_count": 113,
   "metadata": {},
   "outputs": [],
   "source": [
    "adata_proteomic.obs[\"shapes\"] = \"lmd_contours\"\n",
    "adata_proteomic.obs[\"shapes\"] = adata_proteomic.obs[\"shapes\"].astype(\"category\")\n",
    "adata_proteomic.obs['class_name'] = adata_proteomic.obs[\"class_name\"].astype(\"str\")\n",
    "sdata[\"proteins\"] = spatialdata.models.TableModel.parse(adata_proteomic, region = \"lmd_contours\", region_key = \"shapes\", instance_key = \"class_name\")"
   ]
  },
  {
   "cell_type": "code",
   "execution_count": 95,
   "metadata": {},
   "outputs": [
    {
     "data": {
      "text/plain": [
       "class_name\n",
       "Primary_RCN3_15     1\n",
       "Primary_RCN1_38     1\n",
       "Primary_RCN1_37     1\n",
       "Primary_RCN1_3      1\n",
       "Primary_RCN1_5      1\n",
       "                   ..\n",
       "Relapse_RCN5_19     1\n",
       "Relapse_RCN5_21     1\n",
       "Relapse_RCN5_22     1\n",
       "Relapse_RCN5_10     1\n",
       "Primary_RCN1_164    2\n",
       "Name: count, Length: 218, dtype: int64"
      ]
     },
     "execution_count": 95,
     "metadata": {},
     "output_type": "execute_result"
    }
   ],
   "source": [
    "adata_proteomic.obs.class_name.value_counts().sort_values()"
   ]
  },
  {
   "cell_type": "code",
   "execution_count": null,
   "metadata": {},
   "outputs": [],
   "source": [
    "# this had to be done because somehow there was a sample duplication, digitally it looks legit.\n",
    "# Somehow sample L10 from relapse plate, appeared in two evotips.. I will keep one for now\n",
    "adata_proteomic = adata_proteomic[adata_proteomic.obs.LCMS_run_id != 8551].copy()"
   ]
  },
  {
   "cell_type": "code",
   "execution_count": 114,
   "metadata": {},
   "outputs": [
    {
     "data": {
      "text/plain": [
       "SpatialData object, with associated Zarr store: /Users/jnimoca/Jose_BI/1_Pipelines/openDVP/data/sdata/sdata_3_mIF_mask_maskpoly_imaging_table.zarr\n",
       "├── Images\n",
       "│     └── 'mIF': DataTree[cyx] (15, 44470, 73167), (15, 14823, 24389), (15, 4941, 8129), (15, 1647, 2709)\n",
       "├── Labels\n",
       "│     └── 'mask': DataTree[yx] (44470, 73167), (14823, 24389), (4941, 8129), (1647, 2709)\n",
       "├── Shapes\n",
       "│     ├── 'lmd_contours': GeoDataFrame shape: (448, 18) (2D shapes)\n",
       "│     └── 'mask_polygons': GeoDataFrame shape: (685805, 2) (2D shapes)\n",
       "└── Tables\n",
       "      ├── 'imaging': AnnData (685805, 75)\n",
       "      └── 'proteins': AnnData (218, 4766)\n",
       "with coordinate systems:\n",
       "    ▸ 'global', with elements:\n",
       "        mIF (Images), mask (Labels), lmd_contours (Shapes), mask_polygons (Shapes)\n",
       "with the following elements not in the Zarr store:\n",
       "    ▸ proteins (Tables)\n",
       "    ▸ lmd_contours (Shapes)"
      ]
     },
     "execution_count": 114,
     "metadata": {},
     "output_type": "execute_result"
    }
   ],
   "source": [
    "sdata"
   ]
  },
  {
   "cell_type": "code",
   "execution_count": 115,
   "metadata": {},
   "outputs": [
    {
     "name": "stdout",
     "output_type": "stream",
     "text": [
      "\u001b[34mINFO    \u001b[0m The SpatialData object is not self-contained \u001b[1m(\u001b[0mi.e. it contains some elements that are Dask-backed from    \n",
      "         locations outside ..\u001b[35m/data/sdata/\u001b[0m\u001b[95msdata_4_mIF_mask_imgtable_protable.zarr\u001b[0m\u001b[1m)\u001b[0m. Please see the documentation of \n",
      "         `\u001b[1;35mis_self_contained\u001b[0m\u001b[1m(\u001b[0m\u001b[1m)\u001b[0m` to understand the implications of working with SpatialData objects that are not     \n",
      "         self-contained.                                                                                           \n",
      "\u001b[34mINFO    \u001b[0m The Zarr backing store has been changed from ..\u001b[35m/data/sdata/\u001b[0m\u001b[95msdata_3_mIF_mask_maskpoly_imaging_table.zarr\u001b[0m   \n",
      "         the new file path: ..\u001b[35m/data/sdata/\u001b[0m\u001b[95msdata_4_mIF_mask_imgtable_protable.zarr\u001b[0m                                  \n"
     ]
    }
   ],
   "source": [
    "sdata.write(\"../data/sdata/sdata_4_mIF_mask_imgtable_protable.zarr\")"
   ]
  },
  {
   "cell_type": "code",
   "execution_count": 116,
   "metadata": {},
   "outputs": [
    {
     "data": {
      "text/plain": [
       "SpatialData object, with associated Zarr store: /Users/jnimoca/Jose_BI/1_Pipelines/openDVP/data/sdata/sdata_4_mIF_mask_imgtable_protable.zarr\n",
       "├── Images\n",
       "│     └── 'mIF': DataTree[cyx] (15, 44470, 73167), (15, 14823, 24389), (15, 4941, 8129), (15, 1647, 2709)\n",
       "├── Labels\n",
       "│     └── 'mask': DataTree[yx] (44470, 73167), (14823, 24389), (4941, 8129), (1647, 2709)\n",
       "├── Shapes\n",
       "│     ├── 'lmd_contours': GeoDataFrame shape: (448, 18) (2D shapes)\n",
       "│     └── 'mask_polygons': GeoDataFrame shape: (685805, 2) (2D shapes)\n",
       "└── Tables\n",
       "      ├── 'imaging': AnnData (685805, 75)\n",
       "      └── 'proteins': AnnData (218, 4766)\n",
       "with coordinate systems:\n",
       "    ▸ 'global', with elements:\n",
       "        mIF (Images), mask (Labels), lmd_contours (Shapes), mask_polygons (Shapes)\n",
       "with the following Dask-backed elements not being self-contained:\n",
       "    ▸ mIF: /Users/jnimoca/Jose_BI/1_Pipelines/openDVP/data/sdata/sdata_3_mIF_mask_maskpoly_imaging_table.zarr/images/mIF\n",
       "    ▸ mask: /Users/jnimoca/Jose_BI/1_Pipelines/openDVP/data/sdata/sdata_3_mIF_mask_maskpoly_imaging_table.zarr/labels/mask"
      ]
     },
     "execution_count": 116,
     "metadata": {},
     "output_type": "execute_result"
    }
   ],
   "source": [
    "sdata"
   ]
  },
  {
   "cell_type": "code",
   "execution_count": 117,
   "metadata": {},
   "outputs": [
    {
     "name": "stderr",
     "output_type": "stream",
     "text": [
      "/opt/homebrew/Caskroom/mambaforge/base/envs/spatialdata/lib/python3.12/site-packages/zarr/creation.py:614: UserWarning: ignoring keyword argument 'read_only'\n",
      "  compressor, fill_value = _kwargs_compat(compressor, fill_value, kwargs)\n"
     ]
    }
   ],
   "source": [
    "del sdata\n",
    "sdata = spatialdata.read_zarr(\"../data/sdata/sdata_4_mIF_mask_imgtable_protable.zarr\")"
   ]
  },
  {
   "cell_type": "code",
   "execution_count": 118,
   "metadata": {},
   "outputs": [],
   "source": [
    "interactive = napari_spatialdata.Interactive(sdata)\n",
    "interactive.run()"
   ]
  }
 ],
 "metadata": {
  "kernelspec": {
   "display_name": "spatialdata",
   "language": "python",
   "name": "python3"
  },
  "language_info": {
   "codemirror_mode": {
    "name": "ipython",
    "version": 3
   },
   "file_extension": ".py",
   "mimetype": "text/x-python",
   "name": "python",
   "nbconvert_exporter": "python",
   "pygments_lexer": "ipython3",
   "version": "3.12.9"
  }
 },
 "nbformat": 4,
 "nbformat_minor": 2
}
