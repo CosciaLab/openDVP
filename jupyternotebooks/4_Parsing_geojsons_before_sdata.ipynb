{
 "cells": [
  {
   "cell_type": "code",
   "execution_count": 10,
   "metadata": {},
   "outputs": [],
   "source": [
    "#imports\n",
    "import pandas as pd\n",
    "import geopandas as gpd\n",
    "import os\n",
    "import time\n",
    "import ast"
   ]
  },
  {
   "cell_type": "markdown",
   "metadata": {},
   "source": [
    "# Scenario 1"
   ]
  },
  {
   "cell_type": "code",
   "execution_count": 23,
   "metadata": {},
   "outputs": [],
   "source": [
    "#paths\n",
    "path_to_geojson_1 = \"../data/geojsons/20241010_1340_991.geojson\""
   ]
  },
  {
   "cell_type": "code",
   "execution_count": 40,
   "metadata": {},
   "outputs": [
    {
     "data": {
      "text/html": [
       "<div>\n",
       "<style scoped>\n",
       "    .dataframe tbody tr th:only-of-type {\n",
       "        vertical-align: middle;\n",
       "    }\n",
       "\n",
       "    .dataframe tbody tr th {\n",
       "        vertical-align: top;\n",
       "    }\n",
       "\n",
       "    .dataframe thead th {\n",
       "        text-align: right;\n",
       "    }\n",
       "</style>\n",
       "<table border=\"1\" class=\"dataframe\">\n",
       "  <thead>\n",
       "    <tr style=\"text-align: right;\">\n",
       "      <th></th>\n",
       "      <th>id</th>\n",
       "      <th>objectType</th>\n",
       "      <th>name</th>\n",
       "      <th>classification</th>\n",
       "      <th>geometry</th>\n",
       "    </tr>\n",
       "  </thead>\n",
       "  <tbody>\n",
       "    <tr>\n",
       "      <th>0</th>\n",
       "      <td>7ce5e6bb-0bb1-4f0a-97e1-1151449968db</td>\n",
       "      <td>annotation</td>\n",
       "      <td>calib1</td>\n",
       "      <td>{ \"name\": \"calibpoints\", \"color\": [ 154, 19, 1...</td>\n",
       "      <td>POINT (39509.5 37655.36)</td>\n",
       "    </tr>\n",
       "    <tr>\n",
       "      <th>1</th>\n",
       "      <td>0512d0d4-222b-41bb-b0ef-79a0b0ab21bf</td>\n",
       "      <td>annotation</td>\n",
       "      <td>calib2</td>\n",
       "      <td>{ \"name\": \"calibpoints\", \"color\": [ 154, 19, 1...</td>\n",
       "      <td>POINT (41311.48 31575.46)</td>\n",
       "    </tr>\n",
       "    <tr>\n",
       "      <th>2</th>\n",
       "      <td>68a2f06e-dcae-4d3c-9ff6-ce2a319ab09f</td>\n",
       "      <td>annotation</td>\n",
       "      <td>calib3</td>\n",
       "      <td>{ \"name\": \"calibpoints\", \"color\": [ 154, 19, 1...</td>\n",
       "      <td>POINT (48639.9 32960.71)</td>\n",
       "    </tr>\n",
       "    <tr>\n",
       "      <th>3</th>\n",
       "      <td>4901bc90-bd70-412d-a441-0ff05dfa35a4</td>\n",
       "      <td>annotation</td>\n",
       "      <td>None</td>\n",
       "      <td>{ \"name\": \"991_DI_1\", \"color\": [ 165, 218, 209...</td>\n",
       "      <td>POLYGON ((44720 36407.5, 44719.55 36421.72, 44...</td>\n",
       "    </tr>\n",
       "    <tr>\n",
       "      <th>4</th>\n",
       "      <td>677c08c8-1578-4d40-9004-56770e72c0ed</td>\n",
       "      <td>annotation</td>\n",
       "      <td>None</td>\n",
       "      <td>{ \"name\": \"991_DI_1\", \"color\": [ 165, 218, 209...</td>\n",
       "      <td>POLYGON ((44919 36928.5, 44918.55 36942.72, 44...</td>\n",
       "    </tr>\n",
       "  </tbody>\n",
       "</table>\n",
       "</div>"
      ],
      "text/plain": [
       "                                     id  objectType    name  \\\n",
       "0  7ce5e6bb-0bb1-4f0a-97e1-1151449968db  annotation  calib1   \n",
       "1  0512d0d4-222b-41bb-b0ef-79a0b0ab21bf  annotation  calib2   \n",
       "2  68a2f06e-dcae-4d3c-9ff6-ce2a319ab09f  annotation  calib3   \n",
       "3  4901bc90-bd70-412d-a441-0ff05dfa35a4  annotation    None   \n",
       "4  677c08c8-1578-4d40-9004-56770e72c0ed  annotation    None   \n",
       "\n",
       "                                      classification  \\\n",
       "0  { \"name\": \"calibpoints\", \"color\": [ 154, 19, 1...   \n",
       "1  { \"name\": \"calibpoints\", \"color\": [ 154, 19, 1...   \n",
       "2  { \"name\": \"calibpoints\", \"color\": [ 154, 19, 1...   \n",
       "3  { \"name\": \"991_DI_1\", \"color\": [ 165, 218, 209...   \n",
       "4  { \"name\": \"991_DI_1\", \"color\": [ 165, 218, 209...   \n",
       "\n",
       "                                            geometry  \n",
       "0                           POINT (39509.5 37655.36)  \n",
       "1                          POINT (41311.48 31575.46)  \n",
       "2                           POINT (48639.9 32960.71)  \n",
       "3  POLYGON ((44720 36407.5, 44719.55 36421.72, 44...  \n",
       "4  POLYGON ((44919 36928.5, 44918.55 36942.72, 44...  "
      ]
     },
     "execution_count": 40,
     "metadata": {},
     "output_type": "execute_result"
    }
   ],
   "source": [
    "gdf = gpd.read_file(path_to_geojson_1)\n",
    "gdf.head()"
   ]
  },
  {
   "cell_type": "code",
   "execution_count": 41,
   "metadata": {},
   "outputs": [
    {
     "name": "stdout",
     "output_type": "stream",
     "text": [
      "Found 5 points in geojson, these are now removed\n"
     ]
    }
   ],
   "source": [
    "# Classification describes the QuPath class of the various annotations objects.\n",
    "# We have to remove the Point annotations (seen as POINT in the geometry column)\n",
    "    # print how many points\n",
    "print(f\"Found {len(gdf[gdf.geom_type == 'Point'])} points in geojson, these are now removed\")\n",
    "gdf = gdf[gdf.geom_type != 'Point']\n",
    "gdf.reset_index(drop=True, inplace=True)"
   ]
  },
  {
   "cell_type": "code",
   "execution_count": 43,
   "metadata": {},
   "outputs": [],
   "source": [
    "# We have to extract the class name from the classification column\n",
    "    #check if classification column is a string or dictionary\n",
    "if isinstance(gdf['classification'][0], (str)):\n",
    "    gdf['class'] = gdf['classification'].apply(lambda x: ast.literal_eval(x)['name'])\n",
    "elif isinstance(gdf['classification'][0], (dict)):\n",
    "    gdf['class'] = gdf['classification'].apply(lambda x: x['name'])"
   ]
  },
  {
   "cell_type": "code",
   "execution_count": 44,
   "metadata": {},
   "outputs": [
    {
     "data": {
      "text/html": [
       "<div>\n",
       "<style scoped>\n",
       "    .dataframe tbody tr th:only-of-type {\n",
       "        vertical-align: middle;\n",
       "    }\n",
       "\n",
       "    .dataframe tbody tr th {\n",
       "        vertical-align: top;\n",
       "    }\n",
       "\n",
       "    .dataframe thead th {\n",
       "        text-align: right;\n",
       "    }\n",
       "</style>\n",
       "<table border=\"1\" class=\"dataframe\">\n",
       "  <thead>\n",
       "    <tr style=\"text-align: right;\">\n",
       "      <th></th>\n",
       "      <th>id</th>\n",
       "      <th>objectType</th>\n",
       "      <th>name</th>\n",
       "      <th>classification</th>\n",
       "      <th>geometry</th>\n",
       "      <th>class</th>\n",
       "    </tr>\n",
       "  </thead>\n",
       "  <tbody>\n",
       "    <tr>\n",
       "      <th>0</th>\n",
       "      <td>4901bc90-bd70-412d-a441-0ff05dfa35a4</td>\n",
       "      <td>annotation</td>\n",
       "      <td>None</td>\n",
       "      <td>{ \"name\": \"991_DI_1\", \"color\": [ 165, 218, 209...</td>\n",
       "      <td>POLYGON ((44720 36407.5, 44719.55 36421.72, 44...</td>\n",
       "      <td>991_DI_1</td>\n",
       "    </tr>\n",
       "    <tr>\n",
       "      <th>1</th>\n",
       "      <td>677c08c8-1578-4d40-9004-56770e72c0ed</td>\n",
       "      <td>annotation</td>\n",
       "      <td>None</td>\n",
       "      <td>{ \"name\": \"991_DI_1\", \"color\": [ 165, 218, 209...</td>\n",
       "      <td>POLYGON ((44919 36928.5, 44918.55 36942.72, 44...</td>\n",
       "      <td>991_DI_1</td>\n",
       "    </tr>\n",
       "    <tr>\n",
       "      <th>2</th>\n",
       "      <td>31712a3a-4a0f-4304-b598-e418e29bcf57</td>\n",
       "      <td>annotation</td>\n",
       "      <td>None</td>\n",
       "      <td>{ \"name\": \"991_DI_1\", \"color\": [ 165, 218, 209...</td>\n",
       "      <td>POLYGON ((44226 36725.5, 44225.55 36739.72, 44...</td>\n",
       "      <td>991_DI_1</td>\n",
       "    </tr>\n",
       "    <tr>\n",
       "      <th>3</th>\n",
       "      <td>c49bf319-03ad-42e1-8aac-3a9cd916876b</td>\n",
       "      <td>annotation</td>\n",
       "      <td>None</td>\n",
       "      <td>{ \"name\": \"991_DI_1\", \"color\": [ 165, 218, 209...</td>\n",
       "      <td>POLYGON ((44843 37430.5, 44842.55 37444.72, 44...</td>\n",
       "      <td>991_DI_1</td>\n",
       "    </tr>\n",
       "    <tr>\n",
       "      <th>4</th>\n",
       "      <td>a27e7237-df76-4e5b-8bbf-3fb57ab6c7c4</td>\n",
       "      <td>annotation</td>\n",
       "      <td>None</td>\n",
       "      <td>{ \"name\": \"991_DI_2\", \"color\": [ 165, 12, 79 ] }</td>\n",
       "      <td>POLYGON ((47400 38154, 47399.6 38166.81, 47398...</td>\n",
       "      <td>991_DI_2</td>\n",
       "    </tr>\n",
       "  </tbody>\n",
       "</table>\n",
       "</div>"
      ],
      "text/plain": [
       "                                     id  objectType  name  \\\n",
       "0  4901bc90-bd70-412d-a441-0ff05dfa35a4  annotation  None   \n",
       "1  677c08c8-1578-4d40-9004-56770e72c0ed  annotation  None   \n",
       "2  31712a3a-4a0f-4304-b598-e418e29bcf57  annotation  None   \n",
       "3  c49bf319-03ad-42e1-8aac-3a9cd916876b  annotation  None   \n",
       "4  a27e7237-df76-4e5b-8bbf-3fb57ab6c7c4  annotation  None   \n",
       "\n",
       "                                      classification  \\\n",
       "0  { \"name\": \"991_DI_1\", \"color\": [ 165, 218, 209...   \n",
       "1  { \"name\": \"991_DI_1\", \"color\": [ 165, 218, 209...   \n",
       "2  { \"name\": \"991_DI_1\", \"color\": [ 165, 218, 209...   \n",
       "3  { \"name\": \"991_DI_1\", \"color\": [ 165, 218, 209...   \n",
       "4   { \"name\": \"991_DI_2\", \"color\": [ 165, 12, 79 ] }   \n",
       "\n",
       "                                            geometry     class  \n",
       "0  POLYGON ((44720 36407.5, 44719.55 36421.72, 44...  991_DI_1  \n",
       "1  POLYGON ((44919 36928.5, 44918.55 36942.72, 44...  991_DI_1  \n",
       "2  POLYGON ((44226 36725.5, 44225.55 36739.72, 44...  991_DI_1  \n",
       "3  POLYGON ((44843 37430.5, 44842.55 37444.72, 44...  991_DI_1  \n",
       "4  POLYGON ((47400 38154, 47399.6 38166.81, 47398...  991_DI_2  "
      ]
     },
     "execution_count": 44,
     "metadata": {},
     "output_type": "execute_result"
    }
   ],
   "source": [
    "gdf.head()"
   ]
  },
  {
   "cell_type": "code",
   "execution_count": 45,
   "metadata": {},
   "outputs": [
    {
     "data": {
      "text/plain": [
       "class\n",
       "991_In_3    41\n",
       "991_In_1    20\n",
       "991_In_2    20\n",
       "991_DI_1     8\n",
       "991_DI_2     8\n",
       "991_DI_3     8\n",
       "991_DP_1     8\n",
       "991_DP_2     8\n",
       "991_DP_3     8\n",
       "Name: count, dtype: int64"
      ]
     },
     "execution_count": 45,
     "metadata": {},
     "output_type": "execute_result"
    }
   ],
   "source": [
    "gdf['class'].value_counts()"
   ]
  }
 ],
 "metadata": {
  "kernelspec": {
   "display_name": "scimap",
   "language": "python",
   "name": "python3"
  },
  "language_info": {
   "codemirror_mode": {
    "name": "ipython",
    "version": 3
   },
   "file_extension": ".py",
   "mimetype": "text/x-python",
   "name": "python",
   "nbconvert_exporter": "python",
   "pygments_lexer": "ipython3",
   "version": "3.10.0"
  }
 },
 "nbformat": 4,
 "nbformat_minor": 2
}
